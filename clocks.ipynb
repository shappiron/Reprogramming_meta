{
 "cells": [
  {
   "cell_type": "code",
   "execution_count": 171,
   "metadata": {},
   "outputs": [],
   "source": [
    "from sklearn.linear_model import ElasticNet\n",
    "import joblib \n",
    "import numpy as np\n",
    "from matplotlib import pyplot as plt\n",
    "\n",
    "import seaborn as sns\n",
    "import pandas as pd\n",
    "import scipy\n",
    "\n",
    "import warnings\n",
    "warnings.filterwarnings('ignore')\n",
    "from tqdm.notebook import tqdm_notebook as tqdm\n",
    "from statsmodels.stats.multitest import multipletests\n",
    "import statsmodels.api as sm\n",
    "\n",
    "def predict_tAge(data, model):\n",
    "    features = model.feature_names\n",
    "    data_for_calculation = data[features]\n",
    "    tAge = model.predict(data_for_calculation)\n",
    "    \n",
    "    return tAge\n",
    "\n",
    "def key2key(raw, key, query_key, species):\n",
    "    import mygene\n",
    "    mg = mygene.MyGeneInfo()\n",
    "    query = mg.querymany(raw, scopes=key, species=species, verbose=False)   \n",
    "\n",
    "    ref2entrez = {r:[] for r in raw}\n",
    "    for r, q in zip(raw, query):\n",
    "        if query_key in q:\n",
    "            ref2entrez[r].append(q[query_key])\n",
    "        else:\n",
    "            ref2entrez[r] = None\n",
    "\n",
    "    print('Max number of ENTREZ across keys:', \n",
    "            max([len(ref2entrez[r]) for r in ref2entrez.keys() if ref2entrez[r] is not None]))\n",
    "\n",
    "    ref2entrez = {k:v[0] for k,v in ref2entrez.items() if (v is not None) and (len(v)==1)}\n",
    "    return ref2entrez\n",
    "\n",
    "def fit_lm(sub_time, pred):\n",
    "    sub_time_ = sm.add_constant(sub_time, prepend=True)\n",
    "    mod = sm.OLS(pred, sub_time_)\n",
    "    res = mod.fit()\n",
    "    itc_m, slope_m = res.params.loc['const'], res.params.loc['Time']\n",
    "    itc_p, slope_p = res.pvalues.loc['const'], res.pvalues.loc['Time']\n",
    "    itc_e, slope_e = res.bse.loc['const'], res.bse.loc['Time']\n",
    "    return itc_m, slope_m, itc_p, slope_p, itc_e, slope_e, res.predict()    \n",
    "\n",
    "def starfunc(x):\n",
    "    if x < 0.001:\n",
    "        return '***'\n",
    "    elif x < 0.01:\n",
    "        return '**'\n",
    "    elif x < 0.05:\n",
    "        return '*'\n",
    "    else:\n",
    "        return ''"
   ]
  },
  {
   "cell_type": "markdown",
   "metadata": {},
   "source": [
    "# Prepare data"
   ]
  },
  {
   "cell_type": "code",
   "execution_count": 65,
   "metadata": {},
   "outputs": [],
   "source": []
  },
  {
   "cell_type": "markdown",
   "metadata": {},
   "source": [
    "## Mouse"
   ]
  },
  {
   "cell_type": "code",
   "execution_count": 19,
   "metadata": {},
   "outputs": [],
   "source": [
    "# from utils.structure import load_structure\n",
    "# udf = load_structure('data/ultradf_v4.json')"
   ]
  },
  {
   "cell_type": "code",
   "execution_count": 57,
   "metadata": {},
   "outputs": [
    {
     "name": "stderr",
     "output_type": "stream",
     "text": [
      "/home/shappiron/anaconda3/lib/python3.7/site-packages/sklearn/base.py:333: UserWarning: Trying to unpickle estimator ElasticNet from version 0.24.1 when using version 1.0.1. This might lead to breaking code or invalid results. Use at your own risk. For more info please refer to:\n",
      "https://scikit-learn.org/stable/modules/model_persistence.html#security-maintainability-limitations\n",
      "  UserWarning,\n"
     ]
    }
   ],
   "source": [
    "clocks = joblib.load(open('clocks/Aging_mouse_norm.pkl', 'rb'))\n",
    "data = pd.read_csv('clocks/mouse_exprs_norm_final_29ds.csv', index_col=0)\n",
    "annot = pd.read_csv('clocks/mouse_data_annotation_29ds.csv', index_col=1)\n"
   ]
  },
  {
   "cell_type": "code",
   "execution_count": 58,
   "metadata": {},
   "outputs": [
    {
     "name": "stderr",
     "output_type": "stream",
     "text": [
      "/home/shappiron/anaconda3/lib/python3.7/site-packages/sklearn/base.py:439: UserWarning: X has feature names, but ElasticNet was fitted without feature names\n",
      "  f\"X has feature names, but {self.__class__.__name__} was fitted without\"\n"
     ]
    }
   ],
   "source": [
    "mouse_clock_age_norm = predict_tAge(data, clocks)\n",
    "annot['AgeNorm'] = mouse_clock_age_norm\n",
    "annot = annot.drop('Unnamed: 0', 1)"
   ]
  },
  {
   "cell_type": "code",
   "execution_count": 59,
   "metadata": {},
   "outputs": [],
   "source": [
    "annot.to_csv('clocks/Mouse_clock_output.csv')"
   ]
  },
  {
   "cell_type": "markdown",
   "metadata": {},
   "source": [
    "## Human"
   ]
  },
  {
   "cell_type": "code",
   "execution_count": 54,
   "metadata": {},
   "outputs": [
    {
     "name": "stderr",
     "output_type": "stream",
     "text": [
      "/home/shappiron/anaconda3/lib/python3.7/site-packages/sklearn/base.py:333: UserWarning: Trying to unpickle estimator ElasticNet from version 0.24.1 when using version 1.0.1. This might lead to breaking code or invalid results. Use at your own risk. For more info please refer to:\n",
      "https://scikit-learn.org/stable/modules/model_persistence.html#security-maintainability-limitations\n",
      "  UserWarning,\n"
     ]
    }
   ],
   "source": [
    "clocks = joblib.load(open('clocks/Aging_human_norm.pkl', 'rb'))\n",
    "data = pd.read_csv('clocks/human_exprs_norm_final.csv', index_col=0)\n",
    "annot = pd.read_csv('clocks/human_data_annotation.csv', index_col=1)\n"
   ]
  },
  {
   "cell_type": "code",
   "execution_count": 55,
   "metadata": {},
   "outputs": [
    {
     "name": "stderr",
     "output_type": "stream",
     "text": [
      "/home/shappiron/anaconda3/lib/python3.7/site-packages/sklearn/base.py:439: UserWarning: X has feature names, but ElasticNet was fitted without feature names\n",
      "  f\"X has feature names, but {self.__class__.__name__} was fitted without\"\n"
     ]
    }
   ],
   "source": [
    "human_clock_age_norm = predict_tAge(data, clocks)\n",
    "annot['AgeNorm'] = human_clock_age_norm\n",
    "annot = annot.drop('Unnamed: 0', 1)"
   ]
  },
  {
   "cell_type": "code",
   "execution_count": 56,
   "metadata": {},
   "outputs": [],
   "source": [
    "annot.to_csv('clocks/Human_clock_output.csv')"
   ]
  },
  {
   "cell_type": "markdown",
   "metadata": {},
   "source": [
    "# Explore clocks"
   ]
  },
  {
   "cell_type": "code",
   "execution_count": 220,
   "metadata": {},
   "outputs": [
    {
     "name": "stdout",
     "output_type": "stream",
     "text": [
      "Mouse aging genes 466\n",
      "Mouse pluripotency genes 45\n",
      "Human pluripotency genes 250\n",
      "Mouse|Human intersection of pluripotency genes 18\n",
      "Human EMT genes 200\n"
     ]
    }
   ],
   "source": [
    "#we upload all the data\n",
    "model = joblib.load(open('clocks/Aging_mouse_norm.pkl', 'rb'))\n",
    "data = pd.read_csv('clocks/mouse_exprs_norm_final_29ds.csv', index_col=0)\n",
    "annot = pd.read_csv('clocks/mouse_data_annotation_29ds.csv', index_col=\"ID\")\n",
    "\n",
    "#mouse aging genes\n",
    "aging_genes_dataset = pd.read_csv('subdata/gene_atlas_aging.csv')\n",
    "aging_genes = aging_genes_dataset['Symbol'].tolist()\n",
    "\n",
    "#pluripotency genes\n",
    "mouse_pluri = pd.read_csv('subdata/pluripotency_genes_mouse.csv', index_col=0).index\n",
    "human_pluri = pd.read_csv('subdata/pluripotency_genes_human.csv', index_col=0).index\n",
    "\n",
    "#EMT genes\n",
    "EMT = pd.read_csv('tmp/EMT_geneset.txt', skiprows=2, header=None)\n",
    "EMT = EMT.iloc[:,0].apply(str.lower).apply(str.capitalize).values\n",
    "\n",
    "print(\"Mouse aging genes %d\" % len(aging_genes))\n",
    "print(\"Mouse pluripotency genes %d\" % (len(mouse_pluri)))\n",
    "print(\"Human pluripotency genes %d\" % (len(human_pluri)))\n",
    "print(\"Mouse|Human intersection of pluripotency genes %d\" % (len(mouse_pluri.intersection(human_pluri))))\n",
    "print(\"Human EMT genes %d\" % len(EMT))"
   ]
  },
  {
   "cell_type": "code",
   "execution_count": 5,
   "metadata": {},
   "outputs": [
    {
     "name": "stdout",
     "output_type": "stream",
     "text": [
      "Manual prediction works: True\n",
      "Manual prediction works with nonzero features: True\n"
     ]
    }
   ],
   "source": [
    "#Test model\n",
    "##sklearn case\n",
    "pred1 = predict_tAge(data, model)\n",
    "\n",
    "##all features case\n",
    "coef = model.coef_\n",
    "itc = model.intercept_\n",
    "X = np.array(data[model.feature_names])\n",
    "pred2 = np.dot(coef, X.T) + itc\n",
    "\n",
    "##nonzero features case\n",
    "genes = np.array(model.feature_names)\n",
    "ids = np.nonzero(coef)[0]\n",
    "coef = coef[ids]\n",
    "genes = genes[ids]\n",
    "\n",
    "X = np.array(data[genes])\n",
    "pred3 = np.dot(coef, X.T) + itc\n",
    "\n",
    "print(\"Manual prediction works:\", np.all(np.isclose(pred1, pred2)))\n",
    "print(\"Manual prediction works with nonzero features:\", np.all(np.isclose(pred1, pred3)))"
   ]
  },
  {
   "cell_type": "code",
   "execution_count": 222,
   "metadata": {},
   "outputs": [
    {
     "name": "stdout",
     "output_type": "stream",
     "text": [
      "Max number of ENTREZ across keys: 1\n",
      "Intersection nonzero model with aging genes: 18 total,  ['Egr1', 'Adcy3', 'Itpr3', 'Efemp1', 'Cbx7', 'Bmp2', 'Sesn2', 'Bmp6', 'Gadd45a', 'Cacna1a', 'Fos', 'Gadd45g', 'Jun', 'Adcy7', 'Mmp9', 'Ptges', 'Sesn1', 'Igfbp3']\n",
      "Intersection nonzero model with mouse pluri genes: 1 total,  ['Alpl']\n",
      "Intersection nonzero model with human pluri genes: 6 total,  ['Med19', 'Klf4', 'Cnot3', 'Id2', 'Hspb1', 'Ezh2']\n",
      "Intersection nonzero model with human pluri genes: 23 total,  ['Thbs2', 'Vim', 'Serpine2', 'Mest', 'Thbs1', 'Timp3', 'Lum', 'Gadd45a', 'Gpc1', 'Pmp22', 'Jun', 'Gas1', 'Col5a3', 'Slit2', 'Igfbp3', 'Id2', 'Fbln1', 'Col1a2', 'Fn1', 'Igfbp4', 'Postn', 'Col4a1', 'Col3a1']\n"
     ]
    }
   ],
   "source": [
    "#create dataframe of coefficients\n",
    "raw = genes.tolist()\n",
    "etz = key2key(raw, 'entrezgene', 'symbol', 'mouse')\n",
    "genesym = np.array([etz[k] for k in raw])\n",
    "ids_sort = np.argsort(coef)[::-1]\n",
    "coef_sort = coef[ids_sort]\n",
    "gene_sort = genesym[ids_sort]\n",
    "\n",
    "wei = pd.DataFrame({'coef':coef_sort, 'gene':gene_sort, 'etz':np.array(raw)[ids_sort]})\n",
    "wei = wei.set_index('gene')\n",
    "\n",
    "wei_age = wei.index.intersection(aging_genes)\n",
    "wei_plu_m = wei.index.intersection(mouse_pluri)\n",
    "wei_plu_h = wei.index.intersection(human_pluri)\n",
    "wei_emt = wei.index.intersection(EMT)\n",
    "\n",
    "print(\"Intersection nonzero model with aging genes: %d total, \" % len(wei_age), wei_age.tolist())\n",
    "print(\"Intersection nonzero model with mouse pluri genes: %d total, \" % len(wei_plu_m), wei_plu_m.tolist())\n",
    "print(\"Intersection nonzero model with human pluri genes: %d total, \" % len(wei_plu_h), wei_plu_h.tolist())\n",
    "print(\"Intersection nonzero model with human pluri genes: %d total, \" % len(wei_emt), wei_emt.tolist())"
   ]
  },
  {
   "cell_type": "code",
   "execution_count": 225,
   "metadata": {},
   "outputs": [
    {
     "name": "stdout",
     "output_type": "stream",
     "text": [
      "Max number of ENTREZ across keys: 1\n"
     ]
    }
   ],
   "source": [
    "all_model_genes_symbol = key2key(model.feature_names, 'entrezgene', 'symbol', 'mouse')\n",
    "genesym_all = np.array([v for k,v in all_model_genes_symbol.items()])\n",
    "print(\"Number of EMT genes within all model genes\", len(set(genesym_all).intersection(EMT)))"
   ]
  },
  {
   "cell_type": "code",
   "execution_count": 235,
   "metadata": {},
   "outputs": [
    {
     "data": {
      "application/vnd.jupyter.widget-view+json": {
       "model_id": "17ea17ec3d474e1e89799eec9c82dae1",
       "version_major": 2,
       "version_minor": 0
      },
      "text/plain": [
       "HBox(children=(HTML(value=''), FloatProgress(value=0.0, max=29.0), HTML(value='')))"
      ]
     },
     "metadata": {},
     "output_type": "display_data"
    },
    {
     "name": "stdout",
     "output_type": "stream",
     "text": [
      "Increasing age: GSE10871:OSKM\n",
      "Increasing age: GSE103979:Oct6+SK\n",
      "Increasing age: GSE102348:OSKM_WT-2\n",
      "\n"
     ]
    }
   ],
   "source": [
    "#check effect of pluripotency genes knocking out.\n",
    "\n",
    "knockout = wei_emt#['Lyz2', 'Alpl', 'Ezh2', 'Med19', 'Klf4', 'Cnot3', 'Id2', 'Hspb1'] #['Ezh2'] #\n",
    "wei_tmp = wei.copy()\n",
    "wei_tmp.loc[knockout, 'coef'] = 0\n",
    "coef_modified = wei_tmp.coef.values\n",
    "itc = model.intercept_\n",
    "\n",
    "effects = {}\n",
    "ground_effects = {}\n",
    "for ds in tqdm(annot.Dataset.unique()):\n",
    "    sub_id = annot[annot.Dataset == ds].index\n",
    "    sub_time = annot[annot.Dataset == ds].Time\n",
    "    sub_data = data.loc[sub_id]\n",
    "    sub_X = np.array(data.loc[sub_id][wei.etz.values])\n",
    "\n",
    "    ground_pred = predict_tAge(sub_data, model)\n",
    "    itc_m, slope_m,_,slope_p,_,_,ground_lm_pred = fit_lm(sub_time, ground_pred)\n",
    "    \n",
    "    new_pred = np.dot(coef_modified, sub_X.T) + itc\n",
    "    \n",
    "    #filter out datasets with increasing age\n",
    "    if slope_m > 0:\n",
    "        print(\"Increasing age:\", ds)\n",
    "        continue\n",
    "    \n",
    "    #compute effect\n",
    "    _, _, itc_p, _, _, _, new_lm_pred = fit_lm(sub_time, new_pred - ground_pred)\n",
    "    pval = itc_p\n",
    "    pval_str = np.format_float_scientific(pval, 3)\n",
    "    ground_rej_effect = abs(ground_lm_pred[-1] - ground_lm_pred[0])\n",
    "    knockout_rej_change = new_lm_pred[np.argmax(np.abs(new_lm_pred))]\n",
    "    knockout_effect = knockout_rej_change / ground_rej_effect * 100\n",
    "\n",
    "    effects[ds] = {}\n",
    "    effects[ds]['ds_pval'] = slope_p\n",
    "    effects[ds]['time'] = sub_time\n",
    "    effects[ds]['gnd'] = ground_pred\n",
    "    effects[ds]['npl'] = new_pred\n",
    "    effects[ds]['pval'] = pval\n",
    "    effects[ds]['pval_str'] = pval_str\n",
    "    effects[ds]['max_effect'] = knockout_effect\n",
    "    ground_effects[ds] = ground_rej_effect\n",
    "\n",
    "#select datsets only with significant rejuvenation effect\n",
    "dataset_rejuvenation_threshold = 0.05\n",
    "passed = multipletests([v['ds_pval'] for k,v in effects.items()], dataset_rejuvenation_threshold, method='fdr_bh')[0]\n",
    "effects = {k:v for (k,v), p in zip(effects.items(), passed) if p and (k not in \n",
    "            ['GSE38509:GFP', 'GSE114581:OSKM-dox_mef', 'GSE103979:GFP', 'GSE127927:GFP']) }\n"
   ]
  },
  {
   "cell_type": "code",
   "execution_count": 236,
   "metadata": {},
   "outputs": [
    {
     "data": {
      "image/png": "[encoded data removed]",
      "text/plain": [
       "<Figure size 504x432 with 1 Axes>"
      ]
     },
     "metadata": {
      "needs_background": "light"
     },
     "output_type": "display_data"
    },
    {
     "data": {
      "image/png": "[encoded data removed]",
      "text/plain": [
       "<Figure size 504x432 with 1 Axes>"
      ]
     },
     "metadata": {
      "needs_background": "light"
     },
     "output_type": "display_data"
    }
   ],
   "source": [
    "#plot significance of rejuvenation\n",
    "D, M = list(zip(*[(k, v['max_effect']) for k,v in effects.items()])) #get pvals\n",
    "D, M = list(zip(*[(x, y) for y,x in sorted(zip(M, D))])) #sort pvals\n",
    "\n",
    "plt.figure(figsize=(7,6))\n",
    "plt.barh(D, M)\n",
    "plt.title('Average effect acros datasets: %.3f %%' % np.mean(M))\n",
    "plt.xlabel('Effect, %')\n",
    "plt.show()\n",
    "\n",
    "#plot significance of rejuvenation\n",
    "D, P = list(zip(*[(k, v['pval']) for k,v in effects.items()])) #get pvals\n",
    "D, P = list(zip(*[(x, y) for y,x in sorted(zip(P, D))])) #sort pvals\n",
    "\n",
    "thr = 0.05\n",
    "plt.figure(figsize=(7,6))\n",
    "plt.barh(D, -np.log10(P))\n",
    "plt.axvline(-np.log10(thr), color='red')\n",
    "plt.xlabel('-log10(p-value)')   \n",
    "plt.show()"
   ]
  },
  {
   "cell_type": "code",
   "execution_count": 237,
   "metadata": {},
   "outputs": [
    {
     "data": {
      "text/plain": [
       "<matplotlib.legend.Legend at 0x7fb7c04a6c90>"
      ]
     },
     "execution_count": 237,
     "metadata": {},
     "output_type": "execute_result"
    },
    {
     "data": {
      "image/png": "[encoded data removed]",
      "text/plain": [
       "<Figure size 1440x720 with 15 Axes>"
      ]
     },
     "metadata": {
      "needs_background": "light"
     },
     "output_type": "display_data"
    }
   ],
   "source": [
    "fig, axes = plt.subplots(3, 5, figsize=(20, 10), sharex=True, sharey=True)\n",
    "for ax, (ds, v) in zip(axes.flatten(), effects.items()):\n",
    "    sub_time = v['time']\n",
    "    ground_pred = v['gnd']\n",
    "    new_pred = v['npl']\n",
    "    pval = v['pval']\n",
    "    max_effect = v['max_effect']\n",
    "    \n",
    "    ax.set_title(\"%s, %s %%\" % (ds, str(round(max_effect, 2))))\n",
    "    ax.scatter(sub_time, ground_pred, label='Ground truth')\n",
    "    ax.scatter(sub_time, new_pred, label='No pluripotent genes')\n",
    "plt.legend()"
   ]
  },
  {
   "cell_type": "code",
   "execution_count": 118,
   "metadata": {},
   "outputs": [
    {
     "data": {
      "application/vnd.jupyter.widget-view+json": {
       "model_id": "3a014c8c17aa48aa868d8ad3aa52b201",
       "version_major": 2,
       "version_minor": 0
      },
      "text/plain": [
       "HBox(children=(HTML(value=''), FloatProgress(value=0.0, max=337.0), HTML(value='')))"
      ]
     },
     "metadata": {},
     "output_type": "display_data"
    },
    {
     "name": "stdout",
     "output_type": "stream",
     "text": [
      "\n"
     ]
    }
   ],
   "source": [
    "#Check effects for all genes\n",
    "approved_datasets = list(effects.keys())\n",
    "gene_effects = pd.DataFrame()\n",
    "for g in tqdm(wei.index.tolist()):\n",
    "    knockout = [g]\n",
    "    wei_tmp = wei.copy()\n",
    "    wei_tmp.loc[knockout, 'coef'] = 0\n",
    "    coef_modified = wei_tmp.coef.values\n",
    "    itc = model.intercept_\n",
    "\n",
    "    for ds in approved_datasets:\n",
    "        sub_id = annot[annot.Dataset == ds].index\n",
    "        sub_time = annot[annot.Dataset == ds].Time\n",
    "        sub_data = data.loc[sub_id]\n",
    "        sub_X = np.array(data.loc[sub_id][wei.etz.values])\n",
    "\n",
    "        ground_pred = predict_tAge(sub_data, model)\n",
    "        new_pred = np.dot(coef_modified, sub_X.T) + itc\n",
    "        \n",
    "        itc_m, slope_m, itc_p, slope_p, itc_e, slope_e, new_lm_pred = fit_lm(sub_time, new_pred - ground_pred)\n",
    "        \n",
    "        #compute effect\n",
    "        ground_rej_effect = ground_effects[ds]\n",
    "        knockout_rej_change = new_lm_pred[np.argmax(np.abs(new_lm_pred))]\n",
    "        knockout_effect = knockout_rej_change / ground_rej_effect * 100\n",
    "\n",
    "        gene_effects = gene_effects.append(pd.Series({\"const\":itc_m, \"slope\":slope_m, \n",
    "                                                      \"p_const\":itc_p, \"p_slope\":slope_p,\n",
    "                                                      \"e_const\":itc_e, \"e_slope\":slope_e,\n",
    "                                                      \"dataset\":ds, 'knockout_effect':knockout_effect}, \n",
    "                                                      name=g))\n",
    "\n",
    "gene_effects['FDR_const'] = multipletests(gene_effects['p_const'] , 0.05, method='fdr_bh')[1]\n",
    "gene_effects['FDR_slope'] = multipletests(gene_effects['p_slope'] , 0.05, method='fdr_bh')[1]\n",
    "gef = gene_effects\n"
   ]
  },
  {
   "cell_type": "code",
   "execution_count": 376,
   "metadata": {},
   "outputs": [],
   "source": [
    "#gef.to_csv('tmp/gef.csv')"
   ]
  },
  {
   "cell_type": "code",
   "execution_count": 119,
   "metadata": {},
   "outputs": [
    {
     "data": {
      "text/html": [
       "<div>\n",
       "<style scoped>\n",
       "    .dataframe tbody tr th:only-of-type {\n",
       "        vertical-align: middle;\n",
       "    }\n",
       "\n",
       "    .dataframe tbody tr th {\n",
       "        vertical-align: top;\n",
       "    }\n",
       "\n",
       "    .dataframe thead th {\n",
       "        text-align: right;\n",
       "    }\n",
       "</style>\n",
       "<table border=\"1\" class=\"dataframe\">\n",
       "  <thead>\n",
       "    <tr style=\"text-align: right;\">\n",
       "      <th></th>\n",
       "      <th>const</th>\n",
       "      <th>dataset</th>\n",
       "      <th>e_const</th>\n",
       "      <th>e_slope</th>\n",
       "      <th>knockout_effect</th>\n",
       "      <th>p_const</th>\n",
       "      <th>p_slope</th>\n",
       "      <th>slope</th>\n",
       "      <th>FDR_const</th>\n",
       "      <th>FDR_slope</th>\n",
       "    </tr>\n",
       "  </thead>\n",
       "  <tbody>\n",
       "    <tr>\n",
       "      <th>Lyz2</th>\n",
       "      <td>-0.035423</td>\n",
       "      <td>GSE67462:OSKM</td>\n",
       "      <td>0.003010</td>\n",
       "      <td>0.000310</td>\n",
       "      <td>36.202884</td>\n",
       "      <td>1.200582e-08</td>\n",
       "      <td>1.966589e-09</td>\n",
       "      <td>0.004196</td>\n",
       "      <td>4.693689e-08</td>\n",
       "      <td>9.707273e-07</td>\n",
       "    </tr>\n",
       "    <tr>\n",
       "      <th>Lyz2</th>\n",
       "      <td>-0.007179</td>\n",
       "      <td>GSE38509:OSKM</td>\n",
       "      <td>0.004013</td>\n",
       "      <td>0.000723</td>\n",
       "      <td>16.508373</td>\n",
       "      <td>9.258246e-02</td>\n",
       "      <td>3.839068e-05</td>\n",
       "      <td>0.004065</td>\n",
       "      <td>1.098602e-01</td>\n",
       "      <td>1.138571e-03</td>\n",
       "    </tr>\n",
       "    <tr>\n",
       "      <th>Lyz2</th>\n",
       "      <td>-0.012083</td>\n",
       "      <td>GSE38509:OSK</td>\n",
       "      <td>0.006122</td>\n",
       "      <td>0.000964</td>\n",
       "      <td>17.138224</td>\n",
       "      <td>1.196475e-01</td>\n",
       "      <td>1.215358e-02</td>\n",
       "      <td>0.004193</td>\n",
       "      <td>1.391986e-01</td>\n",
       "      <td>6.249511e-02</td>\n",
       "    </tr>\n",
       "    <tr>\n",
       "      <th>Lyz2</th>\n",
       "      <td>-0.025096</td>\n",
       "      <td>GSE46321:C/EBPα+ OSKM</td>\n",
       "      <td>0.001979</td>\n",
       "      <td>0.000539</td>\n",
       "      <td>-6.969471</td>\n",
       "      <td>9.174873e-10</td>\n",
       "      <td>1.483960e-05</td>\n",
       "      <td>0.003297</td>\n",
       "      <td>3.984449e-09</td>\n",
       "      <td>5.849607e-04</td>\n",
       "    </tr>\n",
       "    <tr>\n",
       "      <th>Lyz2</th>\n",
       "      <td>-0.010754</td>\n",
       "      <td>GSE46321:C/EBPα- OSKM</td>\n",
       "      <td>0.002449</td>\n",
       "      <td>0.000667</td>\n",
       "      <td>6.189328</td>\n",
       "      <td>4.549878e-04</td>\n",
       "      <td>2.304847e-04</td>\n",
       "      <td>0.003149</td>\n",
       "      <td>9.086855e-04</td>\n",
       "      <td>4.151989e-03</td>\n",
       "    </tr>\n",
       "    <tr>\n",
       "      <th>...</th>\n",
       "      <td>...</td>\n",
       "      <td>...</td>\n",
       "      <td>...</td>\n",
       "      <td>...</td>\n",
       "      <td>...</td>\n",
       "      <td>...</td>\n",
       "      <td>...</td>\n",
       "      <td>...</td>\n",
       "      <td>...</td>\n",
       "      <td>...</td>\n",
       "    </tr>\n",
       "    <tr>\n",
       "      <th>Nrep</th>\n",
       "      <td>-0.039804</td>\n",
       "      <td>GSE127927:7F-Kdm2b</td>\n",
       "      <td>0.019034</td>\n",
       "      <td>0.004644</td>\n",
       "      <td>12.254701</td>\n",
       "      <td>1.276346e-01</td>\n",
       "      <td>5.271358e-02</td>\n",
       "      <td>0.014461</td>\n",
       "      <td>1.478105e-01</td>\n",
       "      <td>1.576729e-01</td>\n",
       "    </tr>\n",
       "    <tr>\n",
       "      <th>Nrep</th>\n",
       "      <td>-0.036710</td>\n",
       "      <td>GSE127927:7F-Mkk6</td>\n",
       "      <td>0.015758</td>\n",
       "      <td>0.003845</td>\n",
       "      <td>22.036637</td>\n",
       "      <td>1.021897e-01</td>\n",
       "      <td>2.030241e-02</td>\n",
       "      <td>0.017360</td>\n",
       "      <td>1.204685e-01</td>\n",
       "      <td>8.712113e-02</td>\n",
       "    </tr>\n",
       "    <tr>\n",
       "      <th>Nrep</th>\n",
       "      <td>-0.032130</td>\n",
       "      <td>GSE127927:7F-Nanog</td>\n",
       "      <td>0.013110</td>\n",
       "      <td>0.003198</td>\n",
       "      <td>19.361839</td>\n",
       "      <td>9.160770e-02</td>\n",
       "      <td>2.462888e-02</td>\n",
       "      <td>0.013434</td>\n",
       "      <td>1.087745e-01</td>\n",
       "      <td>9.681104e-02</td>\n",
       "    </tr>\n",
       "    <tr>\n",
       "      <th>Nrep</th>\n",
       "      <td>-0.041244</td>\n",
       "      <td>GSE127927:7F</td>\n",
       "      <td>0.009712</td>\n",
       "      <td>0.002369</td>\n",
       "      <td>14.518867</td>\n",
       "      <td>2.811644e-03</td>\n",
       "      <td>3.389419e-04</td>\n",
       "      <td>0.014117</td>\n",
       "      <td>4.679902e-03</td>\n",
       "      <td>5.457601e-03</td>\n",
       "    </tr>\n",
       "    <tr>\n",
       "      <th>Nrep</th>\n",
       "      <td>0.010245</td>\n",
       "      <td>GSE102348:OSKM_Gatad2a-/-</td>\n",
       "      <td>0.005758</td>\n",
       "      <td>0.001209</td>\n",
       "      <td>-8.465989</td>\n",
       "      <td>1.184182e-01</td>\n",
       "      <td>4.500160e-03</td>\n",
       "      <td>-0.004974</td>\n",
       "      <td>1.379759e-01</td>\n",
       "      <td>3.318274e-02</td>\n",
       "    </tr>\n",
       "  </tbody>\n",
       "</table>\n",
       "<p>5055 rows × 10 columns</p>\n",
       "</div>"
      ],
      "text/plain": [
       "         const                    dataset   e_const   e_slope  \\\n",
       "Lyz2 -0.035423              GSE67462:OSKM  0.003010  0.000310   \n",
       "Lyz2 -0.007179              GSE38509:OSKM  0.004013  0.000723   \n",
       "Lyz2 -0.012083               GSE38509:OSK  0.006122  0.000964   \n",
       "Lyz2 -0.025096      GSE46321:C/EBPα+ OSKM  0.001979  0.000539   \n",
       "Lyz2 -0.010754      GSE46321:C/EBPα- OSKM  0.002449  0.000667   \n",
       "...        ...                        ...       ...       ...   \n",
       "Nrep -0.039804         GSE127927:7F-Kdm2b  0.019034  0.004644   \n",
       "Nrep -0.036710          GSE127927:7F-Mkk6  0.015758  0.003845   \n",
       "Nrep -0.032130         GSE127927:7F-Nanog  0.013110  0.003198   \n",
       "Nrep -0.041244               GSE127927:7F  0.009712  0.002369   \n",
       "Nrep  0.010245  GSE102348:OSKM_Gatad2a-/-  0.005758  0.001209   \n",
       "\n",
       "      knockout_effect       p_const       p_slope     slope     FDR_const  \\\n",
       "Lyz2        36.202884  1.200582e-08  1.966589e-09  0.004196  4.693689e-08   \n",
       "Lyz2        16.508373  9.258246e-02  3.839068e-05  0.004065  1.098602e-01   \n",
       "Lyz2        17.138224  1.196475e-01  1.215358e-02  0.004193  1.391986e-01   \n",
       "Lyz2        -6.969471  9.174873e-10  1.483960e-05  0.003297  3.984449e-09   \n",
       "Lyz2         6.189328  4.549878e-04  2.304847e-04  0.003149  9.086855e-04   \n",
       "...               ...           ...           ...       ...           ...   \n",
       "Nrep        12.254701  1.276346e-01  5.271358e-02  0.014461  1.478105e-01   \n",
       "Nrep        22.036637  1.021897e-01  2.030241e-02  0.017360  1.204685e-01   \n",
       "Nrep        19.361839  9.160770e-02  2.462888e-02  0.013434  1.087745e-01   \n",
       "Nrep        14.518867  2.811644e-03  3.389419e-04  0.014117  4.679902e-03   \n",
       "Nrep        -8.465989  1.184182e-01  4.500160e-03 -0.004974  1.379759e-01   \n",
       "\n",
       "         FDR_slope  \n",
       "Lyz2  9.707273e-07  \n",
       "Lyz2  1.138571e-03  \n",
       "Lyz2  6.249511e-02  \n",
       "Lyz2  5.849607e-04  \n",
       "Lyz2  4.151989e-03  \n",
       "...            ...  \n",
       "Nrep  1.576729e-01  \n",
       "Nrep  8.712113e-02  \n",
       "Nrep  9.681104e-02  \n",
       "Nrep  5.457601e-03  \n",
       "Nrep  3.318274e-02  \n",
       "\n",
       "[5055 rows x 10 columns]"
      ]
     },
     "execution_count": 119,
     "metadata": {},
     "output_type": "execute_result"
    }
   ],
   "source": [
    "gef"
   ]
  },
  {
   "cell_type": "code",
   "execution_count": 58,
   "metadata": {},
   "outputs": [
    {
     "name": "stdout",
     "output_type": "stream",
     "text": [
      "GSE67462:OSKM 0.9602562009876029\n",
      "GSE38509:OSKM 1.0927081153889715\n",
      "GSE38509:OSK 1.1276489246640016\n",
      "GSE46321:C/EBPα+ OSKM 1.0054960730550502\n",
      "GSE46321:C/EBPα- OSKM 1.036287109717608\n",
      "GSE21757:OSKM 1.081316763601536\n",
      "GSE103979:Oct4+SK 0.8296828562902616\n",
      "GSE114581:OSKM+dox_mef 0.976198294557957\n",
      "GSE127927:7F-Esrrb 1.0954529423516335\n",
      "GSE127927:7F-Jdp2 1.0629904029637933\n",
      "GSE127927:7F-Kdm2b 1.0769444988916548\n",
      "GSE127927:7F-Mkk6 1.1305498765496893\n",
      "GSE127927:7F-Nanog 1.0895893664285783\n",
      "GSE127927:7F 1.084547593849746\n",
      "GSE102348:OSKM_Gatad2a-/- 1.0016377705332848\n"
     ]
    }
   ],
   "source": [
    "for ds in gef.dataset.unique():\n",
    "    su = gef[(gef.dataset==ds) & \\\n",
    "            #((gef.pass_const==True) | (gef.pass_slope==True)) & \\\n",
    "            (gef.const > 0)]\n",
    "\n",
    "    time = effects[ds]['time'].values\n",
    "    dt = max(time) - min(time)\n",
    "\n",
    "    #su['slope_effect'] = dt * su['slope']\n",
    "\n",
    "    print(ds, su.const.sum())#su.slope_effect.sum())"
   ]
  },
  {
   "cell_type": "code",
   "execution_count": 141,
   "metadata": {},
   "outputs": [
    {
     "data": {
      "text/plain": [
       "<function scipy.stats.stats.ttest_1samp(a, popmean, axis=0, nan_policy='propagate', alternative='two-sided')>"
      ]
     },
     "execution_count": 141,
     "metadata": {},
     "output_type": "execute_result"
    }
   ],
   "source": [
    "scipy.stats.ttest_1samp()"
   ]
  },
  {
   "cell_type": "code",
   "execution_count": 181,
   "metadata": {},
   "outputs": [],
   "source": [
    "test_effects = pd.DataFrame()\n",
    "for g in gef.index.unique():\n",
    "    #test = scipy.stats.ttest_1samp(gef.loc[g, 'knockout_effect'], popmean=0)\n",
    "    test = scipy.stats.wilcoxon(gef.loc[g, 'knockout_effect'])\n",
    "    test_effects = test_effects.append(pd.Series({'pval':test.pvalue}, name=g))\n",
    "test_effects['FDR'] = multipletests(test_effects['pval'], 0.05, method='fdr_bh')[1]\n",
    "test_effects['star'] = test_effects['FDR'].apply(starfunc)"
   ]
  },
  {
   "cell_type": "code",
   "execution_count": 193,
   "metadata": {},
   "outputs": [],
   "source": [
    "gef['FDR'] = None\n",
    "gef['star'] = None\n",
    "for g in test_effects.index:\n",
    "    gef.loc[g, 'FDR'] = test_effects.loc[g, 'FDR']\n",
    "    gef.loc[g, 'star'] = test_effects.loc[g, 'star']"
   ]
  },
  {
   "cell_type": "code",
   "execution_count": 198,
   "metadata": {},
   "outputs": [],
   "source": [
    "#gef.to_csv('clocks/gene_effects.csv')"
   ]
  },
  {
   "cell_type": "code",
   "execution_count": 182,
   "metadata": {},
   "outputs": [],
   "source": [
    "top_index = test_effects.sort_values('FDR').index[:15]\n",
    "passed_genes = test_effects[test_effects.FDR < 0.05].index\n"
   ]
  },
  {
   "cell_type": "code",
   "execution_count": 175,
   "metadata": {},
   "outputs": [],
   "source": [
    "gef_passed = gef.loc[passed_genes]"
   ]
  },
  {
   "cell_type": "code",
   "execution_count": 185,
   "metadata": {},
   "outputs": [
    {
     "data": {
      "text/html": [
       "<div>\n",
       "<style scoped>\n",
       "    .dataframe tbody tr th:only-of-type {\n",
       "        vertical-align: middle;\n",
       "    }\n",
       "\n",
       "    .dataframe tbody tr th {\n",
       "        vertical-align: top;\n",
       "    }\n",
       "\n",
       "    .dataframe thead th {\n",
       "        text-align: right;\n",
       "    }\n",
       "</style>\n",
       "<table border=\"1\" class=\"dataframe\">\n",
       "  <thead>\n",
       "    <tr style=\"text-align: right;\">\n",
       "      <th></th>\n",
       "      <th>const</th>\n",
       "      <th>dataset</th>\n",
       "      <th>e_const</th>\n",
       "      <th>e_slope</th>\n",
       "      <th>knockout_effect</th>\n",
       "      <th>p_const</th>\n",
       "      <th>p_slope</th>\n",
       "      <th>slope</th>\n",
       "      <th>FDR_const</th>\n",
       "      <th>FDR_slope</th>\n",
       "    </tr>\n",
       "  </thead>\n",
       "  <tbody>\n",
       "    <tr>\n",
       "      <th>Rbm3</th>\n",
       "      <td>-0.001644</td>\n",
       "      <td>GSE67462:OSKM</td>\n",
       "      <td>0.001571</td>\n",
       "      <td>0.000162</td>\n",
       "      <td>-4.278651</td>\n",
       "      <td>3.133204e-01</td>\n",
       "      <td>0.305802</td>\n",
       "      <td>-0.000172</td>\n",
       "      <td>3.423027e-01</td>\n",
       "      <td>0.485296</td>\n",
       "    </tr>\n",
       "    <tr>\n",
       "      <th>Rbm3</th>\n",
       "      <td>-0.094396</td>\n",
       "      <td>GSE38509:OSKM</td>\n",
       "      <td>0.001711</td>\n",
       "      <td>0.000308</td>\n",
       "      <td>-37.458232</td>\n",
       "      <td>1.098877e-19</td>\n",
       "      <td>0.161209</td>\n",
       "      <td>0.000453</td>\n",
       "      <td>8.873517e-19</td>\n",
       "      <td>0.317209</td>\n",
       "    </tr>\n",
       "    <tr>\n",
       "      <th>Rbm3</th>\n",
       "      <td>-0.094024</td>\n",
       "      <td>GSE38509:OSK</td>\n",
       "      <td>0.002178</td>\n",
       "      <td>0.000343</td>\n",
       "      <td>-44.005652</td>\n",
       "      <td>1.721177e-06</td>\n",
       "      <td>0.369644</td>\n",
       "      <td>-0.000346</td>\n",
       "      <td>5.263490e-06</td>\n",
       "      <td>0.546040</td>\n",
       "    </tr>\n",
       "    <tr>\n",
       "      <th>Rbm3</th>\n",
       "      <td>-0.059054</td>\n",
       "      <td>GSE46321:C/EBPα+ OSKM</td>\n",
       "      <td>0.001311</td>\n",
       "      <td>0.000357</td>\n",
       "      <td>-16.399848</td>\n",
       "      <td>2.774363e-18</td>\n",
       "      <td>0.000974</td>\n",
       "      <td>0.001438</td>\n",
       "      <td>2.102609e-17</td>\n",
       "      <td>0.011778</td>\n",
       "    </tr>\n",
       "    <tr>\n",
       "      <th>Rbm3</th>\n",
       "      <td>-0.063421</td>\n",
       "      <td>GSE46321:C/EBPα- OSKM</td>\n",
       "      <td>0.000926</td>\n",
       "      <td>0.000252</td>\n",
       "      <td>-27.189551</td>\n",
       "      <td>3.514573e-21</td>\n",
       "      <td>0.029040</td>\n",
       "      <td>0.000605</td>\n",
       "      <td>2.970931e-20</td>\n",
       "      <td>0.107335</td>\n",
       "    </tr>\n",
       "    <tr>\n",
       "      <th>...</th>\n",
       "      <td>...</td>\n",
       "      <td>...</td>\n",
       "      <td>...</td>\n",
       "      <td>...</td>\n",
       "      <td>...</td>\n",
       "      <td>...</td>\n",
       "      <td>...</td>\n",
       "      <td>...</td>\n",
       "      <td>...</td>\n",
       "      <td>...</td>\n",
       "    </tr>\n",
       "    <tr>\n",
       "      <th>Rps4l</th>\n",
       "      <td>0.012827</td>\n",
       "      <td>GSE127927:7F-Kdm2b</td>\n",
       "      <td>0.004023</td>\n",
       "      <td>0.000981</td>\n",
       "      <td>6.897609</td>\n",
       "      <td>4.976012e-02</td>\n",
       "      <td>0.050661</td>\n",
       "      <td>0.003107</td>\n",
       "      <td>6.230801e-02</td>\n",
       "      <td>0.153073</td>\n",
       "    </tr>\n",
       "    <tr>\n",
       "      <th>Rps4l</th>\n",
       "      <td>0.015474</td>\n",
       "      <td>GSE127927:7F-Mkk6</td>\n",
       "      <td>0.006158</td>\n",
       "      <td>0.001502</td>\n",
       "      <td>5.509601</td>\n",
       "      <td>8.672159e-02</td>\n",
       "      <td>0.623712</td>\n",
       "      <td>0.000819</td>\n",
       "      <td>1.035375e-01</td>\n",
       "      <td>0.762318</td>\n",
       "    </tr>\n",
       "    <tr>\n",
       "      <th>Rps4l</th>\n",
       "      <td>0.014052</td>\n",
       "      <td>GSE127927:7F-Nanog</td>\n",
       "      <td>0.007713</td>\n",
       "      <td>0.001882</td>\n",
       "      <td>4.394698</td>\n",
       "      <td>1.660358e-01</td>\n",
       "      <td>0.964234</td>\n",
       "      <td>-0.000092</td>\n",
       "      <td>1.890766e-01</td>\n",
       "      <td>0.978559</td>\n",
       "    </tr>\n",
       "    <tr>\n",
       "      <th>Rps4l</th>\n",
       "      <td>0.016534</td>\n",
       "      <td>GSE127927:7F</td>\n",
       "      <td>0.004773</td>\n",
       "      <td>0.001165</td>\n",
       "      <td>6.834158</td>\n",
       "      <td>8.520121e-03</td>\n",
       "      <td>0.230967</td>\n",
       "      <td>0.001510</td>\n",
       "      <td>1.246937e-02</td>\n",
       "      <td>0.399158</td>\n",
       "    </tr>\n",
       "    <tr>\n",
       "      <th>Rps4l</th>\n",
       "      <td>0.020283</td>\n",
       "      <td>GSE102348:OSKM_Gatad2a-/-</td>\n",
       "      <td>0.003340</td>\n",
       "      <td>0.000702</td>\n",
       "      <td>18.730518</td>\n",
       "      <td>5.045033e-04</td>\n",
       "      <td>0.000089</td>\n",
       "      <td>0.005636</td>\n",
       "      <td>9.973658e-04</td>\n",
       "      <td>0.002040</td>\n",
       "    </tr>\n",
       "  </tbody>\n",
       "</table>\n",
       "<p>2160 rows × 10 columns</p>\n",
       "</div>"
      ],
      "text/plain": [
       "          const                    dataset   e_const   e_slope  \\\n",
       "Rbm3  -0.001644              GSE67462:OSKM  0.001571  0.000162   \n",
       "Rbm3  -0.094396              GSE38509:OSKM  0.001711  0.000308   \n",
       "Rbm3  -0.094024               GSE38509:OSK  0.002178  0.000343   \n",
       "Rbm3  -0.059054      GSE46321:C/EBPα+ OSKM  0.001311  0.000357   \n",
       "Rbm3  -0.063421      GSE46321:C/EBPα- OSKM  0.000926  0.000252   \n",
       "...         ...                        ...       ...       ...   \n",
       "Rps4l  0.012827         GSE127927:7F-Kdm2b  0.004023  0.000981   \n",
       "Rps4l  0.015474          GSE127927:7F-Mkk6  0.006158  0.001502   \n",
       "Rps4l  0.014052         GSE127927:7F-Nanog  0.007713  0.001882   \n",
       "Rps4l  0.016534               GSE127927:7F  0.004773  0.001165   \n",
       "Rps4l  0.020283  GSE102348:OSKM_Gatad2a-/-  0.003340  0.000702   \n",
       "\n",
       "       knockout_effect       p_const   p_slope     slope     FDR_const  \\\n",
       "Rbm3         -4.278651  3.133204e-01  0.305802 -0.000172  3.423027e-01   \n",
       "Rbm3        -37.458232  1.098877e-19  0.161209  0.000453  8.873517e-19   \n",
       "Rbm3        -44.005652  1.721177e-06  0.369644 -0.000346  5.263490e-06   \n",
       "Rbm3        -16.399848  2.774363e-18  0.000974  0.001438  2.102609e-17   \n",
       "Rbm3        -27.189551  3.514573e-21  0.029040  0.000605  2.970931e-20   \n",
       "...                ...           ...       ...       ...           ...   \n",
       "Rps4l         6.897609  4.976012e-02  0.050661  0.003107  6.230801e-02   \n",
       "Rps4l         5.509601  8.672159e-02  0.623712  0.000819  1.035375e-01   \n",
       "Rps4l         4.394698  1.660358e-01  0.964234 -0.000092  1.890766e-01   \n",
       "Rps4l         6.834158  8.520121e-03  0.230967  0.001510  1.246937e-02   \n",
       "Rps4l        18.730518  5.045033e-04  0.000089  0.005636  9.973658e-04   \n",
       "\n",
       "       FDR_slope  \n",
       "Rbm3    0.485296  \n",
       "Rbm3    0.317209  \n",
       "Rbm3    0.546040  \n",
       "Rbm3    0.011778  \n",
       "Rbm3    0.107335  \n",
       "...          ...  \n",
       "Rps4l   0.153073  \n",
       "Rps4l   0.762318  \n",
       "Rps4l   0.978559  \n",
       "Rps4l   0.399158  \n",
       "Rps4l   0.002040  \n",
       "\n",
       "[2160 rows x 10 columns]"
      ]
     },
     "execution_count": 185,
     "metadata": {},
     "output_type": "execute_result"
    }
   ],
   "source": [
    "gef_passed"
   ]
  },
  {
   "cell_type": "code",
   "execution_count": 184,
   "metadata": {},
   "outputs": [
    {
     "data": {
      "text/html": [
       "<div>\n",
       "<style scoped>\n",
       "    .dataframe tbody tr th:only-of-type {\n",
       "        vertical-align: middle;\n",
       "    }\n",
       "\n",
       "    .dataframe tbody tr th {\n",
       "        vertical-align: top;\n",
       "    }\n",
       "\n",
       "    .dataframe thead th {\n",
       "        text-align: right;\n",
       "    }\n",
       "</style>\n",
       "<table border=\"1\" class=\"dataframe\">\n",
       "  <thead>\n",
       "    <tr style=\"text-align: right;\">\n",
       "      <th></th>\n",
       "      <th>pval</th>\n",
       "      <th>FDR</th>\n",
       "      <th>star</th>\n",
       "    </tr>\n",
       "  </thead>\n",
       "  <tbody>\n",
       "    <tr>\n",
       "      <th>Ezh2</th>\n",
       "      <td>0.000061</td>\n",
       "      <td>0.000438</td>\n",
       "      <td>***</td>\n",
       "    </tr>\n",
       "    <tr>\n",
       "      <th>Cd24a</th>\n",
       "      <td>0.000061</td>\n",
       "      <td>0.000438</td>\n",
       "      <td>***</td>\n",
       "    </tr>\n",
       "    <tr>\n",
       "      <th>Rps4l</th>\n",
       "      <td>0.018066</td>\n",
       "      <td>0.041989</td>\n",
       "      <td>*</td>\n",
       "    </tr>\n",
       "    <tr>\n",
       "      <th>Col4a1</th>\n",
       "      <td>0.000854</td>\n",
       "      <td>0.003130</td>\n",
       "      <td>**</td>\n",
       "    </tr>\n",
       "    <tr>\n",
       "      <th>Fn1</th>\n",
       "      <td>0.000122</td>\n",
       "      <td>0.000697</td>\n",
       "      <td>***</td>\n",
       "    </tr>\n",
       "    <tr>\n",
       "      <th>Snhg11</th>\n",
       "      <td>0.000854</td>\n",
       "      <td>0.003130</td>\n",
       "      <td>**</td>\n",
       "    </tr>\n",
       "    <tr>\n",
       "      <th>Clec7a</th>\n",
       "      <td>0.005371</td>\n",
       "      <td>0.016018</td>\n",
       "      <td>*</td>\n",
       "    </tr>\n",
       "    <tr>\n",
       "      <th>Col1a2</th>\n",
       "      <td>0.000061</td>\n",
       "      <td>0.000438</td>\n",
       "      <td>***</td>\n",
       "    </tr>\n",
       "    <tr>\n",
       "      <th>Igfbp4</th>\n",
       "      <td>0.000854</td>\n",
       "      <td>0.003130</td>\n",
       "      <td>**</td>\n",
       "    </tr>\n",
       "    <tr>\n",
       "      <th>Postn</th>\n",
       "      <td>0.021545</td>\n",
       "      <td>0.047768</td>\n",
       "      <td>*</td>\n",
       "    </tr>\n",
       "    <tr>\n",
       "      <th>Tmsb10</th>\n",
       "      <td>0.000061</td>\n",
       "      <td>0.000438</td>\n",
       "      <td>***</td>\n",
       "    </tr>\n",
       "    <tr>\n",
       "      <th>Wbp1l</th>\n",
       "      <td>0.000183</td>\n",
       "      <td>0.000921</td>\n",
       "      <td>***</td>\n",
       "    </tr>\n",
       "    <tr>\n",
       "      <th>Klhl4</th>\n",
       "      <td>0.000061</td>\n",
       "      <td>0.000438</td>\n",
       "      <td>***</td>\n",
       "    </tr>\n",
       "    <tr>\n",
       "      <th>St8sia6</th>\n",
       "      <td>0.000061</td>\n",
       "      <td>0.000438</td>\n",
       "      <td>***</td>\n",
       "    </tr>\n",
       "  </tbody>\n",
       "</table>\n",
       "</div>"
      ],
      "text/plain": [
       "             pval       FDR star\n",
       "Ezh2     0.000061  0.000438  ***\n",
       "Cd24a    0.000061  0.000438  ***\n",
       "Rps4l    0.018066  0.041989    *\n",
       "Col4a1   0.000854  0.003130   **\n",
       "Fn1      0.000122  0.000697  ***\n",
       "Snhg11   0.000854  0.003130   **\n",
       "Clec7a   0.005371  0.016018    *\n",
       "Col1a2   0.000061  0.000438  ***\n",
       "Igfbp4   0.000854  0.003130   **\n",
       "Postn    0.021545  0.047768    *\n",
       "Tmsb10   0.000061  0.000438  ***\n",
       "Wbp1l    0.000183  0.000921  ***\n",
       "Klhl4    0.000061  0.000438  ***\n",
       "St8sia6  0.000061  0.000438  ***"
      ]
     },
     "execution_count": 184,
     "metadata": {},
     "output_type": "execute_result"
    }
   ],
   "source": [
    "test_effects.loc[top_gef.index.unique()]"
   ]
  },
  {
   "cell_type": "code",
   "execution_count": 183,
   "metadata": {},
   "outputs": [
    {
     "data": {
      "text/plain": [
       "Text(0, 0.5, 'Effect of age increasing by knock-out, %')"
      ]
     },
     "execution_count": 183,
     "metadata": {},
     "output_type": "execute_result"
    },
    {
     "data": {
      "image/png": "[encoded data removed]",
      "text/plain": [
       "<Figure size 864x432 with 1 Axes>"
      ]
     },
     "metadata": {
      "needs_background": "light"
     },
     "output_type": "display_data"
    }
   ],
   "source": [
    "top_index = gef_passed.groupby(gef_passed.index)['knockout_effect'].mean().sort_values(ascending=False)[1:15].index\n",
    "# top_index = gef.groupby(gef.index)['p_const'].apply(lambda x: np.exp(np.mean(np.log(x)))).\\\n",
    "#                         sort_values(ascending=True)[1:15].index\n",
    "top_gef = gef_passed.loc[top_index]\n",
    "top_gef['symbol'] = top_gef.index\n",
    "\n",
    "plt.figure(figsize=(12,6))\n",
    "ax = sns.boxplot(x='symbol', y='knockout_effect', data=top_gef)\n",
    "ax.axhline(0, ls='--', c='grey')\n",
    "ax.set_ylabel('Effect of age increasing by knock-out, %',)\n",
    "\n",
    "# for xtick in ax.get_xticks():\n",
    "#     ax.text(xtick, medians[xtick] + vertical_offset, edians[xtick], \n",
    "#             horizontalalignment='center',size='x-small',color='w',weight='semibold')\n"
   ]
  },
  {
   "cell_type": "code",
   "execution_count": 459,
   "metadata": {},
   "outputs": [],
   "source": [
    "#gef.groupby(gef.index)['const'].mean().sort_values(ascending=False)[1:10]"
   ]
  },
  {
   "cell_type": "code",
   "execution_count": 442,
   "metadata": {},
   "outputs": [
    {
     "data": {
      "text/html": [
       "<div>\n",
       "<style scoped>\n",
       "    .dataframe tbody tr th:only-of-type {\n",
       "        vertical-align: middle;\n",
       "    }\n",
       "\n",
       "    .dataframe tbody tr th {\n",
       "        vertical-align: top;\n",
       "    }\n",
       "\n",
       "    .dataframe thead th {\n",
       "        text-align: right;\n",
       "    }\n",
       "</style>\n",
       "<table border=\"1\" class=\"dataframe\">\n",
       "  <thead>\n",
       "    <tr style=\"text-align: right;\">\n",
       "      <th></th>\n",
       "      <th>const</th>\n",
       "      <th>p_const</th>\n",
       "      <th>p_slope</th>\n",
       "      <th>slope</th>\n",
       "      <th>dataset</th>\n",
       "      <th>pass_const</th>\n",
       "      <th>pass_slope</th>\n",
       "      <th>slope_effect</th>\n",
       "    </tr>\n",
       "  </thead>\n",
       "  <tbody>\n",
       "    <tr>\n",
       "      <th>Col5a3</th>\n",
       "      <td>0.000003</td>\n",
       "      <td>1.533546e-72</td>\n",
       "      <td>0.068280</td>\n",
       "      <td>-3.561968e-17</td>\n",
       "      <td>GSE102348:OSKM_Gatad2a-/-</td>\n",
       "      <td>True</td>\n",
       "      <td>False</td>\n",
       "      <td>-2.849574e-16</td>\n",
       "    </tr>\n",
       "    <tr>\n",
       "      <th>Fbxl15</th>\n",
       "      <td>0.000027</td>\n",
       "      <td>5.391501e-79</td>\n",
       "      <td>0.076233</td>\n",
       "      <td>-3.515725e-17</td>\n",
       "      <td>GSE102348:OSKM_Gatad2a-/-</td>\n",
       "      <td>True</td>\n",
       "      <td>False</td>\n",
       "      <td>-2.812580e-16</td>\n",
       "    </tr>\n",
       "    <tr>\n",
       "      <th>Pisd-ps1</th>\n",
       "      <td>0.000051</td>\n",
       "      <td>1.200902e-80</td>\n",
       "      <td>0.115277</td>\n",
       "      <td>-3.330731e-17</td>\n",
       "      <td>GSE102348:OSKM_Gatad2a-/-</td>\n",
       "      <td>True</td>\n",
       "      <td>False</td>\n",
       "      <td>-2.664585e-16</td>\n",
       "    </tr>\n",
       "    <tr>\n",
       "      <th>Chchd10</th>\n",
       "      <td>0.000062</td>\n",
       "      <td>5.538460e-01</td>\n",
       "      <td>0.000009</td>\n",
       "      <td>2.394369e-04</td>\n",
       "      <td>GSE102348:OSKM_Gatad2a-/-</td>\n",
       "      <td>False</td>\n",
       "      <td>True</td>\n",
       "      <td>1.915495e-03</td>\n",
       "    </tr>\n",
       "    <tr>\n",
       "      <th>Gpc1</th>\n",
       "      <td>0.000070</td>\n",
       "      <td>8.649108e-01</td>\n",
       "      <td>0.011638</td>\n",
       "      <td>2.813347e-04</td>\n",
       "      <td>GSE102348:OSKM_Gatad2a-/-</td>\n",
       "      <td>False</td>\n",
       "      <td>True</td>\n",
       "      <td>2.250678e-03</td>\n",
       "    </tr>\n",
       "    <tr>\n",
       "      <th>...</th>\n",
       "      <td>...</td>\n",
       "      <td>...</td>\n",
       "      <td>...</td>\n",
       "      <td>...</td>\n",
       "      <td>...</td>\n",
       "      <td>...</td>\n",
       "      <td>...</td>\n",
       "      <td>...</td>\n",
       "    </tr>\n",
       "    <tr>\n",
       "      <th>H2-Q6</th>\n",
       "      <td>0.034557</td>\n",
       "      <td>1.654373e-05</td>\n",
       "      <td>0.000058</td>\n",
       "      <td>-5.993089e-03</td>\n",
       "      <td>GSE102348:OSKM_Gatad2a-/-</td>\n",
       "      <td>True</td>\n",
       "      <td>True</td>\n",
       "      <td>-4.794471e-02</td>\n",
       "    </tr>\n",
       "    <tr>\n",
       "      <th>Cd24a</th>\n",
       "      <td>0.035460</td>\n",
       "      <td>1.198458e-03</td>\n",
       "      <td>0.352124</td>\n",
       "      <td>-1.416483e-03</td>\n",
       "      <td>GSE102348:OSKM_Gatad2a-/-</td>\n",
       "      <td>True</td>\n",
       "      <td>False</td>\n",
       "      <td>-1.133187e-02</td>\n",
       "    </tr>\n",
       "    <tr>\n",
       "      <th>Snhg11</th>\n",
       "      <td>0.048496</td>\n",
       "      <td>2.104531e-06</td>\n",
       "      <td>0.000150</td>\n",
       "      <td>-5.330428e-03</td>\n",
       "      <td>GSE102348:OSKM_Gatad2a-/-</td>\n",
       "      <td>True</td>\n",
       "      <td>True</td>\n",
       "      <td>-4.264342e-02</td>\n",
       "    </tr>\n",
       "    <tr>\n",
       "      <th>Col3a1</th>\n",
       "      <td>0.052547</td>\n",
       "      <td>1.632887e-03</td>\n",
       "      <td>0.029689</td>\n",
       "      <td>-6.053452e-03</td>\n",
       "      <td>GSE102348:OSKM_Gatad2a-/-</td>\n",
       "      <td>True</td>\n",
       "      <td>False</td>\n",
       "      <td>-4.842762e-02</td>\n",
       "    </tr>\n",
       "    <tr>\n",
       "      <th>Ezh2</th>\n",
       "      <td>0.052723</td>\n",
       "      <td>9.677228e-05</td>\n",
       "      <td>0.062474</td>\n",
       "      <td>3.092910e-03</td>\n",
       "      <td>GSE102348:OSKM_Gatad2a-/-</td>\n",
       "      <td>True</td>\n",
       "      <td>False</td>\n",
       "      <td>2.474328e-02</td>\n",
       "    </tr>\n",
       "  </tbody>\n",
       "</table>\n",
       "<p>143 rows × 8 columns</p>\n",
       "</div>"
      ],
      "text/plain": [
       "             const       p_const   p_slope         slope  \\\n",
       "Col5a3    0.000003  1.533546e-72  0.068280 -3.561968e-17   \n",
       "Fbxl15    0.000027  5.391501e-79  0.076233 -3.515725e-17   \n",
       "Pisd-ps1  0.000051  1.200902e-80  0.115277 -3.330731e-17   \n",
       "Chchd10   0.000062  5.538460e-01  0.000009  2.394369e-04   \n",
       "Gpc1      0.000070  8.649108e-01  0.011638  2.813347e-04   \n",
       "...            ...           ...       ...           ...   \n",
       "H2-Q6     0.034557  1.654373e-05  0.000058 -5.993089e-03   \n",
       "Cd24a     0.035460  1.198458e-03  0.352124 -1.416483e-03   \n",
       "Snhg11    0.048496  2.104531e-06  0.000150 -5.330428e-03   \n",
       "Col3a1    0.052547  1.632887e-03  0.029689 -6.053452e-03   \n",
       "Ezh2      0.052723  9.677228e-05  0.062474  3.092910e-03   \n",
       "\n",
       "                            dataset  pass_const  pass_slope  slope_effect  \n",
       "Col5a3    GSE102348:OSKM_Gatad2a-/-        True       False -2.849574e-16  \n",
       "Fbxl15    GSE102348:OSKM_Gatad2a-/-        True       False -2.812580e-16  \n",
       "Pisd-ps1  GSE102348:OSKM_Gatad2a-/-        True       False -2.664585e-16  \n",
       "Chchd10   GSE102348:OSKM_Gatad2a-/-       False        True  1.915495e-03  \n",
       "Gpc1      GSE102348:OSKM_Gatad2a-/-       False        True  2.250678e-03  \n",
       "...                             ...         ...         ...           ...  \n",
       "H2-Q6     GSE102348:OSKM_Gatad2a-/-        True        True -4.794471e-02  \n",
       "Cd24a     GSE102348:OSKM_Gatad2a-/-        True       False -1.133187e-02  \n",
       "Snhg11    GSE102348:OSKM_Gatad2a-/-        True        True -4.264342e-02  \n",
       "Col3a1    GSE102348:OSKM_Gatad2a-/-        True       False -4.842762e-02  \n",
       "Ezh2      GSE102348:OSKM_Gatad2a-/-        True       False  2.474328e-02  \n",
       "\n",
       "[143 rows x 8 columns]"
      ]
     },
     "execution_count": 442,
     "metadata": {},
     "output_type": "execute_result"
    }
   ],
   "source": [
    "su.sort_values('const')\n",
    "\n",
    "#построить средние эффекты генов по различным датасетам (можно в виде боксплота с точками)"
   ]
  }
 ],
 "metadata": {
  "interpreter": {
   "hash": "14a6abd83cba0be2685bb8a7750510f6778c00d77fda6c7e658c25d915f5f57b"
  },
  "kernelspec": {
   "display_name": "Python 3.7.6 64-bit ('base': conda)",
   "language": "python",
   "name": "python3"
  },
  "language_info": {
   "codemirror_mode": {
    "name": "ipython",
    "version": 3
   },
   "file_extension": ".py",
   "mimetype": "text/x-python",
   "name": "python",
   "nbconvert_exporter": "python",
   "pygments_lexer": "ipython3",
   "version": "3.7.6"
  },
  "orig_nbformat": 4
 },
 "nbformat": 4,
 "nbformat_minor": 2
}
