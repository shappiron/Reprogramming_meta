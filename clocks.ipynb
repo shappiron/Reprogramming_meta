{
 "cells": [
  {
   "cell_type": "code",
   "execution_count": 17,
   "metadata": {},
   "outputs": [],
   "source": [
    "from sklearn.linear_model import ElasticNet\n",
    "import joblib \n",
    "import numpy as np\n",
    "from matplotlib import pyplot as plt\n",
    "import seaborn as sns\n",
    "import pandas as pd\n"
   ]
  },
  {
   "cell_type": "markdown",
   "metadata": {},
   "source": [
    "# Prepare data"
   ]
  },
  {
   "cell_type": "code",
   "execution_count": 18,
   "metadata": {},
   "outputs": [],
   "source": [
    "def predict_tAge(data, model):\n",
    "    features = model.feature_names\n",
    "    data_for_calculation = data[features]\n",
    "    tAge = model.predict(data_for_calculation)\n",
    "    \n",
    "    return tAge"
   ]
  },
  {
   "cell_type": "markdown",
   "metadata": {},
   "source": [
    "## Mouse"
   ]
  },
  {
   "cell_type": "code",
   "execution_count": 19,
   "metadata": {},
   "outputs": [],
   "source": [
    "# from utils.structure import load_structure\n",
    "# udf = load_structure('data/ultradf_v4.json')"
   ]
  },
  {
   "cell_type": "code",
   "execution_count": 57,
   "metadata": {},
   "outputs": [
    {
     "name": "stderr",
     "output_type": "stream",
     "text": [
      "/home/shappiron/anaconda3/lib/python3.7/site-packages/sklearn/base.py:333: UserWarning: Trying to unpickle estimator ElasticNet from version 0.24.1 when using version 1.0.1. This might lead to breaking code or invalid results. Use at your own risk. For more info please refer to:\n",
      "https://scikit-learn.org/stable/modules/model_persistence.html#security-maintainability-limitations\n",
      "  UserWarning,\n"
     ]
    }
   ],
   "source": [
    "clocks = joblib.load(open('clocks/Aging_mouse_norm.pkl', 'rb'))\n",
    "data = pd.read_csv('clocks/mouse_exprs_norm_final_29ds.csv', index_col=0)\n",
    "annot = pd.read_csv('clocks/mouse_data_annotation_29ds.csv', index_col=1)\n"
   ]
  },
  {
   "cell_type": "code",
   "execution_count": 58,
   "metadata": {},
   "outputs": [
    {
     "name": "stderr",
     "output_type": "stream",
     "text": [
      "/home/shappiron/anaconda3/lib/python3.7/site-packages/sklearn/base.py:439: UserWarning: X has feature names, but ElasticNet was fitted without feature names\n",
      "  f\"X has feature names, but {self.__class__.__name__} was fitted without\"\n"
     ]
    }
   ],
   "source": [
    "mouse_clock_age_norm = predict_tAge(data, clocks)\n",
    "annot['AgeNorm'] = mouse_clock_age_norm\n",
    "annot = annot.drop('Unnamed: 0', 1)"
   ]
  },
  {
   "cell_type": "code",
   "execution_count": 59,
   "metadata": {},
   "outputs": [],
   "source": [
    "annot.to_csv('clocks/Mouse_clock_output.csv')"
   ]
  },
  {
   "cell_type": "markdown",
   "metadata": {},
   "source": [
    "## Human"
   ]
  },
  {
   "cell_type": "code",
   "execution_count": 54,
   "metadata": {},
   "outputs": [
    {
     "name": "stderr",
     "output_type": "stream",
     "text": [
      "/home/shappiron/anaconda3/lib/python3.7/site-packages/sklearn/base.py:333: UserWarning: Trying to unpickle estimator ElasticNet from version 0.24.1 when using version 1.0.1. This might lead to breaking code or invalid results. Use at your own risk. For more info please refer to:\n",
      "https://scikit-learn.org/stable/modules/model_persistence.html#security-maintainability-limitations\n",
      "  UserWarning,\n"
     ]
    }
   ],
   "source": [
    "clocks = joblib.load(open('clocks/Aging_human_norm.pkl', 'rb'))\n",
    "data = pd.read_csv('clocks/human_exprs_norm_final.csv', index_col=0)\n",
    "annot = pd.read_csv('clocks/human_data_annotation.csv', index_col=1)\n"
   ]
  },
  {
   "cell_type": "code",
   "execution_count": 55,
   "metadata": {},
   "outputs": [
    {
     "name": "stderr",
     "output_type": "stream",
     "text": [
      "/home/shappiron/anaconda3/lib/python3.7/site-packages/sklearn/base.py:439: UserWarning: X has feature names, but ElasticNet was fitted without feature names\n",
      "  f\"X has feature names, but {self.__class__.__name__} was fitted without\"\n"
     ]
    }
   ],
   "source": [
    "human_clock_age_norm = predict_tAge(data, clocks)\n",
    "annot['AgeNorm'] = human_clock_age_norm\n",
    "annot = annot.drop('Unnamed: 0', 1)"
   ]
  },
  {
   "cell_type": "code",
   "execution_count": 56,
   "metadata": {},
   "outputs": [],
   "source": [
    "annot.to_csv('clocks/Human_clock_output.csv')"
   ]
  },
  {
   "cell_type": "markdown",
   "metadata": {},
   "source": [
    "# Explore clocks"
   ]
  },
  {
   "cell_type": "code",
   "execution_count": null,
   "metadata": {},
   "outputs": [],
   "source": [
    "model_name = 'Aging_mouse_norm'\n",
    "model = joblib.load(open('clocks/%s.pkl' % model_name, 'rb'))\n",
    "age = pd.read_csv('subdata/gene_atlas_aging.csv')\n",
    "aging_genes = age['Symbol'].tolist()"
   ]
  },
  {
   "cell_type": "code",
   "execution_count": 2,
   "metadata": {},
   "outputs": [],
   "source": [
    "coef = model.coef_\n",
    "genes = np.array(model.feature_names)\n"
   ]
  },
  {
   "cell_type": "code",
   "execution_count": 3,
   "metadata": {},
   "outputs": [],
   "source": [
    "ids = np.nonzero(coef)[0]\n",
    "coef = coef[ids]\n",
    "genes = genes[ids]"
   ]
  },
  {
   "cell_type": "code",
   "execution_count": 4,
   "metadata": {},
   "outputs": [
    {
     "data": {
      "text/plain": [
       "337"
      ]
     },
     "execution_count": 4,
     "metadata": {},
     "output_type": "execute_result"
    }
   ],
   "source": [
    "len(genes)"
   ]
  },
  {
   "cell_type": "code",
   "execution_count": 5,
   "metadata": {},
   "outputs": [],
   "source": [
    "#rep = pd.read_csv('reprogramming_mouse_full.csv', index_col=0)"
   ]
  },
  {
   "cell_type": "code",
   "execution_count": 6,
   "metadata": {},
   "outputs": [],
   "source": [
    "import mygene\n",
    "raw = genes.tolist()\n",
    "key = 'entrezgene'\n",
    "species = 'mouse'\n",
    "query_key = 'symbol'\n",
    "\n",
    "def key2key(raw, key, query_key, species):\n",
    "    mg = mygene.MyGeneInfo()\n",
    "    query = mg.querymany(raw, scopes=key, species=species, verbose=False)   \n",
    "\n",
    "    ref2entrez = {r:[] for r in raw}\n",
    "    for r, q in zip(raw, query):\n",
    "        if query_key in q:\n",
    "            ref2entrez[r].append(q[query_key])\n",
    "        else:\n",
    "            ref2entrez[r] = None\n",
    "\n",
    "    print('Max number of ENTREZ across keys:', \n",
    "            max([len(ref2entrez[r]) for r in ref2entrez.keys() if ref2entrez[r] is not None]))\n",
    "\n",
    "    ref2entrez = {k:v[0] for k,v in ref2entrez.items() if (v is not None) and (len(v)==1)}\n",
    "    return ref2entrez"
   ]
  },
  {
   "cell_type": "code",
   "execution_count": 7,
   "metadata": {},
   "outputs": [
    {
     "name": "stdout",
     "output_type": "stream",
     "text": [
      "Max number of ENTREZ across keys: 1\n"
     ]
    }
   ],
   "source": [
    "ref2key = key2key(raw, key, query_key, species)\n",
    "genesym = np.array([ref2key[k] for k in raw])"
   ]
  },
  {
   "cell_type": "code",
   "execution_count": 8,
   "metadata": {},
   "outputs": [
    {
     "data": {
      "text/plain": [
       "(337, 337)"
      ]
     },
     "execution_count": 8,
     "metadata": {},
     "output_type": "execute_result"
    }
   ],
   "source": [
    "len(coef), len(genesym)"
   ]
  },
  {
   "cell_type": "code",
   "execution_count": 9,
   "metadata": {},
   "outputs": [],
   "source": [
    "ids_sort = np.argsort(coef)[::-1]\n",
    "coef_sort = coef[ids_sort]\n",
    "gene_sort = genesym[ids_sort]"
   ]
  },
  {
   "cell_type": "code",
   "execution_count": 10,
   "metadata": {},
   "outputs": [],
   "source": [
    "wei = pd.DataFrame({'coef':coef_sort, 'gene':gene_sort})\n",
    "wei = wei.set_index('gene')"
   ]
  },
  {
   "cell_type": "code",
   "execution_count": 11,
   "metadata": {},
   "outputs": [
    {
     "data": {
      "text/html": [
       "<div>\n",
       "<style scoped>\n",
       "    .dataframe tbody tr th:only-of-type {\n",
       "        vertical-align: middle;\n",
       "    }\n",
       "\n",
       "    .dataframe tbody tr th {\n",
       "        vertical-align: top;\n",
       "    }\n",
       "\n",
       "    .dataframe thead th {\n",
       "        text-align: right;\n",
       "    }\n",
       "</style>\n",
       "<table border=\"1\" class=\"dataframe\">\n",
       "  <thead>\n",
       "    <tr style=\"text-align: right;\">\n",
       "      <th></th>\n",
       "      <th>coef</th>\n",
       "    </tr>\n",
       "    <tr>\n",
       "      <th>gene</th>\n",
       "      <th></th>\n",
       "    </tr>\n",
       "  </thead>\n",
       "  <tbody>\n",
       "    <tr>\n",
       "      <th>Lyz2</th>\n",
       "      <td>0.039848</td>\n",
       "    </tr>\n",
       "    <tr>\n",
       "      <th>Rbm3</th>\n",
       "      <td>0.032041</td>\n",
       "    </tr>\n",
       "    <tr>\n",
       "      <th>Amy1</th>\n",
       "      <td>0.030675</td>\n",
       "    </tr>\n",
       "    <tr>\n",
       "      <th>S100a6</th>\n",
       "      <td>0.029979</td>\n",
       "    </tr>\n",
       "    <tr>\n",
       "      <th>Snhg11</th>\n",
       "      <td>0.028876</td>\n",
       "    </tr>\n",
       "    <tr>\n",
       "      <th>...</th>\n",
       "      <td>...</td>\n",
       "    </tr>\n",
       "    <tr>\n",
       "      <th>Coro1a</th>\n",
       "      <td>-0.031212</td>\n",
       "    </tr>\n",
       "    <tr>\n",
       "      <th>Col3a1</th>\n",
       "      <td>-0.036810</td>\n",
       "    </tr>\n",
       "    <tr>\n",
       "      <th>Ezh2</th>\n",
       "      <td>-0.038060</td>\n",
       "    </tr>\n",
       "    <tr>\n",
       "      <th>Rps4l</th>\n",
       "      <td>-0.041489</td>\n",
       "    </tr>\n",
       "    <tr>\n",
       "      <th>Nrep</th>\n",
       "      <td>-0.056075</td>\n",
       "    </tr>\n",
       "  </tbody>\n",
       "</table>\n",
       "<p>337 rows × 1 columns</p>\n",
       "</div>"
      ],
      "text/plain": [
       "            coef\n",
       "gene            \n",
       "Lyz2    0.039848\n",
       "Rbm3    0.032041\n",
       "Amy1    0.030675\n",
       "S100a6  0.029979\n",
       "Snhg11  0.028876\n",
       "...          ...\n",
       "Coro1a -0.031212\n",
       "Col3a1 -0.036810\n",
       "Ezh2   -0.038060\n",
       "Rps4l  -0.041489\n",
       "Nrep   -0.056075\n",
       "\n",
       "[337 rows x 1 columns]"
      ]
     },
     "execution_count": 11,
     "metadata": {},
     "output_type": "execute_result"
    }
   ],
   "source": [
    "wei "
   ]
  },
  {
   "cell_type": "code",
   "execution_count": 12,
   "metadata": {},
   "outputs": [],
   "source": [
    "wei_age = wei.loc[set(gene_sort).intersection(aging_genes)].sort_values('coef', ascending=False)\n",
    "wei_age = wei_age.reset_index()"
   ]
  },
  {
   "cell_type": "code",
   "execution_count": 13,
   "metadata": {},
   "outputs": [
    {
     "data": {
      "text/plain": [
       "<AxesSubplot:title={'center':'Aging_mouse_norm genes in GenAge'}, xlabel='coef', ylabel='gene'>"
      ]
     },
     "execution_count": 13,
     "metadata": {},
     "output_type": "execute_result"
    },
    {
     "data": {
      "image/png": "[encoded data removed]",
      "text/plain": [
       "<Figure size 576x576 with 1 Axes>"
      ]
     },
     "metadata": {
      "needs_background": "light"
     },
     "output_type": "display_data"
    }
   ],
   "source": [
    "plt.figure(figsize=(8,8))\n",
    "plt.title('%s genes in GenAge' % model_name)\n",
    "sns.barplot(data=wei_age, x='coef', y='gene', orient='h')"
   ]
  },
  {
   "cell_type": "code",
   "execution_count": 54,
   "metadata": {},
   "outputs": [
    {
     "data": {
      "text/plain": [
       "(1.105603448275862, 0.6981679045434946)"
      ]
     },
     "execution_count": 54,
     "metadata": {},
     "output_type": "execute_result"
    }
   ],
   "source": [
    "m = [[len(wei_age), len(aging_genes) - len(wei_age), ],\n",
    "    [len(wei) - len(wei_age), len(model.coef_) - len(aging_genes) - len(wei) + len(wei_age)]]\n",
    "\n",
    "from scipy.stats import fisher_exact\n",
    "fisher_exact(m)"
   ]
  },
  {
   "cell_type": "code",
   "execution_count": 152,
   "metadata": {},
   "outputs": [],
   "source": [
    "#tmpdict = {\"Aging_mouse_norm\":gene_sort}"
   ]
  },
  {
   "cell_type": "code",
   "execution_count": 165,
   "metadata": {},
   "outputs": [],
   "source": [
    "tmpdict[model_name] = gene_sort"
   ]
  },
  {
   "cell_type": "code",
   "execution_count": 188,
   "metadata": {},
   "outputs": [
    {
     "data": {
      "text/plain": [
       "{'Adcy3',\n",
       " 'Bmp6',\n",
       " 'Cacna1a',\n",
       " 'Efemp1',\n",
       " 'Egr1',\n",
       " 'Fos',\n",
       " 'Gadd45a',\n",
       " 'Gadd45g',\n",
       " 'Igfbp3',\n",
       " 'Itpr3',\n",
       " 'Mmp9',\n",
       " 'Ptges',\n",
       " 'Sesn1',\n",
       " 'Sesn2'}"
      ]
     },
     "execution_count": 188,
     "metadata": {},
     "output_type": "execute_result"
    }
   ],
   "source": [
    "set(tmpdict['Aging_mouse_norm']).intersection(set(tmpdict['Aging_mouse_scaled'])).intersection(aging_genes)"
   ]
  },
  {
   "cell_type": "code",
   "execution_count": null,
   "metadata": {},
   "outputs": [],
   "source": []
  }
 ],
 "metadata": {
  "interpreter": {
   "hash": "14a6abd83cba0be2685bb8a7750510f6778c00d77fda6c7e658c25d915f5f57b"
  },
  "kernelspec": {
   "display_name": "Python 3.7.6 64-bit ('base': conda)",
   "language": "python",
   "name": "python3"
  },
  "language_info": {
   "codemirror_mode": {
    "name": "ipython",
    "version": 3
   },
   "file_extension": ".py",
   "mimetype": "text/x-python",
   "name": "python",
   "nbconvert_exporter": "python",
   "pygments_lexer": "ipython3",
   "version": "3.7.6"
  },
  "orig_nbformat": 4
 },
 "nbformat": 4,
 "nbformat_minor": 2
}
