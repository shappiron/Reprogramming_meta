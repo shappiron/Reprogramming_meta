{
 "cells": [
  {
   "cell_type": "code",
   "execution_count": 320,
   "metadata": {},
   "outputs": [],
   "source": [
    "from sklearn.linear_model import ElasticNet\n",
    "import joblib \n",
    "import numpy as np\n",
    "from matplotlib import pyplot as plt\n",
    "import seaborn as sns\n",
    "import pandas as pd\n",
    "import scipy\n",
    "\n",
    "import warnings\n",
    "warnings.filterwarnings('ignore')\n",
    "from tqdm.notebook import tqdm_notebook as tqdm\n",
    "from statsmodels.stats.multitest import multipletests\n",
    "import statsmodels.api as sm"
   ]
  },
  {
   "cell_type": "markdown",
   "metadata": {},
   "source": [
    "# Prepare data"
   ]
  },
  {
   "cell_type": "code",
   "execution_count": 65,
   "metadata": {},
   "outputs": [],
   "source": [
    "def predict_tAge(data, model):\n",
    "    features = model.feature_names\n",
    "    data_for_calculation = data[features]\n",
    "    tAge = model.predict(data_for_calculation)\n",
    "    \n",
    "    return tAge\n",
    "\n",
    "def key2key(raw, key, query_key, species):\n",
    "    import mygene\n",
    "    mg = mygene.MyGeneInfo()\n",
    "    query = mg.querymany(raw, scopes=key, species=species, verbose=False)   \n",
    "\n",
    "    ref2entrez = {r:[] for r in raw}\n",
    "    for r, q in zip(raw, query):\n",
    "        if query_key in q:\n",
    "            ref2entrez[r].append(q[query_key])\n",
    "        else:\n",
    "            ref2entrez[r] = None\n",
    "\n",
    "    print('Max number of ENTREZ across keys:', \n",
    "            max([len(ref2entrez[r]) for r in ref2entrez.keys() if ref2entrez[r] is not None]))\n",
    "\n",
    "    ref2entrez = {k:v[0] for k,v in ref2entrez.items() if (v is not None) and (len(v)==1)}\n",
    "    return ref2entrez"
   ]
  },
  {
   "cell_type": "markdown",
   "metadata": {},
   "source": [
    "## Mouse"
   ]
  },
  {
   "cell_type": "code",
   "execution_count": 19,
   "metadata": {},
   "outputs": [],
   "source": [
    "# from utils.structure import load_structure\n",
    "# udf = load_structure('data/ultradf_v4.json')"
   ]
  },
  {
   "cell_type": "code",
   "execution_count": 57,
   "metadata": {},
   "outputs": [
    {
     "name": "stderr",
     "output_type": "stream",
     "text": [
      "/home/shappiron/anaconda3/lib/python3.7/site-packages/sklearn/base.py:333: UserWarning: Trying to unpickle estimator ElasticNet from version 0.24.1 when using version 1.0.1. This might lead to breaking code or invalid results. Use at your own risk. For more info please refer to:\n",
      "https://scikit-learn.org/stable/modules/model_persistence.html#security-maintainability-limitations\n",
      "  UserWarning,\n"
     ]
    }
   ],
   "source": [
    "clocks = joblib.load(open('clocks/Aging_mouse_norm.pkl', 'rb'))\n",
    "data = pd.read_csv('clocks/mouse_exprs_norm_final_29ds.csv', index_col=0)\n",
    "annot = pd.read_csv('clocks/mouse_data_annotation_29ds.csv', index_col=1)\n"
   ]
  },
  {
   "cell_type": "code",
   "execution_count": 58,
   "metadata": {},
   "outputs": [
    {
     "name": "stderr",
     "output_type": "stream",
     "text": [
      "/home/shappiron/anaconda3/lib/python3.7/site-packages/sklearn/base.py:439: UserWarning: X has feature names, but ElasticNet was fitted without feature names\n",
      "  f\"X has feature names, but {self.__class__.__name__} was fitted without\"\n"
     ]
    }
   ],
   "source": [
    "mouse_clock_age_norm = predict_tAge(data, clocks)\n",
    "annot['AgeNorm'] = mouse_clock_age_norm\n",
    "annot = annot.drop('Unnamed: 0', 1)"
   ]
  },
  {
   "cell_type": "code",
   "execution_count": 59,
   "metadata": {},
   "outputs": [],
   "source": [
    "annot.to_csv('clocks/Mouse_clock_output.csv')"
   ]
  },
  {
   "cell_type": "markdown",
   "metadata": {},
   "source": [
    "## Human"
   ]
  },
  {
   "cell_type": "code",
   "execution_count": 54,
   "metadata": {},
   "outputs": [
    {
     "name": "stderr",
     "output_type": "stream",
     "text": [
      "/home/shappiron/anaconda3/lib/python3.7/site-packages/sklearn/base.py:333: UserWarning: Trying to unpickle estimator ElasticNet from version 0.24.1 when using version 1.0.1. This might lead to breaking code or invalid results. Use at your own risk. For more info please refer to:\n",
      "https://scikit-learn.org/stable/modules/model_persistence.html#security-maintainability-limitations\n",
      "  UserWarning,\n"
     ]
    }
   ],
   "source": [
    "clocks = joblib.load(open('clocks/Aging_human_norm.pkl', 'rb'))\n",
    "data = pd.read_csv('clocks/human_exprs_norm_final.csv', index_col=0)\n",
    "annot = pd.read_csv('clocks/human_data_annotation.csv', index_col=1)\n"
   ]
  },
  {
   "cell_type": "code",
   "execution_count": 55,
   "metadata": {},
   "outputs": [
    {
     "name": "stderr",
     "output_type": "stream",
     "text": [
      "/home/shappiron/anaconda3/lib/python3.7/site-packages/sklearn/base.py:439: UserWarning: X has feature names, but ElasticNet was fitted without feature names\n",
      "  f\"X has feature names, but {self.__class__.__name__} was fitted without\"\n"
     ]
    }
   ],
   "source": [
    "human_clock_age_norm = predict_tAge(data, clocks)\n",
    "annot['AgeNorm'] = human_clock_age_norm\n",
    "annot = annot.drop('Unnamed: 0', 1)"
   ]
  },
  {
   "cell_type": "code",
   "execution_count": 56,
   "metadata": {},
   "outputs": [],
   "source": [
    "annot.to_csv('clocks/Human_clock_output.csv')"
   ]
  },
  {
   "cell_type": "markdown",
   "metadata": {},
   "source": [
    "# Explore clocks"
   ]
  },
  {
   "cell_type": "code",
   "execution_count": 88,
   "metadata": {},
   "outputs": [
    {
     "name": "stdout",
     "output_type": "stream",
     "text": [
      "Mouse aging genes 466\n",
      "Mouse pluripotency genes 45\n",
      "Human pluripotency genes 250\n",
      "Mouse|Human intersection of pluripotency genes 18\n"
     ]
    }
   ],
   "source": [
    "#we upload all the data\n",
    "model = joblib.load(open('clocks/Aging_mouse_norm.pkl', 'rb'))\n",
    "data = pd.read_csv('clocks/mouse_exprs_norm_final_29ds.csv', index_col=0)\n",
    "annot = pd.read_csv('clocks/mouse_data_annotation_29ds.csv', index_col=\"ID\")\n",
    "\n",
    "#mouse aging genes\n",
    "aging_genes_dataset = pd.read_csv('subdata/gene_atlas_aging.csv')\n",
    "aging_genes = aging_genes_dataset['Symbol'].tolist()\n",
    "\n",
    "#pluripotency genes\n",
    "mouse_pluri = pd.read_csv('subdata/pluripotency_genes_mouse.csv', index_col=0).index\n",
    "human_pluri = pd.read_csv('subdata/pluripotency_genes_human.csv', index_col=0).index\n",
    "\n",
    "print(\"Mouse aging genes %d\" % len(aging_genes))\n",
    "print(\"Mouse pluripotency genes %d\" % (len(mouse_pluri)))\n",
    "print(\"Human pluripotency genes %d\" % (len(human_pluri)))\n",
    "print(\"Mouse|Human intersection of pluripotency genes %d\" % (len(mouse_pluri.intersection(human_pluri))))"
   ]
  },
  {
   "cell_type": "code",
   "execution_count": 90,
   "metadata": {},
   "outputs": [
    {
     "name": "stdout",
     "output_type": "stream",
     "text": [
      "Manual prediction works: True\n",
      "Manual prediction works with nonzero features: True\n"
     ]
    }
   ],
   "source": [
    "#Test model\n",
    "##sklearn case\n",
    "pred1 = predict_tAge(data, model)\n",
    "\n",
    "##all features case\n",
    "coef = model.coef_\n",
    "itc = model.intercept_\n",
    "X = np.array(data[model.feature_names])\n",
    "pred2 = np.dot(coef, X.T) + itc\n",
    "\n",
    "##nonzero features case\n",
    "genes = np.array(model.feature_names)\n",
    "ids = np.nonzero(coef)[0]\n",
    "coef = coef[ids]\n",
    "genes = genes[ids]\n",
    "\n",
    "X = np.array(data[genes])\n",
    "pred3 = np.dot(coef, X.T) + itc\n",
    "\n",
    "print(\"Manual prediction works:\", np.all(np.isclose(pred1, pred2)))\n",
    "print(\"Manual prediction works with nonzero features:\", np.all(np.isclose(pred1, pred3)))"
   ]
  },
  {
   "cell_type": "code",
   "execution_count": 135,
   "metadata": {},
   "outputs": [
    {
     "name": "stdout",
     "output_type": "stream",
     "text": [
      "Max number of ENTREZ across keys: 1\n",
      "Intersection nonzero model with aging genes: 18 total,  ['Egr1', 'Adcy3', 'Itpr3', 'Efemp1', 'Cbx7', 'Bmp2', 'Sesn2', 'Bmp6', 'Gadd45a', 'Cacna1a', 'Fos', 'Gadd45g', 'Jun', 'Adcy7', 'Mmp9', 'Ptges', 'Sesn1', 'Igfbp3']\n",
      "Intersection nonzero model with mouse pluri genes: 1 total,  ['Alpl']\n",
      "Intersection nonzero model with human pluri genes: 6 total,  ['Med19', 'Klf4', 'Cnot3', 'Id2', 'Hspb1', 'Ezh2']\n"
     ]
    }
   ],
   "source": [
    "#create dataframe of coefficients\n",
    "raw = genes.tolist()\n",
    "etz = key2key(raw, 'entrezgene', 'symbol', 'mouse')\n",
    "genesym = np.array([etz[k] for k in raw])\n",
    "ids_sort = np.argsort(coef)[::-1]\n",
    "coef_sort = coef[ids_sort]\n",
    "gene_sort = genesym[ids_sort]\n",
    "\n",
    "wei = pd.DataFrame({'coef':coef_sort, 'gene':gene_sort, 'etz':np.array(raw)[ids_sort]})\n",
    "wei = wei.set_index('gene')\n",
    "\n",
    "wei_age = wei.index.intersection(aging_genes)\n",
    "wei_plu_m = wei.index.intersection(mouse_pluri)\n",
    "wei_plu_h = wei.index.intersection(human_pluri)\n",
    "\n",
    "print(\"Intersection nonzero model with aging genes: %d total, \" % len(wei_age), wei_age.tolist())\n",
    "print(\"Intersection nonzero model with mouse pluri genes: %d total, \" % len(wei_plu_m), wei_plu_m.tolist())\n",
    "print(\"Intersection nonzero model with human pluri genes: %d total, \" % len(wei_plu_h), wei_plu_h.tolist())"
   ]
  },
  {
   "cell_type": "code",
   "execution_count": 405,
   "metadata": {},
   "outputs": [
    {
     "data": {
      "application/vnd.jupyter.widget-view+json": {
       "model_id": "912918e6719e45e2a1d980bf3a9f27b8",
       "version_major": 2,
       "version_minor": 0
      },
      "text/plain": [
       "HBox(children=(HTML(value=''), FloatProgress(value=0.0, max=29.0), HTML(value='')))"
      ]
     },
     "metadata": {},
     "output_type": "display_data"
    },
    {
     "name": "stdout",
     "output_type": "stream",
     "text": [
      "\n"
     ]
    }
   ],
   "source": [
    "#check effect of pluripotency genes knocking out.\n",
    "\n",
    "knockout = ['Lyz2']#['Alpl', 'Ezh2', 'Med19', 'Klf4', 'Cnot3', 'Id2', 'Hspb1', 'Alpl',] #'Ezh2',\n",
    "wei_tmp = wei.copy()\n",
    "wei_tmp.loc[knockout, 'coef'] = 0\n",
    "coef_modified = wei_tmp.coef.values\n",
    "itc = model.intercept_\n",
    "\n",
    "effects = {}\n",
    "for ds in tqdm(annot.Dataset.unique()):\n",
    "    sub_id = annot[annot.Dataset == ds].index\n",
    "    sub_time = annot[annot.Dataset == ds].Time\n",
    "    sub_data = data.loc[sub_id]\n",
    "    sub_X = np.array(data.loc[sub_id][wei.etz.values])\n",
    "\n",
    "    ground_pred = predict_tAge(sub_data, model)\n",
    "    lm = scipy.stats.linregress(sub_time, ground_pred)\n",
    "    new_pred = np.dot(coef_modified, sub_X.T) + itc\n",
    "    \n",
    "    if lm.slope > 0:\n",
    "        continue\n",
    "    \n",
    "    test = scipy.stats.mannwhitneyu(ground_pred, new_pred)\n",
    "    pval = test.pvalue\n",
    "    pval_str = np.format_float_scientific(pval, 3)\n",
    "\n",
    "    effects[ds] = {}\n",
    "    effects[ds]['ds_pval'] = lm.pvalue\n",
    "    effects[ds]['time'] = sub_time\n",
    "    effects[ds]['gnd'] = ground_pred\n",
    "    effects[ds]['npl'] = new_pred\n",
    "    effects[ds]['pval'] = pval\n",
    "    effects[ds]['pval_str'] = pval_str\n",
    "    effects[ds]['max_effect'] = max(abs(new_pred - ground_pred)) / max(ground_pred) * 100\n",
    "\n",
    "passed = multipletests([v['ds_pval'] for k,v in effects.items()], 0.01, method='fdr_bh')[0]\n",
    "effects = {k:v for (k,v), p in zip(effects.items(), passed) if p }\n"
   ]
  },
  {
   "cell_type": "code",
   "execution_count": 406,
   "metadata": {},
   "outputs": [
    {
     "data": {
      "image/png": "[encoded data removed]",
      "text/plain": [
       "<Figure size 504x432 with 1 Axes>"
      ]
     },
     "metadata": {
      "needs_background": "light"
     },
     "output_type": "display_data"
    }
   ],
   "source": [
    "#plot significance of rejuvenation\n",
    "D, M = list(zip(*[(k, v['max_effect']) for k,v in effects.items()])) #get pvals\n",
    "D, M = list(zip(*[(x, y) for y,x in sorted(zip(M, D))])) #sort pvals\n",
    "\n",
    "thr = 0.05\n",
    "plt.figure(figsize=(7,6))\n",
    "plt.barh(D, M)\n",
    "plt.xlabel('Effect, %')\n",
    "plt.show()"
   ]
  },
  {
   "cell_type": "code",
   "execution_count": 407,
   "metadata": {},
   "outputs": [
    {
     "data": {
      "image/png": "[encoded data removed]",
      "text/plain": [
       "<Figure size 504x432 with 1 Axes>"
      ]
     },
     "metadata": {
      "needs_background": "light"
     },
     "output_type": "display_data"
    }
   ],
   "source": [
    "#plot significance of rejuvenation\n",
    "D, P = list(zip(*[(k, v['pval']) for k,v in effects.items()])) #get pvals\n",
    "D, P = list(zip(*[(x, y) for y,x in sorted(zip(P, D))])) #sort pvals\n",
    "\n",
    "thr = 0.05\n",
    "plt.figure(figsize=(7,6))\n",
    "plt.barh(D, -np.log10(P))\n",
    "plt.axvline(-np.log10(thr), color='red')\n",
    "plt.xlabel('-log10(p-value)')   \n",
    "plt.show()"
   ]
  },
  {
   "cell_type": "code",
   "execution_count": 408,
   "metadata": {},
   "outputs": [
    {
     "data": {
      "text/plain": [
       "<matplotlib.legend.Legend at 0x7f86ef7603d0>"
      ]
     },
     "execution_count": 408,
     "metadata": {},
     "output_type": "execute_result"
    },
    {
     "data": {
      "image/png": "[encoded data removed]",
      "text/plain": [
       "<Figure size 1440x360 with 10 Axes>"
      ]
     },
     "metadata": {
      "needs_background": "light"
     },
     "output_type": "display_data"
    }
   ],
   "source": [
    "fig, axes = plt.subplots(2, 5, figsize=(20, 5), sharex=True, sharey=True)\n",
    "for ax, (ds, v) in zip(axes.flatten(), effects.items()):\n",
    "    sub_time = effects[ds]['time']\n",
    "    ground_pred = effects[ds]['gnd']\n",
    "    new_pred = effects[ds]['npl']\n",
    "    pval = v['pval']\n",
    "\n",
    "    max_effect = max(abs(new_pred - ground_pred)) / max(ground_pred) * 100\n",
    "    \n",
    "    ax.set_title(\"%s, %s %%\" % (ds, str(round(max_effect, 2))))\n",
    "    ax.scatter(sub_time, ground_pred, label='Ground truth')\n",
    "    ax.scatter(sub_time, new_pred, label='No pluripotent genes')\n",
    "plt.legend()"
   ]
  },
  {
   "cell_type": "code",
   "execution_count": 361,
   "metadata": {},
   "outputs": [],
   "source": [
    "def fit_lm(sub_time, new_pred, ground_pred):\n",
    "    sub_time_ = sm.add_constant(sub_time, prepend=True)\n",
    "    mod = sm.OLS(new_pred - ground_pred, sub_time_)\n",
    "    res = mod.fit()\n",
    "    itc_m, slope_m = res.params.loc['const'], res.params.loc['Time']\n",
    "    itc_p, slope_p = res.pvalues.loc['const'], res.pvalues.loc['Time']\n",
    "    return itc_m, slope_m, itc_p, slope_p"
   ]
  },
  {
   "cell_type": "code",
   "execution_count": 368,
   "metadata": {},
   "outputs": [
    {
     "data": {
      "application/vnd.jupyter.widget-view+json": {
       "model_id": "6e75387a423c452fbc4bfa756b4ed2d2",
       "version_major": 2,
       "version_minor": 0
      },
      "text/plain": [
       "HBox(children=(HTML(value=''), FloatProgress(value=0.0, max=337.0), HTML(value='')))"
      ]
     },
     "metadata": {},
     "output_type": "display_data"
    },
    {
     "name": "stdout",
     "output_type": "stream",
     "text": [
      "\n"
     ]
    }
   ],
   "source": [
    "#Check effects for all genes\n",
    "approved_datasets = list(effects.keys())\n",
    "gene_effects = pd.DataFrame()\n",
    "for g in tqdm(wei.index.tolist()):\n",
    "    knockout = [g]\n",
    "    wei_tmp = wei.copy()\n",
    "    wei_tmp.loc[knockout, 'coef'] = 0\n",
    "    coef_modified = wei_tmp.coef.values\n",
    "    itc = model.intercept_\n",
    "\n",
    "    for ds in approved_datasets:\n",
    "        sub_id = annot[annot.Dataset == ds].index\n",
    "        sub_time = annot[annot.Dataset == ds].Time\n",
    "        sub_data = data.loc[sub_id]\n",
    "        sub_X = np.array(data.loc[sub_id][wei.etz.values])\n",
    "\n",
    "        ground_pred = predict_tAge(sub_data, model)\n",
    "        new_pred = np.dot(coef_modified, sub_X.T) + itc\n",
    "        itc_m, slope_m, itc_p, slope_p = fit_lm(sub_time, new_pred, ground_pred)\n",
    "\n",
    "        gene_effects = gene_effects.append(pd.Series({\"const\":itc_m, \"slope\":slope_m, \n",
    "                                                      \"p_const\":itc_p, \"p_slope\":slope_p,\n",
    "                                                      \"dataset\":ds}, \n",
    "                                                      name=g))\n",
    "\n",
    "#passed = multipletests([v['ds_pval'] for k,v in effects.items()], 0.01, method='fdr_bh')[0]\n",
    "#effects = {k:v for (k,v), p in zip(effects.items(), passed) if p }\n"
   ]
  },
  {
   "cell_type": "code",
   "execution_count": 376,
   "metadata": {},
   "outputs": [],
   "source": [
    "gene_effects['dataset'] = np.array(approved_datasets * len(wei))"
   ]
  },
  {
   "cell_type": "code",
   "execution_count": 379,
   "metadata": {},
   "outputs": [],
   "source": [
    "gene_effects['pass_const'] = multipletests(gene_effects['p_const'] , 0.05, method='fdr_bh')[0]\n",
    "gene_effects['pass_slope'] = multipletests(gene_effects['p_slope'] , 0.05, method='fdr_bh')[0]"
   ]
  },
  {
   "cell_type": "code",
   "execution_count": 381,
   "metadata": {},
   "outputs": [],
   "source": [
    "gef = gene_effects"
   ]
  },
  {
   "cell_type": "code",
   "execution_count": 399,
   "metadata": {},
   "outputs": [],
   "source": [
    "#gef.to_csv('tmp/gef.csv')"
   ]
  },
  {
   "cell_type": "code",
   "execution_count": 409,
   "metadata": {},
   "outputs": [],
   "source": [
    "su = gef[(gef.dataset=='GSE67462:OSKM') & \\\n",
    "        ((gef.pass_const==True) | (gef.pass_slope==True)) & \\\n",
    "        (gef.const > 0)]"
   ]
  },
  {
   "cell_type": "code",
   "execution_count": 411,
   "metadata": {},
   "outputs": [
    {
     "data": {
      "text/html": [
       "<div>\n",
       "<style scoped>\n",
       "    .dataframe tbody tr th:only-of-type {\n",
       "        vertical-align: middle;\n",
       "    }\n",
       "\n",
       "    .dataframe tbody tr th {\n",
       "        vertical-align: top;\n",
       "    }\n",
       "\n",
       "    .dataframe thead th {\n",
       "        text-align: right;\n",
       "    }\n",
       "</style>\n",
       "<table border=\"1\" class=\"dataframe\">\n",
       "  <thead>\n",
       "    <tr style=\"text-align: right;\">\n",
       "      <th></th>\n",
       "      <th>const</th>\n",
       "      <th>p_const</th>\n",
       "      <th>p_slope</th>\n",
       "      <th>slope</th>\n",
       "      <th>dataset</th>\n",
       "      <th>pass_const</th>\n",
       "      <th>pass_slope</th>\n",
       "    </tr>\n",
       "  </thead>\n",
       "  <tbody>\n",
       "    <tr>\n",
       "      <th>Casp6</th>\n",
       "      <td>0.000002</td>\n",
       "      <td>1.319000e-02</td>\n",
       "      <td>6.970373e-01</td>\n",
       "      <td>-3.167647e-08</td>\n",
       "      <td>GSE67462:OSKM</td>\n",
       "      <td>True</td>\n",
       "      <td>False</td>\n",
       "    </tr>\n",
       "    <tr>\n",
       "      <th>Lrrk2</th>\n",
       "      <td>0.000026</td>\n",
       "      <td>1.331420e-05</td>\n",
       "      <td>4.137027e-07</td>\n",
       "      <td>-3.574417e-06</td>\n",
       "      <td>GSE67462:OSKM</td>\n",
       "      <td>True</td>\n",
       "      <td>True</td>\n",
       "    </tr>\n",
       "    <tr>\n",
       "      <th>Prkrip1</th>\n",
       "      <td>0.000041</td>\n",
       "      <td>7.595643e-03</td>\n",
       "      <td>2.075347e-01</td>\n",
       "      <td>-1.796778e-06</td>\n",
       "      <td>GSE67462:OSKM</td>\n",
       "      <td>True</td>\n",
       "      <td>False</td>\n",
       "    </tr>\n",
       "    <tr>\n",
       "      <th>Zfp759</th>\n",
       "      <td>0.000093</td>\n",
       "      <td>2.438609e-07</td>\n",
       "      <td>6.624294e-01</td>\n",
       "      <td>-4.641619e-07</td>\n",
       "      <td>GSE67462:OSKM</td>\n",
       "      <td>True</td>\n",
       "      <td>False</td>\n",
       "    </tr>\n",
       "    <tr>\n",
       "      <th>Cirbp</th>\n",
       "      <td>0.000098</td>\n",
       "      <td>1.082654e-01</td>\n",
       "      <td>2.085300e-03</td>\n",
       "      <td>-2.217902e-05</td>\n",
       "      <td>GSE67462:OSKM</td>\n",
       "      <td>False</td>\n",
       "      <td>True</td>\n",
       "    </tr>\n",
       "    <tr>\n",
       "      <th>...</th>\n",
       "      <td>...</td>\n",
       "      <td>...</td>\n",
       "      <td>...</td>\n",
       "      <td>...</td>\n",
       "      <td>...</td>\n",
       "      <td>...</td>\n",
       "      <td>...</td>\n",
       "    </tr>\n",
       "    <tr>\n",
       "      <th>Postn</th>\n",
       "      <td>0.029931</td>\n",
       "      <td>7.693907e-12</td>\n",
       "      <td>1.704802e-02</td>\n",
       "      <td>-4.070063e-04</td>\n",
       "      <td>GSE67462:OSKM</td>\n",
       "      <td>True</td>\n",
       "      <td>False</td>\n",
       "    </tr>\n",
       "    <tr>\n",
       "      <th>Clec7a</th>\n",
       "      <td>0.031072</td>\n",
       "      <td>1.607044e-14</td>\n",
       "      <td>8.720538e-01</td>\n",
       "      <td>1.633177e-05</td>\n",
       "      <td>GSE67462:OSKM</td>\n",
       "      <td>True</td>\n",
       "      <td>False</td>\n",
       "    </tr>\n",
       "    <tr>\n",
       "      <th>Fn1</th>\n",
       "      <td>0.032665</td>\n",
       "      <td>2.853705e-19</td>\n",
       "      <td>5.110954e-01</td>\n",
       "      <td>3.215071e-05</td>\n",
       "      <td>GSE67462:OSKM</td>\n",
       "      <td>True</td>\n",
       "      <td>False</td>\n",
       "    </tr>\n",
       "    <tr>\n",
       "      <th>Ezh2</th>\n",
       "      <td>0.055118</td>\n",
       "      <td>2.233382e-19</td>\n",
       "      <td>8.777657e-03</td>\n",
       "      <td>2.405258e-04</td>\n",
       "      <td>GSE67462:OSKM</td>\n",
       "      <td>True</td>\n",
       "      <td>True</td>\n",
       "    </tr>\n",
       "    <tr>\n",
       "      <th>Nrep</th>\n",
       "      <td>0.122939</td>\n",
       "      <td>2.453828e-21</td>\n",
       "      <td>2.193817e-03</td>\n",
       "      <td>-4.775850e-04</td>\n",
       "      <td>GSE67462:OSKM</td>\n",
       "      <td>True</td>\n",
       "      <td>True</td>\n",
       "    </tr>\n",
       "  </tbody>\n",
       "</table>\n",
       "<p>159 rows × 7 columns</p>\n",
       "</div>"
      ],
      "text/plain": [
       "            const       p_const       p_slope         slope        dataset  \\\n",
       "Casp6    0.000002  1.319000e-02  6.970373e-01 -3.167647e-08  GSE67462:OSKM   \n",
       "Lrrk2    0.000026  1.331420e-05  4.137027e-07 -3.574417e-06  GSE67462:OSKM   \n",
       "Prkrip1  0.000041  7.595643e-03  2.075347e-01 -1.796778e-06  GSE67462:OSKM   \n",
       "Zfp759   0.000093  2.438609e-07  6.624294e-01 -4.641619e-07  GSE67462:OSKM   \n",
       "Cirbp    0.000098  1.082654e-01  2.085300e-03 -2.217902e-05  GSE67462:OSKM   \n",
       "...           ...           ...           ...           ...            ...   \n",
       "Postn    0.029931  7.693907e-12  1.704802e-02 -4.070063e-04  GSE67462:OSKM   \n",
       "Clec7a   0.031072  1.607044e-14  8.720538e-01  1.633177e-05  GSE67462:OSKM   \n",
       "Fn1      0.032665  2.853705e-19  5.110954e-01  3.215071e-05  GSE67462:OSKM   \n",
       "Ezh2     0.055118  2.233382e-19  8.777657e-03  2.405258e-04  GSE67462:OSKM   \n",
       "Nrep     0.122939  2.453828e-21  2.193817e-03 -4.775850e-04  GSE67462:OSKM   \n",
       "\n",
       "         pass_const  pass_slope  \n",
       "Casp6          True       False  \n",
       "Lrrk2          True        True  \n",
       "Prkrip1        True       False  \n",
       "Zfp759         True       False  \n",
       "Cirbp         False        True  \n",
       "...             ...         ...  \n",
       "Postn          True       False  \n",
       "Clec7a         True       False  \n",
       "Fn1            True       False  \n",
       "Ezh2           True        True  \n",
       "Nrep           True        True  \n",
       "\n",
       "[159 rows x 7 columns]"
      ]
     },
     "execution_count": 411,
     "metadata": {},
     "output_type": "execute_result"
    }
   ],
   "source": [
    "su.sort_values('const')"
   ]
  }
 ],
 "metadata": {
  "interpreter": {
   "hash": "14a6abd83cba0be2685bb8a7750510f6778c00d77fda6c7e658c25d915f5f57b"
  },
  "kernelspec": {
   "display_name": "Python 3.7.6 64-bit ('base': conda)",
   "language": "python",
   "name": "python3"
  },
  "language_info": {
   "codemirror_mode": {
    "name": "ipython",
    "version": 3
   },
   "file_extension": ".py",
   "mimetype": "text/x-python",
   "name": "python",
   "nbconvert_exporter": "python",
   "pygments_lexer": "ipython3",
   "version": "3.7.6"
  },
  "orig_nbformat": 4
 },
 "nbformat": 4,
 "nbformat_minor": 2
}
