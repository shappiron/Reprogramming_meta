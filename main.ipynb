{
 "cells": [
  {
   "cell_type": "code",
   "execution_count": 1,
   "metadata": {
    "ExecuteTime": {
     "end_time": "2021-08-23T09:54:56.481724Z",
     "start_time": "2021-08-23T09:54:55.365724Z"
    }
   },
   "outputs": [],
   "source": [
    "import numpy as np\n",
    "import pandas as pd\n",
    "\n",
    "from matplotlib import pyplot as plt\n",
    "import seaborn as sns\n",
    "\n",
    "import os\n",
    "from glob import glob\n",
    "import re\n",
    "import mygene\n",
    "from tqdm.notebook import tqdm\n",
    "from copy import deepcopy"
   ]
  },
  {
   "cell_type": "code",
   "execution_count": 2,
   "metadata": {
    "ExecuteTime": {
     "end_time": "2021-08-23T09:54:57.120201Z",
     "start_time": "2021-08-23T09:54:57.082488Z"
    },
    "code_folding": [
     4,
     13,
     30,
     51,
     60,
     65
    ]
   },
   "outputs": [],
   "source": [
    "def mylog(df):\n",
    "    return np.log2(df + 1.0)\n",
    "\n",
    "# save structure\n",
    "def save_structure(ultradf, path='test.json'):\n",
    "    ultrasave = deepcopy(ultradf)\n",
    "    for e in ultrasave.keys():\n",
    "        ultrasave[e]['data'] = ultrasave[e]['data'].reset_index().to_csv()\n",
    "        ultrasave[e]['pheno'] = ultrasave[e]['pheno'].to_csv()\n",
    "    with open(path, 'w+') as f:\n",
    "        json.dump(ultrasave, f)\n",
    "        \n",
    "# save structure\n",
    "def load_structure(path='ultradf.json'):\n",
    "    import sys\n",
    "    if sys.version_info[0] < 3: \n",
    "        from StringIO import StringIO #convert string to IO monade\n",
    "    else:\n",
    "        from io import StringIO\n",
    "    #load after all\n",
    "    with open(path, 'r') as f:\n",
    "        ultradf = json.load(f)\n",
    "        \n",
    "    for e in ultradf.keys():\n",
    "        ultradf[e]['data'] = pd.read_csv(StringIO(ultradf[e]['data']), index_col=0).set_index('index')\n",
    "        ultradf[e]['pheno'] = pd.read_csv(StringIO(ultradf[e]['pheno']), index_col=0)\n",
    "    \n",
    "    return ultradf\n",
    "        \n",
    "        \n",
    "def key2ENTREZ(df, key, species='mouse'):\n",
    "    df = df.copy()\n",
    "    raw = df.index.tolist()\n",
    "    mg = mygene.MyGeneInfo()\n",
    "    query = mg.querymany(raw, scopes=key, species=species, verbose=False)   \n",
    "\n",
    "    ref2entrez = {r:[] for r in raw}\n",
    "    for r, q in zip(raw, query):\n",
    "        if 'entrezgene' in q:\n",
    "            ref2entrez[r].append(q['entrezgene'])\n",
    "        else:\n",
    "            ref2entrez[r] = None\n",
    "\n",
    "    print('Max number of ENTREZ across keys:', \n",
    "          max([len(ref2entrez[r]) for r in ref2entrez.keys() if ref2entrez[r] is not None]))\n",
    "\n",
    "    ref2entrez = {k:v[0] for k,v in ref2entrez.items() if (v is not None) and (len(v)==1)}\n",
    "    df.index = df.index.map(ref2entrez, na_action=None)\n",
    "    df = df[~df.index.isna()]\n",
    "    return df\n",
    "\n",
    "def log_aggregation(df, method='mean'):\n",
    "    tmp = (2**df.copy())\n",
    "    if method=='mean':\n",
    "        tmp = tmp.groupby(tmp.index).agg('mean')\n",
    "    elif method=='sum':\n",
    "        tmp = tmp.groupby(tmp.index).agg('sum')\n",
    "    tmp = np.log2(tmp.copy())\n",
    "    return tmp\n",
    "\n",
    "def scale(df):\n",
    "    tmp = df.copy()\n",
    "    tmp = (tmp - tmp.mean()) / tmp.std()\n",
    "    return tmp\n",
    "\n",
    "def quantile_normalize(df):\n",
    "    \"\"\"\n",
    "    input: dataframe with numerical columns\n",
    "    output: dataframe with quantile normalized values\n",
    "    \"\"\"\n",
    "    df = df.copy()\n",
    "    df_sorted = pd.DataFrame(np.sort(df.values,\n",
    "                                     axis=0), \n",
    "                             index=df.index, \n",
    "                             columns=df.columns)\n",
    "    df_mean = df_sorted.mean(axis=1)\n",
    "    df_mean.index = np.arange(1, len(df_mean) + 1)\n",
    "    df_qn = df.rank(method=\"min\").stack().astype(int).map(df_mean).unstack()\n",
    "    return(df_qn)"
   ]
  },
  {
   "cell_type": "markdown",
   "metadata": {},
   "source": [
    "# get data"
   ]
  },
  {
   "cell_type": "code",
   "execution_count": 3,
   "metadata": {
    "ExecuteTime": {
     "end_time": "2021-08-23T09:54:59.136183Z",
     "start_time": "2021-08-23T09:54:58.080697Z"
    }
   },
   "outputs": [],
   "source": [
    "U = load_structure('../Data/ultradf_v1.json')"
   ]
  },
  {
   "cell_type": "code",
   "execution_count": 4,
   "metadata": {
    "ExecuteTime": {
     "end_time": "2021-08-23T09:54:59.915975Z",
     "start_time": "2021-08-23T09:54:59.913020Z"
    }
   },
   "outputs": [],
   "source": [
    "key = list(U.keys())[0]\n",
    "df, pheno, time = U[key]['data'], U[key]['pheno'], U[key]['time']"
   ]
  },
  {
   "cell_type": "code",
   "execution_count": 29,
   "metadata": {
    "ExecuteTime": {
     "end_time": "2021-08-20T14:34:08.522758Z",
     "start_time": "2021-08-20T14:34:08.048918Z"
    }
   },
   "outputs": [],
   "source": [
    "# from scipy.stats import linregress\n",
    "# import statsmodels.api as sm"
   ]
  },
  {
   "cell_type": "markdown",
   "metadata": {},
   "source": [
    "# regression analysis"
   ]
  },
  {
   "cell_type": "code",
   "execution_count": 5,
   "metadata": {
    "ExecuteTime": {
     "end_time": "2021-08-23T09:55:04.353226Z",
     "start_time": "2021-08-23T09:55:04.301315Z"
    }
   },
   "outputs": [],
   "source": [
    "from scipy.stats import linregress\n",
    "from statsmodels.stats.multitest import multipletests as fdr_correction\n",
    "from scipy.stats import spearmanr\n",
    "\n",
    "def regression_analysis(data, time, fdr_thr=0.05):\n",
    "    #make linear regression for each gene\n",
    "    mean, std, intercept, slope, intercept_stderr, slope_stderr, p_value = [[] for i in range(7)]\n",
    "    for g in tqdm(data.index):\n",
    "        raw = data.loc[g]\n",
    "        y = raw.values\n",
    "        \n",
    "        res = linregress(time, y) #<--- regression here\n",
    "        \n",
    "        #fill containers with metrics\n",
    "        mean.append(np.mean(y))\n",
    "        std.append(np.std(y, ddof=1)) \n",
    "        intercept.append(res.intercept) \n",
    "        slope.append(res.slope) \n",
    "        intercept_stderr.append(res.intercept_stderr) \n",
    "        slope_stderr.append(res.stderr) \n",
    "        p_value.append(res.pvalue)\n",
    "        \n",
    "    #create a result dataframe\n",
    "    res_df = pd.DataFrame({'mean':mean, \n",
    "                           'std':std,\n",
    "                           'intercept':intercept,\n",
    "                           'slope':slope,\n",
    "                           'intercept_stderr':intercept_stderr,\n",
    "                           'slope_stderr':slope_stderr,\n",
    "                           #'F_stat':[],\n",
    "                           'p_value':p_value,\n",
    "                           }, index= data.index)\n",
    "\n",
    "    #Multiple testing correction\n",
    "    passed, p_adj, _, _ = fdr_correction(res_df['p_value'], alpha=fdr_thr, method='fdr_bh')\n",
    "    res_df['Passed'] = passed\n",
    "    res_df['p_adj'] = p_adj\n",
    "    return res_df"
   ]
  },
  {
   "cell_type": "code",
   "execution_count": 6,
   "metadata": {
    "ExecuteTime": {
     "end_time": "2021-08-23T09:57:17.181836Z",
     "start_time": "2021-08-23T09:55:05.165806Z"
    },
    "scrolled": true
   },
   "outputs": [
    {
     "name": "stdout",
     "output_type": "stream",
     "text": [
      "Process GSE67462$OSKM\n"
     ]
    },
    {
     "data": {
      "application/vnd.jupyter.widget-view+json": {
       "model_id": "07caa8113cce4277b3aa17db18b25c8e",
       "version_major": 2,
       "version_minor": 0
      },
      "text/plain": [
       "HBox(children=(HTML(value=''), FloatProgress(value=0.0, max=20479.0), HTML(value='')))"
      ]
     },
     "metadata": {},
     "output_type": "display_data"
    },
    {
     "name": "stdout",
     "output_type": "stream",
     "text": [
      "\n",
      "Process GSE38509$OSKM\n"
     ]
    },
    {
     "data": {
      "application/vnd.jupyter.widget-view+json": {
       "model_id": "fa7ba0663659416aa6c53dcef70bf338",
       "version_major": 2,
       "version_minor": 0
      },
      "text/plain": [
       "HBox(children=(HTML(value=''), FloatProgress(value=0.0, max=20955.0), HTML(value='')))"
      ]
     },
     "metadata": {},
     "output_type": "display_data"
    },
    {
     "name": "stdout",
     "output_type": "stream",
     "text": [
      "\n",
      "Process GSE38509$OSK\n"
     ]
    },
    {
     "data": {
      "application/vnd.jupyter.widget-view+json": {
       "model_id": "d02df1a12cef431fb203431c700db835",
       "version_major": 2,
       "version_minor": 0
      },
      "text/plain": [
       "HBox(children=(HTML(value=''), FloatProgress(value=0.0, max=20955.0), HTML(value='')))"
      ]
     },
     "metadata": {},
     "output_type": "display_data"
    },
    {
     "name": "stdout",
     "output_type": "stream",
     "text": [
      "\n",
      "Process GSE38509$GFP\n"
     ]
    },
    {
     "data": {
      "application/vnd.jupyter.widget-view+json": {
       "model_id": "ab6d85c860e74a569127f072786aa5a7",
       "version_major": 2,
       "version_minor": 0
      },
      "text/plain": [
       "HBox(children=(HTML(value=''), FloatProgress(value=0.0, max=20955.0), HTML(value='')))"
      ]
     },
     "metadata": {},
     "output_type": "display_data"
    },
    {
     "name": "stdout",
     "output_type": "stream",
     "text": [
      "\n",
      "Process GSE116309$OKMS\n"
     ]
    },
    {
     "data": {
      "application/vnd.jupyter.widget-view+json": {
       "model_id": "ea392a745ab640faa20563a7512661ea",
       "version_major": 2,
       "version_minor": 0
      },
      "text/plain": [
       "HBox(children=(HTML(value=''), FloatProgress(value=0.0, max=20955.0), HTML(value='')))"
      ]
     },
     "metadata": {},
     "output_type": "display_data"
    },
    {
     "name": "stdout",
     "output_type": "stream",
     "text": [
      "\n",
      "Process GSE116309$OK+9MS\n"
     ]
    },
    {
     "data": {
      "application/vnd.jupyter.widget-view+json": {
       "model_id": "c8e51fd5028d4e798eac8e94173494df",
       "version_major": 2,
       "version_minor": 0
      },
      "text/plain": [
       "HBox(children=(HTML(value=''), FloatProgress(value=0.0, max=20955.0), HTML(value='')))"
      ]
     },
     "metadata": {},
     "output_type": "display_data"
    },
    {
     "name": "stdout",
     "output_type": "stream",
     "text": [
      "\n",
      "Process GSE46321$C/EBPα+ OSKM\n"
     ]
    },
    {
     "data": {
      "application/vnd.jupyter.widget-view+json": {
       "model_id": "1a2452bc6a3540d68dbb65ff0250b3e2",
       "version_major": 2,
       "version_minor": 0
      },
      "text/plain": [
       "HBox(children=(HTML(value=''), FloatProgress(value=0.0, max=22036.0), HTML(value='')))"
      ]
     },
     "metadata": {},
     "output_type": "display_data"
    },
    {
     "name": "stdout",
     "output_type": "stream",
     "text": [
      "\n",
      "Process GSE46321$C/EBPα- OSKM\n"
     ]
    },
    {
     "data": {
      "application/vnd.jupyter.widget-view+json": {
       "model_id": "87133f9ce70c4d2195e18bcf09d1a4f7",
       "version_major": 2,
       "version_minor": 0
      },
      "text/plain": [
       "HBox(children=(HTML(value=''), FloatProgress(value=0.0, max=22036.0), HTML(value='')))"
      ]
     },
     "metadata": {},
     "output_type": "display_data"
    },
    {
     "name": "stdout",
     "output_type": "stream",
     "text": [
      "\n",
      "Process GSE10871$OSKM\n"
     ]
    },
    {
     "data": {
      "application/vnd.jupyter.widget-view+json": {
       "model_id": "75c70dab2b9c4e5b97da31d9c2a1d4fd",
       "version_major": 2,
       "version_minor": 0
      },
      "text/plain": [
       "HBox(children=(HTML(value=''), FloatProgress(value=0.0, max=20887.0), HTML(value='')))"
      ]
     },
     "metadata": {},
     "output_type": "display_data"
    },
    {
     "name": "stdout",
     "output_type": "stream",
     "text": [
      "\n",
      "Process GSE21757$OKMS\n"
     ]
    },
    {
     "data": {
      "application/vnd.jupyter.widget-view+json": {
       "model_id": "85b66ff89932476babe119016985eac3",
       "version_major": 2,
       "version_minor": 0
      },
      "text/plain": [
       "HBox(children=(HTML(value=''), FloatProgress(value=0.0, max=16480.0), HTML(value='')))"
      ]
     },
     "metadata": {},
     "output_type": "display_data"
    },
    {
     "name": "stdout",
     "output_type": "stream",
     "text": [
      "\n",
      "Process GSE103979$Oct4+SK\n"
     ]
    },
    {
     "data": {
      "application/vnd.jupyter.widget-view+json": {
       "model_id": "265f4f2ea3b344fdb32fe36091f5c44d",
       "version_major": 2,
       "version_minor": 0
      },
      "text/plain": [
       "HBox(children=(HTML(value=''), FloatProgress(value=0.0, max=12368.0), HTML(value='')))"
      ]
     },
     "metadata": {},
     "output_type": "display_data"
    },
    {
     "name": "stdout",
     "output_type": "stream",
     "text": [
      "\n",
      "Process GSE103979$Oct6+SK\n"
     ]
    },
    {
     "data": {
      "application/vnd.jupyter.widget-view+json": {
       "model_id": "269e863880a04c8a8ce6fe669470b2a0",
       "version_major": 2,
       "version_minor": 0
      },
      "text/plain": [
       "HBox(children=(HTML(value=''), FloatProgress(value=0.0, max=12368.0), HTML(value='')))"
      ]
     },
     "metadata": {},
     "output_type": "display_data"
    },
    {
     "name": "stdout",
     "output_type": "stream",
     "text": [
      "\n",
      "Process GSE103979$Oct4+defSox+K\n"
     ]
    },
    {
     "data": {
      "application/vnd.jupyter.widget-view+json": {
       "model_id": "ede9020e72f24b949c72469cd5422075",
       "version_major": 2,
       "version_minor": 0
      },
      "text/plain": [
       "HBox(children=(HTML(value=''), FloatProgress(value=0.0, max=12368.0), HTML(value='')))"
      ]
     },
     "metadata": {},
     "output_type": "display_data"
    },
    {
     "name": "stdout",
     "output_type": "stream",
     "text": [
      "\n",
      "Process GSE103979$GFP\n"
     ]
    },
    {
     "data": {
      "application/vnd.jupyter.widget-view+json": {
       "model_id": "05aec437b3a340f0bddc1269feb46ef4",
       "version_major": 2,
       "version_minor": 0
      },
      "text/plain": [
       "HBox(children=(HTML(value=''), FloatProgress(value=0.0, max=12368.0), HTML(value='')))"
      ]
     },
     "metadata": {},
     "output_type": "display_data"
    },
    {
     "name": "stdout",
     "output_type": "stream",
     "text": [
      "\n"
     ]
    }
   ],
   "source": [
    "#conduct regression analysis for all datasets\n",
    "for k in U.keys():\n",
    "    print('Process %s' % k)\n",
    "    df = U[k]['data']\n",
    "    time = U[k]['time']\n",
    "    U[k]['analysis'] = regression_analysis(df, time)"
   ]
  },
  {
   "cell_type": "code",
   "execution_count": 404,
   "metadata": {
    "ExecuteTime": {
     "end_time": "2021-08-23T16:03:36.158831Z",
     "start_time": "2021-08-23T16:03:36.154964Z"
    }
   },
   "outputs": [],
   "source": [
    "from scipy.stats import pearsonr\n",
    "from scipy.stats import spearmanr"
   ]
  },
  {
   "cell_type": "code",
   "execution_count": 405,
   "metadata": {
    "ExecuteTime": {
     "end_time": "2021-08-23T16:03:37.852946Z",
     "start_time": "2021-08-23T16:03:37.826233Z"
    }
   },
   "outputs": [],
   "source": [
    "#{k:U[k]['analysis'][['slope', 'slope_stderr', 'p_value', 'p_adj']] for k in U.keys()}\n",
    "\n",
    "#This function builds paired correlation matrix of logFC values\n",
    "#for the specified number of top significant genes from matrices\n",
    "\n",
    "def calculate_paired_correlation(U, top_genes=False, corr_method='spearman'):\n",
    "    \"\"\" \n",
    "    U - container with data;\n",
    "    \"\"\"\n",
    "    #gather data from the container to matrices of the same factor\n",
    "    slope_matrix = pd.DataFrame({k:U[k]['analysis']['slope'] for k in U.keys()})\n",
    "    pval_matrix = pd.DataFrame({k:U[k]['analysis']['p_value'] for k in U.keys()})\n",
    "\n",
    "    cols = slope_matrix.columns\n",
    "    N = slope_matrix.shape[1] #number of columns\n",
    "    corr_dict = {'corr':np.eye(N),\n",
    "                 'pval':np.eye(N),\n",
    "                 'FDR':np.eye(N),\n",
    "                 }\n",
    "    for i, c1 in enumerate(cols):\n",
    "        for j, c2 in enumerate(cols[i+1:], start=i+1):\n",
    "            slopes_pair = slope_matrix[[c1, c2]].dropna(0)\n",
    "            pval_pair = pval_matrix.loc[slopes_pair.index, [c1, c2]]\n",
    "\n",
    "            # extract top genes from each of two dataset -> union them -> slice this union from the original one\n",
    "            if (top_genes!=False) | (top_genes!=0):\n",
    "                top1 = pval_pair.iloc[:, 0].sort_values()[:top_genes].index\n",
    "                top2 = pval_pair.iloc[:, 1].sort_values()[:top_genes].index\n",
    "                top_union = top1.union(top2) \n",
    "                slopes_pair = slopes_pair.loc[top_union]\n",
    "\n",
    "            if corr_method == 'spearman':\n",
    "                coef, pval = spearmanr(slopes_pair)\n",
    "            elif corr_method == 'pearson':\n",
    "                coef, pval = pearsonr(slopes_pair)\n",
    "            else:\n",
    "                raise NotImplementedError\n",
    "\n",
    "            pval = pval if pval!=0. else 1e-100 \n",
    "\n",
    "            corr_dict['corr'][i,j] = corr_dict['corr'][j,i] = coef\n",
    "            corr_dict['pval'][i,j] = corr_dict['pval'][j,i] = pval\n",
    "            #corr_dict['Zscore'][i,j] = corr_dict['Zscore'][j,i] = -np.log10(pval) * np.sign(coef)\n",
    "        \n",
    "    #FDR correction of p-values\n",
    "    triu_pvals = corr_dict['pval'][np.triu_indices(N, k=1)]\n",
    "    _, p_adj, _, _ = fdr_correction(triu_pvals, method='fdr_bh')\n",
    "    corr_dict['FDR'][np.triu_indices(N, k=1)] = p_adj\n",
    "    corr_dict['FDR'] += corr_dict['FDR'].T\n",
    "    np.fill_diagonal(corr_dict['FDR'], 1.0)\n",
    "        \n",
    "    #convert to DataFrame\n",
    "    corr_dict['corr'] = pd.DataFrame(corr_dict['corr'], columns=cols, index=cols)\n",
    "    corr_dict['pval'] = pd.DataFrame(corr_dict['pval'], columns=cols, index=cols)\n",
    "    corr_dict['FDR'] = pd.DataFrame(corr_dict['FDR'], columns=cols, index=cols)\n",
    "    return corr_dict\n",
    "\n",
    "\n"
   ]
  },
  {
   "cell_type": "code",
   "execution_count": 406,
   "metadata": {
    "ExecuteTime": {
     "end_time": "2021-08-23T16:03:39.653041Z",
     "start_time": "2021-08-23T16:03:39.642768Z"
    },
    "code_folding": []
   },
   "outputs": [],
   "source": [
    "#This script runs loop for the best number of top genes\n",
    "def find_best_top_genes(U, number_genes_vector, \n",
    "                        FDR_thr=0.05, corr_thr=0.1, corr_method='spearman', plot=True):\n",
    "    \"\"\" \n",
    "    U - container with data;\n",
    "    number_genes_vector::[Int] - 1d vector with different number of top genes\n",
    "    \"\"\"\n",
    "    #compute correlation dict for all genes\n",
    "    complete_cor_dict = calculate_paired_correlation(U, top_genes=False, corr_method=corr_method)\n",
    "\n",
    "    N = complete_cor_dict['FDR'].shape[0] #number of datasets\n",
    "    FDR, COEF, BOTH = [], [], []\n",
    "    for m in tqdm(number_genes_vector, desc='Calculate correlation of top genes:'):\n",
    "        corr_dict = calculate_paired_correlation(U, top_genes=m, corr_method=corr_method)\n",
    "\n",
    "        FDR.append((corr_dict['FDR'] < FDR_thr).sum().sum()/2 - N)\n",
    "        COEF.append((abs(corr_dict['corr']) > corr_thr).sum().sum()/2 - N)\n",
    "        BOTH.append(((corr_dict['FDR'] < FDR_thr) & (abs(corr_dict['corr']) > corr_thr)).sum().sum()/2 - N)\n",
    "\n",
    "    #compute correlation dict for best number of top genes\n",
    "    best_top_number = number_genes_vector[np.argmax(BOTH)]\n",
    "    print(\"Optimal number of top genes:\", best_top_number)\n",
    "    optimal_corr_dict = calculate_paired_correlation(U, top_genes=best_top_number, corr_method=corr_method)\n",
    "\n",
    "    if plot:\n",
    "        plt.figure(figsize=(10,7))\n",
    "        plt.plot(number_genes_vector, FDR, label='P.adjust < %.2f' % FDR_thr, lw=1.5)\n",
    "        plt.plot(number_genes_vector, COEF, label='Coeff > %.2f' % corr_thr, lw=1.5)\n",
    "        plt.plot(number_genes_vector, BOTH, label='Both', lw=1.5)\n",
    "        plt.axvline(best_top_number, color='grey', ls='--')\n",
    "        plt.title('Top genes plot', fontsize=16)\n",
    "        plt.ylabel('Number of significant correlations', fontsize=14)\n",
    "        plt.xlabel('Number of top genes', fontsize=14)\n",
    "        plt.legend(fontsize=14)\n",
    "        plt.grid(alpha=0.3)\n",
    "        plt.show()\n",
    "        \n",
    "    return complete_cor_dict, optimal_corr_dict, best_top_number"
   ]
  },
  {
   "cell_type": "code",
   "execution_count": 407,
   "metadata": {
    "ExecuteTime": {
     "end_time": "2021-08-23T16:04:00.978398Z",
     "start_time": "2021-08-23T16:03:41.021197Z"
    }
   },
   "outputs": [
    {
     "data": {
      "application/vnd.jupyter.widget-view+json": {
       "model_id": "9844ff7411b74cdbb14c153d49c0a85d",
       "version_major": 2,
       "version_minor": 0
      },
      "text/plain": [
       "HBox(children=(HTML(value='Calculate correlation of top genes:'), FloatProgress(value=0.0, max=19.0), HTML(val…"
      ]
     },
     "metadata": {},
     "output_type": "display_data"
    },
    {
     "name": "stdout",
     "output_type": "stream",
     "text": [
      "\n",
      "Optimal number of top genes: 350\n"
     ]
    },
    {
     "data": {
      "image/png": "[encoded data removed]",
      "text/plain": [
       "<Figure size 720x504 with 1 Axes>"
      ]
     },
     "metadata": {
      "needs_background": "light"
     },
     "output_type": "display_data"
    }
   ],
   "source": [
    "number_genes_vector = np.arange(50, 1000, 50)\n",
    "\n",
    "complete_cor_dict, optimal_corr_dict, best_top_number = find_best_top_genes(U, number_genes_vector, \n",
    "                        FDR_thr=0.05, corr_thr=0.1, corr_method='spearman', plot=True)"
   ]
  },
  {
   "cell_type": "code",
   "execution_count": 408,
   "metadata": {
    "ExecuteTime": {
     "end_time": "2021-08-23T16:04:08.744933Z",
     "start_time": "2021-08-23T16:04:08.721948Z"
    }
   },
   "outputs": [],
   "source": [
    "from scipy.optimize import minimize\n",
    "#This function returns sum of residuals over given normalization coefficients\n",
    "def deming_sum(k_no_first):\n",
    "    count = 0\n",
    "    k = np.zeros(N)\n",
    "    k[0] = 1\n",
    "    k[1:] = k_no_first\n",
    "    res = 0\n",
    "    for i, c1 in enumerate(cols):\n",
    "        for j, c2 in enumerate(cols[i+1:], start=i+1):\n",
    "            common_genes = paired_genes[c1][c2]\n",
    "            #if both FDR and Corr conditions were not satisfied - skip\n",
    "            if corr_sign_matrix.loc[c1, c2] == 0.:\n",
    "                continue\n",
    "            ai = slope_matrix.loc[common_genes, c1]\n",
    "            aj = slope_matrix.loc[common_genes, c2]\n",
    "            assert ~ai.isna().any() or ~aj.isna().any(), 'NA in series'\n",
    "            #if correlation is negative - reverse the sign for the correct\n",
    "            #functional computation\n",
    "            if corr_sign_matrix.loc[c1, c2] == -1.:\n",
    "                aj = -1 * aj \n",
    "\n",
    "            res += sum(\n",
    "              (((aj - (k[j]/k[i])*ai)**2)*((ai - (k[i]/k[j])*aj)**2))/ \\\n",
    "              (((aj - (k[j]/k[i])*ai)**2)+((ai - (k[i]/k[j])*aj)**2))) / len(common_genes)\n",
    "            count += 1\n",
    "    return res / count\n",
    "\n",
    "#This functions performs multiple Deming regression using logFC matrix and parameters for filltering:\n",
    "#number of genes, threshold for FDR and threshold for correlation coefficient\n",
    "def deming_minimizer(U, optimal_corr_dict, top_genes, corr_thr=0.1, FDR_thr=0.05):\n",
    "    #gather data from the container to matrices of the same factor\n",
    "    slope_matrix = pd.DataFrame({k:U[k]['analysis']['slope'] for k in U.keys()})\n",
    "    pval_matrix = pd.DataFrame({k:U[k]['analysis']['p_value'] for k in U.keys()})\n",
    "    \n",
    "    #add matrix of passed pairs of datasets according to criteria\n",
    "    corr_sign_matrix = ((optimal_corr_dict['FDR'] < FDR_thr) \\\n",
    "                    & (abs(optimal_corr_dict['corr']) > corr_thr)) \\\n",
    "                    * np.sign(optimal_corr_dict['corr'])\n",
    "\n",
    "    #fill container for common genes by two datasets keys\n",
    "    cols = slope_matrix.columns\n",
    "    N = slope_matrix.shape[1] #number of columns\n",
    "    paired_genes = {c:{} for c in cols} \n",
    "    for i, c1 in enumerate(cols):\n",
    "        for j, c2 in enumerate(cols[i+1:], start=i+1):\n",
    "            slopes_pair = slope_matrix[[c1, c2]].dropna(0)\n",
    "            pval_pair = pval_matrix.loc[slopes_pair.index, [c1, c2]]\n",
    "            # extract top genes from each of two dataset -> \n",
    "            # union them -> slice this union from the original one\n",
    "            if (top_genes!=False) | (top_genes!=0):\n",
    "                top1 = pval_pair.iloc[:, 0].sort_values()[:top_genes].index\n",
    "                top2 = pval_pair.iloc[:, 1].sort_values()[:top_genes].index\n",
    "                top_union = top1.union(top2) \n",
    "                paired_genes[c1][c2] = top_union\n",
    "            else:\n",
    "                paired_genes[c1][c2] = slopes_pair.index\n",
    "\n",
    "    #positive normally distributed initial coefficients\n",
    "    kvec = np.abs(np.random.randn(N-1) * 1 + 1) \n",
    "    optimized = minimize(deming_sum, kvec, \n",
    "                         bounds=[(0.01, 100) for _ in range(N-1)], #low and up bounds for each coef\n",
    "                         method=\"L-BFGS-B\")\n",
    "    #best found argument \n",
    "    kres = np.ones(N)\n",
    "    kres[1:] = optimized.x\n",
    "    obj = optimized.fun\n",
    "    if optimized.success != True:\n",
    "        print('Optimizer failed to converge with obj=%.3f at n_iteration=%d' % (obj, optimized.nit))        \n",
    "    return kres, obj\n",
    "        "
   ]
  },
  {
   "cell_type": "code",
   "execution_count": 440,
   "metadata": {
    "ExecuteTime": {
     "end_time": "2021-08-23T16:57:50.385471Z",
     "start_time": "2021-08-23T16:57:50.365052Z"
    }
   },
   "outputs": [],
   "source": [
    "#This script performs multiple Deming minimization and provides Deming output,\n",
    "#best coefficients along with quality figures\n",
    "\n",
    "def multiple_deming_normalization(U, optimal_corr_dict,\n",
    "                                  top_genes=20, \n",
    "                                  coeff_thresholds=[0.1],\n",
    "                                  FDR_thr=0.05,\n",
    "                                  number_iter=2,\n",
    "                                  plot=True):\n",
    "    #create a container for output\n",
    "    class deming_output: pass\n",
    "    #gather data from the container to matrices of the same factor\n",
    "    slope_matrix = pd.DataFrame({k:U[k]['analysis']['slope'] for k in U.keys()})\n",
    "    pval_matrix = pd.DataFrame({k:U[k]['analysis']['p_value'] for k in U.keys()})\n",
    "    se_matrix = pd.DataFrame({k:U[k]['analysis']['slope_stderr'] for k in U.keys()})\n",
    "\n",
    "    def matrix_plot(matrix, ylim=(0, 3), title=None):\n",
    "        matrix.plot(kind='kde')\n",
    "        plt.ylim(ylim)\n",
    "        plt.xlim((-3, 3))\n",
    "        plt.legend(bbox_to_anchor=(1.02, 1), loc=2)\n",
    "        plt.title(title)\n",
    "        plt.show()\n",
    "\n",
    "    #a) plot before normalization    \n",
    "    if plot:\n",
    "        matrix_plot(slope_matrix, (0, 5), 'Before normalization')   \n",
    "\n",
    "    #b) Normalize by sd\n",
    "    slope_matrix_sd = slope_matrix / slope_matrix.std()\n",
    "    se_matrix_sd = se_matrix / slope_matrix.std()\n",
    "    #plot after sd normalization\n",
    "    if plot:\n",
    "        matrix_plot(slope_matrix_sd, (0, 5), 'After sd normalization')   \n",
    "\n",
    "    #c) Run Deming regression\n",
    "    deming_results = {}\n",
    "    for thr in coeff_thresholds:\n",
    "        for it in range(number_iter):\n",
    "            print(\"Start with correlation threshold = %.2f; iteration %d\" % (thr, it))\n",
    "            deming_results[(thr, it)] = deming_minimizer(U, optimal_corr_dict, top_genes, \n",
    "                                                         corr_thr=thr, FDR_thr=FDR_thr)\n",
    "\n",
    "    df = pd.DataFrame()\n",
    "    for (coef, it), (vec, obj) in deming_results.items():\n",
    "        df = df.append(pd.DataFrame({\n",
    "                        'dataset':slope_matrix.columns,\n",
    "                        'coef':vec,\n",
    "                        'iter':[it] * len(vec),\n",
    "                        'thr':[coef] * len(vec),\n",
    "                        'obj':[obj] * len(vec)\n",
    "                        }))\n",
    "        \n",
    "    deming_output.results_dict = deming_results\n",
    "    deming_output.df = df #write to output\n",
    "    #d) Visualize coefficient consistency in boxplot format\n",
    "    if plot:\n",
    "        plt.figure(figsize=(12,8))\n",
    "        sns.stripplot(x=\"dataset\", y=\"coef\", hue=\"thr\",\n",
    "                    data=df, jitter=True,\n",
    "                    dodge=True, linewidth=1)\n",
    "        plt.legend(bbox_to_anchor=(1.02, 1), loc=2, borderaxespad=0., \n",
    "                   title='Coef threshold')\n",
    "\n",
    "        sns.boxplot(x=\"dataset\", y=\"coef\", #hue=\"obj\",\n",
    "                    data=df, fliersize=0, color='white')\n",
    "\n",
    "        plt.yscale('log')\n",
    "        plt.ylabel('log10(Coef)', fontsize=14)\n",
    "        plt.xlabel('Signature', fontsize=14)\n",
    "        plt.xticks(rotation=60)\n",
    "        plt.grid(alpha=0.3)\n",
    "        plt.show()\n",
    "\n",
    "    (thr, it), (best_coefs, best_obj) = min(deming_results.items(), key=lambda x: x[1][1])\n",
    "    #e) Normalize data\n",
    "    slope_matrix_sd_norm = slope_matrix_sd / best_coefs\n",
    "    se_matrix_sd_norm = se_matrix_sd / best_coefs\n",
    "    if plot:\n",
    "        matrix_plot(slope_matrix_sd_norm, (0, 5), 'After Deming normalization') \n",
    "    \n",
    "    #fill outp\n",
    "    deming_output.slope_norm = slope_matrix_sd_norm\n",
    "    deming_output.se_norm = se_matrix_sd_norm\n",
    "    deming_output.best_coefs = best_coefs\n",
    "    deming_output.best_obj = best_obj\n",
    "    return deming_output"
   ]
  },
  {
   "cell_type": "code",
   "execution_count": 442,
   "metadata": {
    "ExecuteTime": {
     "end_time": "2021-08-23T17:04:34.437545Z",
     "start_time": "2021-08-23T16:58:14.978760Z"
    }
   },
   "outputs": [
    {
     "data": {
      "image/png": "[encoded data removed]",
      "text/plain": [
       "<Figure size 432x288 with 1 Axes>"
      ]
     },
     "metadata": {
      "needs_background": "light"
     },
     "output_type": "display_data"
    },
    {
     "data": {
      "image/png": "[encoded data removed]",
      "text/plain": [
       "<Figure size 432x288 with 1 Axes>"
      ]
     },
     "metadata": {
      "needs_background": "light"
     },
     "output_type": "display_data"
    },
    {
     "name": "stdout",
     "output_type": "stream",
     "text": [
      "Start with correlation threshold = 0.10; iteration 0\n",
      "Start with correlation threshold = 0.10; iteration 1\n",
      "Start with correlation threshold = 0.10; iteration 2\n",
      "Start with correlation threshold = 0.15; iteration 0\n",
      "Start with correlation threshold = 0.15; iteration 1\n",
      "Start with correlation threshold = 0.15; iteration 2\n",
      "Start with correlation threshold = 0.20; iteration 0\n",
      "Start with correlation threshold = 0.20; iteration 1\n",
      "Start with correlation threshold = 0.20; iteration 2\n"
     ]
    },
    {
     "data": {
      "image/png": "[encoded data removed]",
      "text/plain": [
       "<Figure size 864x576 with 1 Axes>"
      ]
     },
     "metadata": {
      "needs_background": "light"
     },
     "output_type": "display_data"
    },
    {
     "data": {
      "image/png": "[encoded data removed]",
      "text/plain": [
       "<Figure size 432x288 with 1 Axes>"
      ]
     },
     "metadata": {
      "needs_background": "light"
     },
     "output_type": "display_data"
    }
   ],
   "source": [
    "deming_output = multiple_deming_normalization(U, \n",
    "                                              optimal_corr_dict,\n",
    "                                              top_genes=best_top_number, \n",
    "                                              coeff_thresholds=[0.1, 0.15, 0.2],\n",
    "                                              FDR_thr=0.05,\n",
    "                                              number_iter=3,\n",
    "                                              plot=True)"
   ]
  },
  {
   "cell_type": "code",
   "execution_count": 452,
   "metadata": {
    "ExecuteTime": {
     "end_time": "2021-08-23T17:09:46.056851Z",
     "start_time": "2021-08-23T17:09:46.053743Z"
    }
   },
   "outputs": [],
   "source": [
    "##################################\n",
    "#This functions performs statistical meta analysis with specified\n",
    "#data matrix, descriptions and random terms\n",
    "#For each gene the function construct INTERCEPTION-ONLY model and calculate\n",
    "#corresponding statistic\n",
    "\n",
    "\n",
    "\n"
   ]
  },
  {
   "cell_type": "code",
   "execution_count": 566,
   "metadata": {
    "ExecuteTime": {
     "end_time": "2021-08-24T10:29:34.533253Z",
     "start_time": "2021-08-24T10:29:34.497277Z"
    }
   },
   "outputs": [
    {
     "data": {
      "text/html": [
       "<div>\n",
       "<style scoped>\n",
       "    .dataframe tbody tr th:only-of-type {\n",
       "        vertical-align: middle;\n",
       "    }\n",
       "\n",
       "    .dataframe tbody tr th {\n",
       "        vertical-align: top;\n",
       "    }\n",
       "\n",
       "    .dataframe thead th {\n",
       "        text-align: right;\n",
       "    }\n",
       "</style>\n",
       "<table border=\"1\" class=\"dataframe\">\n",
       "  <thead>\n",
       "    <tr style=\"text-align: right;\">\n",
       "      <th></th>\n",
       "      <th>GSE67462$OSKM</th>\n",
       "      <th>GSE38509$OSKM</th>\n",
       "      <th>GSE38509$OSK</th>\n",
       "      <th>GSE38509$GFP</th>\n",
       "      <th>GSE116309$OKMS</th>\n",
       "      <th>GSE116309$OK+9MS</th>\n",
       "      <th>GSE46321$C/EBPα+ OSKM</th>\n",
       "      <th>GSE46321$C/EBPα- OSKM</th>\n",
       "      <th>GSE10871$OSKM</th>\n",
       "      <th>GSE21757$OKMS</th>\n",
       "      <th>GSE103979$Oct4+SK</th>\n",
       "      <th>GSE103979$Oct6+SK</th>\n",
       "      <th>GSE103979$Oct4+defSox+K</th>\n",
       "      <th>GSE103979$GFP</th>\n",
       "    </tr>\n",
       "    <tr>\n",
       "      <th>index</th>\n",
       "      <th></th>\n",
       "      <th></th>\n",
       "      <th></th>\n",
       "      <th></th>\n",
       "      <th></th>\n",
       "      <th></th>\n",
       "      <th></th>\n",
       "      <th></th>\n",
       "      <th></th>\n",
       "      <th></th>\n",
       "      <th></th>\n",
       "      <th></th>\n",
       "      <th></th>\n",
       "      <th></th>\n",
       "    </tr>\n",
       "  </thead>\n",
       "  <tbody>\n",
       "    <tr>\n",
       "      <th>11287</th>\n",
       "      <td>0.078555</td>\n",
       "      <td>-0.019189</td>\n",
       "      <td>-0.081676</td>\n",
       "      <td>0.022540</td>\n",
       "      <td>-0.219803</td>\n",
       "      <td>-0.061664</td>\n",
       "      <td>0.060963</td>\n",
       "      <td>0.022208</td>\n",
       "      <td>-0.817145</td>\n",
       "      <td>0.064635</td>\n",
       "      <td>NaN</td>\n",
       "      <td>NaN</td>\n",
       "      <td>NaN</td>\n",
       "      <td>NaN</td>\n",
       "    </tr>\n",
       "    <tr>\n",
       "      <th>11298</th>\n",
       "      <td>0.000752</td>\n",
       "      <td>0.012015</td>\n",
       "      <td>-0.013910</td>\n",
       "      <td>0.042151</td>\n",
       "      <td>-0.114215</td>\n",
       "      <td>-0.133474</td>\n",
       "      <td>-0.005878</td>\n",
       "      <td>0.073898</td>\n",
       "      <td>0.329260</td>\n",
       "      <td>-0.205832</td>\n",
       "      <td>NaN</td>\n",
       "      <td>NaN</td>\n",
       "      <td>NaN</td>\n",
       "      <td>NaN</td>\n",
       "    </tr>\n",
       "    <tr>\n",
       "      <th>11302</th>\n",
       "      <td>0.069726</td>\n",
       "      <td>0.043971</td>\n",
       "      <td>-0.035056</td>\n",
       "      <td>-0.006363</td>\n",
       "      <td>0.062746</td>\n",
       "      <td>-0.341459</td>\n",
       "      <td>-0.009773</td>\n",
       "      <td>-0.102756</td>\n",
       "      <td>0.084155</td>\n",
       "      <td>-0.146784</td>\n",
       "      <td>NaN</td>\n",
       "      <td>NaN</td>\n",
       "      <td>NaN</td>\n",
       "      <td>NaN</td>\n",
       "    </tr>\n",
       "    <tr>\n",
       "      <th>11303</th>\n",
       "      <td>0.967085</td>\n",
       "      <td>0.648707</td>\n",
       "      <td>0.786103</td>\n",
       "      <td>0.675351</td>\n",
       "      <td>-0.369697</td>\n",
       "      <td>-0.454708</td>\n",
       "      <td>0.032193</td>\n",
       "      <td>-0.069788</td>\n",
       "      <td>1.117565</td>\n",
       "      <td>1.124279</td>\n",
       "      <td>-0.066947</td>\n",
       "      <td>-0.020420</td>\n",
       "      <td>-0.083599</td>\n",
       "      <td>-0.064153</td>\n",
       "    </tr>\n",
       "    <tr>\n",
       "      <th>11304</th>\n",
       "      <td>0.050481</td>\n",
       "      <td>-0.071418</td>\n",
       "      <td>-0.037875</td>\n",
       "      <td>0.002246</td>\n",
       "      <td>0.029831</td>\n",
       "      <td>0.325073</td>\n",
       "      <td>-0.000271</td>\n",
       "      <td>0.005433</td>\n",
       "      <td>0.727688</td>\n",
       "      <td>-0.063719</td>\n",
       "      <td>0.024577</td>\n",
       "      <td>0.018821</td>\n",
       "      <td>0.049668</td>\n",
       "      <td>0.075770</td>\n",
       "    </tr>\n",
       "    <tr>\n",
       "      <th>...</th>\n",
       "      <td>...</td>\n",
       "      <td>...</td>\n",
       "      <td>...</td>\n",
       "      <td>...</td>\n",
       "      <td>...</td>\n",
       "      <td>...</td>\n",
       "      <td>...</td>\n",
       "      <td>...</td>\n",
       "      <td>...</td>\n",
       "      <td>...</td>\n",
       "      <td>...</td>\n",
       "      <td>...</td>\n",
       "      <td>...</td>\n",
       "      <td>...</td>\n",
       "    </tr>\n",
       "    <tr>\n",
       "      <th>115490342</th>\n",
       "      <td>NaN</td>\n",
       "      <td>NaN</td>\n",
       "      <td>NaN</td>\n",
       "      <td>NaN</td>\n",
       "      <td>NaN</td>\n",
       "      <td>NaN</td>\n",
       "      <td>NaN</td>\n",
       "      <td>NaN</td>\n",
       "      <td>NaN</td>\n",
       "      <td>NaN</td>\n",
       "      <td>0.063594</td>\n",
       "      <td>0.067230</td>\n",
       "      <td>0.172436</td>\n",
       "      <td>0.152226</td>\n",
       "    </tr>\n",
       "    <tr>\n",
       "      <th>117903916</th>\n",
       "      <td>NaN</td>\n",
       "      <td>NaN</td>\n",
       "      <td>NaN</td>\n",
       "      <td>NaN</td>\n",
       "      <td>NaN</td>\n",
       "      <td>NaN</td>\n",
       "      <td>NaN</td>\n",
       "      <td>NaN</td>\n",
       "      <td>NaN</td>\n",
       "      <td>NaN</td>\n",
       "      <td>0.166344</td>\n",
       "      <td>0.138464</td>\n",
       "      <td>0.214236</td>\n",
       "      <td>0.194682</td>\n",
       "    </tr>\n",
       "    <tr>\n",
       "      <th>118567733</th>\n",
       "      <td>NaN</td>\n",
       "      <td>NaN</td>\n",
       "      <td>NaN</td>\n",
       "      <td>NaN</td>\n",
       "      <td>NaN</td>\n",
       "      <td>NaN</td>\n",
       "      <td>NaN</td>\n",
       "      <td>NaN</td>\n",
       "      <td>NaN</td>\n",
       "      <td>NaN</td>\n",
       "      <td>-0.010520</td>\n",
       "      <td>0.030484</td>\n",
       "      <td>0.023976</td>\n",
       "      <td>0.034296</td>\n",
       "    </tr>\n",
       "    <tr>\n",
       "      <th>119065974</th>\n",
       "      <td>NaN</td>\n",
       "      <td>NaN</td>\n",
       "      <td>NaN</td>\n",
       "      <td>NaN</td>\n",
       "      <td>NaN</td>\n",
       "      <td>NaN</td>\n",
       "      <td>NaN</td>\n",
       "      <td>NaN</td>\n",
       "      <td>NaN</td>\n",
       "      <td>NaN</td>\n",
       "      <td>-0.015600</td>\n",
       "      <td>0.154665</td>\n",
       "      <td>0.175288</td>\n",
       "      <td>-0.052431</td>\n",
       "    </tr>\n",
       "    <tr>\n",
       "      <th>119086081</th>\n",
       "      <td>NaN</td>\n",
       "      <td>NaN</td>\n",
       "      <td>NaN</td>\n",
       "      <td>NaN</td>\n",
       "      <td>NaN</td>\n",
       "      <td>NaN</td>\n",
       "      <td>NaN</td>\n",
       "      <td>NaN</td>\n",
       "      <td>NaN</td>\n",
       "      <td>NaN</td>\n",
       "      <td>-0.013438</td>\n",
       "      <td>0.142576</td>\n",
       "      <td>0.162126</td>\n",
       "      <td>0.142643</td>\n",
       "    </tr>\n",
       "  </tbody>\n",
       "</table>\n",
       "<p>27267 rows × 14 columns</p>\n",
       "</div>"
      ],
      "text/plain": [
       "           GSE67462$OSKM  GSE38509$OSKM  GSE38509$OSK  GSE38509$GFP  GSE116309$OKMS  \\\n",
       "index                                                                                 \n",
       "11287           0.078555      -0.019189     -0.081676      0.022540       -0.219803   \n",
       "11298           0.000752       0.012015     -0.013910      0.042151       -0.114215   \n",
       "11302           0.069726       0.043971     -0.035056     -0.006363        0.062746   \n",
       "11303           0.967085       0.648707      0.786103      0.675351       -0.369697   \n",
       "11304           0.050481      -0.071418     -0.037875      0.002246        0.029831   \n",
       "...                  ...            ...           ...           ...             ...   \n",
       "115490342            NaN            NaN           NaN           NaN             NaN   \n",
       "117903916            NaN            NaN           NaN           NaN             NaN   \n",
       "118567733            NaN            NaN           NaN           NaN             NaN   \n",
       "119065974            NaN            NaN           NaN           NaN             NaN   \n",
       "119086081            NaN            NaN           NaN           NaN             NaN   \n",
       "\n",
       "           GSE116309$OK+9MS  GSE46321$C/EBPα+ OSKM  GSE46321$C/EBPα- OSKM  GSE10871$OSKM  \\\n",
       "index                                                                                      \n",
       "11287             -0.061664               0.060963               0.022208      -0.817145   \n",
       "11298             -0.133474              -0.005878               0.073898       0.329260   \n",
       "11302             -0.341459              -0.009773              -0.102756       0.084155   \n",
       "11303             -0.454708               0.032193              -0.069788       1.117565   \n",
       "11304              0.325073              -0.000271               0.005433       0.727688   \n",
       "...                     ...                    ...                    ...            ...   \n",
       "115490342               NaN                    NaN                    NaN            NaN   \n",
       "117903916               NaN                    NaN                    NaN            NaN   \n",
       "118567733               NaN                    NaN                    NaN            NaN   \n",
       "119065974               NaN                    NaN                    NaN            NaN   \n",
       "119086081               NaN                    NaN                    NaN            NaN   \n",
       "\n",
       "           GSE21757$OKMS  GSE103979$Oct4+SK  GSE103979$Oct6+SK  GSE103979$Oct4+defSox+K  \\\n",
       "index                                                                                     \n",
       "11287           0.064635                NaN                NaN                      NaN   \n",
       "11298          -0.205832                NaN                NaN                      NaN   \n",
       "11302          -0.146784                NaN                NaN                      NaN   \n",
       "11303           1.124279          -0.066947          -0.020420                -0.083599   \n",
       "11304          -0.063719           0.024577           0.018821                 0.049668   \n",
       "...                  ...                ...                ...                      ...   \n",
       "115490342            NaN           0.063594           0.067230                 0.172436   \n",
       "117903916            NaN           0.166344           0.138464                 0.214236   \n",
       "118567733            NaN          -0.010520           0.030484                 0.023976   \n",
       "119065974            NaN          -0.015600           0.154665                 0.175288   \n",
       "119086081            NaN          -0.013438           0.142576                 0.162126   \n",
       "\n",
       "           GSE103979$GFP  \n",
       "index                     \n",
       "11287                NaN  \n",
       "11298                NaN  \n",
       "11302                NaN  \n",
       "11303          -0.064153  \n",
       "11304           0.075770  \n",
       "...                  ...  \n",
       "115490342       0.152226  \n",
       "117903916       0.194682  \n",
       "118567733       0.034296  \n",
       "119065974      -0.052431  \n",
       "119086081       0.142643  \n",
       "\n",
       "[27267 rows x 14 columns]"
      ]
     },
     "execution_count": 566,
     "metadata": {},
     "output_type": "execute_result"
    }
   ],
   "source": [
    "deming_output.slope_norm"
   ]
  },
  {
   "cell_type": "code",
   "execution_count": 95,
   "metadata": {
    "ExecuteTime": {
     "end_time": "2021-08-23T11:15:02.880973Z",
     "start_time": "2021-08-23T11:15:02.539668Z"
    }
   },
   "outputs": [
    {
     "data": {
      "text/plain": [
       "<matplotlib.axes._subplots.AxesSubplot at 0x7efd7f628d10>"
      ]
     },
     "execution_count": 95,
     "metadata": {},
     "output_type": "execute_result"
    },
    {
     "data": {
      "image/png": "[encoded data removed]",
      "text/plain": [
       "<Figure size 432x288 with 2 Axes>"
      ]
     },
     "metadata": {
      "needs_background": "light"
     },
     "output_type": "display_data"
    }
   ],
   "source": [
    "# sns.heatmap(complete_cor_dict['corr'])\n",
    "# sns.heatmap(optimal_corr_dict['corr'])"
   ]
  },
  {
   "cell_type": "code",
   "execution_count": 299,
   "metadata": {
    "ExecuteTime": {
     "end_time": "2021-08-23T14:04:34.810509Z",
     "start_time": "2021-08-23T14:04:34.789495Z"
    }
   },
   "outputs": [
    {
     "data": {
      "text/html": [
       "<div>\n",
       "<style scoped>\n",
       "    .dataframe tbody tr th:only-of-type {\n",
       "        vertical-align: middle;\n",
       "    }\n",
       "\n",
       "    .dataframe tbody tr th {\n",
       "        vertical-align: top;\n",
       "    }\n",
       "\n",
       "    .dataframe thead th {\n",
       "        text-align: right;\n",
       "    }\n",
       "</style>\n",
       "<table border=\"1\" class=\"dataframe\">\n",
       "  <thead>\n",
       "    <tr style=\"text-align: right;\">\n",
       "      <th></th>\n",
       "      <th>mean</th>\n",
       "      <th>std</th>\n",
       "      <th>intercept</th>\n",
       "      <th>slope</th>\n",
       "      <th>intercept_stderr</th>\n",
       "      <th>slope_stderr</th>\n",
       "      <th>p_value</th>\n",
       "      <th>Passed</th>\n",
       "      <th>p_adj</th>\n",
       "    </tr>\n",
       "    <tr>\n",
       "      <th>index</th>\n",
       "      <th></th>\n",
       "      <th></th>\n",
       "      <th></th>\n",
       "      <th></th>\n",
       "      <th></th>\n",
       "      <th></th>\n",
       "      <th></th>\n",
       "      <th></th>\n",
       "      <th></th>\n",
       "    </tr>\n",
       "  </thead>\n",
       "  <tbody>\n",
       "    <tr>\n",
       "      <th>11287</th>\n",
       "      <td>-0.913865</td>\n",
       "      <td>0.028989</td>\n",
       "      <td>-0.920351</td>\n",
       "      <td>0.000865</td>\n",
       "      <td>0.011599</td>\n",
       "      <td>0.001195</td>\n",
       "      <td>0.481072</td>\n",
       "      <td>False</td>\n",
       "      <td>0.650289</td>\n",
       "    </tr>\n",
       "    <tr>\n",
       "      <th>11298</th>\n",
       "      <td>0.465746</td>\n",
       "      <td>0.044261</td>\n",
       "      <td>0.465683</td>\n",
       "      <td>0.000008</td>\n",
       "      <td>0.018038</td>\n",
       "      <td>0.001858</td>\n",
       "      <td>0.996506</td>\n",
       "      <td>False</td>\n",
       "      <td>0.997682</td>\n",
       "    </tr>\n",
       "    <tr>\n",
       "      <th>11302</th>\n",
       "      <td>1.618729</td>\n",
       "      <td>0.041838</td>\n",
       "      <td>1.612971</td>\n",
       "      <td>0.000768</td>\n",
       "      <td>0.016934</td>\n",
       "      <td>0.001744</td>\n",
       "      <td>0.666585</td>\n",
       "      <td>False</td>\n",
       "      <td>0.793293</td>\n",
       "    </tr>\n",
       "    <tr>\n",
       "      <th>11303</th>\n",
       "      <td>0.168545</td>\n",
       "      <td>0.114341</td>\n",
       "      <td>0.088691</td>\n",
       "      <td>0.010647</td>\n",
       "      <td>0.037527</td>\n",
       "      <td>0.003865</td>\n",
       "      <td>0.015508</td>\n",
       "      <td>False</td>\n",
       "      <td>0.056856</td>\n",
       "    </tr>\n",
       "    <tr>\n",
       "      <th>11304</th>\n",
       "      <td>-0.797408</td>\n",
       "      <td>0.033079</td>\n",
       "      <td>-0.801577</td>\n",
       "      <td>0.000556</td>\n",
       "      <td>0.013404</td>\n",
       "      <td>0.001381</td>\n",
       "      <td>0.693360</td>\n",
       "      <td>False</td>\n",
       "      <td>0.812039</td>\n",
       "    </tr>\n",
       "    <tr>\n",
       "      <th>...</th>\n",
       "      <td>...</td>\n",
       "      <td>...</td>\n",
       "      <td>...</td>\n",
       "      <td>...</td>\n",
       "      <td>...</td>\n",
       "      <td>...</td>\n",
       "      <td>...</td>\n",
       "      <td>...</td>\n",
       "      <td>...</td>\n",
       "    </tr>\n",
       "    <tr>\n",
       "      <th>102443351</th>\n",
       "      <td>-0.362053</td>\n",
       "      <td>0.037158</td>\n",
       "      <td>-0.360980</td>\n",
       "      <td>-0.000143</td>\n",
       "      <td>0.015139</td>\n",
       "      <td>0.001559</td>\n",
       "      <td>0.928249</td>\n",
       "      <td>False</td>\n",
       "      <td>0.959985</td>\n",
       "    </tr>\n",
       "    <tr>\n",
       "      <th>102640923</th>\n",
       "      <td>-1.612459</td>\n",
       "      <td>0.051288</td>\n",
       "      <td>-1.606001</td>\n",
       "      <td>-0.000861</td>\n",
       "      <td>0.020782</td>\n",
       "      <td>0.002141</td>\n",
       "      <td>0.693559</td>\n",
       "      <td>False</td>\n",
       "      <td>0.812180</td>\n",
       "    </tr>\n",
       "    <tr>\n",
       "      <th>105886298</th>\n",
       "      <td>0.001187</td>\n",
       "      <td>0.053540</td>\n",
       "      <td>0.011319</td>\n",
       "      <td>-0.001351</td>\n",
       "      <td>0.021536</td>\n",
       "      <td>0.002218</td>\n",
       "      <td>0.552274</td>\n",
       "      <td>False</td>\n",
       "      <td>0.707869</td>\n",
       "    </tr>\n",
       "    <tr>\n",
       "      <th>110599566</th>\n",
       "      <td>0.125275</td>\n",
       "      <td>0.143579</td>\n",
       "      <td>0.240937</td>\n",
       "      <td>-0.015422</td>\n",
       "      <td>0.042695</td>\n",
       "      <td>0.004398</td>\n",
       "      <td>0.003489</td>\n",
       "      <td>True</td>\n",
       "      <td>0.018542</td>\n",
       "    </tr>\n",
       "    <tr>\n",
       "      <th>110599584</th>\n",
       "      <td>0.959208</td>\n",
       "      <td>0.144715</td>\n",
       "      <td>1.109810</td>\n",
       "      <td>-0.020080</td>\n",
       "      <td>0.027637</td>\n",
       "      <td>0.002847</td>\n",
       "      <td>0.000006</td>\n",
       "      <td>True</td>\n",
       "      <td>0.000151</td>\n",
       "    </tr>\n",
       "  </tbody>\n",
       "</table>\n",
       "<p>20479 rows × 9 columns</p>\n",
       "</div>"
      ],
      "text/plain": [
       "               mean       std  intercept     slope  intercept_stderr  \\\n",
       "index                                                                  \n",
       "11287     -0.913865  0.028989  -0.920351  0.000865          0.011599   \n",
       "11298      0.465746  0.044261   0.465683  0.000008          0.018038   \n",
       "11302      1.618729  0.041838   1.612971  0.000768          0.016934   \n",
       "11303      0.168545  0.114341   0.088691  0.010647          0.037527   \n",
       "11304     -0.797408  0.033079  -0.801577  0.000556          0.013404   \n",
       "...             ...       ...        ...       ...               ...   \n",
       "102443351 -0.362053  0.037158  -0.360980 -0.000143          0.015139   \n",
       "102640923 -1.612459  0.051288  -1.606001 -0.000861          0.020782   \n",
       "105886298  0.001187  0.053540   0.011319 -0.001351          0.021536   \n",
       "110599566  0.125275  0.143579   0.240937 -0.015422          0.042695   \n",
       "110599584  0.959208  0.144715   1.109810 -0.020080          0.027637   \n",
       "\n",
       "           slope_stderr   p_value  Passed     p_adj  \n",
       "index                                                \n",
       "11287          0.001195  0.481072   False  0.650289  \n",
       "11298          0.001858  0.996506   False  0.997682  \n",
       "11302          0.001744  0.666585   False  0.793293  \n",
       "11303          0.003865  0.015508   False  0.056856  \n",
       "11304          0.001381  0.693360   False  0.812039  \n",
       "...                 ...       ...     ...       ...  \n",
       "102443351      0.001559  0.928249   False  0.959985  \n",
       "102640923      0.002141  0.693559   False  0.812180  \n",
       "105886298      0.002218  0.552274   False  0.707869  \n",
       "110599566      0.004398  0.003489    True  0.018542  \n",
       "110599584      0.002847  0.000006    True  0.000151  \n",
       "\n",
       "[20479 rows x 9 columns]"
      ]
     },
     "execution_count": 299,
     "metadata": {},
     "output_type": "execute_result"
    }
   ],
   "source": [
    "U[list(U.keys())[0]]['analysis']"
   ]
  },
  {
   "cell_type": "markdown",
   "metadata": {},
   "source": [
    "# meta analysis test\n"
   ]
  },
  {
   "cell_type": "markdown",
   "metadata": {},
   "source": [
    "tutorial https://www.statsmodels.org/stable/examples/notebooks/generated/mixed_lm_example.html"
   ]
  },
  {
   "cell_type": "markdown",
   "metadata": {},
   "source": [
    "## pig data"
   ]
  },
  {
   "cell_type": "code",
   "execution_count": 463,
   "metadata": {
    "ExecuteTime": {
     "end_time": "2021-08-24T08:22:34.242716Z",
     "start_time": "2021-08-24T08:22:33.828311Z"
    }
   },
   "outputs": [],
   "source": [
    "#mixed effects model\n",
    "\n",
    "%matplotlib inline\n",
    "\n",
    "import numpy as np\n",
    "import pandas as pd\n",
    "import statsmodels.api as sm\n",
    "import statsmodels.formula.api as smf\n",
    "from statsmodels.tools.sm_exceptions import ConvergenceWarning"
   ]
  },
  {
   "cell_type": "code",
   "execution_count": 466,
   "metadata": {
    "ExecuteTime": {
     "end_time": "2021-08-24T08:27:12.152933Z",
     "start_time": "2021-08-24T08:27:11.430364Z"
    }
   },
   "outputs": [
    {
     "data": {
      "text/html": [
       "<div>\n",
       "<style scoped>\n",
       "    .dataframe tbody tr th:only-of-type {\n",
       "        vertical-align: middle;\n",
       "    }\n",
       "\n",
       "    .dataframe tbody tr th {\n",
       "        vertical-align: top;\n",
       "    }\n",
       "\n",
       "    .dataframe thead th {\n",
       "        text-align: right;\n",
       "    }\n",
       "</style>\n",
       "<table border=\"1\" class=\"dataframe\">\n",
       "  <thead>\n",
       "    <tr style=\"text-align: right;\">\n",
       "      <th></th>\n",
       "      <th>Pig</th>\n",
       "      <th>Evit</th>\n",
       "      <th>Cu</th>\n",
       "      <th>Litter</th>\n",
       "      <th>Start</th>\n",
       "      <th>Weight</th>\n",
       "      <th>Feed</th>\n",
       "      <th>Time</th>\n",
       "    </tr>\n",
       "  </thead>\n",
       "  <tbody>\n",
       "    <tr>\n",
       "      <th>0</th>\n",
       "      <td>4601</td>\n",
       "      <td>Evit000</td>\n",
       "      <td>Cu000</td>\n",
       "      <td>1</td>\n",
       "      <td>26.5</td>\n",
       "      <td>26.50000</td>\n",
       "      <td>NaN</td>\n",
       "      <td>1</td>\n",
       "    </tr>\n",
       "    <tr>\n",
       "      <th>1</th>\n",
       "      <td>4601</td>\n",
       "      <td>Evit000</td>\n",
       "      <td>Cu000</td>\n",
       "      <td>1</td>\n",
       "      <td>26.5</td>\n",
       "      <td>27.59999</td>\n",
       "      <td>5.200005</td>\n",
       "      <td>2</td>\n",
       "    </tr>\n",
       "    <tr>\n",
       "      <th>2</th>\n",
       "      <td>4601</td>\n",
       "      <td>Evit000</td>\n",
       "      <td>Cu000</td>\n",
       "      <td>1</td>\n",
       "      <td>26.5</td>\n",
       "      <td>36.50000</td>\n",
       "      <td>17.600000</td>\n",
       "      <td>3</td>\n",
       "    </tr>\n",
       "    <tr>\n",
       "      <th>3</th>\n",
       "      <td>4601</td>\n",
       "      <td>Evit000</td>\n",
       "      <td>Cu000</td>\n",
       "      <td>1</td>\n",
       "      <td>26.5</td>\n",
       "      <td>40.29999</td>\n",
       "      <td>28.500000</td>\n",
       "      <td>4</td>\n",
       "    </tr>\n",
       "    <tr>\n",
       "      <th>4</th>\n",
       "      <td>4601</td>\n",
       "      <td>Evit000</td>\n",
       "      <td>Cu000</td>\n",
       "      <td>1</td>\n",
       "      <td>26.5</td>\n",
       "      <td>49.09998</td>\n",
       "      <td>45.200001</td>\n",
       "      <td>5</td>\n",
       "    </tr>\n",
       "    <tr>\n",
       "      <th>...</th>\n",
       "      <td>...</td>\n",
       "      <td>...</td>\n",
       "      <td>...</td>\n",
       "      <td>...</td>\n",
       "      <td>...</td>\n",
       "      <td>...</td>\n",
       "      <td>...</td>\n",
       "      <td>...</td>\n",
       "    </tr>\n",
       "    <tr>\n",
       "      <th>856</th>\n",
       "      <td>8442</td>\n",
       "      <td>Evit000</td>\n",
       "      <td>Cu175</td>\n",
       "      <td>24</td>\n",
       "      <td>25.7</td>\n",
       "      <td>73.19995</td>\n",
       "      <td>83.800003</td>\n",
       "      <td>8</td>\n",
       "    </tr>\n",
       "    <tr>\n",
       "      <th>857</th>\n",
       "      <td>8442</td>\n",
       "      <td>Evit000</td>\n",
       "      <td>Cu175</td>\n",
       "      <td>24</td>\n",
       "      <td>25.7</td>\n",
       "      <td>81.69995</td>\n",
       "      <td>99.800003</td>\n",
       "      <td>9</td>\n",
       "    </tr>\n",
       "    <tr>\n",
       "      <th>858</th>\n",
       "      <td>8442</td>\n",
       "      <td>Evit000</td>\n",
       "      <td>Cu175</td>\n",
       "      <td>24</td>\n",
       "      <td>25.7</td>\n",
       "      <td>90.29999</td>\n",
       "      <td>115.200001</td>\n",
       "      <td>10</td>\n",
       "    </tr>\n",
       "    <tr>\n",
       "      <th>859</th>\n",
       "      <td>8442</td>\n",
       "      <td>Evit000</td>\n",
       "      <td>Cu175</td>\n",
       "      <td>24</td>\n",
       "      <td>25.7</td>\n",
       "      <td>96.00000</td>\n",
       "      <td>133.200001</td>\n",
       "      <td>11</td>\n",
       "    </tr>\n",
       "    <tr>\n",
       "      <th>860</th>\n",
       "      <td>8442</td>\n",
       "      <td>Evit000</td>\n",
       "      <td>Cu175</td>\n",
       "      <td>24</td>\n",
       "      <td>25.7</td>\n",
       "      <td>103.50000</td>\n",
       "      <td>151.400002</td>\n",
       "      <td>12</td>\n",
       "    </tr>\n",
       "  </tbody>\n",
       "</table>\n",
       "<p>861 rows × 8 columns</p>\n",
       "</div>"
      ],
      "text/plain": [
       "      Pig     Evit     Cu  Litter  Start     Weight        Feed  Time\n",
       "0    4601  Evit000  Cu000       1   26.5   26.50000         NaN     1\n",
       "1    4601  Evit000  Cu000       1   26.5   27.59999    5.200005     2\n",
       "2    4601  Evit000  Cu000       1   26.5   36.50000   17.600000     3\n",
       "3    4601  Evit000  Cu000       1   26.5   40.29999   28.500000     4\n",
       "4    4601  Evit000  Cu000       1   26.5   49.09998   45.200001     5\n",
       "..    ...      ...    ...     ...    ...        ...         ...   ...\n",
       "856  8442  Evit000  Cu175      24   25.7   73.19995   83.800003     8\n",
       "857  8442  Evit000  Cu175      24   25.7   81.69995   99.800003     9\n",
       "858  8442  Evit000  Cu175      24   25.7   90.29999  115.200001    10\n",
       "859  8442  Evit000  Cu175      24   25.7   96.00000  133.200001    11\n",
       "860  8442  Evit000  Cu175      24   25.7  103.50000  151.400002    12\n",
       "\n",
       "[861 rows x 8 columns]"
      ]
     },
     "execution_count": 466,
     "metadata": {},
     "output_type": "execute_result"
    }
   ],
   "source": [
    "data = sm.datasets.get_rdataset('dietox', 'geepack').data\n",
    "data"
   ]
  },
  {
   "cell_type": "code",
   "execution_count": 464,
   "metadata": {
    "ExecuteTime": {
     "end_time": "2021-08-24T08:24:55.676171Z",
     "start_time": "2021-08-24T08:24:53.991434Z"
    }
   },
   "outputs": [
    {
     "name": "stdout",
     "output_type": "stream",
     "text": [
      "         Mixed Linear Model Regression Results\n",
      "========================================================\n",
      "Model:            MixedLM Dependent Variable: Weight    \n",
      "No. Observations: 861     Method:             REML      \n",
      "No. Groups:       72      Scale:              11.3669   \n",
      "Min. group size:  11      Log-Likelihood:     -2404.7753\n",
      "Max. group size:  12      Converged:          Yes       \n",
      "Mean group size:  12.0                                  \n",
      "--------------------------------------------------------\n",
      "             Coef.  Std.Err.    z    P>|z| [0.025 0.975]\n",
      "--------------------------------------------------------\n",
      "Intercept    15.724    0.788  19.952 0.000 14.179 17.268\n",
      "Time          6.943    0.033 207.939 0.000  6.877  7.008\n",
      "Group Var    40.395    2.149                            \n",
      "========================================================\n",
      "\n"
     ]
    }
   ],
   "source": [
    "#Pig Group Id as random intercept\n",
    "md = smf.mixedlm(\"Weight ~ Time\", data, groups=data[\"Pig\"])\n",
    "mdf = md.fit(method=[\"lbfgs\"])\n",
    "print(mdf.summary())"
   ]
  },
  {
   "cell_type": "code",
   "execution_count": 481,
   "metadata": {
    "ExecuteTime": {
     "end_time": "2021-08-24T08:46:18.765588Z",
     "start_time": "2021-08-24T08:46:18.759089Z"
    }
   },
   "outputs": [
    {
     "data": {
      "text/plain": [
       "-1.818223349658865e-11"
      ]
     },
     "execution_count": 481,
     "metadata": {},
     "output_type": "execute_result"
    }
   ],
   "source": [
    "sum([v.item() for _, v in mdf.random_effects.items()]) #random intercepts sum to zero"
   ]
  },
  {
   "cell_type": "markdown",
   "metadata": {},
   "source": [
    "Next we fit a model with two random effects for each animal: a random intercept, and a random slope (with respect to time). This means that each pig may have a different baseline weight, as well as growing at a different rate. The formula specifies that “Time” is a covariate with a random coefficient. By default, formulas always include an intercept (which could be suppressed here using “0 + Time” as the formula"
   ]
  },
  {
   "cell_type": "code",
   "execution_count": 487,
   "metadata": {
    "ExecuteTime": {
     "end_time": "2021-08-24T08:48:34.394986Z",
     "start_time": "2021-08-24T08:48:33.598156Z"
    }
   },
   "outputs": [
    {
     "name": "stdout",
     "output_type": "stream",
     "text": [
      "           Mixed Linear Model Regression Results\n",
      "===========================================================\n",
      "Model:             MixedLM  Dependent Variable:  Weight    \n",
      "No. Observations:  861      Method:              REML      \n",
      "No. Groups:        72       Scale:               6.0372    \n",
      "Min. group size:   11       Log-Likelihood:      -2217.0475\n",
      "Max. group size:   12       Converged:           Yes       \n",
      "Mean group size:   12.0                                    \n",
      "-----------------------------------------------------------\n",
      "                 Coef.  Std.Err.   z    P>|z| [0.025 0.975]\n",
      "-----------------------------------------------------------\n",
      "Intercept        15.739    0.550 28.603 0.000 14.660 16.817\n",
      "Time              6.939    0.080 86.925 0.000  6.783  7.095\n",
      "Group Var        19.503    1.561                           \n",
      "Group x Time Cov  0.294    0.153                           \n",
      "Time Var          0.416    0.033                           \n",
      "===========================================================\n",
      "\n"
     ]
    }
   ],
   "source": [
    "#Pig Group Id as random intercept + slope over time\n",
    "md = smf.mixedlm(\"Weight ~ Time\", data, groups=data[\"Pig\"], re_formula='~Time')\n",
    "mdf = md.fit(method=[\"lbfgs\"])\n",
    "print(mdf.summary())"
   ]
  },
  {
   "cell_type": "markdown",
   "metadata": {},
   "source": [
    "The random intercept and random slope are only weakly correlated. So next we fit a model in which the two random effects are constrained to be uncorrelated:"
   ]
  },
  {
   "cell_type": "code",
   "execution_count": 488,
   "metadata": {
    "ExecuteTime": {
     "end_time": "2021-08-24T08:56:12.947423Z",
     "start_time": "2021-08-24T08:56:12.324527Z"
    }
   },
   "outputs": [
    {
     "name": "stdout",
     "output_type": "stream",
     "text": [
      "           Mixed Linear Model Regression Results\n",
      "===========================================================\n",
      "Model:             MixedLM  Dependent Variable:  Weight    \n",
      "No. Observations:  861      Method:              REML      \n",
      "No. Groups:        72       Scale:               6.0283    \n",
      "Min. group size:   11       Log-Likelihood:      -2217.3481\n",
      "Max. group size:   12       Converged:           Yes       \n",
      "Mean group size:   12.0                                    \n",
      "-----------------------------------------------------------\n",
      "                 Coef.  Std.Err.   z    P>|z| [0.025 0.975]\n",
      "-----------------------------------------------------------\n",
      "Intercept        15.739    0.554 28.388 0.000 14.652 16.825\n",
      "Time              6.939    0.080 86.248 0.000  6.781  7.097\n",
      "Group Var        19.837    1.571                           \n",
      "Group x Time Cov  0.000    0.000                           \n",
      "Time Var          0.423    0.033                           \n",
      "===========================================================\n",
      "\n"
     ]
    }
   ],
   "source": [
    "md = smf.mixedlm(\"Weight ~ Time\", data, groups=data[\"Pig\"],\n",
    "                  re_formula=\"~Time\")\n",
    "free = sm.regression.mixed_linear_model.MixedLMParams.from_components(np.ones(2),\n",
    "                                                                      np.eye(2))\n",
    "\n",
    "mdf = md.fit(free=free, method=[\"lbfgs\"])\n",
    "print(mdf.summary())"
   ]
  },
  {
   "cell_type": "markdown",
   "metadata": {
    "heading_collapsed": true
   },
   "source": [
    "## Sitka data"
   ]
  },
  {
   "cell_type": "markdown",
   "metadata": {
    "hidden": true
   },
   "source": [
    "The outcome variable is the size of the tree, and the covariate used here is a time value. The data are grouped by tree."
   ]
  },
  {
   "cell_type": "code",
   "execution_count": 490,
   "metadata": {
    "ExecuteTime": {
     "end_time": "2021-08-24T09:04:01.870597Z",
     "start_time": "2021-08-24T09:04:01.292274Z"
    },
    "hidden": true
   },
   "outputs": [
    {
     "data": {
      "text/html": [
       "<div>\n",
       "<style scoped>\n",
       "    .dataframe tbody tr th:only-of-type {\n",
       "        vertical-align: middle;\n",
       "    }\n",
       "\n",
       "    .dataframe tbody tr th {\n",
       "        vertical-align: top;\n",
       "    }\n",
       "\n",
       "    .dataframe thead th {\n",
       "        text-align: right;\n",
       "    }\n",
       "</style>\n",
       "<table border=\"1\" class=\"dataframe\">\n",
       "  <thead>\n",
       "    <tr style=\"text-align: right;\">\n",
       "      <th></th>\n",
       "      <th>size</th>\n",
       "      <th>Time</th>\n",
       "      <th>tree</th>\n",
       "      <th>treat</th>\n",
       "    </tr>\n",
       "  </thead>\n",
       "  <tbody>\n",
       "    <tr>\n",
       "      <th>0</th>\n",
       "      <td>4.51</td>\n",
       "      <td>152</td>\n",
       "      <td>1</td>\n",
       "      <td>ozone</td>\n",
       "    </tr>\n",
       "    <tr>\n",
       "      <th>1</th>\n",
       "      <td>4.98</td>\n",
       "      <td>174</td>\n",
       "      <td>1</td>\n",
       "      <td>ozone</td>\n",
       "    </tr>\n",
       "    <tr>\n",
       "      <th>2</th>\n",
       "      <td>5.41</td>\n",
       "      <td>201</td>\n",
       "      <td>1</td>\n",
       "      <td>ozone</td>\n",
       "    </tr>\n",
       "    <tr>\n",
       "      <th>3</th>\n",
       "      <td>5.90</td>\n",
       "      <td>227</td>\n",
       "      <td>1</td>\n",
       "      <td>ozone</td>\n",
       "    </tr>\n",
       "    <tr>\n",
       "      <th>4</th>\n",
       "      <td>6.15</td>\n",
       "      <td>258</td>\n",
       "      <td>1</td>\n",
       "      <td>ozone</td>\n",
       "    </tr>\n",
       "    <tr>\n",
       "      <th>...</th>\n",
       "      <td>...</td>\n",
       "      <td>...</td>\n",
       "      <td>...</td>\n",
       "      <td>...</td>\n",
       "    </tr>\n",
       "    <tr>\n",
       "      <th>390</th>\n",
       "      <td>2.99</td>\n",
       "      <td>152</td>\n",
       "      <td>79</td>\n",
       "      <td>control</td>\n",
       "    </tr>\n",
       "    <tr>\n",
       "      <th>391</th>\n",
       "      <td>3.61</td>\n",
       "      <td>174</td>\n",
       "      <td>79</td>\n",
       "      <td>control</td>\n",
       "    </tr>\n",
       "    <tr>\n",
       "      <th>392</th>\n",
       "      <td>4.48</td>\n",
       "      <td>201</td>\n",
       "      <td>79</td>\n",
       "      <td>control</td>\n",
       "    </tr>\n",
       "    <tr>\n",
       "      <th>393</th>\n",
       "      <td>4.91</td>\n",
       "      <td>227</td>\n",
       "      <td>79</td>\n",
       "      <td>control</td>\n",
       "    </tr>\n",
       "    <tr>\n",
       "      <th>394</th>\n",
       "      <td>5.06</td>\n",
       "      <td>258</td>\n",
       "      <td>79</td>\n",
       "      <td>control</td>\n",
       "    </tr>\n",
       "  </tbody>\n",
       "</table>\n",
       "<p>395 rows × 4 columns</p>\n",
       "</div>"
      ],
      "text/plain": [
       "     size  Time  tree    treat\n",
       "0    4.51   152     1    ozone\n",
       "1    4.98   174     1    ozone\n",
       "2    5.41   201     1    ozone\n",
       "3    5.90   227     1    ozone\n",
       "4    6.15   258     1    ozone\n",
       "..    ...   ...   ...      ...\n",
       "390  2.99   152    79  control\n",
       "391  3.61   174    79  control\n",
       "392  4.48   201    79  control\n",
       "393  4.91   227    79  control\n",
       "394  5.06   258    79  control\n",
       "\n",
       "[395 rows x 4 columns]"
      ]
     },
     "execution_count": 490,
     "metadata": {},
     "output_type": "execute_result"
    }
   ],
   "source": [
    "data = sm.datasets.get_rdataset(\"Sitka\", \"MASS\").data\n",
    "data"
   ]
  },
  {
   "cell_type": "code",
   "execution_count": 491,
   "metadata": {
    "ExecuteTime": {
     "end_time": "2021-08-24T09:04:28.120008Z",
     "start_time": "2021-08-24T09:04:28.107105Z"
    },
    "hidden": true
   },
   "outputs": [],
   "source": [
    "endog = data[\"size\"]\n",
    "data[\"Intercept\"] = 1\n",
    "exog = data[[\"Intercept\", \"Time\"]]"
   ]
  },
  {
   "cell_type": "markdown",
   "metadata": {
    "hidden": true
   },
   "source": [
    "Here is the statsmodels LME fit for a basic model with a random intercept. We are passing the endog and exog data directly to the LME init function as arrays. Also note that endog_re is specified explicitly in argument 4 as a random intercept (although this would also be the default if it were not specified)"
   ]
  },
  {
   "cell_type": "code",
   "execution_count": 495,
   "metadata": {
    "ExecuteTime": {
     "end_time": "2021-08-24T09:07:42.734388Z",
     "start_time": "2021-08-24T09:07:42.265147Z"
    },
    "hidden": true
   },
   "outputs": [
    {
     "name": "stdout",
     "output_type": "stream",
     "text": [
      "         Mixed Linear Model Regression Results\n",
      "=======================================================\n",
      "Model:             MixedLM Dependent Variable: size    \n",
      "No. Observations:  395     Method:             REML    \n",
      "No. Groups:        79      Scale:              0.0392  \n",
      "Min. group size:   5       Log-Likelihood:     -82.3884\n",
      "Max. group size:   5       Converged:          Yes     \n",
      "Mean group size:   5.0                                 \n",
      "-------------------------------------------------------\n",
      "              Coef. Std.Err.   z    P>|z| [0.025 0.975]\n",
      "-------------------------------------------------------\n",
      "Intercept     2.273    0.088 25.864 0.000  2.101  2.446\n",
      "Time          0.013    0.000 47.796 0.000  0.012  0.013\n",
      "Intercept Var 0.374    0.345                           \n",
      "=======================================================\n",
      "\n"
     ]
    }
   ],
   "source": [
    "md = sm.MixedLM(endog, exog, groups=data[\"tree\"], exog_re=exog[\"Intercept\"])\n",
    "mdf = md.fit()\n",
    "print(mdf.summary())"
   ]
  },
  {
   "cell_type": "code",
   "execution_count": 496,
   "metadata": {
    "ExecuteTime": {
     "end_time": "2021-08-24T09:14:13.886093Z",
     "start_time": "2021-08-24T09:14:11.843364Z"
    },
    "hidden": true
   },
   "outputs": [
    {
     "name": "stdout",
     "output_type": "stream",
     "text": [
      "             Mixed Linear Model Regression Results\n",
      "===============================================================\n",
      "Model:               MixedLM    Dependent Variable:    size    \n",
      "No. Observations:    395        Method:                REML    \n",
      "No. Groups:          79         Scale:                 0.0264  \n",
      "Min. group size:     5          Log-Likelihood:        -62.4834\n",
      "Max. group size:     5          Converged:             Yes     \n",
      "Mean group size:     5.0                                       \n",
      "---------------------------------------------------------------\n",
      "                     Coef.  Std.Err.   z    P>|z| [0.025 0.975]\n",
      "---------------------------------------------------------------\n",
      "Intercept             2.273    0.101 22.513 0.000  2.075  2.471\n",
      "Time                  0.013    0.000 33.888 0.000  0.012  0.013\n",
      "Intercept Var         0.646    0.914                           \n",
      "Intercept x Time Cov -0.001    0.003                           \n",
      "Time Var              0.000    0.000                           \n",
      "===============================================================\n",
      "\n"
     ]
    },
    {
     "name": "stderr",
     "output_type": "stream",
     "text": [
      "/home/shappiron/anaconda3/lib/python3.7/site-packages/statsmodels/regression/mixed_linear_model.py:2237: ConvergenceWarning: The MLE may be on the boundary of the parameter space.\n",
      "  warnings.warn(msg, ConvergenceWarning)\n"
     ]
    }
   ],
   "source": [
    "exog_re = exog.copy()\n",
    "md = sm.MixedLM(endog, exog, data[\"tree\"], exog_re)\n",
    "mdf = md.fit()\n",
    "print(mdf.summary())"
   ]
  },
  {
   "cell_type": "markdown",
   "metadata": {
    "hidden": true
   },
   "source": [
    "We can further explore the random effects structure by constructing plots of the profile likelihoods. We start with the random intercept, generating a plot of the profile likelihood from 0.1 units below to 0.1 units above the MLE. Since each optimization inside the profile likelihood generates a warning (due to the random slope variance being close to zero), we turn off the warnings here."
   ]
  },
  {
   "cell_type": "code",
   "execution_count": 497,
   "metadata": {
    "ExecuteTime": {
     "end_time": "2021-08-24T09:19:40.927320Z",
     "start_time": "2021-08-24T09:19:34.381138Z"
    },
    "hidden": true
   },
   "outputs": [],
   "source": [
    "import warnings\n",
    "\n",
    "with warnings.catch_warnings():\n",
    "    warnings.filterwarnings(\"ignore\")\n",
    "    likev = mdf.profile_re(0, 're', dist_low=0.1, dist_high=0.1)"
   ]
  },
  {
   "cell_type": "code",
   "execution_count": 502,
   "metadata": {
    "ExecuteTime": {
     "end_time": "2021-08-24T09:26:56.578498Z",
     "start_time": "2021-08-24T09:26:56.572090Z"
    },
    "hidden": true
   },
   "outputs": [],
   "source": [
    "# plt.figure(figsize=(10,8))\n",
    "# plt.plot(likev[:,0], 2*likev[:,1])\n",
    "# plt.xlabel(\"Variance of random slope\", size=17)\n",
    "# plt.ylabel(\"-2 times profile log likelihood\", size=17)\n",
    "# plt.grid(alpha=0.4);"
   ]
  },
  {
   "cell_type": "markdown",
   "metadata": {
    "hidden": true
   },
   "source": [
    "Here is a plot of the profile likelihood function. The profile likelihood plot shows that the MLE of the random slope variance parameter is a very small positive number, and that there is low uncertainty in this estimate."
   ]
  },
  {
   "cell_type": "code",
   "execution_count": 501,
   "metadata": {
    "ExecuteTime": {
     "end_time": "2021-08-24T09:26:53.888823Z",
     "start_time": "2021-08-24T09:26:53.882380Z"
    },
    "hidden": true
   },
   "outputs": [],
   "source": [
    "# re = mdf.cov_re.iloc[1, 1]\n",
    "# with warnings.catch_warnings():\n",
    "#     # Parameter is often on the boundary\n",
    "#     warnings.simplefilter(\"ignore\", ConvergenceWarning)\n",
    "#     likev = mdf.profile_re(1, 're', dist_low=.5*re, dist_high=0.8*re)\n",
    "\n",
    "# plt.figure(figsize=(10, 8))\n",
    "# plt.plot(likev[:,0], 2*likev[:,1])\n",
    "# plt.xlabel(\"Variance of random slope\", size=17)\n",
    "# lbl = plt.ylabel(\"-2 times profile log likelihood\", size=17)"
   ]
  },
  {
   "cell_type": "markdown",
   "metadata": {},
   "source": [
    "## Intercept-only model"
   ]
  },
  {
   "cell_type": "code",
   "execution_count": 596,
   "metadata": {
    "ExecuteTime": {
     "end_time": "2021-08-24T19:01:29.710474Z",
     "start_time": "2021-08-24T19:01:27.719237Z"
    }
   },
   "outputs": [],
   "source": [
    "data = sm.datasets.get_rdataset(\"Sitka\", \"MASS\").data\n",
    "data = data[data.tree < 5]"
   ]
  },
  {
   "cell_type": "code",
   "execution_count": 645,
   "metadata": {
    "ExecuteTime": {
     "end_time": "2021-08-24T19:27:04.536509Z",
     "start_time": "2021-08-24T19:27:04.528733Z"
    }
   },
   "outputs": [],
   "source": [
    "endog = data[\"size\"]\n",
    "data[\"Intercept\"] = 1\n",
    "data[\"stderr\"] = 0.1\n",
    "data[\"id\"] = data.index\n",
    "exog = data[[\"Intercept\"]]"
   ]
  },
  {
   "cell_type": "code",
   "execution_count": 598,
   "metadata": {
    "ExecuteTime": {
     "end_time": "2021-08-24T19:01:33.834109Z",
     "start_time": "2021-08-24T19:01:33.831752Z"
    }
   },
   "outputs": [],
   "source": [
    "from statsmodels.regression.mixed_linear_model import VCSpec"
   ]
  },
  {
   "cell_type": "code",
   "execution_count": 594,
   "metadata": {
    "ExecuteTime": {
     "end_time": "2021-08-24T11:52:12.403796Z",
     "start_time": "2021-08-24T11:52:12.391851Z"
    }
   },
   "outputs": [],
   "source": [
    "#VCSpec(['stderr'], [])\n",
    "# free = sm.regression.mixed_linear_model.MixedLMParams.from_components(\n",
    "#         vcomp=np.array(data[[\"stderr\"]]).ravel())"
   ]
  },
  {
   "cell_type": "code",
   "execution_count": 602,
   "metadata": {
    "ExecuteTime": {
     "end_time": "2021-08-24T19:11:23.587698Z",
     "start_time": "2021-08-24T19:11:23.576140Z"
    },
    "scrolled": false
   },
   "outputs": [
    {
     "data": {
      "text/html": [
       "<div>\n",
       "<style scoped>\n",
       "    .dataframe tbody tr th:only-of-type {\n",
       "        vertical-align: middle;\n",
       "    }\n",
       "\n",
       "    .dataframe tbody tr th {\n",
       "        vertical-align: top;\n",
       "    }\n",
       "\n",
       "    .dataframe thead th {\n",
       "        text-align: right;\n",
       "    }\n",
       "</style>\n",
       "<table border=\"1\" class=\"dataframe\">\n",
       "  <thead>\n",
       "    <tr style=\"text-align: right;\">\n",
       "      <th></th>\n",
       "      <th>size</th>\n",
       "      <th>Time</th>\n",
       "      <th>tree</th>\n",
       "      <th>treat</th>\n",
       "      <th>Intercept</th>\n",
       "      <th>stderr</th>\n",
       "      <th>id</th>\n",
       "    </tr>\n",
       "  </thead>\n",
       "  <tbody>\n",
       "    <tr>\n",
       "      <th>0</th>\n",
       "      <td>4.51</td>\n",
       "      <td>152</td>\n",
       "      <td>1</td>\n",
       "      <td>ozone</td>\n",
       "      <td>1</td>\n",
       "      <td>0.1</td>\n",
       "      <td>0</td>\n",
       "    </tr>\n",
       "    <tr>\n",
       "      <th>1</th>\n",
       "      <td>4.98</td>\n",
       "      <td>174</td>\n",
       "      <td>1</td>\n",
       "      <td>ozone</td>\n",
       "      <td>1</td>\n",
       "      <td>0.1</td>\n",
       "      <td>1</td>\n",
       "    </tr>\n",
       "    <tr>\n",
       "      <th>2</th>\n",
       "      <td>5.41</td>\n",
       "      <td>201</td>\n",
       "      <td>1</td>\n",
       "      <td>ozone</td>\n",
       "      <td>1</td>\n",
       "      <td>0.1</td>\n",
       "      <td>2</td>\n",
       "    </tr>\n",
       "    <tr>\n",
       "      <th>3</th>\n",
       "      <td>5.90</td>\n",
       "      <td>227</td>\n",
       "      <td>1</td>\n",
       "      <td>ozone</td>\n",
       "      <td>1</td>\n",
       "      <td>0.1</td>\n",
       "      <td>3</td>\n",
       "    </tr>\n",
       "    <tr>\n",
       "      <th>4</th>\n",
       "      <td>6.15</td>\n",
       "      <td>258</td>\n",
       "      <td>1</td>\n",
       "      <td>ozone</td>\n",
       "      <td>1</td>\n",
       "      <td>0.1</td>\n",
       "      <td>4</td>\n",
       "    </tr>\n",
       "    <tr>\n",
       "      <th>5</th>\n",
       "      <td>4.24</td>\n",
       "      <td>152</td>\n",
       "      <td>2</td>\n",
       "      <td>ozone</td>\n",
       "      <td>1</td>\n",
       "      <td>0.1</td>\n",
       "      <td>5</td>\n",
       "    </tr>\n",
       "    <tr>\n",
       "      <th>6</th>\n",
       "      <td>4.20</td>\n",
       "      <td>174</td>\n",
       "      <td>2</td>\n",
       "      <td>ozone</td>\n",
       "      <td>1</td>\n",
       "      <td>0.1</td>\n",
       "      <td>6</td>\n",
       "    </tr>\n",
       "    <tr>\n",
       "      <th>7</th>\n",
       "      <td>4.68</td>\n",
       "      <td>201</td>\n",
       "      <td>2</td>\n",
       "      <td>ozone</td>\n",
       "      <td>1</td>\n",
       "      <td>0.1</td>\n",
       "      <td>7</td>\n",
       "    </tr>\n",
       "    <tr>\n",
       "      <th>8</th>\n",
       "      <td>4.92</td>\n",
       "      <td>227</td>\n",
       "      <td>2</td>\n",
       "      <td>ozone</td>\n",
       "      <td>1</td>\n",
       "      <td>0.1</td>\n",
       "      <td>8</td>\n",
       "    </tr>\n",
       "    <tr>\n",
       "      <th>9</th>\n",
       "      <td>4.96</td>\n",
       "      <td>258</td>\n",
       "      <td>2</td>\n",
       "      <td>ozone</td>\n",
       "      <td>1</td>\n",
       "      <td>0.1</td>\n",
       "      <td>9</td>\n",
       "    </tr>\n",
       "    <tr>\n",
       "      <th>10</th>\n",
       "      <td>3.98</td>\n",
       "      <td>152</td>\n",
       "      <td>3</td>\n",
       "      <td>ozone</td>\n",
       "      <td>1</td>\n",
       "      <td>0.1</td>\n",
       "      <td>10</td>\n",
       "    </tr>\n",
       "    <tr>\n",
       "      <th>11</th>\n",
       "      <td>4.36</td>\n",
       "      <td>174</td>\n",
       "      <td>3</td>\n",
       "      <td>ozone</td>\n",
       "      <td>1</td>\n",
       "      <td>0.1</td>\n",
       "      <td>11</td>\n",
       "    </tr>\n",
       "    <tr>\n",
       "      <th>12</th>\n",
       "      <td>4.79</td>\n",
       "      <td>201</td>\n",
       "      <td>3</td>\n",
       "      <td>ozone</td>\n",
       "      <td>1</td>\n",
       "      <td>0.1</td>\n",
       "      <td>12</td>\n",
       "    </tr>\n",
       "    <tr>\n",
       "      <th>13</th>\n",
       "      <td>4.99</td>\n",
       "      <td>227</td>\n",
       "      <td>3</td>\n",
       "      <td>ozone</td>\n",
       "      <td>1</td>\n",
       "      <td>0.1</td>\n",
       "      <td>13</td>\n",
       "    </tr>\n",
       "    <tr>\n",
       "      <th>14</th>\n",
       "      <td>5.03</td>\n",
       "      <td>258</td>\n",
       "      <td>3</td>\n",
       "      <td>ozone</td>\n",
       "      <td>1</td>\n",
       "      <td>0.1</td>\n",
       "      <td>14</td>\n",
       "    </tr>\n",
       "    <tr>\n",
       "      <th>15</th>\n",
       "      <td>4.36</td>\n",
       "      <td>152</td>\n",
       "      <td>4</td>\n",
       "      <td>ozone</td>\n",
       "      <td>1</td>\n",
       "      <td>0.1</td>\n",
       "      <td>15</td>\n",
       "    </tr>\n",
       "    <tr>\n",
       "      <th>16</th>\n",
       "      <td>4.77</td>\n",
       "      <td>174</td>\n",
       "      <td>4</td>\n",
       "      <td>ozone</td>\n",
       "      <td>1</td>\n",
       "      <td>0.1</td>\n",
       "      <td>16</td>\n",
       "    </tr>\n",
       "    <tr>\n",
       "      <th>17</th>\n",
       "      <td>5.10</td>\n",
       "      <td>201</td>\n",
       "      <td>4</td>\n",
       "      <td>ozone</td>\n",
       "      <td>1</td>\n",
       "      <td>0.1</td>\n",
       "      <td>17</td>\n",
       "    </tr>\n",
       "    <tr>\n",
       "      <th>18</th>\n",
       "      <td>5.30</td>\n",
       "      <td>227</td>\n",
       "      <td>4</td>\n",
       "      <td>ozone</td>\n",
       "      <td>1</td>\n",
       "      <td>0.1</td>\n",
       "      <td>18</td>\n",
       "    </tr>\n",
       "    <tr>\n",
       "      <th>19</th>\n",
       "      <td>5.36</td>\n",
       "      <td>258</td>\n",
       "      <td>4</td>\n",
       "      <td>ozone</td>\n",
       "      <td>1</td>\n",
       "      <td>0.1</td>\n",
       "      <td>19</td>\n",
       "    </tr>\n",
       "  </tbody>\n",
       "</table>\n",
       "</div>"
      ],
      "text/plain": [
       "    size  Time  tree  treat  Intercept  stderr  id\n",
       "0   4.51   152     1  ozone          1     0.1   0\n",
       "1   4.98   174     1  ozone          1     0.1   1\n",
       "2   5.41   201     1  ozone          1     0.1   2\n",
       "3   5.90   227     1  ozone          1     0.1   3\n",
       "4   6.15   258     1  ozone          1     0.1   4\n",
       "5   4.24   152     2  ozone          1     0.1   5\n",
       "6   4.20   174     2  ozone          1     0.1   6\n",
       "7   4.68   201     2  ozone          1     0.1   7\n",
       "8   4.92   227     2  ozone          1     0.1   8\n",
       "9   4.96   258     2  ozone          1     0.1   9\n",
       "10  3.98   152     3  ozone          1     0.1  10\n",
       "11  4.36   174     3  ozone          1     0.1  11\n",
       "12  4.79   201     3  ozone          1     0.1  12\n",
       "13  4.99   227     3  ozone          1     0.1  13\n",
       "14  5.03   258     3  ozone          1     0.1  14\n",
       "15  4.36   152     4  ozone          1     0.1  15\n",
       "16  4.77   174     4  ozone          1     0.1  16\n",
       "17  5.10   201     4  ozone          1     0.1  17\n",
       "18  5.30   227     4  ozone          1     0.1  18\n",
       "19  5.36   258     4  ozone          1     0.1  19"
      ]
     },
     "execution_count": 602,
     "metadata": {},
     "output_type": "execute_result"
    }
   ],
   "source": [
    "data"
   ]
  },
  {
   "cell_type": "code",
   "execution_count": 658,
   "metadata": {
    "ExecuteTime": {
     "end_time": "2021-08-24T19:29:51.538500Z",
     "start_time": "2021-08-24T19:29:51.533243Z"
    }
   },
   "outputs": [
    {
     "name": "stderr",
     "output_type": "stream",
     "text": [
      "/home/shappiron/anaconda3/lib/python3.7/site-packages/ipykernel_launcher.py:3: FutureWarning: Support for multi-dimensional indexing (e.g. `obj[:, None]`) is deprecated and will be removed in a future version.  Convert to a numpy array before indexing instead.\n",
      "  This is separate from the ipykernel package so we can avoid doing imports until\n"
     ]
    }
   ],
   "source": [
    "vc = VCSpec(names=['stderr'], \n",
    "            colnames=[np.array(data['id'])], \n",
    "            mats=[data['stderr'][None, :]])"
   ]
  },
  {
   "cell_type": "markdown",
   "metadata": {},
   "source": [
    "**нужно сравнить запараметризованную дисперсию с rma.mv на dummy датасете**"
   ]
  },
  {
   "cell_type": "code",
   "execution_count": 662,
   "metadata": {
    "ExecuteTime": {
     "end_time": "2021-08-24T19:30:10.878143Z",
     "start_time": "2021-08-24T19:30:10.868012Z"
    }
   },
   "outputs": [
    {
     "data": {
      "text/plain": [
       "(1, 20)"
      ]
     },
     "execution_count": 662,
     "metadata": {},
     "output_type": "execute_result"
    }
   ],
   "source": [
    "vc.mats[0].shape"
   ]
  },
  {
   "cell_type": "code",
   "execution_count": 660,
   "metadata": {
    "ExecuteTime": {
     "end_time": "2021-08-24T19:30:00.160677Z",
     "start_time": "2021-08-24T19:30:00.133717Z"
    }
   },
   "outputs": [
    {
     "ename": "ValueError",
     "evalue": "all the input arrays must have same number of dimensions, but the array at index 0 has 2 dimension(s) and the array at index 1 has 1 dimension(s)",
     "output_type": "error",
     "traceback": [
      "\u001b[0;31m---------------------------------------------------------------------------\u001b[0m",
      "\u001b[0;31mValueError\u001b[0m                                Traceback (most recent call last)",
      "\u001b[0;32m<ipython-input-660-18641555dbe0>\u001b[0m in \u001b[0;36m<module>\u001b[0;34m\u001b[0m\n\u001b[1;32m      1\u001b[0m md = sm.MixedLM(endog, exog, groups=data[\"id\"], \n\u001b[0;32m----> 2\u001b[0;31m                 exog_re=exog[\"Intercept\"], exog_vc=vc)\n\u001b[0m\u001b[1;32m      3\u001b[0m \u001b[0mmdf\u001b[0m \u001b[0;34m=\u001b[0m \u001b[0mmd\u001b[0m\u001b[0;34m.\u001b[0m\u001b[0mfit\u001b[0m\u001b[0;34m(\u001b[0m\u001b[0;34m)\u001b[0m\u001b[0;34m\u001b[0m\u001b[0;34m\u001b[0m\u001b[0m\n\u001b[1;32m      4\u001b[0m \u001b[0mprint\u001b[0m\u001b[0;34m(\u001b[0m\u001b[0mmdf\u001b[0m\u001b[0;34m.\u001b[0m\u001b[0msummary\u001b[0m\u001b[0;34m(\u001b[0m\u001b[0;34m)\u001b[0m\u001b[0;34m)\u001b[0m\u001b[0;34m\u001b[0m\u001b[0;34m\u001b[0m\u001b[0m\n",
      "\u001b[0;32m~/anaconda3/lib/python3.7/site-packages/statsmodels/regression/mixed_linear_model.py\u001b[0m in \u001b[0;36m__init__\u001b[0;34m(self, endog, exog, groups, exog_re, exog_vc, use_sqrt, missing, **kwargs)\u001b[0m\n\u001b[1;32m    824\u001b[0m         \u001b[0mself\u001b[0m\u001b[0;34m.\u001b[0m\u001b[0m_aex_r2\u001b[0m \u001b[0;34m=\u001b[0m \u001b[0;34m[\u001b[0m\u001b[0;34m]\u001b[0m\u001b[0;34m\u001b[0m\u001b[0;34m\u001b[0m\u001b[0m\n\u001b[1;32m    825\u001b[0m         \u001b[0;32mfor\u001b[0m \u001b[0mi\u001b[0m \u001b[0;32min\u001b[0m \u001b[0mrange\u001b[0m\u001b[0;34m(\u001b[0m\u001b[0mself\u001b[0m\u001b[0;34m.\u001b[0m\u001b[0mn_groups\u001b[0m\u001b[0;34m)\u001b[0m\u001b[0;34m:\u001b[0m\u001b[0;34m\u001b[0m\u001b[0;34m\u001b[0m\u001b[0m\n\u001b[0;32m--> 826\u001b[0;31m             \u001b[0ma\u001b[0m \u001b[0;34m=\u001b[0m \u001b[0mself\u001b[0m\u001b[0;34m.\u001b[0m\u001b[0m_augment_exog\u001b[0m\u001b[0;34m(\u001b[0m\u001b[0mi\u001b[0m\u001b[0;34m)\u001b[0m\u001b[0;34m\u001b[0m\u001b[0;34m\u001b[0m\u001b[0m\n\u001b[0m\u001b[1;32m    827\u001b[0m             \u001b[0mself\u001b[0m\u001b[0;34m.\u001b[0m\u001b[0m_aex_r\u001b[0m\u001b[0;34m.\u001b[0m\u001b[0mappend\u001b[0m\u001b[0;34m(\u001b[0m\u001b[0ma\u001b[0m\u001b[0;34m)\u001b[0m\u001b[0;34m\u001b[0m\u001b[0;34m\u001b[0m\u001b[0m\n\u001b[1;32m    828\u001b[0m \u001b[0;34m\u001b[0m\u001b[0m\n",
      "\u001b[0;32m~/anaconda3/lib/python3.7/site-packages/statsmodels/regression/mixed_linear_model.py\u001b[0m in \u001b[0;36m_augment_exog\u001b[0;34m(self, group_ix)\u001b[0m\n\u001b[1;32m   1456\u001b[0m             \u001b[0mex\u001b[0m \u001b[0;34m=\u001b[0m \u001b[0msparse\u001b[0m\u001b[0;34m.\u001b[0m\u001b[0mcsr_matrix\u001b[0m\u001b[0;34m(\u001b[0m\u001b[0mex\u001b[0m\u001b[0;34m)\u001b[0m\u001b[0;34m\u001b[0m\u001b[0;34m\u001b[0m\u001b[0m\n\u001b[1;32m   1457\u001b[0m         \u001b[0;32melse\u001b[0m\u001b[0;34m:\u001b[0m\u001b[0;34m\u001b[0m\u001b[0;34m\u001b[0m\u001b[0m\n\u001b[0;32m-> 1458\u001b[0;31m             \u001b[0mex\u001b[0m \u001b[0;34m=\u001b[0m \u001b[0mnp\u001b[0m\u001b[0;34m.\u001b[0m\u001b[0mconcatenate\u001b[0m\u001b[0;34m(\u001b[0m\u001b[0mex\u001b[0m\u001b[0;34m,\u001b[0m \u001b[0maxis\u001b[0m\u001b[0;34m=\u001b[0m\u001b[0;36m1\u001b[0m\u001b[0;34m)\u001b[0m\u001b[0;34m\u001b[0m\u001b[0;34m\u001b[0m\u001b[0m\n\u001b[0m\u001b[1;32m   1459\u001b[0m \u001b[0;34m\u001b[0m\u001b[0m\n\u001b[1;32m   1460\u001b[0m         \u001b[0;32mreturn\u001b[0m \u001b[0mex\u001b[0m\u001b[0;34m\u001b[0m\u001b[0;34m\u001b[0m\u001b[0m\n",
      "\u001b[0;32m<__array_function__ internals>\u001b[0m in \u001b[0;36mconcatenate\u001b[0;34m(*args, **kwargs)\u001b[0m\n",
      "\u001b[0;31mValueError\u001b[0m: all the input arrays must have same number of dimensions, but the array at index 0 has 2 dimension(s) and the array at index 1 has 1 dimension(s)"
     ]
    }
   ],
   "source": [
    "md = sm.MixedLM(endog, exog, groups=data[\"id\"], \n",
    "                exog_re=exog[\"Intercept\"], exog_vc=vc)\n",
    "mdf = md.fit()\n",
    "print(mdf.summary())"
   ]
  },
  {
   "cell_type": "code",
   "execution_count": 526,
   "metadata": {
    "ExecuteTime": {
     "end_time": "2021-08-24T09:37:44.215686Z",
     "start_time": "2021-08-24T09:37:44.210543Z"
    }
   },
   "outputs": [],
   "source": [
    "global_int = mdf.params['Intercept']\n",
    "global_int_se = np.sqrt(mdf.cov_params().loc['Intercept', 'Intercept'])"
   ]
  },
  {
   "cell_type": "code",
   "execution_count": 564,
   "metadata": {
    "ExecuteTime": {
     "end_time": "2021-08-24T09:44:38.801625Z",
     "start_time": "2021-08-24T09:44:38.599130Z"
    }
   },
   "outputs": [
    {
     "data": {
      "image/png": "[encoded data removed]",
      "text/plain": [
       "<Figure size 432x288 with 1 Axes>"
      ]
     },
     "metadata": {
      "needs_background": "light"
     },
     "output_type": "display_data"
    }
   ],
   "source": [
    "ax = sns.scatterplot(x='Time', y='size', data=sub, hue=\"tree\")\n",
    "plt.axhline(global_int, label='Intercept', color='red', lw=1.5)\n",
    "for _,v in mdf.random_effects.items():\n",
    "    plt.axhline(v['Intercept'] + global_int, color='grey', lw=0.5)\n",
    "\n",
    "plt.legend();"
   ]
  },
  {
   "cell_type": "markdown",
   "metadata": {},
   "source": [
    "## Variance component analysis"
   ]
  },
  {
   "cell_type": "code",
   "execution_count": 631,
   "metadata": {
    "ExecuteTime": {
     "end_time": "2021-08-24T19:20:45.216911Z",
     "start_time": "2021-08-24T19:20:45.211332Z"
    }
   },
   "outputs": [],
   "source": [
    "import numpy as np\n",
    "import statsmodels.api as sm\n",
    "from statsmodels.regression.mixed_linear_model import VCSpec\n",
    "import pandas as pd\n",
    "\n",
    "np.random.seed(3123)"
   ]
  },
  {
   "cell_type": "code",
   "execution_count": 632,
   "metadata": {
    "ExecuteTime": {
     "end_time": "2021-08-24T19:20:45.359437Z",
     "start_time": "2021-08-24T19:20:45.344149Z"
    }
   },
   "outputs": [],
   "source": [
    "def generate_nested(n_group1=200, n_group2=20, n_rep=10, group1_sd=2,\n",
    "                    group2_sd=3, unexplained_sd=4):\n",
    "\n",
    "    # Group 1 indicators\n",
    "    group1 = np.kron(np.arange(n_group1), np.ones(n_group2 * n_rep))\n",
    "\n",
    "    # Group 1 effects\n",
    "    u = group1_sd * np.random.normal(size=n_group1)\n",
    "    effects1 = np.kron(u, np.ones(n_group2 * n_rep))\n",
    "\n",
    "    # Group 2 indicators\n",
    "    group2 = np.kron(np.ones(n_group1), np.kron(np.arange(n_group2), np.ones(n_rep)))\n",
    "\n",
    "    # Group 2 effects\n",
    "    u = group2_sd * np.random.normal(size=n_group1*n_group2)\n",
    "    effects2 = np.kron(u, np.ones(n_rep))\n",
    "\n",
    "    e = unexplained_sd * np.random.normal(size=n_group1 * n_group2 * n_rep)\n",
    "    y = effects1 + effects2 + e\n",
    "\n",
    "    df = pd.DataFrame({\"y\":y, \"group1\": group1, \"group2\": group2})\n",
    "\n",
    "    return df"
   ]
  },
  {
   "cell_type": "code",
   "execution_count": 633,
   "metadata": {
    "ExecuteTime": {
     "end_time": "2021-08-24T19:20:49.699656Z",
     "start_time": "2021-08-24T19:20:49.688332Z"
    }
   },
   "outputs": [],
   "source": [
    "df = generate_nested()"
   ]
  },
  {
   "cell_type": "code",
   "execution_count": 634,
   "metadata": {
    "ExecuteTime": {
     "end_time": "2021-08-24T19:20:51.636937Z",
     "start_time": "2021-08-24T19:20:51.627983Z"
    }
   },
   "outputs": [
    {
     "data": {
      "text/html": [
       "<div>\n",
       "<style scoped>\n",
       "    .dataframe tbody tr th:only-of-type {\n",
       "        vertical-align: middle;\n",
       "    }\n",
       "\n",
       "    .dataframe tbody tr th {\n",
       "        vertical-align: top;\n",
       "    }\n",
       "\n",
       "    .dataframe thead th {\n",
       "        text-align: right;\n",
       "    }\n",
       "</style>\n",
       "<table border=\"1\" class=\"dataframe\">\n",
       "  <thead>\n",
       "    <tr style=\"text-align: right;\">\n",
       "      <th></th>\n",
       "      <th>y</th>\n",
       "      <th>group1</th>\n",
       "      <th>group2</th>\n",
       "    </tr>\n",
       "  </thead>\n",
       "  <tbody>\n",
       "    <tr>\n",
       "      <th>0</th>\n",
       "      <td>-2.193553</td>\n",
       "      <td>0.0</td>\n",
       "      <td>0.0</td>\n",
       "    </tr>\n",
       "    <tr>\n",
       "      <th>1</th>\n",
       "      <td>-1.996399</td>\n",
       "      <td>0.0</td>\n",
       "      <td>0.0</td>\n",
       "    </tr>\n",
       "    <tr>\n",
       "      <th>2</th>\n",
       "      <td>-7.268743</td>\n",
       "      <td>0.0</td>\n",
       "      <td>0.0</td>\n",
       "    </tr>\n",
       "    <tr>\n",
       "      <th>3</th>\n",
       "      <td>-4.701142</td>\n",
       "      <td>0.0</td>\n",
       "      <td>0.0</td>\n",
       "    </tr>\n",
       "    <tr>\n",
       "      <th>4</th>\n",
       "      <td>3.464830</td>\n",
       "      <td>0.0</td>\n",
       "      <td>0.0</td>\n",
       "    </tr>\n",
       "    <tr>\n",
       "      <th>...</th>\n",
       "      <td>...</td>\n",
       "      <td>...</td>\n",
       "      <td>...</td>\n",
       "    </tr>\n",
       "    <tr>\n",
       "      <th>39995</th>\n",
       "      <td>-1.709221</td>\n",
       "      <td>199.0</td>\n",
       "      <td>19.0</td>\n",
       "    </tr>\n",
       "    <tr>\n",
       "      <th>39996</th>\n",
       "      <td>10.295354</td>\n",
       "      <td>199.0</td>\n",
       "      <td>19.0</td>\n",
       "    </tr>\n",
       "    <tr>\n",
       "      <th>39997</th>\n",
       "      <td>1.312228</td>\n",
       "      <td>199.0</td>\n",
       "      <td>19.0</td>\n",
       "    </tr>\n",
       "    <tr>\n",
       "      <th>39998</th>\n",
       "      <td>-0.339235</td>\n",
       "      <td>199.0</td>\n",
       "      <td>19.0</td>\n",
       "    </tr>\n",
       "    <tr>\n",
       "      <th>39999</th>\n",
       "      <td>-0.180813</td>\n",
       "      <td>199.0</td>\n",
       "      <td>19.0</td>\n",
       "    </tr>\n",
       "  </tbody>\n",
       "</table>\n",
       "<p>40000 rows × 3 columns</p>\n",
       "</div>"
      ],
      "text/plain": [
       "               y  group1  group2\n",
       "0      -2.193553     0.0     0.0\n",
       "1      -1.996399     0.0     0.0\n",
       "2      -7.268743     0.0     0.0\n",
       "3      -4.701142     0.0     0.0\n",
       "4       3.464830     0.0     0.0\n",
       "...          ...     ...     ...\n",
       "39995  -1.709221   199.0    19.0\n",
       "39996  10.295354   199.0    19.0\n",
       "39997   1.312228   199.0    19.0\n",
       "39998  -0.339235   199.0    19.0\n",
       "39999  -0.180813   199.0    19.0\n",
       "\n",
       "[40000 rows x 3 columns]"
      ]
     },
     "execution_count": 634,
     "metadata": {},
     "output_type": "execute_result"
    }
   ],
   "source": [
    "df"
   ]
  },
  {
   "cell_type": "code",
   "execution_count": 635,
   "metadata": {
    "ExecuteTime": {
     "end_time": "2021-08-24T19:21:00.483157Z",
     "start_time": "2021-08-24T19:20:53.499152Z"
    }
   },
   "outputs": [
    {
     "name": "stdout",
     "output_type": "stream",
     "text": [
      "          Mixed Linear Model Regression Results\n",
      "==========================================================\n",
      "Model:            MixedLM Dependent Variable: y           \n",
      "No. Observations: 40000   Method:             REML        \n",
      "No. Groups:       200     Scale:              15.8825     \n",
      "Min. group size:  200     Log-Likelihood:     -116022.3805\n",
      "Max. group size:  200     Converged:          Yes         \n",
      "Mean group size:  200.0                                   \n",
      "-----------------------------------------------------------\n",
      "            Coef.   Std.Err.    z     P>|z|  [0.025  0.975]\n",
      "-----------------------------------------------------------\n",
      "Intercept   -0.035     0.149  -0.232  0.817  -0.326   0.257\n",
      "group1 Var   3.917     0.112                               \n",
      "group2 Var   8.742     0.063                               \n",
      "==========================================================\n",
      "\n"
     ]
    }
   ],
   "source": [
    "model1 = sm.MixedLM.from_formula(\"y ~ 1\", re_formula=\"1\", vc_formula={\"group2\": \"0 + C(group2)\"},\n",
    "                groups=\"group1\", data=df)\n",
    "result1 = model1.fit()\n",
    "print(result1.summary())"
   ]
  },
  {
   "cell_type": "code",
   "execution_count": 636,
   "metadata": {
    "ExecuteTime": {
     "end_time": "2021-08-24T19:21:02.673878Z",
     "start_time": "2021-08-24T19:21:02.669165Z"
    }
   },
   "outputs": [],
   "source": [
    "def f(x):\n",
    "    n = x.shape[0]\n",
    "    g2 = x.group2\n",
    "    u = g2.unique()\n",
    "    u.sort()\n",
    "    uv = {v: k for k, v in enumerate(u)}\n",
    "    mat = np.zeros((n, len(u)))\n",
    "    for i in range(n):\n",
    "        mat[i, uv[g2.iloc[i]]] = 1\n",
    "    colnames = [\"%d\" % z for z in u]\n",
    "    return mat, colnames"
   ]
  },
  {
   "cell_type": "code",
   "execution_count": 637,
   "metadata": {
    "ExecuteTime": {
     "end_time": "2021-08-24T19:21:05.001618Z",
     "start_time": "2021-08-24T19:21:04.719254Z"
    }
   },
   "outputs": [],
   "source": [
    "vcm = df.groupby(\"group1\").apply(f).to_list()\n",
    "mats = [x[0] for x in vcm]\n",
    "colnames = [x[1] for x in vcm]\n",
    "names = [\"group2\"]\n",
    "vcs = VCSpec(names, [colnames], [mats])"
   ]
  },
  {
   "cell_type": "code",
   "execution_count": 640,
   "metadata": {
    "ExecuteTime": {
     "end_time": "2021-08-24T19:21:24.218766Z",
     "start_time": "2021-08-24T19:21:24.207717Z"
    }
   },
   "outputs": [
    {
     "data": {
      "text/plain": [
       "(200, 20)"
      ]
     },
     "execution_count": 640,
     "metadata": {},
     "output_type": "execute_result"
    }
   ],
   "source": [
    "oo = np.ones(df.shape[0])\n",
    "model2 = sm.MixedLM(df.y, oo, exog_re=oo, groups=df.group1, exog_vc=vcs)\n",
    "result2 = model2.fit()\n",
    "print(result2.summary())"
   ]
  },
  {
   "cell_type": "code",
   "execution_count": null,
   "metadata": {},
   "outputs": [],
   "source": []
  },
  {
   "cell_type": "code",
   "execution_count": null,
   "metadata": {},
   "outputs": [],
   "source": []
  },
  {
   "cell_type": "code",
   "execution_count": null,
   "metadata": {},
   "outputs": [],
   "source": []
  }
 ],
 "metadata": {
  "@webio": {
   "lastCommId": null,
   "lastKernelId": null
  },
  "kernelspec": {
   "display_name": "Python 3",
   "language": "python",
   "name": "python3"
  },
  "toc": {
   "base_numbering": 1,
   "nav_menu": {},
   "number_sections": true,
   "sideBar": true,
   "skip_h1_title": false,
   "title_cell": "Table of Contents",
   "title_sidebar": "Contents",
   "toc_cell": false,
   "toc_position": {},
   "toc_section_display": true,
   "toc_window_display": false
  },
  "varInspector": {
   "cols": {
    "lenName": 16,
    "lenType": 16,
    "lenVar": 40
   },
   "kernels_config": {
    "python": {
     "delete_cmd_postfix": "",
     "delete_cmd_prefix": "del ",
     "library": "var_list.py",
     "varRefreshCmd": "print(var_dic_list())"
    },
    "r": {
     "delete_cmd_postfix": ") ",
     "delete_cmd_prefix": "rm(",
     "library": "var_list.r",
     "varRefreshCmd": "cat(var_dic_list()) "
    }
   },
   "types_to_exclude": [
    "module",
    "function",
    "builtin_function_or_method",
    "instance",
    "_Feature"
   ],
   "window_display": false
  }
 },
 "nbformat": 4,
 "nbformat_minor": 4
}
