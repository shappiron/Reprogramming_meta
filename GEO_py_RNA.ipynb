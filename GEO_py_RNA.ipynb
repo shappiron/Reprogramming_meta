{
 "cells": [
  {
   "cell_type": "code",
   "execution_count": 1,
   "metadata": {
    "ExecuteTime": {
     "end_time": "2021-07-14T13:21:24.134488Z",
     "start_time": "2021-07-14T13:21:18.727786Z"
    }
   },
   "outputs": [],
   "source": [
    "import numpy as np\n",
    "import pandas as pd\n",
    "from tqdm.notebook import tqdm\n",
    "from matplotlib import pyplot as plt\n",
    "import seaborn as sns\n",
    "\n",
    "from natsort import natsorted\n",
    "import GEOparse as geo\n",
    "from glob import glob\n",
    "import os\n",
    "from os.path import basename, splitext\n",
    "\n",
    "from sklearn.decomposition import PCA"
   ]
  },
  {
   "cell_type": "markdown",
   "metadata": {},
   "source": [
    "# PARSE GSE"
   ]
  },
  {
   "cell_type": "code",
   "execution_count": 2,
   "metadata": {
    "ExecuteTime": {
     "end_time": "2021-07-14T14:12:24.846778Z",
     "start_time": "2021-07-14T14:12:24.844640Z"
    }
   },
   "outputs": [],
   "source": [
    "gse_id = 'GSE62772'\n",
    "gse_path = './data/' + gse_id"
   ]
  },
  {
   "cell_type": "code",
   "execution_count": 3,
   "metadata": {
    "ExecuteTime": {
     "end_time": "2021-07-08T16:13:09.952989Z",
     "start_time": "2021-07-08T16:13:09.932059Z"
    }
   },
   "outputs": [],
   "source": [
    "try:\n",
    "    os.mkdir(gse_path)\n",
    "except:\n",
    "    pass"
   ]
  },
  {
   "cell_type": "code",
   "execution_count": 4,
   "metadata": {
    "ExecuteTime": {
     "end_time": "2021-07-08T16:13:14.861639Z",
     "start_time": "2021-07-08T16:13:14.726064Z"
    }
   },
   "outputs": [
    {
     "name": "stderr",
     "output_type": "stream",
     "text": [
      "26-Nov-2021 15:55:14 DEBUG utils - Directory ./data/GSE62772 already exists. Skipping.\n",
      "26-Nov-2021 15:55:14 INFO GEOparse - Downloading ftp://ftp.ncbi.nlm.nih.gov/geo/series/GSE62nnn/GSE62772/soft/GSE62772_family.soft.gz to ./data/GSE62772/GSE62772_family.soft.gz\n",
      "100%|██████████| 6.21k/6.21k [00:01<00:00, 6.25kB/s]\n",
      "26-Nov-2021 15:55:16 DEBUG downloader - Size validation passed\n",
      "26-Nov-2021 15:55:16 DEBUG downloader - Moving /tmp/tmpb4bahw9l to /gss/home/d.kriukov/Reprog/Reprogramming_meta/data/GSE62772/GSE62772_family.soft.gz\n",
      "26-Nov-2021 15:55:16 DEBUG utils - Directory ./data/GSE62772 already exists. Skipping.\n",
      "26-Nov-2021 15:55:16 INFO GEOparse - File already exist: using local version.\n",
      "26-Nov-2021 15:55:16 INFO GEOparse - Parsing ./data/GSE62772/GSE62772_family.soft.gz: \n",
      "26-Nov-2021 15:55:16 DEBUG GEOparse - DATABASE: GeoMiame\n",
      "26-Nov-2021 15:55:16 DEBUG GEOparse - SERIES: GSE62772\n",
      "26-Nov-2021 15:55:16 DEBUG GEOparse - PLATFORM: GPL11154\n",
      "26-Nov-2021 15:55:16 DEBUG GEOparse - PLATFORM: GPL16791\n",
      "26-Nov-2021 15:55:16 DEBUG GEOparse - SAMPLE: GSM1533212\n",
      "26-Nov-2021 15:55:16 DEBUG GEOparse - SAMPLE: GSM1533213\n",
      "26-Nov-2021 15:55:16 DEBUG GEOparse - SAMPLE: GSM1533214\n",
      "26-Nov-2021 15:55:16 DEBUG GEOparse - SAMPLE: GSM1533215\n",
      "26-Nov-2021 15:55:16 DEBUG GEOparse - SAMPLE: GSM1533216\n",
      "26-Nov-2021 15:55:16 DEBUG GEOparse - SAMPLE: GSM1533217\n",
      "26-Nov-2021 15:55:16 DEBUG GEOparse - SAMPLE: GSM1533218\n",
      "26-Nov-2021 15:55:16 DEBUG GEOparse - SAMPLE: GSM1533219\n",
      "26-Nov-2021 15:55:16 DEBUG GEOparse - SAMPLE: GSM1533220\n",
      "26-Nov-2021 15:55:16 DEBUG GEOparse - SAMPLE: GSM1533221\n",
      "26-Nov-2021 15:55:16 DEBUG GEOparse - SAMPLE: GSM1533222\n",
      "26-Nov-2021 15:55:16 DEBUG GEOparse - SAMPLE: GSM1533223\n",
      "26-Nov-2021 15:55:16 DEBUG GEOparse - SAMPLE: GSM1533224\n",
      "26-Nov-2021 15:55:16 DEBUG GEOparse - SAMPLE: GSM1533225\n",
      "26-Nov-2021 15:55:16 DEBUG GEOparse - SAMPLE: GSM1533226\n",
      "26-Nov-2021 15:55:16 DEBUG GEOparse - SAMPLE: GSM1533227\n",
      "26-Nov-2021 15:55:16 DEBUG GEOparse - SAMPLE: GSM1533228\n",
      "26-Nov-2021 15:55:16 DEBUG GEOparse - SAMPLE: GSM1533229\n",
      "26-Nov-2021 15:55:16 DEBUG GEOparse - SAMPLE: GSM1533230\n",
      "26-Nov-2021 15:55:16 DEBUG GEOparse - SAMPLE: GSM1533231\n",
      "26-Nov-2021 15:55:16 DEBUG GEOparse - SAMPLE: GSM1533232\n",
      "26-Nov-2021 15:55:16 DEBUG GEOparse - SAMPLE: GSM1533233\n",
      "26-Nov-2021 15:55:16 DEBUG GEOparse - SAMPLE: GSM1533234\n",
      "26-Nov-2021 15:55:16 DEBUG GEOparse - SAMPLE: GSM1533235\n",
      "26-Nov-2021 15:55:16 DEBUG GEOparse - SAMPLE: GSM1533236\n",
      "26-Nov-2021 15:55:16 DEBUG GEOparse - SAMPLE: GSM1533237\n",
      "26-Nov-2021 15:55:16 DEBUG GEOparse - SAMPLE: GSM1533238\n",
      "26-Nov-2021 15:55:16 DEBUG GEOparse - SAMPLE: GSM1533239\n",
      "26-Nov-2021 15:55:16 DEBUG GEOparse - SAMPLE: GSM1533240\n",
      "26-Nov-2021 15:55:16 DEBUG GEOparse - SAMPLE: GSM1533241\n",
      "26-Nov-2021 15:55:16 DEBUG GEOparse - SAMPLE: GSM1533242\n",
      "26-Nov-2021 15:55:16 DEBUG GEOparse - SAMPLE: GSM1533243\n",
      "26-Nov-2021 15:55:16 DEBUG GEOparse - SAMPLE: GSM1533244\n",
      "26-Nov-2021 15:55:16 DEBUG GEOparse - SAMPLE: GSM1533245\n",
      "26-Nov-2021 15:55:16 DEBUG GEOparse - SAMPLE: GSM1533246\n",
      "26-Nov-2021 15:55:16 DEBUG GEOparse - SAMPLE: GSM1533247\n",
      "26-Nov-2021 15:55:16 DEBUG GEOparse - SAMPLE: GSM1533248\n",
      "26-Nov-2021 15:55:16 DEBUG GEOparse - SAMPLE: GSM1533249\n",
      "26-Nov-2021 15:55:16 DEBUG GEOparse - SAMPLE: GSM1533250\n",
      "26-Nov-2021 15:55:16 DEBUG GEOparse - SAMPLE: GSM1533251\n",
      "26-Nov-2021 15:55:16 DEBUG GEOparse - SAMPLE: GSM1533252\n",
      "26-Nov-2021 15:55:16 DEBUG GEOparse - SAMPLE: GSM1533253\n",
      "26-Nov-2021 15:55:16 DEBUG GEOparse - SAMPLE: GSM1533254\n",
      "26-Nov-2021 15:55:16 DEBUG GEOparse - SAMPLE: GSM1533255\n",
      "26-Nov-2021 15:55:16 DEBUG GEOparse - SAMPLE: GSM1533256\n",
      "26-Nov-2021 15:55:16 DEBUG GEOparse - SAMPLE: GSM1533257\n",
      "26-Nov-2021 15:55:16 DEBUG GEOparse - SAMPLE: GSM1533258\n",
      "26-Nov-2021 15:55:16 DEBUG GEOparse - SAMPLE: GSM1533259\n",
      "26-Nov-2021 15:55:16 DEBUG GEOparse - SAMPLE: GSM1533260\n",
      "26-Nov-2021 15:55:16 DEBUG GEOparse - SAMPLE: GSM1533261\n",
      "26-Nov-2021 15:55:16 DEBUG GEOparse - SAMPLE: GSM1694953\n",
      "26-Nov-2021 15:55:16 DEBUG GEOparse - SAMPLE: GSM1694954\n",
      "26-Nov-2021 15:55:16 DEBUG GEOparse - SAMPLE: GSM1694955\n",
      "26-Nov-2021 15:55:16 DEBUG GEOparse - SAMPLE: GSM1694956\n",
      "26-Nov-2021 15:55:16 DEBUG GEOparse - SAMPLE: GSM1694957\n",
      "26-Nov-2021 15:55:16 DEBUG GEOparse - SAMPLE: GSM1694958\n",
      "26-Nov-2021 15:55:16 DEBUG GEOparse - SAMPLE: GSM1694959\n",
      "26-Nov-2021 15:55:16 DEBUG GEOparse - SAMPLE: GSM1694960\n",
      "26-Nov-2021 15:55:16 DEBUG GEOparse - SAMPLE: GSM1694961\n",
      "26-Nov-2021 15:55:16 DEBUG GEOparse - SAMPLE: GSM1694962\n",
      "26-Nov-2021 15:55:16 DEBUG GEOparse - SAMPLE: GSM1694963\n",
      "26-Nov-2021 15:55:16 DEBUG GEOparse - SAMPLE: GSM1694964\n",
      "26-Nov-2021 15:55:16 DEBUG GEOparse - SAMPLE: GSM1694965\n",
      "26-Nov-2021 15:55:16 DEBUG GEOparse - SAMPLE: GSM1694966\n",
      "26-Nov-2021 15:55:16 DEBUG GEOparse - SAMPLE: GSM1694967\n",
      "26-Nov-2021 15:55:16 DEBUG GEOparse - SAMPLE: GSM1694968\n",
      "26-Nov-2021 15:55:16 DEBUG GEOparse - SAMPLE: GSM1694969\n",
      "26-Nov-2021 15:55:16 DEBUG GEOparse - SAMPLE: GSM1694970\n",
      "26-Nov-2021 15:55:16 DEBUG GEOparse - SAMPLE: GSM1694971\n",
      "26-Nov-2021 15:55:16 DEBUG GEOparse - SAMPLE: GSM1694972\n",
      "26-Nov-2021 15:55:16 DEBUG GEOparse - SAMPLE: GSM1694973\n",
      "26-Nov-2021 15:55:16 DEBUG GEOparse - SAMPLE: GSM1694974\n",
      "26-Nov-2021 15:55:16 DEBUG GEOparse - SAMPLE: GSM1694975\n",
      "26-Nov-2021 15:55:16 DEBUG GEOparse - SAMPLE: GSM1694976\n",
      "26-Nov-2021 15:55:16 DEBUG GEOparse - SAMPLE: GSM1694977\n",
      "26-Nov-2021 15:55:16 DEBUG GEOparse - SAMPLE: GSM1694978\n",
      "26-Nov-2021 15:55:16 DEBUG GEOparse - SAMPLE: GSM1694979\n",
      "26-Nov-2021 15:55:16 DEBUG GEOparse - SAMPLE: GSM1694980\n",
      "26-Nov-2021 15:55:16 DEBUG GEOparse - SAMPLE: GSM1694981\n",
      "26-Nov-2021 15:55:16 DEBUG GEOparse - SAMPLE: GSM1694982\n",
      "26-Nov-2021 15:55:16 DEBUG GEOparse - SAMPLE: GSM1694983\n"
     ]
    }
   ],
   "source": [
    "try:\n",
    "    gse = geo.get_GEO(geo=gse_id, destdir=gse_path)\n",
    "except:\n",
    "    gse = geo.get_GEO(geo=gse_id, destdir=gse_path)"
   ]
  },
  {
   "cell_type": "code",
   "execution_count": 5,
   "metadata": {
    "ExecuteTime": {
     "end_time": "2021-07-08T16:13:18.511172Z",
     "start_time": "2021-07-08T16:13:18.494354Z"
    }
   },
   "outputs": [
    {
     "data": {
      "text/plain": [
       "['ftp://ftp.ncbi.nlm.nih.gov/geo/series/GSE62nnn/GSE62772/suppl/GSE62772_all_genes_LSD1i.fpkm_tracking.csv.gz',\n",
       " 'ftp://ftp.ncbi.nlm.nih.gov/geo/series/GSE62nnn/GSE62772/suppl/GSE62772_all_genes_fibroblasts.fpkm_tracking.csv.gz',\n",
       " 'ftp://ftp.ncbi.nlm.nih.gov/geo/series/GSE62nnn/GSE62772/suppl/GSE62772_all_genes_reprogramming.fpkm_tracking.csv.gz']"
      ]
     },
     "execution_count": 5,
     "metadata": {},
     "output_type": "execute_result"
    }
   ],
   "source": [
    "links = gse.metadata['supplementary_file']\n",
    "links"
   ]
  },
  {
   "cell_type": "code",
   "execution_count": 6,
   "metadata": {
    "ExecuteTime": {
     "end_time": "2021-07-08T16:34:03.106726Z",
     "start_time": "2021-07-08T16:34:03.098295Z"
    }
   },
   "outputs": [],
   "source": [
    "#save phenotype annotation data\n",
    "gse.phenotype_data.to_csv(gse_path + '/{0}_metadata.csv'.format(gse_id))"
   ]
  },
  {
   "cell_type": "code",
   "execution_count": 7,
   "metadata": {
    "ExecuteTime": {
     "end_time": "2021-07-08T16:13:29.549062Z",
     "start_time": "2021-07-08T16:13:21.692664Z"
    }
   },
   "outputs": [
    {
     "name": "stdout",
     "output_type": "stream",
     "text": [
      "ftp://ftp.ncbi.nlm.nih.gov/geo/series/GSE62nnn/GSE62772/suppl/GSE62772_all_genes_LSD1i.fpkm_tracking.csv.gz\n",
      "ftp://ftp.ncbi.nlm.nih.gov/geo/series/GSE62nnn/GSE62772/suppl/GSE62772_all_genes_fibroblasts.fpkm_tracking.csv.gz\n",
      "ftp://ftp.ncbi.nlm.nih.gov/geo/series/GSE62nnn/GSE62772/suppl/GSE62772_all_genes_reprogramming.fpkm_tracking.csv.gz\n"
     ]
    }
   ],
   "source": [
    "#download files from supplementary table of GSE\n",
    "for file_link in links:\n",
    "    print(file_link)\n",
    "    os.system(\"wget {0} --directory-prefix={1}\".format(file_link, gse_path))"
   ]
  },
  {
   "cell_type": "code",
   "execution_count": 8,
   "metadata": {
    "ExecuteTime": {
     "end_time": "2021-07-08T15:54:35.598547Z",
     "start_time": "2021-07-08T15:54:35.484491Z"
    }
   },
   "outputs": [],
   "source": [
    "#unpack the if needed\n",
    "for f in glob(gse_path + '/*'):\n",
    "    os.system(\"tar -xvf {0} -C {1}\".format(f, gse_path))"
   ]
  },
  {
   "cell_type": "code",
   "execution_count": 16,
   "metadata": {},
   "outputs": [
    {
     "name": "stdout",
     "output_type": "stream",
     "text": [
      "\n",
      "gzip: data/GSE62772/GSE62772_all_genes_fibroblasts.fpkm_tracking.csv.gz: invalid compressed data--format violated\n"
     ]
    }
   ],
   "source": [
    "!gzip -d data/GSE62772/GSE62772_all_genes_fibroblasts.fpkm_tracking.csv.gz"
   ]
  },
  {
   "cell_type": "code",
   "execution_count": 10,
   "metadata": {
    "ExecuteTime": {
     "end_time": "2021-07-08T16:13:49.962668Z",
     "start_time": "2021-07-08T16:13:49.889609Z"
    }
   },
   "outputs": [],
   "source": [
    "#decompress the if needed gz files\n",
    "for f in glob(gse_path + '/*.gz'):\n",
    "    os.system(\"gzip -d {0}\".format(f))\n"
   ]
  },
  {
   "cell_type": "markdown",
   "metadata": {},
   "source": [
    "# GSE 102348"
   ]
  },
  {
   "cell_type": "code",
   "execution_count": 145,
   "metadata": {},
   "outputs": [],
   "source": [
    "meta = pd.read_csv('data/GSE102348/GSE102348_metadata.csv', index_col=0)\n",
    "lis = natsorted(glob('./data/GSE102348/*.txt'))\n",
    "\n",
    "types = [l.split('_')[1] for l in lis]\n",
    "types.remove('Myc')\n",
    "\n",
    "df_list = []\n",
    "\n",
    "for t in types:\n",
    "    i = np.argwhere([t in l for l in lis])[0][0]\n",
    "    p = lis[i]\n",
    "    df = pd.read_csv(p, sep='\\t').drop('Symbol', 1).set_index('Gene ID')\n",
    "    di = meta[meta.title.str.contains(t)]['characteristics_ch1.1.stage of reprogramming'].to_dict()\n",
    "    di = dict((v,k) for k,v in di.items())\n",
    "    f = lambda x: di[x] if di.get(x) else x\n",
    "    df.columns = df.columns.map(f)\n",
    "\n",
    "    df_list.append(df)"
   ]
  },
  {
   "cell_type": "code",
   "execution_count": 151,
   "metadata": {},
   "outputs": [],
   "source": [
    "from functools import reduce\n",
    "df = reduce(lambda df1, df2: pd.merge(df1, df2, how='inner', on='Gene ID'), df_list)"
   ]
  },
  {
   "cell_type": "code",
   "execution_count": 169,
   "metadata": {},
   "outputs": [
    {
     "data": {
      "text/plain": [
       "<matplotlib.collections.PathCollection at 0x7f5c6ff9dcd0>"
      ]
     },
     "execution_count": 169,
     "metadata": {},
     "output_type": "execute_result"
    },
    {
     "data": {
      "image/png": "[encoded data removed]",
      "text/plain": [
       "<Figure size 432x288 with 1 Axes>"
      ]
     },
     "metadata": {
      "needs_background": "light"
     },
     "output_type": "display_data"
    }
   ],
   "source": [
    "X = PCA(2).fit_transform(np.log2(df_list[0].T + 1))\n",
    "plt.scatter(X[:,0], X[:,1])"
   ]
  },
  {
   "cell_type": "code",
   "execution_count": 158,
   "metadata": {},
   "outputs": [],
   "source": [
    "#df.to_csv('data/GSE102348/GSE102348_raw_data.csv')"
   ]
  },
  {
   "cell_type": "code",
   "execution_count": 226,
   "metadata": {},
   "outputs": [
    {
     "data": {
      "image/png": "[encoded data removed]",
      "text/plain": [
       "<Figure size 432x288 with 1 Axes>"
      ]
     },
     "metadata": {
      "needs_background": "light"
     },
     "output_type": "display_data"
    }
   ],
   "source": [
    "plt.hist(np.log2(k[np.where((k > 1.2))]), bins=50);"
   ]
  },
  {
   "cell_type": "code",
   "execution_count": 200,
   "metadata": {},
   "outputs": [
    {
     "data": {
      "image/png": "[encoded data removed]",
      "text/plain": [
       "<Figure size 432x288 with 1 Axes>"
      ]
     },
     "metadata": {
      "needs_background": "light"
     },
     "output_type": "display_data"
    }
   ],
   "source": [
    "k = np.array(df).ravel()\n",
    "plt.hist(k[np.where((k > 1.2)&(k < 5))], bins=50);"
   ]
  },
  {
   "cell_type": "code",
   "execution_count": 247,
   "metadata": {},
   "outputs": [
    {
     "name": "stdout",
     "output_type": "stream",
     "text": [
      "(12795, 34)\n"
     ]
    },
    {
     "data": {
      "text/plain": [
       "<matplotlib.axes._subplots.AxesSubplot at 0x7f5c50b3e450>"
      ]
     },
     "execution_count": 247,
     "metadata": {},
     "output_type": "execute_result"
    },
    {
     "data": {
      "image/png": "[encoded data removed]",
      "text/plain": [
       "<Figure size 432x288 with 1 Axes>"
      ]
     },
     "metadata": {
      "needs_background": "light"
     },
     "output_type": "display_data"
    }
   ],
   "source": [
    "fpkm_thr = 1. #recommended by https://www.biostars.org/p/358433/\n",
    "percentage_thr = 0.5 #chosen from looking at plot below\n",
    "\n",
    "df_filtered = df[(df > fpkm_thr).sum(1) > df.shape[1] * percentage_thr]\n",
    "print(df_filtered.shape)\n",
    "np.log2(df_filtered + 1.).plot(kind='hist', bins=40);"
   ]
  },
  {
   "cell_type": "code",
   "execution_count": 249,
   "metadata": {},
   "outputs": [],
   "source": [
    "df_filtered_log = np.log2(df_filtered + 1.)"
   ]
  },
  {
   "cell_type": "code",
   "execution_count": 253,
   "metadata": {},
   "outputs": [],
   "source": [
    "#df_filtered_log.to_csv('data/GSE102348/GSE102348_preprocessed.csv')"
   ]
  },
  {
   "cell_type": "code",
   "execution_count": 252,
   "metadata": {},
   "outputs": [
    {
     "data": {
      "text/plain": [
       "<matplotlib.collections.PathCollection at 0x7f5c501e0f10>"
      ]
     },
     "execution_count": 252,
     "metadata": {},
     "output_type": "execute_result"
    },
    {
     "data": {
      "image/png": "[encoded data removed]",
      "text/plain": [
       "<Figure size 432x288 with 1 Axes>"
      ]
     },
     "metadata": {
      "needs_background": "light"
     },
     "output_type": "display_data"
    }
   ],
   "source": [
    "X = PCA(2).fit_transform(df_filtered_log.T)\n",
    "plt.scatter(X[:,0], X[:,1])"
   ]
  },
  {
   "cell_type": "markdown",
   "metadata": {},
   "source": [
    "# GSE127927"
   ]
  },
  {
   "cell_type": "code",
   "execution_count": 69,
   "metadata": {},
   "outputs": [
    {
     "data": {
      "text/plain": [
       "'GSM3656666'"
      ]
     },
     "execution_count": 69,
     "metadata": {},
     "output_type": "execute_result"
    }
   ],
   "source": []
  },
  {
   "cell_type": "code",
   "execution_count": 80,
   "metadata": {},
   "outputs": [],
   "source": [
    "lis = natsorted(glob('./data/GSE127927/GSE127927_RAW/*.txt'))\n",
    "\n",
    "p = lis[0]\n",
    "name = basename(p).split('_')[0]\n",
    "df = pd.read_csv(p, sep='\\t').set_index('gene_id')['expected_count'].rename(name)\n",
    "\n",
    "for p in lis[1:]:\n",
    "    name = basename(p).split('_')[0]\n",
    "    tmp = pd.read_csv(p, sep='\\t').set_index('gene_id')['expected_count'].rename(name)\n",
    "    df = pd.concat([df, tmp], axis=1)\n"
   ]
  },
  {
   "cell_type": "code",
   "execution_count": 82,
   "metadata": {},
   "outputs": [],
   "source": [
    "#df.to_csv('data/GSE127927/GSE127927_raw_table.csv', sep='\\t')"
   ]
  },
  {
   "cell_type": "code",
   "execution_count": 83,
   "metadata": {},
   "outputs": [],
   "source": [
    "#S = df.expected_count.sum()\n",
    "#RPK = df.expected_count / (df.effective_length + 1) / 1000\n",
    "#RPK / (RPK.sum() / 1_000_000)"
   ]
  },
  {
   "cell_type": "code",
   "execution_count": 48,
   "metadata": {},
   "outputs": [
    {
     "data": {
      "text/html": [
       "<div>\n",
       "<style scoped>\n",
       "    .dataframe tbody tr th:only-of-type {\n",
       "        vertical-align: middle;\n",
       "    }\n",
       "\n",
       "    .dataframe tbody tr th {\n",
       "        vertical-align: top;\n",
       "    }\n",
       "\n",
       "    .dataframe thead th {\n",
       "        text-align: right;\n",
       "    }\n",
       "</style>\n",
       "<table border=\"1\" class=\"dataframe\">\n",
       "  <thead>\n",
       "    <tr style=\"text-align: right;\">\n",
       "      <th></th>\n",
       "      <th>gene_id</th>\n",
       "      <th>transcript_id(s)</th>\n",
       "      <th>length</th>\n",
       "      <th>effective_length</th>\n",
       "      <th>expected_count</th>\n",
       "      <th>TPM</th>\n",
       "      <th>FPKM</th>\n",
       "    </tr>\n",
       "  </thead>\n",
       "  <tbody>\n",
       "    <tr>\n",
       "      <th>0</th>\n",
       "      <td>ENSMUSG00000000001</td>\n",
       "      <td>ENSMUST00000000001</td>\n",
       "      <td>3262.00</td>\n",
       "      <td>3188.51</td>\n",
       "      <td>922.00</td>\n",
       "      <td>83.90</td>\n",
       "      <td>48.31</td>\n",
       "    </tr>\n",
       "    <tr>\n",
       "      <th>1</th>\n",
       "      <td>ENSMUSG00000000003</td>\n",
       "      <td>ENSMUST00000000003,ENSMUST00000114041</td>\n",
       "      <td>799.50</td>\n",
       "      <td>726.01</td>\n",
       "      <td>0.00</td>\n",
       "      <td>0.00</td>\n",
       "      <td>0.00</td>\n",
       "    </tr>\n",
       "    <tr>\n",
       "      <th>2</th>\n",
       "      <td>ENSMUSG00000000028</td>\n",
       "      <td>ENSMUST00000000028,ENSMUST00000096990,ENSMUST0...</td>\n",
       "      <td>1977.82</td>\n",
       "      <td>1904.33</td>\n",
       "      <td>169.00</td>\n",
       "      <td>25.75</td>\n",
       "      <td>14.83</td>\n",
       "    </tr>\n",
       "    <tr>\n",
       "      <th>3</th>\n",
       "      <td>ENSMUSG00000000031</td>\n",
       "      <td>ENSMUST00000132294,ENSMUST00000136359,ENSMUST0...</td>\n",
       "      <td>1943.58</td>\n",
       "      <td>1870.09</td>\n",
       "      <td>55601.64</td>\n",
       "      <td>8626.86</td>\n",
       "      <td>4967.76</td>\n",
       "    </tr>\n",
       "    <tr>\n",
       "      <th>4</th>\n",
       "      <td>ENSMUSG00000000037</td>\n",
       "      <td>ENSMUST00000019101,ENSMUST00000074802,ENSMUST0...</td>\n",
       "      <td>3496.00</td>\n",
       "      <td>3422.51</td>\n",
       "      <td>13.00</td>\n",
       "      <td>1.10</td>\n",
       "      <td>0.63</td>\n",
       "    </tr>\n",
       "    <tr>\n",
       "      <th>...</th>\n",
       "      <td>...</td>\n",
       "      <td>...</td>\n",
       "      <td>...</td>\n",
       "      <td>...</td>\n",
       "      <td>...</td>\n",
       "      <td>...</td>\n",
       "      <td>...</td>\n",
       "    </tr>\n",
       "    <tr>\n",
       "      <th>54747</th>\n",
       "      <td>ENSMUSG00000117651</td>\n",
       "      <td>ENSMUST00000233998</td>\n",
       "      <td>797.00</td>\n",
       "      <td>723.51</td>\n",
       "      <td>0.00</td>\n",
       "      <td>0.00</td>\n",
       "      <td>0.00</td>\n",
       "    </tr>\n",
       "    <tr>\n",
       "      <th>54748</th>\n",
       "      <td>ENSMUSG00000117652</td>\n",
       "      <td>ENSMUST00000176586</td>\n",
       "      <td>479.00</td>\n",
       "      <td>405.51</td>\n",
       "      <td>0.00</td>\n",
       "      <td>0.00</td>\n",
       "      <td>0.00</td>\n",
       "    </tr>\n",
       "    <tr>\n",
       "      <th>54749</th>\n",
       "      <td>ENSMUSG00000117653</td>\n",
       "      <td>ENSMUST00000234275</td>\n",
       "      <td>1312.00</td>\n",
       "      <td>1238.51</td>\n",
       "      <td>0.00</td>\n",
       "      <td>0.00</td>\n",
       "      <td>0.00</td>\n",
       "    </tr>\n",
       "    <tr>\n",
       "      <th>54750</th>\n",
       "      <td>ENSMUSG00000117654</td>\n",
       "      <td>ENSMUST00000234587</td>\n",
       "      <td>1195.00</td>\n",
       "      <td>1121.51</td>\n",
       "      <td>0.00</td>\n",
       "      <td>0.00</td>\n",
       "      <td>0.00</td>\n",
       "    </tr>\n",
       "    <tr>\n",
       "      <th>54751</th>\n",
       "      <td>ENSMUSG00000117655</td>\n",
       "      <td>ENSMUST00000234049,ENSMUST00000234319,ENSMUST0...</td>\n",
       "      <td>1127.33</td>\n",
       "      <td>1053.84</td>\n",
       "      <td>0.00</td>\n",
       "      <td>0.00</td>\n",
       "      <td>0.00</td>\n",
       "    </tr>\n",
       "  </tbody>\n",
       "</table>\n",
       "<p>54752 rows × 7 columns</p>\n",
       "</div>"
      ],
      "text/plain": [
       "                  gene_id                                   transcript_id(s)  \\\n",
       "0      ENSMUSG00000000001                                 ENSMUST00000000001   \n",
       "1      ENSMUSG00000000003              ENSMUST00000000003,ENSMUST00000114041   \n",
       "2      ENSMUSG00000000028  ENSMUST00000000028,ENSMUST00000096990,ENSMUST0...   \n",
       "3      ENSMUSG00000000031  ENSMUST00000132294,ENSMUST00000136359,ENSMUST0...   \n",
       "4      ENSMUSG00000000037  ENSMUST00000019101,ENSMUST00000074802,ENSMUST0...   \n",
       "...                   ...                                                ...   \n",
       "54747  ENSMUSG00000117651                                 ENSMUST00000233998   \n",
       "54748  ENSMUSG00000117652                                 ENSMUST00000176586   \n",
       "54749  ENSMUSG00000117653                                 ENSMUST00000234275   \n",
       "54750  ENSMUSG00000117654                                 ENSMUST00000234587   \n",
       "54751  ENSMUSG00000117655  ENSMUST00000234049,ENSMUST00000234319,ENSMUST0...   \n",
       "\n",
       "        length  effective_length  expected_count      TPM     FPKM  \n",
       "0      3262.00           3188.51          922.00    83.90    48.31  \n",
       "1       799.50            726.01            0.00     0.00     0.00  \n",
       "2      1977.82           1904.33          169.00    25.75    14.83  \n",
       "3      1943.58           1870.09        55601.64  8626.86  4967.76  \n",
       "4      3496.00           3422.51           13.00     1.10     0.63  \n",
       "...        ...               ...             ...      ...      ...  \n",
       "54747   797.00            723.51            0.00     0.00     0.00  \n",
       "54748   479.00            405.51            0.00     0.00     0.00  \n",
       "54749  1312.00           1238.51            0.00     0.00     0.00  \n",
       "54750  1195.00           1121.51            0.00     0.00     0.00  \n",
       "54751  1127.33           1053.84            0.00     0.00     0.00  \n",
       "\n",
       "[54752 rows x 7 columns]"
      ]
     },
     "execution_count": 48,
     "metadata": {},
     "output_type": "execute_result"
    }
   ],
   "source": [
    "df"
   ]
  },
  {
   "cell_type": "markdown",
   "metadata": {},
   "source": [
    "# GSE103979"
   ]
  },
  {
   "cell_type": "code",
   "execution_count": 42,
   "metadata": {
    "ExecuteTime": {
     "end_time": "2021-07-14T14:24:04.323126Z",
     "start_time": "2021-07-14T14:24:04.231764Z"
    }
   },
   "outputs": [],
   "source": [
    "df = pd.read_csv(gse_path + '/GSE103979_genes_ntc_expression_v90_GEO.tsv', sep='\\t')\n",
    "#df.columns = [c.replace('WT', '') for c in df.columns]"
   ]
  },
  {
   "cell_type": "code",
   "execution_count": 64,
   "metadata": {
    "ExecuteTime": {
     "end_time": "2021-07-14T14:43:15.851802Z",
     "start_time": "2021-07-14T14:43:15.839216Z"
    }
   },
   "outputs": [
    {
     "data": {
      "text/plain": [
       "GSM3381672    GFPday0rep1\n",
       "GSM3381673    GFPday0rep2\n",
       "GSM3381674    GFPday1rep1\n",
       "GSM3381675    GFPday1rep2\n",
       "GSM3381676    GFPday3rep1\n",
       "GSM3381677    GFPday3rep2\n",
       "GSM3381678    GFPday5rep1\n",
       "GSM3381679    GFPday5rep2\n",
       "GSM3381680    GFPday8rep1\n",
       "GSM3381681    GFPday8rep2\n",
       "Name: title, dtype: object"
      ]
     },
     "execution_count": 64,
     "metadata": {},
     "output_type": "execute_result"
    }
   ],
   "source": [
    "pheno = pd.read_csv(gse_path + '/GSE103979_metadata.csv', index_col=0)\n",
    "\n",
    "pheno[pheno.title.str.contains('GFP')].title"
   ]
  },
  {
   "cell_type": "code",
   "execution_count": 44,
   "metadata": {
    "ExecuteTime": {
     "end_time": "2021-07-14T14:24:06.401553Z",
     "start_time": "2021-07-14T14:24:06.398666Z"
    }
   },
   "outputs": [],
   "source": [
    "colmap = dict(zip([c.replace('WT', '') for c in pheno.title.values], pheno.title.index))"
   ]
  },
  {
   "cell_type": "code",
   "execution_count": 45,
   "metadata": {
    "ExecuteTime": {
     "end_time": "2021-07-14T14:24:06.740813Z",
     "start_time": "2021-07-14T14:24:06.734196Z"
    }
   },
   "outputs": [],
   "source": [
    "df = df.rename(columns=colmap)\n",
    "df = df.drop(['enst', 'tss', 'strand'], 1)"
   ]
  },
  {
   "cell_type": "code",
   "execution_count": 49,
   "metadata": {
    "ExecuteTime": {
     "end_time": "2021-07-14T14:24:23.378055Z",
     "start_time": "2021-07-14T14:24:23.373419Z"
    }
   },
   "outputs": [
    {
     "data": {
      "text/plain": [
       "Index(['ensg', 'name', 'GSM2787321', 'GSM2787269', 'GSM2787295', 'GSM2787270',\n",
       "       'GSM2787296', 'GSM2787271', 'GSM2787297', 'GSM2787272', 'GSM2787298',\n",
       "       'GSM2787273', 'GSM2787299', 'GSM2787274', 'GSM2787300', 'GSM2787275',\n",
       "       'GSM2787301', 'GSM2787276', 'GSM2787302', 'GSM2787277', 'GSM2787303',\n",
       "       'GSM2787278', 'GSM2787304', 'GSM2787284', 'GSM2787310', 'GSM2787285',\n",
       "       'GSM2787311', 'GSM2787286', 'GSM2787312', 'GSM2787287', 'GSM2787313',\n",
       "       'GSM2787288', 'GSM2787314', 'GSM3381672', 'GSM3381673', 'GSM3381674',\n",
       "       'GSM3381675', 'GSM3381676', 'GSM3381677', 'GSM3381678', 'GSM3381679',\n",
       "       'GSM3381680', 'GSM3381681'],\n",
       "      dtype='object')"
      ]
     },
     "execution_count": 49,
     "metadata": {},
     "output_type": "execute_result"
    }
   ],
   "source": [
    "df.columns"
   ]
  },
  {
   "cell_type": "code",
   "execution_count": 50,
   "metadata": {
    "ExecuteTime": {
     "end_time": "2021-07-14T14:24:57.533951Z",
     "start_time": "2021-07-14T14:24:57.390387Z"
    }
   },
   "outputs": [],
   "source": [
    "#df.to_csv(gse_path + '/raw_data.csv')"
   ]
  },
  {
   "cell_type": "code",
   "execution_count": 57,
   "metadata": {
    "ExecuteTime": {
     "end_time": "2021-07-08T16:54:23.685957Z",
     "start_time": "2021-07-08T16:54:23.683390Z"
    }
   },
   "outputs": [],
   "source": [
    "# Ensembl stable identifiers\n",
    "# • ENSG########### Ensembl Gene ID\n",
    "# • ENST########### Ensembl Transcript ID\n",
    "# • ENSP########### Ensembl Peptide ID\n",
    "# • ENSE########### Ensembl Exon ID\n",
    "# • For non-human species a suffix is added:\n",
    "# MUS (Mus musculus) for mouse: ENSMUSG\n",
    "# DAR (Danio rerio) for zebrafish: ENSDARG\n"
   ]
  },
  {
   "cell_type": "markdown",
   "metadata": {},
   "source": [
    "# GSE161057"
   ]
  },
  {
   "cell_type": "code",
   "execution_count": 21,
   "metadata": {
    "ExecuteTime": {
     "end_time": "2021-07-08T16:03:26.825973Z",
     "start_time": "2021-07-08T16:03:26.708974Z"
    }
   },
   "outputs": [],
   "source": [
    "p = glob(gse_path + '/*.csv')[0]\n",
    "raw_counts = pd.read_csv(p, index_col=0)"
   ]
  },
  {
   "cell_type": "code",
   "execution_count": 23,
   "metadata": {
    "ExecuteTime": {
     "end_time": "2021-07-08T16:03:29.958925Z",
     "start_time": "2021-07-08T16:03:29.954885Z"
    }
   },
   "outputs": [
    {
     "data": {
      "text/plain": [
       "'./Data/GSE161057/GSE161057_Raw_gene_counts_matrix.csv'"
      ]
     },
     "execution_count": 23,
     "metadata": {},
     "output_type": "execute_result"
    }
   ],
   "source": [
    "p"
   ]
  },
  {
   "cell_type": "code",
   "execution_count": 24,
   "metadata": {
    "ExecuteTime": {
     "end_time": "2021-07-08T16:04:13.103522Z",
     "start_time": "2021-07-08T16:04:13.071420Z"
    }
   },
   "outputs": [
    {
     "data": {
      "text/html": [
       "<div>\n",
       "<style scoped>\n",
       "    .dataframe tbody tr th:only-of-type {\n",
       "        vertical-align: middle;\n",
       "    }\n",
       "\n",
       "    .dataframe tbody tr th {\n",
       "        vertical-align: top;\n",
       "    }\n",
       "\n",
       "    .dataframe thead th {\n",
       "        text-align: right;\n",
       "    }\n",
       "</style>\n",
       "<table border=\"1\" class=\"dataframe\">\n",
       "  <thead>\n",
       "    <tr style=\"text-align: right;\">\n",
       "      <th></th>\n",
       "      <th>Associated.Gene.Name</th>\n",
       "      <th>Chromosome.Name</th>\n",
       "      <th>DR_D0</th>\n",
       "      <th>DR_D1</th>\n",
       "      <th>DR_D3</th>\n",
       "      <th>DR_D5</th>\n",
       "      <th>DR_D7</th>\n",
       "      <th>FoxO6_D0</th>\n",
       "      <th>FoxO6_D1</th>\n",
       "      <th>FoxO6_D3</th>\n",
       "      <th>FoxO6_D5</th>\n",
       "      <th>FoxO6_D7</th>\n",
       "    </tr>\n",
       "  </thead>\n",
       "  <tbody>\n",
       "    <tr>\n",
       "      <th>ENSMUSG00000000001</th>\n",
       "      <td>Gnai3</td>\n",
       "      <td>3</td>\n",
       "      <td>141.0</td>\n",
       "      <td>194.0</td>\n",
       "      <td>159.0</td>\n",
       "      <td>155.0</td>\n",
       "      <td>252.0</td>\n",
       "      <td>302.0</td>\n",
       "      <td>264.0</td>\n",
       "      <td>202.0</td>\n",
       "      <td>235.0</td>\n",
       "      <td>166.0</td>\n",
       "    </tr>\n",
       "    <tr>\n",
       "      <th>ENSMUSG00000000003</th>\n",
       "      <td>Pbsn</td>\n",
       "      <td>X</td>\n",
       "      <td>0.0</td>\n",
       "      <td>0.0</td>\n",
       "      <td>0.0</td>\n",
       "      <td>0.0</td>\n",
       "      <td>0.0</td>\n",
       "      <td>0.0</td>\n",
       "      <td>0.0</td>\n",
       "      <td>0.0</td>\n",
       "      <td>0.0</td>\n",
       "      <td>0.0</td>\n",
       "    </tr>\n",
       "    <tr>\n",
       "      <th>ENSMUSG00000000028</th>\n",
       "      <td>Cdc45</td>\n",
       "      <td>16</td>\n",
       "      <td>47.0</td>\n",
       "      <td>38.0</td>\n",
       "      <td>22.0</td>\n",
       "      <td>47.0</td>\n",
       "      <td>50.0</td>\n",
       "      <td>38.0</td>\n",
       "      <td>28.0</td>\n",
       "      <td>46.0</td>\n",
       "      <td>63.0</td>\n",
       "      <td>26.0</td>\n",
       "    </tr>\n",
       "    <tr>\n",
       "      <th>ENSMUSG00000000031</th>\n",
       "      <td>H19</td>\n",
       "      <td>7</td>\n",
       "      <td>552.0</td>\n",
       "      <td>119.0</td>\n",
       "      <td>120.0</td>\n",
       "      <td>127.0</td>\n",
       "      <td>120.0</td>\n",
       "      <td>1322.0</td>\n",
       "      <td>271.0</td>\n",
       "      <td>279.0</td>\n",
       "      <td>344.0</td>\n",
       "      <td>336.0</td>\n",
       "    </tr>\n",
       "    <tr>\n",
       "      <th>ENSMUSG00000000037</th>\n",
       "      <td>Scml2</td>\n",
       "      <td>X</td>\n",
       "      <td>7.0</td>\n",
       "      <td>13.0</td>\n",
       "      <td>7.0</td>\n",
       "      <td>9.0</td>\n",
       "      <td>6.0</td>\n",
       "      <td>4.0</td>\n",
       "      <td>9.0</td>\n",
       "      <td>7.0</td>\n",
       "      <td>10.0</td>\n",
       "      <td>5.0</td>\n",
       "    </tr>\n",
       "    <tr>\n",
       "      <th>...</th>\n",
       "      <td>...</td>\n",
       "      <td>...</td>\n",
       "      <td>...</td>\n",
       "      <td>...</td>\n",
       "      <td>...</td>\n",
       "      <td>...</td>\n",
       "      <td>...</td>\n",
       "      <td>...</td>\n",
       "      <td>...</td>\n",
       "      <td>...</td>\n",
       "      <td>...</td>\n",
       "      <td>...</td>\n",
       "    </tr>\n",
       "    <tr>\n",
       "      <th>ENSMUSG00000110715</th>\n",
       "      <td>RP23-83G5.2</td>\n",
       "      <td>8</td>\n",
       "      <td>0.0</td>\n",
       "      <td>0.0</td>\n",
       "      <td>0.0</td>\n",
       "      <td>0.0</td>\n",
       "      <td>0.0</td>\n",
       "      <td>0.0</td>\n",
       "      <td>0.0</td>\n",
       "      <td>0.0</td>\n",
       "      <td>0.0</td>\n",
       "      <td>0.0</td>\n",
       "    </tr>\n",
       "    <tr>\n",
       "      <th>ENSMUSG00000110716</th>\n",
       "      <td>RP24-94F12.4</td>\n",
       "      <td>8</td>\n",
       "      <td>0.0</td>\n",
       "      <td>0.0</td>\n",
       "      <td>0.0</td>\n",
       "      <td>0.0</td>\n",
       "      <td>0.0</td>\n",
       "      <td>0.0</td>\n",
       "      <td>0.0</td>\n",
       "      <td>0.0</td>\n",
       "      <td>0.0</td>\n",
       "      <td>0.0</td>\n",
       "    </tr>\n",
       "    <tr>\n",
       "      <th>ENSMUSG00000110717</th>\n",
       "      <td>RP23-44D2.1</td>\n",
       "      <td>8</td>\n",
       "      <td>0.0</td>\n",
       "      <td>0.0</td>\n",
       "      <td>0.0</td>\n",
       "      <td>0.0</td>\n",
       "      <td>1.0</td>\n",
       "      <td>0.0</td>\n",
       "      <td>1.0</td>\n",
       "      <td>0.0</td>\n",
       "      <td>0.0</td>\n",
       "      <td>1.0</td>\n",
       "    </tr>\n",
       "    <tr>\n",
       "      <th>ENSMUSG00000110718</th>\n",
       "      <td>RP23-60O19.1</td>\n",
       "      <td>8</td>\n",
       "      <td>0.0</td>\n",
       "      <td>0.0</td>\n",
       "      <td>0.0</td>\n",
       "      <td>0.0</td>\n",
       "      <td>0.0</td>\n",
       "      <td>0.0</td>\n",
       "      <td>0.0</td>\n",
       "      <td>0.0</td>\n",
       "      <td>1.0</td>\n",
       "      <td>1.0</td>\n",
       "    </tr>\n",
       "    <tr>\n",
       "      <th>ENSMUSG00000110719</th>\n",
       "      <td>RP23-336P20.1</td>\n",
       "      <td>8</td>\n",
       "      <td>0.0</td>\n",
       "      <td>0.0</td>\n",
       "      <td>0.0</td>\n",
       "      <td>0.0</td>\n",
       "      <td>0.0</td>\n",
       "      <td>0.0</td>\n",
       "      <td>0.0</td>\n",
       "      <td>0.0</td>\n",
       "      <td>0.0</td>\n",
       "      <td>0.0</td>\n",
       "    </tr>\n",
       "  </tbody>\n",
       "</table>\n",
       "<p>48476 rows × 12 columns</p>\n",
       "</div>"
      ],
      "text/plain": [
       "                   Associated.Gene.Name Chromosome.Name  DR_D0  DR_D1  DR_D3  \\\n",
       "ENSMUSG00000000001                Gnai3               3  141.0  194.0  159.0   \n",
       "ENSMUSG00000000003                 Pbsn               X    0.0    0.0    0.0   \n",
       "ENSMUSG00000000028                Cdc45              16   47.0   38.0   22.0   \n",
       "ENSMUSG00000000031                  H19               7  552.0  119.0  120.0   \n",
       "ENSMUSG00000000037                Scml2               X    7.0   13.0    7.0   \n",
       "...                                 ...             ...    ...    ...    ...   \n",
       "ENSMUSG00000110715          RP23-83G5.2               8    0.0    0.0    0.0   \n",
       "ENSMUSG00000110716         RP24-94F12.4               8    0.0    0.0    0.0   \n",
       "ENSMUSG00000110717          RP23-44D2.1               8    0.0    0.0    0.0   \n",
       "ENSMUSG00000110718         RP23-60O19.1               8    0.0    0.0    0.0   \n",
       "ENSMUSG00000110719        RP23-336P20.1               8    0.0    0.0    0.0   \n",
       "\n",
       "                    DR_D5  DR_D7  FoxO6_D0  FoxO6_D1  FoxO6_D3  FoxO6_D5  \\\n",
       "ENSMUSG00000000001  155.0  252.0     302.0     264.0     202.0     235.0   \n",
       "ENSMUSG00000000003    0.0    0.0       0.0       0.0       0.0       0.0   \n",
       "ENSMUSG00000000028   47.0   50.0      38.0      28.0      46.0      63.0   \n",
       "ENSMUSG00000000031  127.0  120.0    1322.0     271.0     279.0     344.0   \n",
       "ENSMUSG00000000037    9.0    6.0       4.0       9.0       7.0      10.0   \n",
       "...                   ...    ...       ...       ...       ...       ...   \n",
       "ENSMUSG00000110715    0.0    0.0       0.0       0.0       0.0       0.0   \n",
       "ENSMUSG00000110716    0.0    0.0       0.0       0.0       0.0       0.0   \n",
       "ENSMUSG00000110717    0.0    1.0       0.0       1.0       0.0       0.0   \n",
       "ENSMUSG00000110718    0.0    0.0       0.0       0.0       0.0       1.0   \n",
       "ENSMUSG00000110719    0.0    0.0       0.0       0.0       0.0       0.0   \n",
       "\n",
       "                    FoxO6_D7  \n",
       "ENSMUSG00000000001     166.0  \n",
       "ENSMUSG00000000003       0.0  \n",
       "ENSMUSG00000000028      26.0  \n",
       "ENSMUSG00000000031     336.0  \n",
       "ENSMUSG00000000037       5.0  \n",
       "...                      ...  \n",
       "ENSMUSG00000110715       0.0  \n",
       "ENSMUSG00000110716       0.0  \n",
       "ENSMUSG00000110717       1.0  \n",
       "ENSMUSG00000110718       1.0  \n",
       "ENSMUSG00000110719       0.0  \n",
       "\n",
       "[48476 rows x 12 columns]"
      ]
     },
     "execution_count": 24,
     "metadata": {},
     "output_type": "execute_result"
    }
   ],
   "source": [
    "raw_counts"
   ]
  },
  {
   "cell_type": "markdown",
   "metadata": {},
   "source": [
    "# GSE115451"
   ]
  },
  {
   "cell_type": "code",
   "execution_count": null,
   "metadata": {},
   "outputs": [],
   "source": [
    "ex = glob(gse_path + '/D12_Sox2_WT_vs_D12_Sox2_delta(120-180)_output/*')[2]\n",
    "glob(gse_path + '/D12_Sox2_WT_vs_D12_Sox2_delta(120-180)_output/*')"
   ]
  },
  {
   "cell_type": "code",
   "execution_count": null,
   "metadata": {},
   "outputs": [],
   "source": [
    "df = pd.read_csv(ex, sep='\\t')"
   ]
  },
  {
   "cell_type": "code",
   "execution_count": null,
   "metadata": {},
   "outputs": [],
   "source": [
    "df.columns"
   ]
  },
  {
   "cell_type": "markdown",
   "metadata": {
    "heading_collapsed": true
   },
   "source": [
    "# GSE102348\n",
    "\n",
    "* What duplicates in genes mean?\n",
    "    * I have summed up it"
   ]
  },
  {
   "cell_type": "code",
   "execution_count": 92,
   "metadata": {
    "ExecuteTime": {
     "end_time": "2020-12-26T10:00:52.012909Z",
     "start_time": "2020-12-26T10:00:52.007279Z"
    },
    "hidden": true
   },
   "outputs": [
    {
     "data": {
      "text/plain": [
       "['./Data/GSE102348/GSE102348_Myc_pert.fpkm.txt',\n",
       " './Data/GSE102348/GSE102348_WT-2_fpkm.txt',\n",
       " './Data/GSE102348/GSE102348_WT-1_fpkm.txt',\n",
       " './Data/GSE102348/GSE102348_Mbd3f_-_fpkm.txt',\n",
       " './Data/GSE102348/GSE102348_Gatad2a-_fpkm.txt']"
      ]
     },
     "execution_count": 92,
     "metadata": {},
     "output_type": "execute_result"
    }
   ],
   "source": [
    "gse = glob(\"./Data/GSE102348/*\")\n",
    "gse"
   ]
  },
  {
   "cell_type": "code",
   "execution_count": 98,
   "metadata": {
    "ExecuteTime": {
     "end_time": "2020-12-26T10:02:07.444288Z",
     "start_time": "2020-12-26T10:02:06.813821Z"
    },
    "hidden": true
   },
   "outputs": [
    {
     "data": {
      "application/vnd.jupyter.widget-view+json": {
       "model_id": "44aca82cdbc643fa93ec825bf1f9f627",
       "version_major": 2,
       "version_minor": 0
      },
      "text/plain": [
       "HBox(children=(HTML(value=''), FloatProgress(value=0.0, max=5.0), HTML(value='')))"
      ]
     },
     "metadata": {},
     "output_type": "display_data"
    },
    {
     "name": "stdout",
     "output_type": "stream",
     "text": [
      "\n"
     ]
    }
   ],
   "source": [
    "#preprocessing and merging\n",
    "symbols = {}\n",
    "mdf = pd.DataFrame()\n",
    "\n",
    "for path in tqdm(gse):\n",
    "\n",
    "    df = pd.read_csv(path, sep='\\t', index_col=0)\n",
    "    symbols.update(df.Symbol.to_dict())\n",
    "    df = df.groupby(level=0).sum()\n",
    "    df.columns = [col + '__' + os.path.basename(path) for col in df.columns]\n",
    "\n",
    "    if mdf.shape == (0, 0):\n",
    "        mdf = df\n",
    "    else:\n",
    "        mdf = pd.merge(mdf, df, left_index=True, right_index=True)"
   ]
  },
  {
   "cell_type": "code",
   "execution_count": 104,
   "metadata": {
    "ExecuteTime": {
     "end_time": "2020-12-26T10:21:46.256033Z",
     "start_time": "2020-12-26T10:21:46.226489Z"
    },
    "hidden": true
   },
   "outputs": [
    {
     "data": {
      "text/html": [
       "<div>\n",
       "<style scoped>\n",
       "    .dataframe tbody tr th:only-of-type {\n",
       "        vertical-align: middle;\n",
       "    }\n",
       "\n",
       "    .dataframe tbody tr th {\n",
       "        vertical-align: top;\n",
       "    }\n",
       "\n",
       "    .dataframe thead th {\n",
       "        text-align: right;\n",
       "    }\n",
       "</style>\n",
       "<table border=\"1\" class=\"dataframe\">\n",
       "  <thead>\n",
       "    <tr style=\"text-align: right;\">\n",
       "      <th></th>\n",
       "      <th>OSK_OE_D4__GSE102348_Myc_pert.fpkm.txt</th>\n",
       "      <th>siMyc_D3__GSE102348_Myc_pert.fpkm.txt</th>\n",
       "      <th>OSK_Myc_OE_D4__GSE102348_Myc_pert.fpkm.txt</th>\n",
       "      <th>Myc_OE_D4__GSE102348_Myc_pert.fpkm.txt</th>\n",
       "      <th>siMyc_D7__GSE102348_Myc_pert.fpkm.txt</th>\n",
       "      <th>Myc_inh_D3__GSE102348_Myc_pert.fpkm.txt</th>\n",
       "      <th>siControl_MEF_1__GSE102348_Myc_pert.fpkm.txt</th>\n",
       "      <th>siControl_MEF_2__GSE102348_Myc_pert.fpkm.txt</th>\n",
       "      <th>siControl_D7__GSE102348_Myc_pert.fpkm.txt</th>\n",
       "      <th>MEF__GSE102348_WT-2_fpkm.txt</th>\n",
       "      <th>...</th>\n",
       "      <th>MEF__GSE102348_Gatad2a-_fpkm.txt</th>\n",
       "      <th>Day1__GSE102348_Gatad2a-_fpkm.txt</th>\n",
       "      <th>Day2__GSE102348_Gatad2a-_fpkm.txt</th>\n",
       "      <th>Day3__GSE102348_Gatad2a-_fpkm.txt</th>\n",
       "      <th>Day4__GSE102348_Gatad2a-_fpkm.txt</th>\n",
       "      <th>Day5__GSE102348_Gatad2a-_fpkm.txt</th>\n",
       "      <th>Day6__GSE102348_Gatad2a-_fpkm.txt</th>\n",
       "      <th>Day7__GSE102348_Gatad2a-_fpkm.txt</th>\n",
       "      <th>Day8__GSE102348_Gatad2a-_fpkm.txt</th>\n",
       "      <th>IPS__GSE102348_Gatad2a-_fpkm.txt</th>\n",
       "    </tr>\n",
       "  </thead>\n",
       "  <tbody>\n",
       "    <tr>\n",
       "      <th>ENSMUSG00000000001</th>\n",
       "      <td>70.20880</td>\n",
       "      <td>49.087200</td>\n",
       "      <td>85.86440</td>\n",
       "      <td>44.648300</td>\n",
       "      <td>53.779100</td>\n",
       "      <td>31.38270</td>\n",
       "      <td>59.543600</td>\n",
       "      <td>56.09610</td>\n",
       "      <td>51.050600</td>\n",
       "      <td>40.96310</td>\n",
       "      <td>...</td>\n",
       "      <td>61.51270</td>\n",
       "      <td>125.69800</td>\n",
       "      <td>80.78640</td>\n",
       "      <td>73.25330</td>\n",
       "      <td>55.29450</td>\n",
       "      <td>45.315800</td>\n",
       "      <td>32.364600</td>\n",
       "      <td>41.253000</td>\n",
       "      <td>40.34810</td>\n",
       "      <td>36.14090</td>\n",
       "    </tr>\n",
       "    <tr>\n",
       "      <th>ENSMUSG00000000003</th>\n",
       "      <td>0.00000</td>\n",
       "      <td>0.000000</td>\n",
       "      <td>0.00000</td>\n",
       "      <td>0.000000</td>\n",
       "      <td>0.000000</td>\n",
       "      <td>0.00000</td>\n",
       "      <td>0.000000</td>\n",
       "      <td>0.00000</td>\n",
       "      <td>0.000000</td>\n",
       "      <td>0.00000</td>\n",
       "      <td>...</td>\n",
       "      <td>0.00000</td>\n",
       "      <td>0.00000</td>\n",
       "      <td>0.00000</td>\n",
       "      <td>0.00000</td>\n",
       "      <td>0.00000</td>\n",
       "      <td>0.000000</td>\n",
       "      <td>0.000000</td>\n",
       "      <td>0.000000</td>\n",
       "      <td>0.00000</td>\n",
       "      <td>0.00000</td>\n",
       "    </tr>\n",
       "    <tr>\n",
       "      <th>ENSMUSG00000000028</th>\n",
       "      <td>36.99970</td>\n",
       "      <td>8.700530</td>\n",
       "      <td>16.98650</td>\n",
       "      <td>21.694000</td>\n",
       "      <td>2.210170</td>\n",
       "      <td>3.76223</td>\n",
       "      <td>7.541690</td>\n",
       "      <td>8.57113</td>\n",
       "      <td>3.282430</td>\n",
       "      <td>2.07973</td>\n",
       "      <td>...</td>\n",
       "      <td>5.27326</td>\n",
       "      <td>23.21300</td>\n",
       "      <td>20.27560</td>\n",
       "      <td>18.81090</td>\n",
       "      <td>20.20770</td>\n",
       "      <td>33.265800</td>\n",
       "      <td>22.697600</td>\n",
       "      <td>22.014100</td>\n",
       "      <td>25.78260</td>\n",
       "      <td>21.63770</td>\n",
       "    </tr>\n",
       "    <tr>\n",
       "      <th>ENSMUSG00000000031</th>\n",
       "      <td>31.74510</td>\n",
       "      <td>102.678000</td>\n",
       "      <td>9.55706</td>\n",
       "      <td>126.721000</td>\n",
       "      <td>47.265600</td>\n",
       "      <td>263.39200</td>\n",
       "      <td>692.555000</td>\n",
       "      <td>686.75500</td>\n",
       "      <td>290.162000</td>\n",
       "      <td>190.53300</td>\n",
       "      <td>...</td>\n",
       "      <td>2551.81000</td>\n",
       "      <td>449.62300</td>\n",
       "      <td>465.03600</td>\n",
       "      <td>104.33400</td>\n",
       "      <td>29.82650</td>\n",
       "      <td>27.124500</td>\n",
       "      <td>61.669700</td>\n",
       "      <td>964.019000</td>\n",
       "      <td>328.32400</td>\n",
       "      <td>7.38203</td>\n",
       "    </tr>\n",
       "    <tr>\n",
       "      <th>ENSMUSG00000000037</th>\n",
       "      <td>1.28126</td>\n",
       "      <td>0.461396</td>\n",
       "      <td>1.23489</td>\n",
       "      <td>0.660038</td>\n",
       "      <td>0.176468</td>\n",
       "      <td>1.14377</td>\n",
       "      <td>0.958246</td>\n",
       "      <td>1.21255</td>\n",
       "      <td>0.762319</td>\n",
       "      <td>1.05422</td>\n",
       "      <td>...</td>\n",
       "      <td>0.50684</td>\n",
       "      <td>1.64751</td>\n",
       "      <td>1.70932</td>\n",
       "      <td>2.74901</td>\n",
       "      <td>1.28041</td>\n",
       "      <td>0.894475</td>\n",
       "      <td>0.853084</td>\n",
       "      <td>0.574313</td>\n",
       "      <td>3.62574</td>\n",
       "      <td>0.24867</td>\n",
       "    </tr>\n",
       "    <tr>\n",
       "      <th>...</th>\n",
       "      <td>...</td>\n",
       "      <td>...</td>\n",
       "      <td>...</td>\n",
       "      <td>...</td>\n",
       "      <td>...</td>\n",
       "      <td>...</td>\n",
       "      <td>...</td>\n",
       "      <td>...</td>\n",
       "      <td>...</td>\n",
       "      <td>...</td>\n",
       "      <td>...</td>\n",
       "      <td>...</td>\n",
       "      <td>...</td>\n",
       "      <td>...</td>\n",
       "      <td>...</td>\n",
       "      <td>...</td>\n",
       "      <td>...</td>\n",
       "      <td>...</td>\n",
       "      <td>...</td>\n",
       "      <td>...</td>\n",
       "      <td>...</td>\n",
       "    </tr>\n",
       "    <tr>\n",
       "      <th>ENSMUSG00000099330</th>\n",
       "      <td>0.00000</td>\n",
       "      <td>0.000000</td>\n",
       "      <td>0.00000</td>\n",
       "      <td>0.000000</td>\n",
       "      <td>0.000000</td>\n",
       "      <td>0.00000</td>\n",
       "      <td>0.000000</td>\n",
       "      <td>0.00000</td>\n",
       "      <td>0.000000</td>\n",
       "      <td>0.00000</td>\n",
       "      <td>...</td>\n",
       "      <td>0.00000</td>\n",
       "      <td>0.00000</td>\n",
       "      <td>0.00000</td>\n",
       "      <td>0.00000</td>\n",
       "      <td>0.00000</td>\n",
       "      <td>0.000000</td>\n",
       "      <td>0.000000</td>\n",
       "      <td>0.000000</td>\n",
       "      <td>0.00000</td>\n",
       "      <td>51.16860</td>\n",
       "    </tr>\n",
       "    <tr>\n",
       "      <th>ENSMUSG00000099331</th>\n",
       "      <td>0.00000</td>\n",
       "      <td>0.000000</td>\n",
       "      <td>0.00000</td>\n",
       "      <td>0.000000</td>\n",
       "      <td>0.000000</td>\n",
       "      <td>0.00000</td>\n",
       "      <td>0.000000</td>\n",
       "      <td>0.00000</td>\n",
       "      <td>0.000000</td>\n",
       "      <td>0.00000</td>\n",
       "      <td>...</td>\n",
       "      <td>0.00000</td>\n",
       "      <td>0.00000</td>\n",
       "      <td>0.00000</td>\n",
       "      <td>0.00000</td>\n",
       "      <td>0.00000</td>\n",
       "      <td>0.000000</td>\n",
       "      <td>0.000000</td>\n",
       "      <td>0.000000</td>\n",
       "      <td>0.00000</td>\n",
       "      <td>0.00000</td>\n",
       "    </tr>\n",
       "    <tr>\n",
       "      <th>ENSMUSG00000099332</th>\n",
       "      <td>0.00000</td>\n",
       "      <td>0.000000</td>\n",
       "      <td>0.00000</td>\n",
       "      <td>0.000000</td>\n",
       "      <td>0.000000</td>\n",
       "      <td>1.68874</td>\n",
       "      <td>0.000000</td>\n",
       "      <td>0.00000</td>\n",
       "      <td>0.000000</td>\n",
       "      <td>0.00000</td>\n",
       "      <td>...</td>\n",
       "      <td>0.00000</td>\n",
       "      <td>0.00000</td>\n",
       "      <td>0.00000</td>\n",
       "      <td>0.00000</td>\n",
       "      <td>0.00000</td>\n",
       "      <td>0.000000</td>\n",
       "      <td>0.000000</td>\n",
       "      <td>0.000000</td>\n",
       "      <td>0.00000</td>\n",
       "      <td>0.00000</td>\n",
       "    </tr>\n",
       "    <tr>\n",
       "      <th>ENSMUSG00000099333</th>\n",
       "      <td>0.00000</td>\n",
       "      <td>0.000000</td>\n",
       "      <td>0.00000</td>\n",
       "      <td>0.000000</td>\n",
       "      <td>0.000000</td>\n",
       "      <td>0.00000</td>\n",
       "      <td>0.000000</td>\n",
       "      <td>0.00000</td>\n",
       "      <td>0.000000</td>\n",
       "      <td>0.00000</td>\n",
       "      <td>...</td>\n",
       "      <td>0.00000</td>\n",
       "      <td>0.00000</td>\n",
       "      <td>0.00000</td>\n",
       "      <td>0.00000</td>\n",
       "      <td>0.00000</td>\n",
       "      <td>0.000000</td>\n",
       "      <td>0.000000</td>\n",
       "      <td>0.000000</td>\n",
       "      <td>0.00000</td>\n",
       "      <td>0.00000</td>\n",
       "    </tr>\n",
       "    <tr>\n",
       "      <th>ENSMUSG00000099334</th>\n",
       "      <td>0.00000</td>\n",
       "      <td>0.000000</td>\n",
       "      <td>0.00000</td>\n",
       "      <td>0.000000</td>\n",
       "      <td>0.000000</td>\n",
       "      <td>0.00000</td>\n",
       "      <td>0.000000</td>\n",
       "      <td>0.00000</td>\n",
       "      <td>0.000000</td>\n",
       "      <td>0.00000</td>\n",
       "      <td>...</td>\n",
       "      <td>0.00000</td>\n",
       "      <td>0.00000</td>\n",
       "      <td>0.00000</td>\n",
       "      <td>0.00000</td>\n",
       "      <td>0.00000</td>\n",
       "      <td>0.000000</td>\n",
       "      <td>0.000000</td>\n",
       "      <td>3.104150</td>\n",
       "      <td>0.00000</td>\n",
       "      <td>0.00000</td>\n",
       "    </tr>\n",
       "  </tbody>\n",
       "</table>\n",
       "<p>38983 rows × 43 columns</p>\n",
       "</div>"
      ],
      "text/plain": [
       "                    OSK_OE_D4__GSE102348_Myc_pert.fpkm.txt  \\\n",
       "ENSMUSG00000000001                                70.20880   \n",
       "ENSMUSG00000000003                                 0.00000   \n",
       "ENSMUSG00000000028                                36.99970   \n",
       "ENSMUSG00000000031                                31.74510   \n",
       "ENSMUSG00000000037                                 1.28126   \n",
       "...                                                    ...   \n",
       "ENSMUSG00000099330                                 0.00000   \n",
       "ENSMUSG00000099331                                 0.00000   \n",
       "ENSMUSG00000099332                                 0.00000   \n",
       "ENSMUSG00000099333                                 0.00000   \n",
       "ENSMUSG00000099334                                 0.00000   \n",
       "\n",
       "                    siMyc_D3__GSE102348_Myc_pert.fpkm.txt  \\\n",
       "ENSMUSG00000000001                              49.087200   \n",
       "ENSMUSG00000000003                               0.000000   \n",
       "ENSMUSG00000000028                               8.700530   \n",
       "ENSMUSG00000000031                             102.678000   \n",
       "ENSMUSG00000000037                               0.461396   \n",
       "...                                                   ...   \n",
       "ENSMUSG00000099330                               0.000000   \n",
       "ENSMUSG00000099331                               0.000000   \n",
       "ENSMUSG00000099332                               0.000000   \n",
       "ENSMUSG00000099333                               0.000000   \n",
       "ENSMUSG00000099334                               0.000000   \n",
       "\n",
       "                    OSK_Myc_OE_D4__GSE102348_Myc_pert.fpkm.txt  \\\n",
       "ENSMUSG00000000001                                    85.86440   \n",
       "ENSMUSG00000000003                                     0.00000   \n",
       "ENSMUSG00000000028                                    16.98650   \n",
       "ENSMUSG00000000031                                     9.55706   \n",
       "ENSMUSG00000000037                                     1.23489   \n",
       "...                                                        ...   \n",
       "ENSMUSG00000099330                                     0.00000   \n",
       "ENSMUSG00000099331                                     0.00000   \n",
       "ENSMUSG00000099332                                     0.00000   \n",
       "ENSMUSG00000099333                                     0.00000   \n",
       "ENSMUSG00000099334                                     0.00000   \n",
       "\n",
       "                    Myc_OE_D4__GSE102348_Myc_pert.fpkm.txt  \\\n",
       "ENSMUSG00000000001                               44.648300   \n",
       "ENSMUSG00000000003                                0.000000   \n",
       "ENSMUSG00000000028                               21.694000   \n",
       "ENSMUSG00000000031                              126.721000   \n",
       "ENSMUSG00000000037                                0.660038   \n",
       "...                                                    ...   \n",
       "ENSMUSG00000099330                                0.000000   \n",
       "ENSMUSG00000099331                                0.000000   \n",
       "ENSMUSG00000099332                                0.000000   \n",
       "ENSMUSG00000099333                                0.000000   \n",
       "ENSMUSG00000099334                                0.000000   \n",
       "\n",
       "                    siMyc_D7__GSE102348_Myc_pert.fpkm.txt  \\\n",
       "ENSMUSG00000000001                              53.779100   \n",
       "ENSMUSG00000000003                               0.000000   \n",
       "ENSMUSG00000000028                               2.210170   \n",
       "ENSMUSG00000000031                              47.265600   \n",
       "ENSMUSG00000000037                               0.176468   \n",
       "...                                                   ...   \n",
       "ENSMUSG00000099330                               0.000000   \n",
       "ENSMUSG00000099331                               0.000000   \n",
       "ENSMUSG00000099332                               0.000000   \n",
       "ENSMUSG00000099333                               0.000000   \n",
       "ENSMUSG00000099334                               0.000000   \n",
       "\n",
       "                    Myc_inh_D3__GSE102348_Myc_pert.fpkm.txt  \\\n",
       "ENSMUSG00000000001                                 31.38270   \n",
       "ENSMUSG00000000003                                  0.00000   \n",
       "ENSMUSG00000000028                                  3.76223   \n",
       "ENSMUSG00000000031                                263.39200   \n",
       "ENSMUSG00000000037                                  1.14377   \n",
       "...                                                     ...   \n",
       "ENSMUSG00000099330                                  0.00000   \n",
       "ENSMUSG00000099331                                  0.00000   \n",
       "ENSMUSG00000099332                                  1.68874   \n",
       "ENSMUSG00000099333                                  0.00000   \n",
       "ENSMUSG00000099334                                  0.00000   \n",
       "\n",
       "                    siControl_MEF_1__GSE102348_Myc_pert.fpkm.txt  \\\n",
       "ENSMUSG00000000001                                     59.543600   \n",
       "ENSMUSG00000000003                                      0.000000   \n",
       "ENSMUSG00000000028                                      7.541690   \n",
       "ENSMUSG00000000031                                    692.555000   \n",
       "ENSMUSG00000000037                                      0.958246   \n",
       "...                                                          ...   \n",
       "ENSMUSG00000099330                                      0.000000   \n",
       "ENSMUSG00000099331                                      0.000000   \n",
       "ENSMUSG00000099332                                      0.000000   \n",
       "ENSMUSG00000099333                                      0.000000   \n",
       "ENSMUSG00000099334                                      0.000000   \n",
       "\n",
       "                    siControl_MEF_2__GSE102348_Myc_pert.fpkm.txt  \\\n",
       "ENSMUSG00000000001                                      56.09610   \n",
       "ENSMUSG00000000003                                       0.00000   \n",
       "ENSMUSG00000000028                                       8.57113   \n",
       "ENSMUSG00000000031                                     686.75500   \n",
       "ENSMUSG00000000037                                       1.21255   \n",
       "...                                                          ...   \n",
       "ENSMUSG00000099330                                       0.00000   \n",
       "ENSMUSG00000099331                                       0.00000   \n",
       "ENSMUSG00000099332                                       0.00000   \n",
       "ENSMUSG00000099333                                       0.00000   \n",
       "ENSMUSG00000099334                                       0.00000   \n",
       "\n",
       "                    siControl_D7__GSE102348_Myc_pert.fpkm.txt  \\\n",
       "ENSMUSG00000000001                                  51.050600   \n",
       "ENSMUSG00000000003                                   0.000000   \n",
       "ENSMUSG00000000028                                   3.282430   \n",
       "ENSMUSG00000000031                                 290.162000   \n",
       "ENSMUSG00000000037                                   0.762319   \n",
       "...                                                       ...   \n",
       "ENSMUSG00000099330                                   0.000000   \n",
       "ENSMUSG00000099331                                   0.000000   \n",
       "ENSMUSG00000099332                                   0.000000   \n",
       "ENSMUSG00000099333                                   0.000000   \n",
       "ENSMUSG00000099334                                   0.000000   \n",
       "\n",
       "                    MEF__GSE102348_WT-2_fpkm.txt  ...  \\\n",
       "ENSMUSG00000000001                      40.96310  ...   \n",
       "ENSMUSG00000000003                       0.00000  ...   \n",
       "ENSMUSG00000000028                       2.07973  ...   \n",
       "ENSMUSG00000000031                     190.53300  ...   \n",
       "ENSMUSG00000000037                       1.05422  ...   \n",
       "...                                          ...  ...   \n",
       "ENSMUSG00000099330                       0.00000  ...   \n",
       "ENSMUSG00000099331                       0.00000  ...   \n",
       "ENSMUSG00000099332                       0.00000  ...   \n",
       "ENSMUSG00000099333                       0.00000  ...   \n",
       "ENSMUSG00000099334                       0.00000  ...   \n",
       "\n",
       "                    MEF__GSE102348_Gatad2a-_fpkm.txt  \\\n",
       "ENSMUSG00000000001                          61.51270   \n",
       "ENSMUSG00000000003                           0.00000   \n",
       "ENSMUSG00000000028                           5.27326   \n",
       "ENSMUSG00000000031                        2551.81000   \n",
       "ENSMUSG00000000037                           0.50684   \n",
       "...                                              ...   \n",
       "ENSMUSG00000099330                           0.00000   \n",
       "ENSMUSG00000099331                           0.00000   \n",
       "ENSMUSG00000099332                           0.00000   \n",
       "ENSMUSG00000099333                           0.00000   \n",
       "ENSMUSG00000099334                           0.00000   \n",
       "\n",
       "                    Day1__GSE102348_Gatad2a-_fpkm.txt  \\\n",
       "ENSMUSG00000000001                          125.69800   \n",
       "ENSMUSG00000000003                            0.00000   \n",
       "ENSMUSG00000000028                           23.21300   \n",
       "ENSMUSG00000000031                          449.62300   \n",
       "ENSMUSG00000000037                            1.64751   \n",
       "...                                               ...   \n",
       "ENSMUSG00000099330                            0.00000   \n",
       "ENSMUSG00000099331                            0.00000   \n",
       "ENSMUSG00000099332                            0.00000   \n",
       "ENSMUSG00000099333                            0.00000   \n",
       "ENSMUSG00000099334                            0.00000   \n",
       "\n",
       "                    Day2__GSE102348_Gatad2a-_fpkm.txt  \\\n",
       "ENSMUSG00000000001                           80.78640   \n",
       "ENSMUSG00000000003                            0.00000   \n",
       "ENSMUSG00000000028                           20.27560   \n",
       "ENSMUSG00000000031                          465.03600   \n",
       "ENSMUSG00000000037                            1.70932   \n",
       "...                                               ...   \n",
       "ENSMUSG00000099330                            0.00000   \n",
       "ENSMUSG00000099331                            0.00000   \n",
       "ENSMUSG00000099332                            0.00000   \n",
       "ENSMUSG00000099333                            0.00000   \n",
       "ENSMUSG00000099334                            0.00000   \n",
       "\n",
       "                    Day3__GSE102348_Gatad2a-_fpkm.txt  \\\n",
       "ENSMUSG00000000001                           73.25330   \n",
       "ENSMUSG00000000003                            0.00000   \n",
       "ENSMUSG00000000028                           18.81090   \n",
       "ENSMUSG00000000031                          104.33400   \n",
       "ENSMUSG00000000037                            2.74901   \n",
       "...                                               ...   \n",
       "ENSMUSG00000099330                            0.00000   \n",
       "ENSMUSG00000099331                            0.00000   \n",
       "ENSMUSG00000099332                            0.00000   \n",
       "ENSMUSG00000099333                            0.00000   \n",
       "ENSMUSG00000099334                            0.00000   \n",
       "\n",
       "                    Day4__GSE102348_Gatad2a-_fpkm.txt  \\\n",
       "ENSMUSG00000000001                           55.29450   \n",
       "ENSMUSG00000000003                            0.00000   \n",
       "ENSMUSG00000000028                           20.20770   \n",
       "ENSMUSG00000000031                           29.82650   \n",
       "ENSMUSG00000000037                            1.28041   \n",
       "...                                               ...   \n",
       "ENSMUSG00000099330                            0.00000   \n",
       "ENSMUSG00000099331                            0.00000   \n",
       "ENSMUSG00000099332                            0.00000   \n",
       "ENSMUSG00000099333                            0.00000   \n",
       "ENSMUSG00000099334                            0.00000   \n",
       "\n",
       "                    Day5__GSE102348_Gatad2a-_fpkm.txt  \\\n",
       "ENSMUSG00000000001                          45.315800   \n",
       "ENSMUSG00000000003                           0.000000   \n",
       "ENSMUSG00000000028                          33.265800   \n",
       "ENSMUSG00000000031                          27.124500   \n",
       "ENSMUSG00000000037                           0.894475   \n",
       "...                                               ...   \n",
       "ENSMUSG00000099330                           0.000000   \n",
       "ENSMUSG00000099331                           0.000000   \n",
       "ENSMUSG00000099332                           0.000000   \n",
       "ENSMUSG00000099333                           0.000000   \n",
       "ENSMUSG00000099334                           0.000000   \n",
       "\n",
       "                    Day6__GSE102348_Gatad2a-_fpkm.txt  \\\n",
       "ENSMUSG00000000001                          32.364600   \n",
       "ENSMUSG00000000003                           0.000000   \n",
       "ENSMUSG00000000028                          22.697600   \n",
       "ENSMUSG00000000031                          61.669700   \n",
       "ENSMUSG00000000037                           0.853084   \n",
       "...                                               ...   \n",
       "ENSMUSG00000099330                           0.000000   \n",
       "ENSMUSG00000099331                           0.000000   \n",
       "ENSMUSG00000099332                           0.000000   \n",
       "ENSMUSG00000099333                           0.000000   \n",
       "ENSMUSG00000099334                           0.000000   \n",
       "\n",
       "                    Day7__GSE102348_Gatad2a-_fpkm.txt  \\\n",
       "ENSMUSG00000000001                          41.253000   \n",
       "ENSMUSG00000000003                           0.000000   \n",
       "ENSMUSG00000000028                          22.014100   \n",
       "ENSMUSG00000000031                         964.019000   \n",
       "ENSMUSG00000000037                           0.574313   \n",
       "...                                               ...   \n",
       "ENSMUSG00000099330                           0.000000   \n",
       "ENSMUSG00000099331                           0.000000   \n",
       "ENSMUSG00000099332                           0.000000   \n",
       "ENSMUSG00000099333                           0.000000   \n",
       "ENSMUSG00000099334                           3.104150   \n",
       "\n",
       "                    Day8__GSE102348_Gatad2a-_fpkm.txt  \\\n",
       "ENSMUSG00000000001                           40.34810   \n",
       "ENSMUSG00000000003                            0.00000   \n",
       "ENSMUSG00000000028                           25.78260   \n",
       "ENSMUSG00000000031                          328.32400   \n",
       "ENSMUSG00000000037                            3.62574   \n",
       "...                                               ...   \n",
       "ENSMUSG00000099330                            0.00000   \n",
       "ENSMUSG00000099331                            0.00000   \n",
       "ENSMUSG00000099332                            0.00000   \n",
       "ENSMUSG00000099333                            0.00000   \n",
       "ENSMUSG00000099334                            0.00000   \n",
       "\n",
       "                    IPS__GSE102348_Gatad2a-_fpkm.txt  \n",
       "ENSMUSG00000000001                          36.14090  \n",
       "ENSMUSG00000000003                           0.00000  \n",
       "ENSMUSG00000000028                          21.63770  \n",
       "ENSMUSG00000000031                           7.38203  \n",
       "ENSMUSG00000000037                           0.24867  \n",
       "...                                              ...  \n",
       "ENSMUSG00000099330                          51.16860  \n",
       "ENSMUSG00000099331                           0.00000  \n",
       "ENSMUSG00000099332                           0.00000  \n",
       "ENSMUSG00000099333                           0.00000  \n",
       "ENSMUSG00000099334                           0.00000  \n",
       "\n",
       "[38983 rows x 43 columns]"
      ]
     },
     "execution_count": 104,
     "metadata": {},
     "output_type": "execute_result"
    }
   ],
   "source": [
    "mdf"
   ]
  },
  {
   "cell_type": "code",
   "execution_count": 99,
   "metadata": {
    "ExecuteTime": {
     "end_time": "2020-12-26T10:02:14.267956Z",
     "start_time": "2020-12-26T10:02:14.249488Z"
    },
    "hidden": true
   },
   "outputs": [
    {
     "name": "stdout",
     "output_type": "stream",
     "text": [
      "<class 'pandas.core.frame.DataFrame'>\n",
      "Index: 38983 entries, ENSMUSG00000000001 to ENSMUSG00000099334\n",
      "Data columns (total 43 columns):\n",
      " #   Column                                        Non-Null Count  Dtype  \n",
      "---  ------                                        --------------  -----  \n",
      " 0   OSK_OE_D4__GSE102348_Myc_pert.fpkm.txt        38983 non-null  float64\n",
      " 1   siMyc_D3__GSE102348_Myc_pert.fpkm.txt         38983 non-null  float64\n",
      " 2   OSK_Myc_OE_D4__GSE102348_Myc_pert.fpkm.txt    38983 non-null  float64\n",
      " 3   Myc_OE_D4__GSE102348_Myc_pert.fpkm.txt        38983 non-null  float64\n",
      " 4   siMyc_D7__GSE102348_Myc_pert.fpkm.txt         38983 non-null  float64\n",
      " 5   Myc_inh_D3__GSE102348_Myc_pert.fpkm.txt       38983 non-null  float64\n",
      " 6   siControl_MEF_1__GSE102348_Myc_pert.fpkm.txt  38983 non-null  float64\n",
      " 7   siControl_MEF_2__GSE102348_Myc_pert.fpkm.txt  38983 non-null  float64\n",
      " 8   siControl_D7__GSE102348_Myc_pert.fpkm.txt     38983 non-null  float64\n",
      " 9   MEF__GSE102348_WT-2_fpkm.txt                  38983 non-null  float64\n",
      " 10  Day2__GSE102348_WT-2_fpkm.txt                 38983 non-null  float64\n",
      " 11  Day4__GSE102348_WT-2_fpkm.txt                 38983 non-null  float64\n",
      " 12  Day6__GSE102348_WT-2_fpkm.txt                 38983 non-null  float64\n",
      " 13  Day8__GSE102348_WT-2_fpkm.txt                 38983 non-null  float64\n",
      " 14  IPS__GSE102348_WT-2_fpkm.txt                  38983 non-null  float64\n",
      " 15  MEF__GSE102348_WT-1_fpkm.txt                  38983 non-null  float64\n",
      " 16  Day2__GSE102348_WT-1_fpkm.txt                 38983 non-null  float64\n",
      " 17  Day4__GSE102348_WT-1_fpkm.txt                 38983 non-null  float64\n",
      " 18  Day6__GSE102348_WT-1_fpkm.txt                 38983 non-null  float64\n",
      " 19  Day8__GSE102348_WT-1_fpkm.txt                 38983 non-null  float64\n",
      " 20  IPS__GSE102348_WT-1_fpkm.txt                  38983 non-null  float64\n",
      " 21  ES__GSE102348_WT-1_fpkm.txt                   38983 non-null  float64\n",
      " 22  MEF__GSE102348_Mbd3f_-_fpkm.txt               38983 non-null  float64\n",
      " 23  Day1__GSE102348_Mbd3f_-_fpkm.txt              38983 non-null  float64\n",
      " 24  Day2__GSE102348_Mbd3f_-_fpkm.txt              38983 non-null  float64\n",
      " 25  Day3__GSE102348_Mbd3f_-_fpkm.txt              38983 non-null  float64\n",
      " 26  Day4__GSE102348_Mbd3f_-_fpkm.txt              38983 non-null  float64\n",
      " 27  Day5__GSE102348_Mbd3f_-_fpkm.txt              38983 non-null  float64\n",
      " 28  Day6__GSE102348_Mbd3f_-_fpkm.txt              38983 non-null  float64\n",
      " 29  Day7__GSE102348_Mbd3f_-_fpkm.txt              38983 non-null  float64\n",
      " 30  Day8__GSE102348_Mbd3f_-_fpkm.txt              38983 non-null  float64\n",
      " 31  IPS__GSE102348_Mbd3f_-_fpkm.txt               38983 non-null  float64\n",
      " 32  ES__GSE102348_Mbd3f_-_fpkm.txt                38983 non-null  float64\n",
      " 33  MEF__GSE102348_Gatad2a-_fpkm.txt              38983 non-null  float64\n",
      " 34  Day1__GSE102348_Gatad2a-_fpkm.txt             38983 non-null  float64\n",
      " 35  Day2__GSE102348_Gatad2a-_fpkm.txt             38983 non-null  float64\n",
      " 36  Day3__GSE102348_Gatad2a-_fpkm.txt             38983 non-null  float64\n",
      " 37  Day4__GSE102348_Gatad2a-_fpkm.txt             38983 non-null  float64\n",
      " 38  Day5__GSE102348_Gatad2a-_fpkm.txt             38983 non-null  float64\n",
      " 39  Day6__GSE102348_Gatad2a-_fpkm.txt             38983 non-null  float64\n",
      " 40  Day7__GSE102348_Gatad2a-_fpkm.txt             38983 non-null  float64\n",
      " 41  Day8__GSE102348_Gatad2a-_fpkm.txt             38983 non-null  float64\n",
      " 42  IPS__GSE102348_Gatad2a-_fpkm.txt              38983 non-null  float64\n",
      "dtypes: float64(43)\n",
      "memory usage: 13.1+ MB\n"
     ]
    }
   ],
   "source": [
    "mdf.info()"
   ]
  },
  {
   "cell_type": "code",
   "execution_count": 102,
   "metadata": {
    "ExecuteTime": {
     "end_time": "2020-12-26T10:19:20.516440Z",
     "start_time": "2020-12-26T10:19:18.978969Z"
    },
    "hidden": true
   },
   "outputs": [],
   "source": [
    "#saving\n",
    "#mdf.to_csv('./Data/GSE102348/data_all.csv')"
   ]
  },
  {
   "cell_type": "markdown",
   "metadata": {
    "ExecuteTime": {
     "end_time": "2020-12-26T10:31:15.879732Z",
     "start_time": "2020-12-26T10:31:15.848525Z"
    },
    "heading_collapsed": true,
    "hidden": true
   },
   "source": [
    "## short exploration"
   ]
  },
  {
   "cell_type": "code",
   "execution_count": 107,
   "metadata": {
    "ExecuteTime": {
     "end_time": "2020-12-26T10:31:47.962400Z",
     "start_time": "2020-12-26T10:31:47.959943Z"
    },
    "hidden": true
   },
   "outputs": [],
   "source": [
    "X = mdf.T"
   ]
  },
  {
   "cell_type": "code",
   "execution_count": 117,
   "metadata": {
    "ExecuteTime": {
     "end_time": "2020-12-26T10:36:41.796610Z",
     "start_time": "2020-12-26T10:36:41.626445Z"
    },
    "hidden": true
   },
   "outputs": [],
   "source": [
    "pca = PCA(2)\n",
    "X_pca = pca.fit_transform(np.log10(X + 1.0))"
   ]
  },
  {
   "cell_type": "code",
   "execution_count": 136,
   "metadata": {
    "ExecuteTime": {
     "end_time": "2020-12-26T10:42:26.604880Z",
     "start_time": "2020-12-26T10:42:26.602254Z"
    },
    "hidden": true
   },
   "outputs": [],
   "source": [
    "experiments = dict(zip(set([i.split('__')[1] for i in X.index]), range(5)))"
   ]
  },
  {
   "cell_type": "code",
   "execution_count": 142,
   "metadata": {
    "ExecuteTime": {
     "end_time": "2020-12-26T10:45:11.500265Z",
     "start_time": "2020-12-26T10:45:11.497460Z"
    },
    "hidden": true
   },
   "outputs": [],
   "source": [
    "dictfunc = lambda x: experiments[x.split('__')[1]]\n",
    "exp_numbers = list(map(dictfunc, X.index))\n",
    "exp_labels = [i.split('__')[1] for i in X.index]"
   ]
  },
  {
   "cell_type": "code",
   "execution_count": 150,
   "metadata": {
    "ExecuteTime": {
     "end_time": "2020-12-26T10:48:55.249480Z",
     "start_time": "2020-12-26T10:48:54.937376Z"
    },
    "hidden": true
   },
   "outputs": [
    {
     "data": {
      "image/png": "[encoded data removed]",
      "text/plain": [
       "<Figure size 576x432 with 1 Axes>"
      ]
     },
     "metadata": {
      "needs_background": "light"
     },
     "output_type": "display_data"
    }
   ],
   "source": [
    "plt.figure(figsize=(8,6))\n",
    "#plt.scatter(X_pca[:,0], X_pca[:,1], c=exp_numbers)\n",
    "sns.scatterplot(x=X_pca[:,0], y=X_pca[:,1], hue=exp_labels)\n",
    "plt.title('PCA plot')\n",
    "plt.xlabel('Explained variance: ' + str(round(pca.explained_variance_ratio_[0], 3)*100) + '%', fontsize=14)\n",
    "plt.ylabel('Explained variance: ' + str(round(pca.explained_variance_ratio_[1], 3)*100) + '%', fontsize=14)\n",
    "plt.legend()\n",
    "plt.show()"
   ]
  },
  {
   "cell_type": "code",
   "execution_count": 151,
   "metadata": {
    "ExecuteTime": {
     "end_time": "2020-12-26T10:55:27.672184Z",
     "start_time": "2020-12-26T10:55:27.668316Z"
    },
    "hidden": true
   },
   "outputs": [],
   "source": [
    "from utils.CUR_decomposition.CUR import *"
   ]
  },
  {
   "cell_type": "code",
   "execution_count": 160,
   "metadata": {
    "ExecuteTime": {
     "end_time": "2020-12-26T10:59:27.995952Z",
     "start_time": "2020-12-26T10:59:27.944305Z"
    },
    "hidden": true
   },
   "outputs": [],
   "source": [
    "Xlog = np.log10(X + 1.0)"
   ]
  },
  {
   "cell_type": "code",
   "execution_count": 192,
   "metadata": {
    "ExecuteTime": {
     "end_time": "2020-12-26T11:11:35.237111Z",
     "start_time": "2020-12-26T11:11:33.153970Z"
    },
    "hidden": true
   },
   "outputs": [
    {
     "data": {
      "text/plain": [
       "(43, 23293)"
      ]
     },
     "execution_count": 192,
     "metadata": {},
     "output_type": "execute_result"
    }
   ],
   "source": [
    "cur = CUR(10, 0.01, truncated=False)\n",
    "C,U,R = cur.run_CUR(np.array(Xlog))\n",
    "C.shape"
   ]
  },
  {
   "cell_type": "code",
   "execution_count": 193,
   "metadata": {
    "ExecuteTime": {
     "end_time": "2020-12-26T11:11:42.345401Z",
     "start_time": "2020-12-26T11:11:42.342199Z"
    },
    "hidden": true
   },
   "outputs": [
    {
     "data": {
      "text/plain": [
       "array([2.93209928e-05, 2.98824504e-32, 4.29580448e-05, ...,\n",
       "       4.47160630e-06, 0.00000000e+00, 1.23447058e-06])"
      ]
     },
     "execution_count": 193,
     "metadata": {},
     "output_type": "execute_result"
    }
   ],
   "source": [
    "cur.pi_col"
   ]
  },
  {
   "cell_type": "code",
   "execution_count": 194,
   "metadata": {
    "ExecuteTime": {
     "end_time": "2020-12-26T11:11:43.823738Z",
     "start_time": "2020-12-26T11:11:43.674798Z"
    },
    "hidden": true
   },
   "outputs": [
    {
     "data": {
      "text/plain": [
       "[<matplotlib.lines.Line2D at 0x7f964dfacb90>]"
      ]
     },
     "execution_count": 194,
     "metadata": {},
     "output_type": "execute_result"
    },
    {
     "data": {
      "image/png": "[encoded data removed]",
      "text/plain": [
       "<Figure size 1080x360 with 1 Axes>"
      ]
     },
     "metadata": {
      "needs_background": "light"
     },
     "output_type": "display_data"
    }
   ],
   "source": [
    "plt.figure(figsize=(15,5))\n",
    "plt.plot(cur.pi_col)"
   ]
  },
  {
   "cell_type": "code",
   "execution_count": 199,
   "metadata": {
    "ExecuteTime": {
     "end_time": "2020-12-26T11:12:11.076403Z",
     "start_time": "2020-12-26T11:12:10.815970Z"
    },
    "hidden": true
   },
   "outputs": [
    {
     "data": {
      "image/png": "[encoded data removed]",
      "text/plain": [
       "<Figure size 576x432 with 1 Axes>"
      ]
     },
     "metadata": {
      "needs_background": "light"
     },
     "output_type": "display_data"
    }
   ],
   "source": [
    "supergenes = np.argsort(cur.pi_col)[::-1][:10]\n",
    "\n",
    "plt.figure(figsize=(8,6))\n",
    "#plt.scatter(X_pca[:,0], X_pca[:,1], c=exp_numbers)\n",
    "g1 = Xlog.iloc[:,supergenes[0]]\n",
    "g2 = Xlog.iloc[:,supergenes[1]]\n",
    "sns.scatterplot(x=g1, y=g2, hue=exp_labels)\n",
    "plt.title('CUR supergenes plot')\n",
    "plt.xlabel(g1.name, fontsize=14)\n",
    "plt.ylabel(g2.name, fontsize=14)\n",
    "plt.legend()\n",
    "plt.show()"
   ]
  },
  {
   "cell_type": "code",
   "execution_count": 201,
   "metadata": {
    "ExecuteTime": {
     "end_time": "2020-12-26T11:12:20.989501Z",
     "start_time": "2020-12-26T11:12:20.987506Z"
    },
    "hidden": true
   },
   "outputs": [],
   "source": [
    "# plt.figure(figsize=(8,6))\n",
    "# sns.scatterplot(x=C[:,0], y=C[:,1], hue=exp_labels)\n",
    "# plt.title('PCA plot')\n",
    "# plt.legend()\n",
    "# plt.show()"
   ]
  },
  {
   "cell_type": "markdown",
   "metadata": {
    "heading_collapsed": true
   },
   "source": [
    "# GSE103221\n",
    "\n",
    "* What data should be used?"
   ]
  },
  {
   "cell_type": "code",
   "execution_count": 258,
   "metadata": {
    "ExecuteTime": {
     "end_time": "2020-12-26T13:18:53.233429Z",
     "start_time": "2020-12-26T13:18:53.230307Z"
    },
    "hidden": true
   },
   "outputs": [],
   "source": [
    "geo_paths = sorted(glob('./Data/GSE103221/*.csv'))"
   ]
  },
  {
   "cell_type": "code",
   "execution_count": 259,
   "metadata": {
    "ExecuteTime": {
     "end_time": "2020-12-26T13:18:54.484057Z",
     "start_time": "2020-12-26T13:18:54.480999Z"
    },
    "hidden": true
   },
   "outputs": [
    {
     "data": {
      "text/plain": [
       "['./Data/GSE103221/GSE103221_normalized_counts.csv',\n",
       " './Data/GSE103221/GSE103221_raw_read_counts.csv',\n",
       " './Data/GSE103221/GSM3619570_10x_cip_d0.csv',\n",
       " './Data/GSE103221/GSM3619571_10x_cip_d3.csv',\n",
       " './Data/GSE103221/GSM3619572_10x_cip_d6.csv',\n",
       " './Data/GSE103221/GSM3619573_10x_cip_d9.csv',\n",
       " './Data/GSE103221/GSM3619574_10x_cip_d12.csv',\n",
       " './Data/GSE103221/GSM3619575_10x_cip_d16.csv',\n",
       " './Data/GSE103221/GSM3619576_10x_cip_d18.csv',\n",
       " './Data/GSE103221/GSM3619577_10x_cip_d22.csv',\n",
       " './Data/GSE103221/GSM3619578_10x_cip_d26.csv',\n",
       " './Data/GSE103221/GSM3619579_10x_cip_d32.csv',\n",
       " './Data/GSE103221/GSM3619580_10x_cip_d36.csv',\n",
       " './Data/GSE103221/GSM3619581_10x_cip_d40.csv',\n",
       " './Data/GSE103221/GSM3629847_10x_osk_mef.csv',\n",
       " './Data/GSE103221/GSM3629848_10x_osk_esc.csv',\n",
       " './Data/GSE103221/GSM3629849_10x_osk_d1.csv',\n",
       " './Data/GSE103221/GSM3629850_10x_osk_d0.csv',\n",
       " './Data/GSE103221/GSM3629851_10x_osk_d3.csv',\n",
       " './Data/GSE103221/GSM3629852_10x_osk_d5.csv',\n",
       " './Data/GSE103221/GSM3629853_10x_osk_d6.csv',\n",
       " './Data/GSE103221/GSM3629854_10x_osk_d7.csv',\n",
       " './Data/GSE103221/GSM3629855_10x_osk_d8.csv']"
      ]
     },
     "execution_count": 259,
     "metadata": {},
     "output_type": "execute_result"
    }
   ],
   "source": [
    "geo_paths"
   ]
  },
  {
   "cell_type": "code",
   "execution_count": 260,
   "metadata": {
    "ExecuteTime": {
     "end_time": "2020-12-26T13:19:14.354289Z",
     "start_time": "2020-12-26T13:19:03.569292Z"
    },
    "hidden": true
   },
   "outputs": [],
   "source": [
    "df1 = pd.read_csv(geo_paths[2], index_col=0)"
   ]
  },
  {
   "cell_type": "code",
   "execution_count": 249,
   "metadata": {
    "ExecuteTime": {
     "end_time": "2020-12-26T12:53:57.813972Z",
     "start_time": "2020-12-26T12:53:56.224801Z"
    },
    "hidden": true
   },
   "outputs": [],
   "source": [
    "df2 = pd.read_csv(geo_paths[1], index_col=0)"
   ]
  },
  {
   "cell_type": "code",
   "execution_count": 292,
   "metadata": {
    "ExecuteTime": {
     "end_time": "2020-12-26T15:39:32.290294Z",
     "start_time": "2020-12-26T15:39:32.287070Z"
    },
    "hidden": true
   },
   "outputs": [
    {
     "data": {
      "text/plain": [
       "Index(['AAACCTGAGAGTCGGT', 'AAACCTGAGCCAGGAT', 'AAACCTGCATGGAATA',\n",
       "       'AAACCTGTCAGGCCCA', 'AAACCTGTCCCTAACC', 'AAACCTGTCTCGTATT',\n",
       "       'AAACCTGTCTCTAGGA', 'AAACGGGAGATGTGGC', 'AAACGGGAGCTTTGGT',\n",
       "       'AAACGGGAGGGTATCG',\n",
       "       ...\n",
       "       'TTTGGTTAGGAGTACC', 'TTTGGTTCAACTGCGC', 'TTTGGTTCATAGGATA',\n",
       "       'TTTGGTTCATCCTAGA', 'TTTGGTTTCAGTTTGG', 'TTTGTCAGTAGCACGA',\n",
       "       'TTTGTCAGTATCAGTC', 'TTTGTCAGTCTACCTC', 'TTTGTCAGTCTTGCGG',\n",
       "       'TTTGTCATCGCAAGCC'],\n",
       "      dtype='object', length=4054)"
      ]
     },
     "execution_count": 292,
     "metadata": {},
     "output_type": "execute_result"
    }
   ],
   "source": [
    "df1.columns"
   ]
  },
  {
   "cell_type": "markdown",
   "metadata": {
    "heading_collapsed": true,
    "hidden": true
   },
   "source": [
    "## short exploration"
   ]
  },
  {
   "cell_type": "code",
   "execution_count": 291,
   "metadata": {
    "ExecuteTime": {
     "end_time": "2020-12-26T13:39:20.601932Z",
     "start_time": "2020-12-26T13:39:20.274414Z"
    },
    "hidden": true
   },
   "outputs": [
    {
     "data": {
      "text/plain": [
       "<matplotlib.image.AxesImage at 0x7f95c7ed97d0>"
      ]
     },
     "execution_count": 291,
     "metadata": {},
     "output_type": "execute_result"
    },
    {
     "data": {
      "image/png": "[encoded data removed]",
      "text/plain": [
       "<Figure size 1080x360 with 1 Axes>"
      ]
     },
     "metadata": {
      "needs_background": "light"
     },
     "output_type": "display_data"
    }
   ],
   "source": [
    "plt.figure(figsize=(15,5))\n",
    "plt.spy(X, aspect=7)"
   ]
  },
  {
   "cell_type": "code",
   "execution_count": 272,
   "metadata": {
    "ExecuteTime": {
     "end_time": "2020-12-26T13:31:40.090810Z",
     "start_time": "2020-12-26T13:31:40.087370Z"
    },
    "hidden": true
   },
   "outputs": [],
   "source": [
    "X = df2.T"
   ]
  },
  {
   "cell_type": "code",
   "execution_count": 280,
   "metadata": {
    "ExecuteTime": {
     "end_time": "2020-12-26T13:34:38.024323Z",
     "start_time": "2020-12-26T13:34:38.021720Z"
    },
    "hidden": true
   },
   "outputs": [],
   "source": [
    "labels = [i.split('_')[0] for i in X.index]"
   ]
  },
  {
   "cell_type": "code",
   "execution_count": 274,
   "metadata": {
    "ExecuteTime": {
     "end_time": "2020-12-26T13:32:13.372561Z",
     "start_time": "2020-12-26T13:32:12.567972Z"
    },
    "hidden": true
   },
   "outputs": [],
   "source": [
    "pca = PCA(2)\n",
    "X_pca = pca.fit_transform(np.log10(X + 1.0))"
   ]
  },
  {
   "cell_type": "code",
   "execution_count": 281,
   "metadata": {
    "ExecuteTime": {
     "end_time": "2020-12-26T13:34:46.877416Z",
     "start_time": "2020-12-26T13:34:46.530638Z"
    },
    "hidden": true
   },
   "outputs": [
    {
     "data": {
      "image/png": "[encoded data removed]",
      "text/plain": [
       "<Figure size 576x432 with 1 Axes>"
      ]
     },
     "metadata": {
      "needs_background": "light"
     },
     "output_type": "display_data"
    }
   ],
   "source": [
    "plt.figure(figsize=(8,6))\n",
    "#plt.scatter(X_pca[:,0], X_pca[:,1], c=exp_numbers)\n",
    "sns.scatterplot(x=X_pca[:,0], y=X_pca[:,1], hue=labels)\n",
    "plt.title('PCA plot')\n",
    "plt.xlabel('Explained variance: ' + str(round(pca.explained_variance_ratio_[0], 3)*100) + '%', fontsize=14)\n",
    "plt.ylabel('Explained variance: ' + str(round(pca.explained_variance_ratio_[1], 3)*100) + '%', fontsize=14)\n",
    "plt.legend()\n",
    "plt.show()"
   ]
  },
  {
   "cell_type": "code",
   "execution_count": 282,
   "metadata": {
    "ExecuteTime": {
     "end_time": "2020-12-26T13:37:03.876746Z",
     "start_time": "2020-12-26T13:36:54.458744Z"
    },
    "hidden": true
   },
   "outputs": [
    {
     "data": {
      "text/plain": [
       "(912, 17173)"
      ]
     },
     "execution_count": 282,
     "metadata": {},
     "output_type": "execute_result"
    }
   ],
   "source": [
    "Xlog = np.log10(X + 1.0)\n",
    "\n",
    "cur = CUR(15, 0.01, truncated=False)\n",
    "C,U,R = cur.run_CUR(np.array(Xlog))\n",
    "C.shape"
   ]
  },
  {
   "cell_type": "code",
   "execution_count": 285,
   "metadata": {
    "ExecuteTime": {
     "end_time": "2020-12-26T13:37:47.798969Z",
     "start_time": "2020-12-26T13:37:47.438297Z"
    },
    "hidden": true
   },
   "outputs": [
    {
     "data": {
      "image/png": "[encoded data removed]",
      "text/plain": [
       "<Figure size 576x432 with 1 Axes>"
      ]
     },
     "metadata": {
      "needs_background": "light"
     },
     "output_type": "display_data"
    }
   ],
   "source": [
    "supergenes = np.argsort(cur.pi_col)[::-1][:10]\n",
    "\n",
    "plt.figure(figsize=(8,6))\n",
    "#plt.scatter(X_pca[:,0], X_pca[:,1], c=exp_numbers)\n",
    "g1 = Xlog.iloc[:,supergenes[0]]\n",
    "g2 = Xlog.iloc[:,supergenes[1]]\n",
    "sns.scatterplot(x=g1, y=g2, hue=labels)\n",
    "plt.title('CUR supergenes plot')\n",
    "plt.xlabel(g1.name, fontsize=14)\n",
    "plt.ylabel(g2.name, fontsize=14)\n",
    "plt.legend()\n",
    "plt.show()"
   ]
  },
  {
   "cell_type": "markdown",
   "metadata": {
    "heading_collapsed": true
   },
   "source": [
    "# GSE112004\n",
    "* what do different letters mean?"
   ]
  },
  {
   "cell_type": "code",
   "execution_count": 72,
   "metadata": {
    "ExecuteTime": {
     "end_time": "2020-12-26T16:55:07.829386Z",
     "start_time": "2020-12-26T16:55:07.827147Z"
    },
    "hidden": true
   },
   "outputs": [],
   "source": [
    "gse_paths = glob('./Data/GSE112004/*.tsv')"
   ]
  },
  {
   "cell_type": "code",
   "execution_count": 91,
   "metadata": {
    "ExecuteTime": {
     "end_time": "2020-12-26T17:00:37.065980Z",
     "start_time": "2020-12-26T17:00:26.768840Z"
    },
    "hidden": true
   },
   "outputs": [
    {
     "data": {
      "application/vnd.jupyter.widget-view+json": {
       "model_id": "6630a3b983774971998d7dbf51f67953",
       "version_major": 2,
       "version_minor": 0
      },
      "text/plain": [
       "HBox(children=(HTML(value=''), FloatProgress(value=0.0, max=20.0), HTML(value='')))"
      ]
     },
     "metadata": {},
     "output_type": "display_data"
    },
    {
     "name": "stdout",
     "output_type": "stream",
     "text": [
      "\n"
     ]
    }
   ],
   "source": [
    "#preprocessing and merging\n",
    "symbols = set()\n",
    "mdf = pd.DataFrame()\n",
    "\n",
    "for path in tqdm(gse_paths):\n",
    "\n",
    "    df = pd.read_csv(path, sep='\\t', index_col=0)\n",
    "    symbols = symbols.union(df.index)\n",
    "    df = df.groupby(level=0).sum()\n",
    "    df.columns = [col + '__' + os.path.basename(path) for col in df.columns]\n",
    "\n",
    "    if mdf.shape == (0, 0):\n",
    "        mdf = df\n",
    "    else:\n",
    "        mdf = pd.merge(mdf, df, how='outer', left_index=True, right_index=True)"
   ]
  },
  {
   "cell_type": "code",
   "execution_count": 92,
   "metadata": {
    "ExecuteTime": {
     "end_time": "2020-12-26T17:00:44.046383Z",
     "start_time": "2020-12-26T17:00:44.012078Z"
    },
    "hidden": true
   },
   "outputs": [
    {
     "data": {
      "text/html": [
       "<div>\n",
       "<style scoped>\n",
       "    .dataframe tbody tr th:only-of-type {\n",
       "        vertical-align: middle;\n",
       "    }\n",
       "\n",
       "    .dataframe tbody tr th {\n",
       "        vertical-align: top;\n",
       "    }\n",
       "\n",
       "    .dataframe thead th {\n",
       "        text-align: right;\n",
       "    }\n",
       "</style>\n",
       "<table border=\"1\" class=\"dataframe\">\n",
       "  <thead>\n",
       "    <tr style=\"text-align: right;\">\n",
       "      <th></th>\n",
       "      <th>936S_MSCB-001__GSE112004_counts.936S.tsv</th>\n",
       "      <th>936S_MSCB-002__GSE112004_counts.936S.tsv</th>\n",
       "      <th>936S_MSCB-003__GSE112004_counts.936S.tsv</th>\n",
       "      <th>936S_MSCB-004__GSE112004_counts.936S.tsv</th>\n",
       "      <th>936S_MSCB-005__GSE112004_counts.936S.tsv</th>\n",
       "      <th>936S_MSCB-006__GSE112004_counts.936S.tsv</th>\n",
       "      <th>936S_MSCB-007__GSE112004_counts.936S.tsv</th>\n",
       "      <th>936S_MSCB-008__GSE112004_counts.936S.tsv</th>\n",
       "      <th>936S_MSCB-009__GSE112004_counts.936S.tsv</th>\n",
       "      <th>936S_MSCB-010__GSE112004_counts.936S.tsv</th>\n",
       "      <th>...</th>\n",
       "      <th>679T_MSCB-183__GSE112004_counts.679T.tsv</th>\n",
       "      <th>679T_MSCB-184__GSE112004_counts.679T.tsv</th>\n",
       "      <th>679T_MSCB-185__GSE112004_counts.679T.tsv</th>\n",
       "      <th>679T_MSCB-186__GSE112004_counts.679T.tsv</th>\n",
       "      <th>679T_MSCB-187__GSE112004_counts.679T.tsv</th>\n",
       "      <th>679T_MSCB-188__GSE112004_counts.679T.tsv</th>\n",
       "      <th>679T_MSCB-189__GSE112004_counts.679T.tsv</th>\n",
       "      <th>679T_MSCB-190__GSE112004_counts.679T.tsv</th>\n",
       "      <th>679T_MSCB-191__GSE112004_counts.679T.tsv</th>\n",
       "      <th>679T_MSCB-192__GSE112004_counts.679T.tsv</th>\n",
       "    </tr>\n",
       "  </thead>\n",
       "  <tbody>\n",
       "    <tr>\n",
       "      <th>ENSMUSG00000000001.4</th>\n",
       "      <td>0.0</td>\n",
       "      <td>2.0</td>\n",
       "      <td>0.0</td>\n",
       "      <td>0.0</td>\n",
       "      <td>0.0</td>\n",
       "      <td>0.0</td>\n",
       "      <td>1.0</td>\n",
       "      <td>0.0</td>\n",
       "      <td>1.0</td>\n",
       "      <td>0.0</td>\n",
       "      <td>...</td>\n",
       "      <td>0.0</td>\n",
       "      <td>0.0</td>\n",
       "      <td>0.0</td>\n",
       "      <td>0.0</td>\n",
       "      <td>0.0</td>\n",
       "      <td>0.0</td>\n",
       "      <td>0.0</td>\n",
       "      <td>0.0</td>\n",
       "      <td>0.0</td>\n",
       "      <td>0.0</td>\n",
       "    </tr>\n",
       "    <tr>\n",
       "      <th>ENSMUSG00000000028.14</th>\n",
       "      <td>0.0</td>\n",
       "      <td>0.0</td>\n",
       "      <td>0.0</td>\n",
       "      <td>0.0</td>\n",
       "      <td>0.0</td>\n",
       "      <td>0.0</td>\n",
       "      <td>0.0</td>\n",
       "      <td>0.0</td>\n",
       "      <td>0.0</td>\n",
       "      <td>2.0</td>\n",
       "      <td>...</td>\n",
       "      <td>0.0</td>\n",
       "      <td>2.0</td>\n",
       "      <td>0.0</td>\n",
       "      <td>0.0</td>\n",
       "      <td>1.0</td>\n",
       "      <td>1.0</td>\n",
       "      <td>0.0</td>\n",
       "      <td>0.0</td>\n",
       "      <td>0.0</td>\n",
       "      <td>1.0</td>\n",
       "    </tr>\n",
       "    <tr>\n",
       "      <th>ENSMUSG00000000031.15</th>\n",
       "      <td>0.0</td>\n",
       "      <td>0.0</td>\n",
       "      <td>0.0</td>\n",
       "      <td>0.0</td>\n",
       "      <td>0.0</td>\n",
       "      <td>0.0</td>\n",
       "      <td>0.0</td>\n",
       "      <td>0.0</td>\n",
       "      <td>0.0</td>\n",
       "      <td>0.0</td>\n",
       "      <td>...</td>\n",
       "      <td>0.0</td>\n",
       "      <td>9.0</td>\n",
       "      <td>0.0</td>\n",
       "      <td>0.0</td>\n",
       "      <td>0.0</td>\n",
       "      <td>0.0</td>\n",
       "      <td>0.0</td>\n",
       "      <td>0.0</td>\n",
       "      <td>0.0</td>\n",
       "      <td>8.0</td>\n",
       "    </tr>\n",
       "    <tr>\n",
       "      <th>ENSMUSG00000000037.16</th>\n",
       "      <td>0.0</td>\n",
       "      <td>0.0</td>\n",
       "      <td>0.0</td>\n",
       "      <td>0.0</td>\n",
       "      <td>0.0</td>\n",
       "      <td>0.0</td>\n",
       "      <td>0.0</td>\n",
       "      <td>0.0</td>\n",
       "      <td>0.0</td>\n",
       "      <td>0.0</td>\n",
       "      <td>...</td>\n",
       "      <td>NaN</td>\n",
       "      <td>NaN</td>\n",
       "      <td>NaN</td>\n",
       "      <td>NaN</td>\n",
       "      <td>NaN</td>\n",
       "      <td>NaN</td>\n",
       "      <td>NaN</td>\n",
       "      <td>NaN</td>\n",
       "      <td>NaN</td>\n",
       "      <td>NaN</td>\n",
       "    </tr>\n",
       "    <tr>\n",
       "      <th>ENSMUSG00000000049.11</th>\n",
       "      <td>0.0</td>\n",
       "      <td>0.0</td>\n",
       "      <td>0.0</td>\n",
       "      <td>0.0</td>\n",
       "      <td>0.0</td>\n",
       "      <td>0.0</td>\n",
       "      <td>0.0</td>\n",
       "      <td>0.0</td>\n",
       "      <td>0.0</td>\n",
       "      <td>0.0</td>\n",
       "      <td>...</td>\n",
       "      <td>NaN</td>\n",
       "      <td>NaN</td>\n",
       "      <td>NaN</td>\n",
       "      <td>NaN</td>\n",
       "      <td>NaN</td>\n",
       "      <td>NaN</td>\n",
       "      <td>NaN</td>\n",
       "      <td>NaN</td>\n",
       "      <td>NaN</td>\n",
       "      <td>NaN</td>\n",
       "    </tr>\n",
       "    <tr>\n",
       "      <th>...</th>\n",
       "      <td>...</td>\n",
       "      <td>...</td>\n",
       "      <td>...</td>\n",
       "      <td>...</td>\n",
       "      <td>...</td>\n",
       "      <td>...</td>\n",
       "      <td>...</td>\n",
       "      <td>...</td>\n",
       "      <td>...</td>\n",
       "      <td>...</td>\n",
       "      <td>...</td>\n",
       "      <td>...</td>\n",
       "      <td>...</td>\n",
       "      <td>...</td>\n",
       "      <td>...</td>\n",
       "      <td>...</td>\n",
       "      <td>...</td>\n",
       "      <td>...</td>\n",
       "      <td>...</td>\n",
       "      <td>...</td>\n",
       "      <td>...</td>\n",
       "    </tr>\n",
       "    <tr>\n",
       "      <th>ENSMUSG00000108811.1</th>\n",
       "      <td>0.0</td>\n",
       "      <td>0.0</td>\n",
       "      <td>0.0</td>\n",
       "      <td>0.0</td>\n",
       "      <td>0.0</td>\n",
       "      <td>0.0</td>\n",
       "      <td>0.0</td>\n",
       "      <td>1.0</td>\n",
       "      <td>0.0</td>\n",
       "      <td>0.0</td>\n",
       "      <td>...</td>\n",
       "      <td>NaN</td>\n",
       "      <td>NaN</td>\n",
       "      <td>NaN</td>\n",
       "      <td>NaN</td>\n",
       "      <td>NaN</td>\n",
       "      <td>NaN</td>\n",
       "      <td>NaN</td>\n",
       "      <td>NaN</td>\n",
       "      <td>NaN</td>\n",
       "      <td>NaN</td>\n",
       "    </tr>\n",
       "    <tr>\n",
       "      <th>ENSMUSG00000108812.1</th>\n",
       "      <td>NaN</td>\n",
       "      <td>NaN</td>\n",
       "      <td>NaN</td>\n",
       "      <td>NaN</td>\n",
       "      <td>NaN</td>\n",
       "      <td>NaN</td>\n",
       "      <td>NaN</td>\n",
       "      <td>NaN</td>\n",
       "      <td>NaN</td>\n",
       "      <td>NaN</td>\n",
       "      <td>...</td>\n",
       "      <td>NaN</td>\n",
       "      <td>NaN</td>\n",
       "      <td>NaN</td>\n",
       "      <td>NaN</td>\n",
       "      <td>NaN</td>\n",
       "      <td>NaN</td>\n",
       "      <td>NaN</td>\n",
       "      <td>NaN</td>\n",
       "      <td>NaN</td>\n",
       "      <td>NaN</td>\n",
       "    </tr>\n",
       "    <tr>\n",
       "      <th>ENSMUSG00000108813.1</th>\n",
       "      <td>0.0</td>\n",
       "      <td>1.0</td>\n",
       "      <td>1.0</td>\n",
       "      <td>1.0</td>\n",
       "      <td>0.0</td>\n",
       "      <td>0.0</td>\n",
       "      <td>0.0</td>\n",
       "      <td>0.0</td>\n",
       "      <td>3.0</td>\n",
       "      <td>1.0</td>\n",
       "      <td>...</td>\n",
       "      <td>0.0</td>\n",
       "      <td>0.0</td>\n",
       "      <td>1.0</td>\n",
       "      <td>1.0</td>\n",
       "      <td>0.0</td>\n",
       "      <td>1.0</td>\n",
       "      <td>0.0</td>\n",
       "      <td>1.0</td>\n",
       "      <td>2.0</td>\n",
       "      <td>0.0</td>\n",
       "    </tr>\n",
       "    <tr>\n",
       "      <th>ENSMUSG00000108814.1</th>\n",
       "      <td>NaN</td>\n",
       "      <td>NaN</td>\n",
       "      <td>NaN</td>\n",
       "      <td>NaN</td>\n",
       "      <td>NaN</td>\n",
       "      <td>NaN</td>\n",
       "      <td>NaN</td>\n",
       "      <td>NaN</td>\n",
       "      <td>NaN</td>\n",
       "      <td>NaN</td>\n",
       "      <td>...</td>\n",
       "      <td>0.0</td>\n",
       "      <td>0.0</td>\n",
       "      <td>0.0</td>\n",
       "      <td>0.0</td>\n",
       "      <td>0.0</td>\n",
       "      <td>0.0</td>\n",
       "      <td>0.0</td>\n",
       "      <td>0.0</td>\n",
       "      <td>0.0</td>\n",
       "      <td>0.0</td>\n",
       "    </tr>\n",
       "    <tr>\n",
       "      <th>ENSMUSG00000108815.1</th>\n",
       "      <td>0.0</td>\n",
       "      <td>0.0</td>\n",
       "      <td>0.0</td>\n",
       "      <td>0.0</td>\n",
       "      <td>0.0</td>\n",
       "      <td>0.0</td>\n",
       "      <td>0.0</td>\n",
       "      <td>0.0</td>\n",
       "      <td>0.0</td>\n",
       "      <td>1.0</td>\n",
       "      <td>...</td>\n",
       "      <td>0.0</td>\n",
       "      <td>0.0</td>\n",
       "      <td>0.0</td>\n",
       "      <td>0.0</td>\n",
       "      <td>0.0</td>\n",
       "      <td>0.0</td>\n",
       "      <td>0.0</td>\n",
       "      <td>0.0</td>\n",
       "      <td>0.0</td>\n",
       "      <td>1.0</td>\n",
       "    </tr>\n",
       "  </tbody>\n",
       "</table>\n",
       "<p>28874 rows × 3840 columns</p>\n",
       "</div>"
      ],
      "text/plain": [
       "                       936S_MSCB-001__GSE112004_counts.936S.tsv  \\\n",
       "ENSMUSG00000000001.4                                        0.0   \n",
       "ENSMUSG00000000028.14                                       0.0   \n",
       "ENSMUSG00000000031.15                                       0.0   \n",
       "ENSMUSG00000000037.16                                       0.0   \n",
       "ENSMUSG00000000049.11                                       0.0   \n",
       "...                                                         ...   \n",
       "ENSMUSG00000108811.1                                        0.0   \n",
       "ENSMUSG00000108812.1                                        NaN   \n",
       "ENSMUSG00000108813.1                                        0.0   \n",
       "ENSMUSG00000108814.1                                        NaN   \n",
       "ENSMUSG00000108815.1                                        0.0   \n",
       "\n",
       "                       936S_MSCB-002__GSE112004_counts.936S.tsv  \\\n",
       "ENSMUSG00000000001.4                                        2.0   \n",
       "ENSMUSG00000000028.14                                       0.0   \n",
       "ENSMUSG00000000031.15                                       0.0   \n",
       "ENSMUSG00000000037.16                                       0.0   \n",
       "ENSMUSG00000000049.11                                       0.0   \n",
       "...                                                         ...   \n",
       "ENSMUSG00000108811.1                                        0.0   \n",
       "ENSMUSG00000108812.1                                        NaN   \n",
       "ENSMUSG00000108813.1                                        1.0   \n",
       "ENSMUSG00000108814.1                                        NaN   \n",
       "ENSMUSG00000108815.1                                        0.0   \n",
       "\n",
       "                       936S_MSCB-003__GSE112004_counts.936S.tsv  \\\n",
       "ENSMUSG00000000001.4                                        0.0   \n",
       "ENSMUSG00000000028.14                                       0.0   \n",
       "ENSMUSG00000000031.15                                       0.0   \n",
       "ENSMUSG00000000037.16                                       0.0   \n",
       "ENSMUSG00000000049.11                                       0.0   \n",
       "...                                                         ...   \n",
       "ENSMUSG00000108811.1                                        0.0   \n",
       "ENSMUSG00000108812.1                                        NaN   \n",
       "ENSMUSG00000108813.1                                        1.0   \n",
       "ENSMUSG00000108814.1                                        NaN   \n",
       "ENSMUSG00000108815.1                                        0.0   \n",
       "\n",
       "                       936S_MSCB-004__GSE112004_counts.936S.tsv  \\\n",
       "ENSMUSG00000000001.4                                        0.0   \n",
       "ENSMUSG00000000028.14                                       0.0   \n",
       "ENSMUSG00000000031.15                                       0.0   \n",
       "ENSMUSG00000000037.16                                       0.0   \n",
       "ENSMUSG00000000049.11                                       0.0   \n",
       "...                                                         ...   \n",
       "ENSMUSG00000108811.1                                        0.0   \n",
       "ENSMUSG00000108812.1                                        NaN   \n",
       "ENSMUSG00000108813.1                                        1.0   \n",
       "ENSMUSG00000108814.1                                        NaN   \n",
       "ENSMUSG00000108815.1                                        0.0   \n",
       "\n",
       "                       936S_MSCB-005__GSE112004_counts.936S.tsv  \\\n",
       "ENSMUSG00000000001.4                                        0.0   \n",
       "ENSMUSG00000000028.14                                       0.0   \n",
       "ENSMUSG00000000031.15                                       0.0   \n",
       "ENSMUSG00000000037.16                                       0.0   \n",
       "ENSMUSG00000000049.11                                       0.0   \n",
       "...                                                         ...   \n",
       "ENSMUSG00000108811.1                                        0.0   \n",
       "ENSMUSG00000108812.1                                        NaN   \n",
       "ENSMUSG00000108813.1                                        0.0   \n",
       "ENSMUSG00000108814.1                                        NaN   \n",
       "ENSMUSG00000108815.1                                        0.0   \n",
       "\n",
       "                       936S_MSCB-006__GSE112004_counts.936S.tsv  \\\n",
       "ENSMUSG00000000001.4                                        0.0   \n",
       "ENSMUSG00000000028.14                                       0.0   \n",
       "ENSMUSG00000000031.15                                       0.0   \n",
       "ENSMUSG00000000037.16                                       0.0   \n",
       "ENSMUSG00000000049.11                                       0.0   \n",
       "...                                                         ...   \n",
       "ENSMUSG00000108811.1                                        0.0   \n",
       "ENSMUSG00000108812.1                                        NaN   \n",
       "ENSMUSG00000108813.1                                        0.0   \n",
       "ENSMUSG00000108814.1                                        NaN   \n",
       "ENSMUSG00000108815.1                                        0.0   \n",
       "\n",
       "                       936S_MSCB-007__GSE112004_counts.936S.tsv  \\\n",
       "ENSMUSG00000000001.4                                        1.0   \n",
       "ENSMUSG00000000028.14                                       0.0   \n",
       "ENSMUSG00000000031.15                                       0.0   \n",
       "ENSMUSG00000000037.16                                       0.0   \n",
       "ENSMUSG00000000049.11                                       0.0   \n",
       "...                                                         ...   \n",
       "ENSMUSG00000108811.1                                        0.0   \n",
       "ENSMUSG00000108812.1                                        NaN   \n",
       "ENSMUSG00000108813.1                                        0.0   \n",
       "ENSMUSG00000108814.1                                        NaN   \n",
       "ENSMUSG00000108815.1                                        0.0   \n",
       "\n",
       "                       936S_MSCB-008__GSE112004_counts.936S.tsv  \\\n",
       "ENSMUSG00000000001.4                                        0.0   \n",
       "ENSMUSG00000000028.14                                       0.0   \n",
       "ENSMUSG00000000031.15                                       0.0   \n",
       "ENSMUSG00000000037.16                                       0.0   \n",
       "ENSMUSG00000000049.11                                       0.0   \n",
       "...                                                         ...   \n",
       "ENSMUSG00000108811.1                                        1.0   \n",
       "ENSMUSG00000108812.1                                        NaN   \n",
       "ENSMUSG00000108813.1                                        0.0   \n",
       "ENSMUSG00000108814.1                                        NaN   \n",
       "ENSMUSG00000108815.1                                        0.0   \n",
       "\n",
       "                       936S_MSCB-009__GSE112004_counts.936S.tsv  \\\n",
       "ENSMUSG00000000001.4                                        1.0   \n",
       "ENSMUSG00000000028.14                                       0.0   \n",
       "ENSMUSG00000000031.15                                       0.0   \n",
       "ENSMUSG00000000037.16                                       0.0   \n",
       "ENSMUSG00000000049.11                                       0.0   \n",
       "...                                                         ...   \n",
       "ENSMUSG00000108811.1                                        0.0   \n",
       "ENSMUSG00000108812.1                                        NaN   \n",
       "ENSMUSG00000108813.1                                        3.0   \n",
       "ENSMUSG00000108814.1                                        NaN   \n",
       "ENSMUSG00000108815.1                                        0.0   \n",
       "\n",
       "                       936S_MSCB-010__GSE112004_counts.936S.tsv  ...  \\\n",
       "ENSMUSG00000000001.4                                        0.0  ...   \n",
       "ENSMUSG00000000028.14                                       2.0  ...   \n",
       "ENSMUSG00000000031.15                                       0.0  ...   \n",
       "ENSMUSG00000000037.16                                       0.0  ...   \n",
       "ENSMUSG00000000049.11                                       0.0  ...   \n",
       "...                                                         ...  ...   \n",
       "ENSMUSG00000108811.1                                        0.0  ...   \n",
       "ENSMUSG00000108812.1                                        NaN  ...   \n",
       "ENSMUSG00000108813.1                                        1.0  ...   \n",
       "ENSMUSG00000108814.1                                        NaN  ...   \n",
       "ENSMUSG00000108815.1                                        1.0  ...   \n",
       "\n",
       "                       679T_MSCB-183__GSE112004_counts.679T.tsv  \\\n",
       "ENSMUSG00000000001.4                                        0.0   \n",
       "ENSMUSG00000000028.14                                       0.0   \n",
       "ENSMUSG00000000031.15                                       0.0   \n",
       "ENSMUSG00000000037.16                                       NaN   \n",
       "ENSMUSG00000000049.11                                       NaN   \n",
       "...                                                         ...   \n",
       "ENSMUSG00000108811.1                                        NaN   \n",
       "ENSMUSG00000108812.1                                        NaN   \n",
       "ENSMUSG00000108813.1                                        0.0   \n",
       "ENSMUSG00000108814.1                                        0.0   \n",
       "ENSMUSG00000108815.1                                        0.0   \n",
       "\n",
       "                       679T_MSCB-184__GSE112004_counts.679T.tsv  \\\n",
       "ENSMUSG00000000001.4                                        0.0   \n",
       "ENSMUSG00000000028.14                                       2.0   \n",
       "ENSMUSG00000000031.15                                       9.0   \n",
       "ENSMUSG00000000037.16                                       NaN   \n",
       "ENSMUSG00000000049.11                                       NaN   \n",
       "...                                                         ...   \n",
       "ENSMUSG00000108811.1                                        NaN   \n",
       "ENSMUSG00000108812.1                                        NaN   \n",
       "ENSMUSG00000108813.1                                        0.0   \n",
       "ENSMUSG00000108814.1                                        0.0   \n",
       "ENSMUSG00000108815.1                                        0.0   \n",
       "\n",
       "                       679T_MSCB-185__GSE112004_counts.679T.tsv  \\\n",
       "ENSMUSG00000000001.4                                        0.0   \n",
       "ENSMUSG00000000028.14                                       0.0   \n",
       "ENSMUSG00000000031.15                                       0.0   \n",
       "ENSMUSG00000000037.16                                       NaN   \n",
       "ENSMUSG00000000049.11                                       NaN   \n",
       "...                                                         ...   \n",
       "ENSMUSG00000108811.1                                        NaN   \n",
       "ENSMUSG00000108812.1                                        NaN   \n",
       "ENSMUSG00000108813.1                                        1.0   \n",
       "ENSMUSG00000108814.1                                        0.0   \n",
       "ENSMUSG00000108815.1                                        0.0   \n",
       "\n",
       "                       679T_MSCB-186__GSE112004_counts.679T.tsv  \\\n",
       "ENSMUSG00000000001.4                                        0.0   \n",
       "ENSMUSG00000000028.14                                       0.0   \n",
       "ENSMUSG00000000031.15                                       0.0   \n",
       "ENSMUSG00000000037.16                                       NaN   \n",
       "ENSMUSG00000000049.11                                       NaN   \n",
       "...                                                         ...   \n",
       "ENSMUSG00000108811.1                                        NaN   \n",
       "ENSMUSG00000108812.1                                        NaN   \n",
       "ENSMUSG00000108813.1                                        1.0   \n",
       "ENSMUSG00000108814.1                                        0.0   \n",
       "ENSMUSG00000108815.1                                        0.0   \n",
       "\n",
       "                       679T_MSCB-187__GSE112004_counts.679T.tsv  \\\n",
       "ENSMUSG00000000001.4                                        0.0   \n",
       "ENSMUSG00000000028.14                                       1.0   \n",
       "ENSMUSG00000000031.15                                       0.0   \n",
       "ENSMUSG00000000037.16                                       NaN   \n",
       "ENSMUSG00000000049.11                                       NaN   \n",
       "...                                                         ...   \n",
       "ENSMUSG00000108811.1                                        NaN   \n",
       "ENSMUSG00000108812.1                                        NaN   \n",
       "ENSMUSG00000108813.1                                        0.0   \n",
       "ENSMUSG00000108814.1                                        0.0   \n",
       "ENSMUSG00000108815.1                                        0.0   \n",
       "\n",
       "                       679T_MSCB-188__GSE112004_counts.679T.tsv  \\\n",
       "ENSMUSG00000000001.4                                        0.0   \n",
       "ENSMUSG00000000028.14                                       1.0   \n",
       "ENSMUSG00000000031.15                                       0.0   \n",
       "ENSMUSG00000000037.16                                       NaN   \n",
       "ENSMUSG00000000049.11                                       NaN   \n",
       "...                                                         ...   \n",
       "ENSMUSG00000108811.1                                        NaN   \n",
       "ENSMUSG00000108812.1                                        NaN   \n",
       "ENSMUSG00000108813.1                                        1.0   \n",
       "ENSMUSG00000108814.1                                        0.0   \n",
       "ENSMUSG00000108815.1                                        0.0   \n",
       "\n",
       "                       679T_MSCB-189__GSE112004_counts.679T.tsv  \\\n",
       "ENSMUSG00000000001.4                                        0.0   \n",
       "ENSMUSG00000000028.14                                       0.0   \n",
       "ENSMUSG00000000031.15                                       0.0   \n",
       "ENSMUSG00000000037.16                                       NaN   \n",
       "ENSMUSG00000000049.11                                       NaN   \n",
       "...                                                         ...   \n",
       "ENSMUSG00000108811.1                                        NaN   \n",
       "ENSMUSG00000108812.1                                        NaN   \n",
       "ENSMUSG00000108813.1                                        0.0   \n",
       "ENSMUSG00000108814.1                                        0.0   \n",
       "ENSMUSG00000108815.1                                        0.0   \n",
       "\n",
       "                       679T_MSCB-190__GSE112004_counts.679T.tsv  \\\n",
       "ENSMUSG00000000001.4                                        0.0   \n",
       "ENSMUSG00000000028.14                                       0.0   \n",
       "ENSMUSG00000000031.15                                       0.0   \n",
       "ENSMUSG00000000037.16                                       NaN   \n",
       "ENSMUSG00000000049.11                                       NaN   \n",
       "...                                                         ...   \n",
       "ENSMUSG00000108811.1                                        NaN   \n",
       "ENSMUSG00000108812.1                                        NaN   \n",
       "ENSMUSG00000108813.1                                        1.0   \n",
       "ENSMUSG00000108814.1                                        0.0   \n",
       "ENSMUSG00000108815.1                                        0.0   \n",
       "\n",
       "                       679T_MSCB-191__GSE112004_counts.679T.tsv  \\\n",
       "ENSMUSG00000000001.4                                        0.0   \n",
       "ENSMUSG00000000028.14                                       0.0   \n",
       "ENSMUSG00000000031.15                                       0.0   \n",
       "ENSMUSG00000000037.16                                       NaN   \n",
       "ENSMUSG00000000049.11                                       NaN   \n",
       "...                                                         ...   \n",
       "ENSMUSG00000108811.1                                        NaN   \n",
       "ENSMUSG00000108812.1                                        NaN   \n",
       "ENSMUSG00000108813.1                                        2.0   \n",
       "ENSMUSG00000108814.1                                        0.0   \n",
       "ENSMUSG00000108815.1                                        0.0   \n",
       "\n",
       "                       679T_MSCB-192__GSE112004_counts.679T.tsv  \n",
       "ENSMUSG00000000001.4                                        0.0  \n",
       "ENSMUSG00000000028.14                                       1.0  \n",
       "ENSMUSG00000000031.15                                       8.0  \n",
       "ENSMUSG00000000037.16                                       NaN  \n",
       "ENSMUSG00000000049.11                                       NaN  \n",
       "...                                                         ...  \n",
       "ENSMUSG00000108811.1                                        NaN  \n",
       "ENSMUSG00000108812.1                                        NaN  \n",
       "ENSMUSG00000108813.1                                        0.0  \n",
       "ENSMUSG00000108814.1                                        0.0  \n",
       "ENSMUSG00000108815.1                                        1.0  \n",
       "\n",
       "[28874 rows x 3840 columns]"
      ]
     },
     "execution_count": 92,
     "metadata": {},
     "output_type": "execute_result"
    }
   ],
   "source": [
    "mdf"
   ]
  },
  {
   "cell_type": "code",
   "execution_count": 99,
   "metadata": {
    "ExecuteTime": {
     "end_time": "2020-12-26T17:05:47.890724Z",
     "start_time": "2020-12-26T17:05:47.888833Z"
    },
    "hidden": true
   },
   "outputs": [],
   "source": [
    "#saving\n",
    "#mdf.T.to_csv('./Data/GSE112004/data_all.csv')"
   ]
  },
  {
   "cell_type": "markdown",
   "metadata": {
    "heading_collapsed": true,
    "hidden": true
   },
   "source": [
    "## short exploration"
   ]
  },
  {
   "cell_type": "code",
   "execution_count": 100,
   "metadata": {
    "ExecuteTime": {
     "end_time": "2020-12-26T17:05:53.703873Z",
     "start_time": "2020-12-26T17:05:52.350431Z"
    },
    "hidden": true
   },
   "outputs": [
    {
     "data": {
      "text/plain": [
       "<matplotlib.image.AxesImage at 0x7fe319243d50>"
      ]
     },
     "execution_count": 100,
     "metadata": {},
     "output_type": "execute_result"
    },
    {
     "data": {
      "image/png": "[encoded data removed]",
      "text/plain": [
       "<Figure size 1080x360 with 1 Axes>"
      ]
     },
     "metadata": {
      "needs_background": "light"
     },
     "output_type": "display_data"
    }
   ],
   "source": [
    "plt.figure(figsize=(15,5))\n",
    "plt.spy(mdf.T)"
   ]
  },
  {
   "cell_type": "code",
   "execution_count": 111,
   "metadata": {
    "ExecuteTime": {
     "end_time": "2020-12-26T17:07:52.898695Z",
     "start_time": "2020-12-26T17:07:52.896073Z"
    },
    "hidden": true
   },
   "outputs": [],
   "source": [
    "X = mdf.T"
   ]
  },
  {
   "cell_type": "code",
   "execution_count": 113,
   "metadata": {
    "ExecuteTime": {
     "end_time": "2020-12-26T17:08:05.705236Z",
     "start_time": "2020-12-26T17:08:04.926658Z"
    },
    "hidden": true
   },
   "outputs": [],
   "source": [
    "X = X.fillna(0.0)"
   ]
  },
  {
   "cell_type": "code",
   "execution_count": 114,
   "metadata": {
    "ExecuteTime": {
     "end_time": "2020-12-26T17:08:14.625599Z",
     "start_time": "2020-12-26T17:08:10.255887Z"
    },
    "hidden": true
   },
   "outputs": [],
   "source": [
    "pca = PCA(2)\n",
    "X_pca = pca.fit_transform(np.log10(X + 1.0))"
   ]
  },
  {
   "cell_type": "code",
   "execution_count": 132,
   "metadata": {
    "ExecuteTime": {
     "end_time": "2020-12-26T17:11:56.607209Z",
     "start_time": "2020-12-26T17:11:56.603273Z"
    },
    "hidden": true
   },
   "outputs": [],
   "source": [
    "labels = [i.split('_')[0][-1] for i in X.index]"
   ]
  },
  {
   "cell_type": "code",
   "execution_count": 133,
   "metadata": {
    "ExecuteTime": {
     "end_time": "2020-12-26T17:11:57.423555Z",
     "start_time": "2020-12-26T17:11:57.117800Z"
    },
    "hidden": true
   },
   "outputs": [
    {
     "data": {
      "image/png": "[encoded data removed]",
      "text/plain": [
       "<Figure size 576x432 with 1 Axes>"
      ]
     },
     "metadata": {
      "needs_background": "light"
     },
     "output_type": "display_data"
    }
   ],
   "source": [
    "plt.figure(figsize=(8,6))\n",
    "#plt.scatter(X_pca[:,0], X_pca[:,1], c=exp_numbers)\n",
    "sns.scatterplot(x=X_pca[:,0], y=X_pca[:,1], hue=labels, alpha=0.8)\n",
    "plt.title('PCA plot')\n",
    "plt.xlabel('Explained variance: ' + str(round(pca.explained_variance_ratio_[0], 3)*100) + '%', fontsize=14)\n",
    "plt.ylabel('Explained variance: ' + str(round(pca.explained_variance_ratio_[1], 3)*100) + '%', fontsize=14)\n",
    "plt.legend()\n",
    "plt.show()"
   ]
  },
  {
   "cell_type": "markdown",
   "metadata": {
    "heading_collapsed": true
   },
   "source": [
    "# GSE127927\n"
   ]
  },
  {
   "cell_type": "code",
   "execution_count": 4,
   "metadata": {
    "ExecuteTime": {
     "end_time": "2021-01-26T18:14:47.279644Z",
     "start_time": "2021-01-26T18:14:47.273157Z"
    },
    "hidden": true,
    "scrolled": true
   },
   "outputs": [
    {
     "name": "stdout",
     "output_type": "stream",
     "text": [
      "68\n"
     ]
    },
    {
     "data": {
      "text/plain": [
       "['./Data/GSE127927/GSM3656719_MEF-7F-iPSC-2.genes.results.txt',\n",
       " './Data/GSE127927/GSM3656718_MEF-7F-iPSC-1.genes.results.txt',\n",
       " './Data/GSE127927/GSM3753566_GFP_d0.genes.results.txt',\n",
       " './Data/GSE127927/GSM3656693_7F-Nanog-D3.genes.results.txt',\n",
       " './Data/GSE127927/GSM3656691_7F-Nanog-D0.genes.results.txt',\n",
       " './Data/GSE127927/GSM3656721_MEF-7F-iPSC-4.genes.results.txt',\n",
       " './Data/GSE127927/GSM3656679_7F-Jdp2-D5.genes.results.txt',\n",
       " './Data/GSE127927/GSM3656720_MEF-7F-iPSC-3.genes.results.txt',\n",
       " './Data/GSE127927/GSM3656724_MEF-Y_F-iPSC-2.genes.results.txt',\n",
       " './Data/GSE127927/GSM3656682_7F-Kdm2b-D1.genes.results.txt',\n",
       " './Data/GSE127927/GSM3656717_MEF-3.genes.results.txt',\n",
       " './Data/GSE127927/GSM3656678_7F-Jdp2-D3.genes.results.txt',\n",
       " './Data/GSE127927/GSM3656713_GFP-control-D5.genes.results.txt',\n",
       " './Data/GSE127927/GSM3656676_7F-Jdp2-D0.genes.results.txt',\n",
       " './Data/GSE127927/GSM3656677_7F-Jdp2-D1.genes.results.txt',\n",
       " './Data/GSE127927/GSM3656683_7F-Kdm2b-D3.genes.results.txt',\n",
       " './Data/GSE127927/GSM3656730_MEF-rep2.genes.results.txt',\n",
       " './Data/GSE127927/GSM3656673_7F-Glis1-D3.genes.results.txt',\n",
       " './Data/GSE127927/GSM3656722_MEF-7F-iPSC-5.genes.results.txt',\n",
       " './Data/GSE127927/GSM3656671_7F-Glis1-D0.genes.results.txt',\n",
       " './Data/GSE127927/GSM3656681_7F-Kdm2b-D0.genes.results.txt',\n",
       " './Data/GSE127927/GSM3656686_7F-Mkk6-D0.genes.results.txt',\n",
       " './Data/GSE127927/GSM3656698_7F-Sall4-D3.genes.results.txt',\n",
       " './Data/GSE127927/GSM3656708_7F-none-D5-rep2.genes.results.txt',\n",
       " './Data/GSE127927/GSM3656700_7F-Sall4-D7.genes.results.txt',\n",
       " './Data/GSE127927/GSM3656711_GFP-control-D1.genes.results.txt',\n",
       " './Data/GSE127927/GSM3656692_7F-Nanog-D1.genes.results.txt',\n",
       " './Data/GSE127927/GSM3656727_MEF-Y_F-iPSC-5.genes.results.txt',\n",
       " './Data/GSE127927/GSM3656704_7F-none-D1-rep2.genes.results.txt',\n",
       " './Data/GSE127927/GSM3656688_7F-Mkk6-D3.genes.results.txt',\n",
       " './Data/GSE127927/GSM3656667_7F-Esrrb-D1.genes.results.txt',\n",
       " './Data/GSE127927/GSM3656709_7F-none-D7-rep1.genes.results.txt',\n",
       " './Data/GSE127927/GSM3656706_7F-none-D3-rep2.genes.results.txt',\n",
       " './Data/GSE127927/GSM3656714_GFP-control-D7.genes.results.txt',\n",
       " './Data/GSE127927/GSM3656675_7F-Glis1-D7.genes.results.txt',\n",
       " './Data/GSE127927/GSM3656726_MEF-Y_F-iPSC-4.genes.results.txt',\n",
       " './Data/GSE127927/GSM3656716_MEF-2.genes.results.txt',\n",
       " './Data/GSE127927/GSM3656668_7F-Esrrb-D3.genes.results.txt',\n",
       " './Data/GSE127927/GSM3656666_7F-Esrrb-D0.genes.results.txt',\n",
       " './Data/GSE127927/GSM3656715_MEF-1.genes.results.txt',\n",
       " './Data/GSE127927/GSM3656703_7F-none-D1-rep1.genes.results.txt',\n",
       " './Data/GSE127927/GSM3656707_7F-none-D5-rep1.genes.results.txt',\n",
       " './Data/GSE127927/GSM3656705_7F-none-D3-rep1.genes.results.txt',\n",
       " './Data/GSE127927/GSM3656731_TTF-Y_F-iPSC-1.genes.results.txt',\n",
       " './Data/GSE127927/GSM3656695_7F-Nanog-D7.genes.results.txt',\n",
       " './Data/GSE127927/GSM3656669_7F-Esrrb-D5.genes.results.txt',\n",
       " './Data/GSE127927/GSM3656732_TTF-Y_F-iPSC-2.genes.results.txt',\n",
       " './Data/GSE127927/GSM3656674_7F-Glis1-D5.genes.results.txt',\n",
       " './Data/GSE127927/GSM3656687_7F-Mkk6-D1.genes.results.txt',\n",
       " './Data/GSE127927/GSM3656723_MEF-Y_F-iPSC-1.genes.results.txt',\n",
       " './Data/GSE127927/GSM3656696_7F-Sall4-D0.genes.results.txt',\n",
       " './Data/GSE127927/GSM3656689_7F-Mkk6-D5.genes.results.txt',\n",
       " './Data/GSE127927/GSM3656699_7F-Sall4-D5.genes.results.txt',\n",
       " './Data/GSE127927/GSM3656697_7F-Sall4-D1.genes.results.txt',\n",
       " './Data/GSE127927/GSM3656684_7F-Kdm2b-D5.genes.results.txt',\n",
       " './Data/GSE127927/GSM3656672_7F-Glis1-D1.genes.results.txt',\n",
       " './Data/GSE127927/GSM3656710_7F-none-D7-rep2.genes.results.txt',\n",
       " './Data/GSE127927/GSM3656728_MEF-Y_F-iPSC-6.genes.results.txt',\n",
       " './Data/GSE127927/GSM3656712_GFP-control-D3.genes.results.txt',\n",
       " './Data/GSE127927/GSM3656701_7F-none-D0-rep1.genes.results.txt',\n",
       " './Data/GSE127927/GSM3656702_7F-none-D0-rep2.genes.results.txt',\n",
       " './Data/GSE127927/GSM3656725_MEF-Y_F-iPSC-3.genes.results.txt',\n",
       " './Data/GSE127927/GSM3656729_MEF-rep1.genes.results.txt',\n",
       " './Data/GSE127927/GSM3656680_7F-Jdp2-D7.genes.results.txt',\n",
       " './Data/GSE127927/GSM3656670_7F-Esrrb-D7.genes.results.txt',\n",
       " './Data/GSE127927/GSM3656694_7F-Nanog-D5.genes.results.txt',\n",
       " './Data/GSE127927/GSM3656690_7F-Mkk6-D7.genes.results.txt',\n",
       " './Data/GSE127927/GSM3656685_7F-Kdm2b-D7.genes.results.txt']"
      ]
     },
     "execution_count": 4,
     "metadata": {},
     "output_type": "execute_result"
    }
   ],
   "source": [
    "gse = glob(\"./Data/GSE127927/GSM*\")\n",
    "print(len(gse))\n",
    "gse"
   ]
  },
  {
   "cell_type": "code",
   "execution_count": 15,
   "metadata": {
    "ExecuteTime": {
     "end_time": "2021-01-26T18:22:39.572180Z",
     "start_time": "2021-01-26T18:22:39.488966Z"
    },
    "hidden": true
   },
   "outputs": [],
   "source": [
    "df = pd.read_csv(gse[0], sep='\\t', index_col=0)"
   ]
  },
  {
   "cell_type": "code",
   "execution_count": 31,
   "metadata": {
    "ExecuteTime": {
     "end_time": "2021-01-26T18:25:35.694887Z",
     "start_time": "2021-01-26T18:25:35.693007Z"
    },
    "hidden": true
   },
   "outputs": [],
   "source": [
    "#preprocessing and merging\n",
    "# symbols = {}\n",
    "# mdf = pd.DataFrame()\n",
    "\n",
    "# for path in tqdm(gse):\n",
    "\n",
    "#     df = pd.read_csv(path, sep='\\t', index_col=0)\n",
    "#     symbols.update(df.Symbol.to_dict())\n",
    "#     df = df.groupby(level=0).sum()\n",
    "#     df.columns = [col + '__' + os.path.basename(path) for col in df.columns]\n",
    "\n",
    "#     if mdf.shape == (0, 0):\n",
    "#         mdf = df\n",
    "#     else:\n",
    "#         mdf = pd.merge(mdf, df, left_index=True, right_index=True)"
   ]
  },
  {
   "cell_type": "markdown",
   "metadata": {
    "hidden": true
   },
   "source": [
    "# GSE62772"
   ]
  },
  {
   "cell_type": "code",
   "execution_count": 17,
   "metadata": {
    "hidden": true
   },
   "outputs": [
    {
     "data": {
      "text/html": [
       "<div>\n",
       "<style scoped>\n",
       "    .dataframe tbody tr th:only-of-type {\n",
       "        vertical-align: middle;\n",
       "    }\n",
       "\n",
       "    .dataframe tbody tr th {\n",
       "        vertical-align: top;\n",
       "    }\n",
       "\n",
       "    .dataframe thead th {\n",
       "        text-align: right;\n",
       "    }\n",
       "</style>\n",
       "<table border=\"1\" class=\"dataframe\">\n",
       "  <thead>\n",
       "    <tr style=\"text-align: right;\">\n",
       "      <th></th>\n",
       "      <th>gene_id</th>\n",
       "      <th>gene_short_name</th>\n",
       "      <th>locus</th>\n",
       "      <th>hiF-T_P14</th>\n",
       "      <th>2dd_DOX_plus</th>\n",
       "      <th>5dd_DOX_plus</th>\n",
       "      <th>8dd_DOX_plus</th>\n",
       "      <th>10dd_DOX_plus_SSEA3_pos</th>\n",
       "      <th>14dd_DOX_plus_SSEA3_pos</th>\n",
       "      <th>20dd_DOX_plus_TRA_plus</th>\n",
       "      <th>24dd_TRA_pos_DOX_plus</th>\n",
       "      <th>24dd_TRA_pos_DOX_minus</th>\n",
       "      <th>hIPSC-T_P10</th>\n",
       "    </tr>\n",
       "  </thead>\n",
       "  <tbody>\n",
       "    <tr>\n",
       "      <th>0</th>\n",
       "      <td>ENSG00000000003.9</td>\n",
       "      <td>TSPAN6</td>\n",
       "      <td>chrX:99883666-99894988</td>\n",
       "      <td>14.66780</td>\n",
       "      <td>14.35510</td>\n",
       "      <td>18.75820</td>\n",
       "      <td>35.416900</td>\n",
       "      <td>47.672700</td>\n",
       "      <td>50.65490</td>\n",
       "      <td>38.88380</td>\n",
       "      <td>38.405600</td>\n",
       "      <td>34.02820</td>\n",
       "      <td>38.80380</td>\n",
       "    </tr>\n",
       "    <tr>\n",
       "      <th>1</th>\n",
       "      <td>ENSG00000000005.5</td>\n",
       "      <td>TNMD</td>\n",
       "      <td>chrX:99839798-99854882</td>\n",
       "      <td>0.00000</td>\n",
       "      <td>0.00000</td>\n",
       "      <td>0.00000</td>\n",
       "      <td>0.202068</td>\n",
       "      <td>0.211075</td>\n",
       "      <td>1.03463</td>\n",
       "      <td>1.93668</td>\n",
       "      <td>0.901606</td>\n",
       "      <td>1.25704</td>\n",
       "      <td>1.61839</td>\n",
       "    </tr>\n",
       "    <tr>\n",
       "      <th>2</th>\n",
       "      <td>ENSG00000000419.7</td>\n",
       "      <td>DPM1</td>\n",
       "      <td>chr20:49505584-49575092</td>\n",
       "      <td>30.25940</td>\n",
       "      <td>26.77980</td>\n",
       "      <td>26.75960</td>\n",
       "      <td>24.091500</td>\n",
       "      <td>25.901700</td>\n",
       "      <td>23.96090</td>\n",
       "      <td>32.26400</td>\n",
       "      <td>31.577200</td>\n",
       "      <td>32.90510</td>\n",
       "      <td>28.60270</td>\n",
       "    </tr>\n",
       "    <tr>\n",
       "      <th>3</th>\n",
       "      <td>ENSG00000000457.8</td>\n",
       "      <td>SCYL3</td>\n",
       "      <td>chr1:169631244-169863408</td>\n",
       "      <td>4.32631</td>\n",
       "      <td>3.95876</td>\n",
       "      <td>3.70529</td>\n",
       "      <td>3.573150</td>\n",
       "      <td>3.888220</td>\n",
       "      <td>3.73826</td>\n",
       "      <td>3.36952</td>\n",
       "      <td>3.545050</td>\n",
       "      <td>3.62512</td>\n",
       "      <td>3.20174</td>\n",
       "    </tr>\n",
       "    <tr>\n",
       "      <th>4</th>\n",
       "      <td>ENSG00000000460.11</td>\n",
       "      <td>C1orf112</td>\n",
       "      <td>chr1:169631244-169863408</td>\n",
       "      <td>4.87518</td>\n",
       "      <td>11.07140</td>\n",
       "      <td>9.90240</td>\n",
       "      <td>7.146970</td>\n",
       "      <td>7.664040</td>\n",
       "      <td>8.10739</td>\n",
       "      <td>9.93671</td>\n",
       "      <td>8.412480</td>\n",
       "      <td>10.31440</td>\n",
       "      <td>12.86540</td>\n",
       "    </tr>\n",
       "    <tr>\n",
       "      <th>...</th>\n",
       "      <td>...</td>\n",
       "      <td>...</td>\n",
       "      <td>...</td>\n",
       "      <td>...</td>\n",
       "      <td>...</td>\n",
       "      <td>...</td>\n",
       "      <td>...</td>\n",
       "      <td>...</td>\n",
       "      <td>...</td>\n",
       "      <td>...</td>\n",
       "      <td>...</td>\n",
       "      <td>...</td>\n",
       "      <td>...</td>\n",
       "    </tr>\n",
       "    <tr>\n",
       "      <th>53905</th>\n",
       "      <td>ENSGR0000237040.1</td>\n",
       "      <td>DPH3P2</td>\n",
       "      <td>chrY:59208304-59208554</td>\n",
       "      <td>0.00000</td>\n",
       "      <td>0.00000</td>\n",
       "      <td>0.00000</td>\n",
       "      <td>0.000000</td>\n",
       "      <td>0.000000</td>\n",
       "      <td>0.00000</td>\n",
       "      <td>0.00000</td>\n",
       "      <td>0.000000</td>\n",
       "      <td>0.00000</td>\n",
       "      <td>0.00000</td>\n",
       "    </tr>\n",
       "    <tr>\n",
       "      <th>53906</th>\n",
       "      <td>ENSGR0000237531.1</td>\n",
       "      <td>RP11-309M23.1</td>\n",
       "      <td>chrY:900955-905100</td>\n",
       "      <td>0.00000</td>\n",
       "      <td>0.00000</td>\n",
       "      <td>0.00000</td>\n",
       "      <td>0.000000</td>\n",
       "      <td>0.000000</td>\n",
       "      <td>0.00000</td>\n",
       "      <td>0.00000</td>\n",
       "      <td>0.000000</td>\n",
       "      <td>0.00000</td>\n",
       "      <td>0.00000</td>\n",
       "    </tr>\n",
       "    <tr>\n",
       "      <th>53907</th>\n",
       "      <td>ENSGR0000237801.1</td>\n",
       "      <td>AMDP1</td>\n",
       "      <td>chrY:59161253-59162245</td>\n",
       "      <td>0.00000</td>\n",
       "      <td>0.00000</td>\n",
       "      <td>0.00000</td>\n",
       "      <td>0.000000</td>\n",
       "      <td>0.000000</td>\n",
       "      <td>0.00000</td>\n",
       "      <td>0.00000</td>\n",
       "      <td>0.000000</td>\n",
       "      <td>0.00000</td>\n",
       "      <td>0.00000</td>\n",
       "    </tr>\n",
       "    <tr>\n",
       "      <th>53908</th>\n",
       "      <td>ENSGR0000248421.1</td>\n",
       "      <td>RP11-325D5.3</td>\n",
       "      <td>chrY:2087556-2370846</td>\n",
       "      <td>0.00000</td>\n",
       "      <td>0.00000</td>\n",
       "      <td>0.00000</td>\n",
       "      <td>0.000000</td>\n",
       "      <td>0.000000</td>\n",
       "      <td>0.00000</td>\n",
       "      <td>0.00000</td>\n",
       "      <td>0.000000</td>\n",
       "      <td>0.00000</td>\n",
       "      <td>0.00000</td>\n",
       "    </tr>\n",
       "    <tr>\n",
       "      <th>53909</th>\n",
       "      <td>ENSGR0000249358.1</td>\n",
       "      <td>RP13-297E16.3</td>\n",
       "      <td>chrY:1683893-1711974</td>\n",
       "      <td>0.00000</td>\n",
       "      <td>0.00000</td>\n",
       "      <td>0.00000</td>\n",
       "      <td>0.000000</td>\n",
       "      <td>0.000000</td>\n",
       "      <td>0.00000</td>\n",
       "      <td>0.00000</td>\n",
       "      <td>0.000000</td>\n",
       "      <td>0.00000</td>\n",
       "      <td>0.00000</td>\n",
       "    </tr>\n",
       "  </tbody>\n",
       "</table>\n",
       "<p>53910 rows × 13 columns</p>\n",
       "</div>"
      ],
      "text/plain": [
       "                  gene_id gene_short_name                     locus  \\\n",
       "0       ENSG00000000003.9          TSPAN6    chrX:99883666-99894988   \n",
       "1       ENSG00000000005.5            TNMD    chrX:99839798-99854882   \n",
       "2       ENSG00000000419.7            DPM1   chr20:49505584-49575092   \n",
       "3       ENSG00000000457.8           SCYL3  chr1:169631244-169863408   \n",
       "4      ENSG00000000460.11        C1orf112  chr1:169631244-169863408   \n",
       "...                   ...             ...                       ...   \n",
       "53905   ENSGR0000237040.1          DPH3P2    chrY:59208304-59208554   \n",
       "53906   ENSGR0000237531.1   RP11-309M23.1        chrY:900955-905100   \n",
       "53907   ENSGR0000237801.1           AMDP1    chrY:59161253-59162245   \n",
       "53908   ENSGR0000248421.1    RP11-325D5.3      chrY:2087556-2370846   \n",
       "53909   ENSGR0000249358.1   RP13-297E16.3      chrY:1683893-1711974   \n",
       "\n",
       "       hiF-T_P14  2dd_DOX_plus  5dd_DOX_plus  8dd_DOX_plus  \\\n",
       "0       14.66780      14.35510      18.75820     35.416900   \n",
       "1        0.00000       0.00000       0.00000      0.202068   \n",
       "2       30.25940      26.77980      26.75960     24.091500   \n",
       "3        4.32631       3.95876       3.70529      3.573150   \n",
       "4        4.87518      11.07140       9.90240      7.146970   \n",
       "...          ...           ...           ...           ...   \n",
       "53905    0.00000       0.00000       0.00000      0.000000   \n",
       "53906    0.00000       0.00000       0.00000      0.000000   \n",
       "53907    0.00000       0.00000       0.00000      0.000000   \n",
       "53908    0.00000       0.00000       0.00000      0.000000   \n",
       "53909    0.00000       0.00000       0.00000      0.000000   \n",
       "\n",
       "       10dd_DOX_plus_SSEA3_pos  14dd_DOX_plus_SSEA3_pos  \\\n",
       "0                    47.672700                 50.65490   \n",
       "1                     0.211075                  1.03463   \n",
       "2                    25.901700                 23.96090   \n",
       "3                     3.888220                  3.73826   \n",
       "4                     7.664040                  8.10739   \n",
       "...                        ...                      ...   \n",
       "53905                 0.000000                  0.00000   \n",
       "53906                 0.000000                  0.00000   \n",
       "53907                 0.000000                  0.00000   \n",
       "53908                 0.000000                  0.00000   \n",
       "53909                 0.000000                  0.00000   \n",
       "\n",
       "       20dd_DOX_plus_TRA_plus  24dd_TRA_pos_DOX_plus  24dd_TRA_pos_DOX_minus  \\\n",
       "0                    38.88380              38.405600                34.02820   \n",
       "1                     1.93668               0.901606                 1.25704   \n",
       "2                    32.26400              31.577200                32.90510   \n",
       "3                     3.36952               3.545050                 3.62512   \n",
       "4                     9.93671               8.412480                10.31440   \n",
       "...                       ...                    ...                     ...   \n",
       "53905                 0.00000               0.000000                 0.00000   \n",
       "53906                 0.00000               0.000000                 0.00000   \n",
       "53907                 0.00000               0.000000                 0.00000   \n",
       "53908                 0.00000               0.000000                 0.00000   \n",
       "53909                 0.00000               0.000000                 0.00000   \n",
       "\n",
       "       hIPSC-T_P10  \n",
       "0         38.80380  \n",
       "1          1.61839  \n",
       "2         28.60270  \n",
       "3          3.20174  \n",
       "4         12.86540  \n",
       "...            ...  \n",
       "53905      0.00000  \n",
       "53906      0.00000  \n",
       "53907      0.00000  \n",
       "53908      0.00000  \n",
       "53909      0.00000  \n",
       "\n",
       "[53910 rows x 13 columns]"
      ]
     },
     "execution_count": 17,
     "metadata": {},
     "output_type": "execute_result"
    }
   ],
   "source": [
    "pd.read_csv('data/GSE62772/GSE62772_all_genes_reprogramming.fpkm_tracking.csv')"
   ]
  },
  {
   "cell_type": "code",
   "execution_count": 18,
   "metadata": {
    "hidden": true
   },
   "outputs": [
    {
     "data": {
      "text/html": [
       "<div>\n",
       "<style scoped>\n",
       "    .dataframe tbody tr th:only-of-type {\n",
       "        vertical-align: middle;\n",
       "    }\n",
       "\n",
       "    .dataframe tbody tr th {\n",
       "        vertical-align: top;\n",
       "    }\n",
       "\n",
       "    .dataframe thead th {\n",
       "        text-align: right;\n",
       "    }\n",
       "</style>\n",
       "<table border=\"1\" class=\"dataframe\">\n",
       "  <thead>\n",
       "    <tr style=\"text-align: right;\">\n",
       "      <th></th>\n",
       "      <th>gene_id</th>\n",
       "      <th>gene_short_name</th>\n",
       "      <th>locus</th>\n",
       "      <th>5dd_DOX_plus</th>\n",
       "      <th>5dd_DOX_plus_LSD1</th>\n",
       "      <th>14dd_DOX_plus_SSEA3_pos</th>\n",
       "      <th>13dd_DOX_plus_LSD1_SSEA3_pos</th>\n",
       "      <th>20dd_DOX_plus_TRA_plus</th>\n",
       "      <th>13dd_DOX_plus_LSD1_TRA_pos</th>\n",
       "    </tr>\n",
       "  </thead>\n",
       "  <tbody>\n",
       "    <tr>\n",
       "      <th>0</th>\n",
       "      <td>ENSG00000000003.9</td>\n",
       "      <td>TSPAN6</td>\n",
       "      <td>chrX:99883666-99894988</td>\n",
       "      <td>18.72960</td>\n",
       "      <td>16.563100</td>\n",
       "      <td>52.22010</td>\n",
       "      <td>54.186200</td>\n",
       "      <td>40.3031</td>\n",
       "      <td>39.477900</td>\n",
       "    </tr>\n",
       "    <tr>\n",
       "      <th>1</th>\n",
       "      <td>ENSG00000000005.5</td>\n",
       "      <td>TNMD</td>\n",
       "      <td>chrX:99839798-99854882</td>\n",
       "      <td>0.00000</td>\n",
       "      <td>0.059754</td>\n",
       "      <td>1.06470</td>\n",
       "      <td>0.465052</td>\n",
       "      <td>2.0089</td>\n",
       "      <td>0.351263</td>\n",
       "    </tr>\n",
       "    <tr>\n",
       "      <th>2</th>\n",
       "      <td>ENSG00000000419.7</td>\n",
       "      <td>DPM1</td>\n",
       "      <td>chr20:49505584-49575092</td>\n",
       "      <td>27.09740</td>\n",
       "      <td>21.459200</td>\n",
       "      <td>24.69670</td>\n",
       "      <td>33.162000</td>\n",
       "      <td>33.4336</td>\n",
       "      <td>34.489700</td>\n",
       "    </tr>\n",
       "    <tr>\n",
       "      <th>3</th>\n",
       "      <td>ENSG00000000457.8</td>\n",
       "      <td>SCYL3</td>\n",
       "      <td>chr1:169631244-169863408</td>\n",
       "      <td>3.92450</td>\n",
       "      <td>3.696420</td>\n",
       "      <td>3.85343</td>\n",
       "      <td>3.839750</td>\n",
       "      <td>3.4928</td>\n",
       "      <td>3.632060</td>\n",
       "    </tr>\n",
       "    <tr>\n",
       "      <th>4</th>\n",
       "      <td>ENSG00000000460.11</td>\n",
       "      <td>C1orf112</td>\n",
       "      <td>chr1:169631244-169863408</td>\n",
       "      <td>9.27843</td>\n",
       "      <td>6.259670</td>\n",
       "      <td>8.35516</td>\n",
       "      <td>10.975700</td>\n",
       "      <td>10.2978</td>\n",
       "      <td>9.699230</td>\n",
       "    </tr>\n",
       "    <tr>\n",
       "      <th>...</th>\n",
       "      <td>...</td>\n",
       "      <td>...</td>\n",
       "      <td>...</td>\n",
       "      <td>...</td>\n",
       "      <td>...</td>\n",
       "      <td>...</td>\n",
       "      <td>...</td>\n",
       "      <td>...</td>\n",
       "      <td>...</td>\n",
       "    </tr>\n",
       "    <tr>\n",
       "      <th>53905</th>\n",
       "      <td>ENSGR0000237040.1</td>\n",
       "      <td>DPH3P2</td>\n",
       "      <td>chrY:59208304-59208554</td>\n",
       "      <td>0.00000</td>\n",
       "      <td>0.000000</td>\n",
       "      <td>0.00000</td>\n",
       "      <td>0.000000</td>\n",
       "      <td>0.0000</td>\n",
       "      <td>0.000000</td>\n",
       "    </tr>\n",
       "    <tr>\n",
       "      <th>53906</th>\n",
       "      <td>ENSGR0000237531.1</td>\n",
       "      <td>RP11-309M23.1</td>\n",
       "      <td>chrY:900955-905100</td>\n",
       "      <td>0.00000</td>\n",
       "      <td>0.000000</td>\n",
       "      <td>0.00000</td>\n",
       "      <td>0.000000</td>\n",
       "      <td>0.0000</td>\n",
       "      <td>0.000000</td>\n",
       "    </tr>\n",
       "    <tr>\n",
       "      <th>53907</th>\n",
       "      <td>ENSGR0000237801.1</td>\n",
       "      <td>AMDP1</td>\n",
       "      <td>chrY:59161253-59162245</td>\n",
       "      <td>0.00000</td>\n",
       "      <td>0.000000</td>\n",
       "      <td>0.00000</td>\n",
       "      <td>0.000000</td>\n",
       "      <td>0.0000</td>\n",
       "      <td>0.000000</td>\n",
       "    </tr>\n",
       "    <tr>\n",
       "      <th>53908</th>\n",
       "      <td>ENSGR0000248421.1</td>\n",
       "      <td>RP11-325D5.3</td>\n",
       "      <td>chrY:2087556-2370846</td>\n",
       "      <td>0.00000</td>\n",
       "      <td>0.000000</td>\n",
       "      <td>0.00000</td>\n",
       "      <td>0.000000</td>\n",
       "      <td>0.0000</td>\n",
       "      <td>0.000000</td>\n",
       "    </tr>\n",
       "    <tr>\n",
       "      <th>53909</th>\n",
       "      <td>ENSGR0000249358.1</td>\n",
       "      <td>RP13-297E16.3</td>\n",
       "      <td>chrY:1683893-1711974</td>\n",
       "      <td>0.00000</td>\n",
       "      <td>0.000000</td>\n",
       "      <td>0.00000</td>\n",
       "      <td>0.000000</td>\n",
       "      <td>0.0000</td>\n",
       "      <td>0.000000</td>\n",
       "    </tr>\n",
       "  </tbody>\n",
       "</table>\n",
       "<p>53910 rows × 9 columns</p>\n",
       "</div>"
      ],
      "text/plain": [
       "                  gene_id gene_short_name                     locus  \\\n",
       "0       ENSG00000000003.9          TSPAN6    chrX:99883666-99894988   \n",
       "1       ENSG00000000005.5            TNMD    chrX:99839798-99854882   \n",
       "2       ENSG00000000419.7            DPM1   chr20:49505584-49575092   \n",
       "3       ENSG00000000457.8           SCYL3  chr1:169631244-169863408   \n",
       "4      ENSG00000000460.11        C1orf112  chr1:169631244-169863408   \n",
       "...                   ...             ...                       ...   \n",
       "53905   ENSGR0000237040.1          DPH3P2    chrY:59208304-59208554   \n",
       "53906   ENSGR0000237531.1   RP11-309M23.1        chrY:900955-905100   \n",
       "53907   ENSGR0000237801.1           AMDP1    chrY:59161253-59162245   \n",
       "53908   ENSGR0000248421.1    RP11-325D5.3      chrY:2087556-2370846   \n",
       "53909   ENSGR0000249358.1   RP13-297E16.3      chrY:1683893-1711974   \n",
       "\n",
       "       5dd_DOX_plus  5dd_DOX_plus_LSD1  14dd_DOX_plus_SSEA3_pos  \\\n",
       "0          18.72960          16.563100                 52.22010   \n",
       "1           0.00000           0.059754                  1.06470   \n",
       "2          27.09740          21.459200                 24.69670   \n",
       "3           3.92450           3.696420                  3.85343   \n",
       "4           9.27843           6.259670                  8.35516   \n",
       "...             ...                ...                      ...   \n",
       "53905       0.00000           0.000000                  0.00000   \n",
       "53906       0.00000           0.000000                  0.00000   \n",
       "53907       0.00000           0.000000                  0.00000   \n",
       "53908       0.00000           0.000000                  0.00000   \n",
       "53909       0.00000           0.000000                  0.00000   \n",
       "\n",
       "       13dd_DOX_plus_LSD1_SSEA3_pos  20dd_DOX_plus_TRA_plus  \\\n",
       "0                         54.186200                 40.3031   \n",
       "1                          0.465052                  2.0089   \n",
       "2                         33.162000                 33.4336   \n",
       "3                          3.839750                  3.4928   \n",
       "4                         10.975700                 10.2978   \n",
       "...                             ...                     ...   \n",
       "53905                      0.000000                  0.0000   \n",
       "53906                      0.000000                  0.0000   \n",
       "53907                      0.000000                  0.0000   \n",
       "53908                      0.000000                  0.0000   \n",
       "53909                      0.000000                  0.0000   \n",
       "\n",
       "       13dd_DOX_plus_LSD1_TRA_pos  \n",
       "0                       39.477900  \n",
       "1                        0.351263  \n",
       "2                       34.489700  \n",
       "3                        3.632060  \n",
       "4                        9.699230  \n",
       "...                           ...  \n",
       "53905                    0.000000  \n",
       "53906                    0.000000  \n",
       "53907                    0.000000  \n",
       "53908                    0.000000  \n",
       "53909                    0.000000  \n",
       "\n",
       "[53910 rows x 9 columns]"
      ]
     },
     "execution_count": 18,
     "metadata": {},
     "output_type": "execute_result"
    }
   ],
   "source": [
    "pd.read_csv('data/GSE62772/GSE62772_all_genes_LSD1i.fpkm_tracking.csv')"
   ]
  }
 ],
 "metadata": {
  "interpreter": {
   "hash": "bc0204fe33e608144a4487d5471dd4291b6af9afde1c233ef915d1724ec333fd"
  },
  "kernelspec": {
   "display_name": "Python 3.7.6 64-bit ('base': conda)",
   "name": "python3"
  },
  "language_info": {
   "codemirror_mode": {
    "name": "ipython",
    "version": 3
   },
   "file_extension": ".py",
   "mimetype": "text/x-python",
   "name": "python",
   "nbconvert_exporter": "python",
   "pygments_lexer": "ipython3",
   "version": "3.7.6"
  },
  "toc": {
   "base_numbering": 1,
   "nav_menu": {},
   "number_sections": true,
   "sideBar": true,
   "skip_h1_title": false,
   "title_cell": "Table of Contents",
   "title_sidebar": "Contents",
   "toc_cell": false,
   "toc_position": {},
   "toc_section_display": true,
   "toc_window_display": false
  }
 },
 "nbformat": 4,
 "nbformat_minor": 4
}
