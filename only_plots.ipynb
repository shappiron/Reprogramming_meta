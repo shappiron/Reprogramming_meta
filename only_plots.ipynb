{
 "cells": [
  {
   "cell_type": "code",
   "execution_count": 1,
   "metadata": {},
   "outputs": [],
   "source": [
    "suppressMessages(library(limma))\n",
    "suppressMessages(library(jsonlite))\n",
    "suppressMessages(library(progress))\n",
    "suppressMessages(library(gplots))\n",
    "suppressMessages(library(dplyr))\n",
    "suppressMessages(library(metafor))\n",
    "suppressMessages(library(ggplot2))\n",
    "suppressMessages(library(org.Mm.eg.db))\n",
    "suppressMessages(library(annotate))\n",
    "suppressMessages(library(mygene))\n",
    "suppressMessages(require(\"biomaRt\"))\n",
    "#suppressMessages(library(gCMAP))\n",
    "#suppressMessages(library('qusage'))\n",
    "#suppressMessages(library(TMixClust))\n",
    "\n",
    "\n",
    "### FUNCTIONS\n",
    "source(\"./post_functions/FUN.Run_functional_GSEA.R\")\n",
    "source(\"./utils/gather.R\")\n",
    "source(\"./utils/mouse2human.R\")\n",
    "source(\"./utils/varplot.R\")\n",
    "source(\"./utils/get_slopes.R\")\n",
    "source(\"./plot_functions/corplot.R\")\n",
    "source(\"./plot_functions/FUN.Visualize_GSEA_heatmap.R\")\n",
    "source(\"./plot_functions/ggcorplot.R\")\n",
    "source(\"./plot_functions/plot_dynamics.R\")\n",
    "source(\"./plot_functions/plot_volcano.R\")\n",
    "source(\"./plot_functions/plot_venn.R\")\n",
    "source('plot_functions/gene_barplot.R')\n",
    "source('plot_functions/plot_contingency.R')\n",
    "source('plot_functions/plot_contingency_pair.R')\n",
    "\n",
    "#OPTIONS\n",
    "options(warn=-1) #no warnings -1; yes warnings 0\n",
    "WIDTH = 21.0 #cm"
   ]
  },
  {
   "cell_type": "markdown",
   "metadata": {},
   "source": [
    "# Panel 1"
   ]
  },
  {
   "cell_type": "markdown",
   "metadata": {},
   "source": [
    "## Mouse"
   ]
  },
  {
   "cell_type": "code",
   "execution_count": 17,
   "metadata": {},
   "outputs": [
    {
     "name": "stdout",
     "output_type": "stream",
     "text": [
      "GSE67462$OSKM Pheno: 16 Total: 20479 Passed: 5469 \n",
      "GSE38509$OSKM Pheno: 18 Total: 20955 Passed: 5255 \n",
      "GSE38509$OSK Pheno: 6 Total: 20955 Passed: 1050 \n",
      "GSE116309$OKMS Pheno: 4 Total: 20955 Passed: 0 \n",
      "GSE116309$OK+9MS Pheno: 4 Total: 20955 Passed: 1253 \n",
      "GSE46321$C/EBPα+ OSKM Pheno: 18 Total: 22036 Passed: 10185 \n",
      "GSE114581$OSKM+dox_mef Pheno: 9 Total: 13063 Passed: 3108 \n",
      "GSE21757$OKMS Pheno: 7 Total: 16480 Passed: 1815 \n",
      "GSE127927$7F-Esrrb Pheno: 5 Total: 12080 Passed: 541 \n",
      "GSE127927$7F-Glis1 Pheno: 5 Total: 12080 Passed: 46 \n",
      "GSE127927$7F-Jdp2 Pheno: 5 Total: 12080 Passed: 19 \n",
      "GSE127927$7F-Kdm2b Pheno: 5 Total: 12080 Passed: 359 \n",
      "GSE127927$7F-Mkk6 Pheno: 5 Total: 12080 Passed: 0 \n",
      "GSE127927$7F-Nanog Pheno: 5 Total: 12080 Passed: 0 \n",
      "GSE127927$7F-Sall4 Pheno: 5 Total: 12080 Passed: 0 \n",
      "GSE127927$7F Pheno: 10 Total: 12080 Passed: 3286 \n",
      "GSE102348$OSKM$Gatad2a-/- Pheno: 9 Total: 11132 Passed: 3346 \n",
      "GSE102348$OSKM$Mbd3f/- Pheno: 9 Total: 11132 Passed: 2738 \n",
      "GSE102348$OSKM$WT-1 Pheno: 5 Total: 11132 Passed: 1343 \n"
     ]
    }
   ],
   "source": [
    "# show how signature correlates with datasets\n",
    "\n",
    "### get all needed data\n",
    "signature_mouse <- read.csv('signatures/reprogramming_mouse_full.csv', row.names=1)\n",
    "signature_human <- read.csv('signatures/reprogramming_human_full.csv', row.names=1)\n",
    "signature_humanEtz <- read.csv('signatures/reprogramming_human_full_humanEntrez.csv', row.names=1)\n",
    "signature_mouse_human <- read.csv('signatures/reprogramming_human_mouse_full.csv', row.names=1)\n",
    "\n",
    "datasets <- c('GSE67462$OSKM','GSE38509$OSKM','GSE38509$OSK',\n",
    "              'GSE116309$OKMS', 'GSE116309$OK+9MS', 'GSE46321$C/EBPα+ OSKM', \n",
    "              'GSE114581$OSKM+dox_mef', 'GSE21757$OKMS',\n",
    "              'GSE127927$7F-Esrrb', 'GSE127927$7F-Glis1', 'GSE127927$7F-Jdp2', \n",
    "              'GSE127927$7F-Kdm2b', 'GSE127927$7F-Mkk6', 'GSE127927$7F-Nanog', \n",
    "              'GSE127927$7F-Sall4', 'GSE127927$7F', \n",
    "              'GSE102348$OSKM$Gatad2a-/-', 'GSE102348$OSKM$Mbd3f/-', 'GSE102348$OSKM$WT-1')\n",
    "\n",
    "# taken from kit standard of \n",
    "#https://www.clinisciences.com/en/read/stem-cells-characterization-1087/esc-and-ipsc-characterization-by-1429.html\n",
    "#and https://www.nature.com/articles/s41598-018-24051-5\n",
    "pluripotency_mouse <- c('20674', '18999', '71950', '26380', '18613', '81879', '11614', \n",
    "                        '22773', '52463', '14562', '22286', '54427', '13436', '17075',\n",
    "                        '16468', '21420', '50764', '12550', '11647', '636931', '11545',\n",
    "                        '12349','12443','12444','12447','12575','12578','13435',\n",
    "                        '13841','14175','14472','16447','16664','16666',\n",
    "                        '17218','20617','20753','21667','22702','26447',\n",
    "                        '27205','53972','54427','106344') #mouse Etz\n",
    "\n",
    "ultradf <- fromJSON(\"./data/ultradf_v4.json\")\n",
    "\n",
    "#parsing\n",
    "for (i in names(ultradf)) {\n",
    "    df <- read.csv(text=ultradf[[i]]$data, row.names=2)[, -1]\n",
    "    pheno <- read.csv(text=ultradf[[i]]$pheno)\n",
    "    stopifnot(nrow(pheno)==ncol(df))\n",
    "    ultradf[[i]]$data <- df\n",
    "    ultradf[[i]]$pheno <- pheno\n",
    "}\n",
    "ultradf <- ultradf[datasets]\n",
    "\n",
    "tmp_result <- get_slopes(ultradf, stoplist=c(), genelist=c())\n",
    "datasets_list <- tmp_result[['datasets']]\n",
    "slopes <- tmp_result[['slopes']]\n",
    "\n",
    "combined <- c(list(\"Reprogramming:Mouse\"=signature_mouse), datasets_list)"
   ]
  },
  {
   "cell_type": "code",
   "execution_count": 69,
   "metadata": {},
   "outputs": [
    {
     "name": "stderr",
     "output_type": "stream",
     "text": [
      "Using rowname as id variables\n",
      "\n",
      "Using rowname as id variables\n",
      "\n"
     ]
    }
   ],
   "source": [
    "source(\"./plot_functions/ggcorplot.R\")\n",
    "source(\"./plot_functions/plot_dynamics.R\")\n",
    "source(\"./plot_functions/plot_volcano.R\")\n",
    "source('plot_functions/plot_contingency_pair.R')\n",
    "\n",
    "gA <- ggheatmap(combined, \n",
    "                type='pairwise_top', method='spearman', top=350, pvplot=F,\n",
    "                label_size=1.2, value_size=0.8, title=\"Spearman correlation\",\n",
    "                measure=\"logFC\", criterion=\"FDR\",\n",
    "                orderCol = T, orderRow = T, dendroLineSize = 0.5,\n",
    "                fontsize = 20,  scaleName = \"value\",\n",
    "                distMethod = \"euclidean\", clustMethod = \"complete\")\n",
    "\n",
    "gB <- plot_dynamics(signature_mouse, ultradf, top=5, interval=2)\n",
    "gC <- plot_volcano(signature_mouse, pluripotency=pluripotency_mouse, fdr_thr=0.001, coef_thr=c(-2.5, 2.5),)\n",
    "gD <- plot_contingency_pair(signature_mouse, signature_human, suf1='Mouse', suf2='Human')\n",
    "\n",
    "uprow <- cowplot::plot_grid(gA, gC, ncol=1, labels = c(\"B\", \"D\"), label_size = 32, rel_heights = c(3, 1.5))\n",
    "dwrow <- cowplot::plot_grid(gB, gD, ncol=1, labels = c(\"C\", \"E\"), label_size = 32, rel_heights = c(3, 1.5))\n",
    "P <- cowplot::plot_grid(uprow, dwrow, nrow=1, label_size = 32, rel_widths = c(3, 1.8))\n",
    "\n",
    "ggsave('figs/panel1.pdf', P, width=WIDTH, height=17.0, units = \"cm\", dpi=300, scale=2.5)"
   ]
  },
  {
   "cell_type": "markdown",
   "metadata": {},
   "source": [
    "## Human"
   ]
  },
  {
   "cell_type": "code",
   "execution_count": null,
   "metadata": {},
   "outputs": [],
   "source": [
    "#datasets <- c('GSE89455$OSKM$HDF', 'GSE89455$OSKM$HAdMSC', 'GSE89455$OSKM$HA', \n",
    "#              'GSE89455$OSKM$HBEC','GSE89455$OSKM$HPrEC','GSE50206$OSKM$HDF',\n",
    "#              'GSE50206$OSKM$ASC','GSE50206$OSKM$HA','GSE50206$OSKM$NHBE',\n",
    "#              'GSE50206$OSKM$PrEC','GSE54848$OSKM$HDF')\n",
    "#ultradf <- fromJSON(\"./data/ultradf_human_v3.json\") #ultradf_human is always with human EntrezID\n",
    "\n",
    "#combined <- c(list(\"Reprogramming:Human\"=signature_humanEtz), datasets_list)"
   ]
  },
  {
   "cell_type": "code",
   "execution_count": null,
   "metadata": {},
   "outputs": [],
   "source": [
    "#pluripotency_human <- c('5460') #human Etz\n",
    "#gB <- plot_dynamics(signature_humanEtz, ultradf, top=5, interval=2)\n",
    "\n",
    "#gC <- plot_volcano(signature_humanEtz, pluripotency=pluripotency_human, fdr_thr=0.01, coef_thr=4.0,\n",
    "#                     xlim=c(-7,7))\n",
    "#gD <- plot_volcano(signature_mouse_human, pluripotency_mouse, fdr_thr=0.0001, coef_thr=3.0)"
   ]
  },
  {
   "cell_type": "markdown",
   "metadata": {},
   "source": [
    "# Panel 2"
   ]
  },
  {
   "cell_type": "code",
   "execution_count": 107,
   "metadata": {},
   "outputs": [],
   "source": [
    "# show how signature correlates with datasets\n",
    "\n",
    "### get all needed data\n",
    "signature_mouse <- read.csv('signatures/reprogramming_mouse_full.csv', row.names=1)\n",
    "signature_human <- read.csv('signatures/reprogramming_human_full.csv', row.names=1)\n",
    "signature_humanEtz <- read.csv('signatures/reprogramming_human_full_humanEntrez.csv', row.names=1)\n",
    "signature_mouse_human <- read.csv('signatures/reprogramming_human_mouse_full.csv', row.names=1)\n",
    "\n",
    "combined_full_rep <- readRDS('signatures/combined_full_rep.rds')"
   ]
  },
  {
   "cell_type": "code",
   "execution_count": 109,
   "metadata": {},
   "outputs": [
    {
     "name": "stderr",
     "output_type": "stream",
     "text": [
      "Using rowname as id variables\n",
      "\n",
      "Using rowname as id variables\n",
      "\n"
     ]
    }
   ],
   "source": [
    "source(\"./plot_functions/ggcorplot.R\")\n",
    "source('plot_functions/gene_barplot.R')\n",
    "source('plot_functions/plot_contingency.R')\n",
    "\n",
    "gA <- ggheatmap(combined_full_rep, \n",
    "                type='pairwise_top', method='spearman', top=350, pvplot=F,\n",
    "                label_size=1.2, value_size=0.8, title=\"Spearman correlation\",\n",
    "                measure=\"logFC\", criterion=\"FDR\",\n",
    "                orderCol = T, orderRow = T, dendroLineSize = 0.5,\n",
    "                fontsize = 20,  scaleName = \"value\",\n",
    "                distMethod = \"euclidean\", clustMethod = \"complete\")\n",
    "\n",
    "gene_interest <- c('Igf1', 'Rela', 'Rragc', 'Mrpl11', 'Trappc6a', 'Hsd17b12', 'Uqcrq')\n",
    "#gene_interest <- c('Mmp9', 'Gadd45a', 'Itpr3', 'Bmp2', 'Igfbp3', 'Sesn2', 'Ptges', 'Fos')\n",
    "gB <- gene_barplot(combined_full_rep, gene_interest)\n",
    "\n",
    "\n",
    "gC1 <- plot_contingency(combined_full_rep, 'Interventions', lims=c())\n",
    "gC2 <- plot_contingency(combined_full_rep, 'Aging', lims=c(-37, 37), textcol='black')\n",
    "gC <- cowplot::plot_grid(gC1, gC2, labels=c('C', ''), ncol=2, nrow=1, \n",
    "                            label_size = 32, rel_heights = c(2, 2))\n",
    "\n",
    "left <- cowplot::plot_grid(gA, gC, labels=c('A', 'C'), ncol=1, nrow=2, \n",
    "                            label_size = 32, rel_heights = c(4, 2))\n",
    "P2 <- cowplot::plot_grid(left, gB, labels=c('', 'B'), ncol=2, nrow=1, \n",
    "                            label_size = 32, rel_widths = c(3, 2))\n",
    "\n",
    "ggsave('figs/panel2.pdf', P2, width=WIDTH, height=17.0, units = \"cm\", dpi=300, scale=2.5)"
   ]
  },
  {
   "cell_type": "code",
   "execution_count": 13,
   "metadata": {},
   "outputs": [
    {
     "data": {
      "text/html": [
       "<table>\n",
       "<caption>A matrix: 2 × 2 of type int</caption>\n",
       "<tbody>\n",
       "\t<tr><td>547</td><td>141</td></tr>\n",
       "\t<tr><td>142</td><td>756</td></tr>\n",
       "</tbody>\n",
       "</table>\n"
      ],
      "text/latex": [
       "A matrix: 2 × 2 of type int\n",
       "\\begin{tabular}{ll}\n",
       "\t 547 & 141\\\\\n",
       "\t 142 & 756\\\\\n",
       "\\end{tabular}\n"
      ],
      "text/markdown": [
       "\n",
       "A matrix: 2 × 2 of type int\n",
       "\n",
       "| 547 | 141 |\n",
       "| 142 | 756 |\n",
       "\n"
      ],
      "text/plain": [
       "     [,1] [,2]\n",
       "[1,] 547  141 \n",
       "[2,] 142  756 "
      ]
     },
     "metadata": {},
     "output_type": "display_data"
    }
   ],
   "source": [
    "X <- signature_mouse\n",
    "Y <- signature_human\n",
    "X <- X[X$FDR < 0.05,]\n",
    "Y <- Y[Y$FDR < 0.05,]\n",
    "\n",
    "sub <- merge(X, Y, by=0)\n",
    "col1 <- \"logFC.x\"\n",
    "col2 <- \"logFC.y\"\n",
    "urua <- length(sub[(sub[[col1]] > 0) & (sub[[col2]] > 0),]$Row.names)\n",
    "urda <- length(sub[(sub[[col1]] < 0) & (sub[[col2]] > 0),]$Row.names)\n",
    "drua <- length(sub[(sub[[col1]] > 0) & (sub[[col2]] < 0),]$Row.names)\n",
    "drda <- length(sub[(sub[[col1]] < 0) & (sub[[col2]] < 0),]$Row.names)\n",
    "\n",
    "if (all(c(urua, urda, drua, drda)) == T){\n",
    "    #test for distribution randomness\n",
    "    cont_table <- cbind(c(urua, drua), \n",
    "                        c(urda, drda))\n",
    "    test <- chisq.test(cont_table)\n",
    "    pval <- test$p.val\n",
    "}\n",
    "\n",
    "data <- as.matrix(test$observed)\n",
    "data"
   ]
  },
  {
   "cell_type": "markdown",
   "metadata": {},
   "source": [
    "# Panel 3"
   ]
  },
  {
   "cell_type": "code",
   "execution_count": 2,
   "metadata": {},
   "outputs": [],
   "source": [
    "gsea <-readRDS(\"gsea_results/fgsea_results_All.rds\")\n",
    "#make all pathways as indices\n",
    "for (name in names(gsea)){\n",
    "    gsea[[name]] <- as.data.frame(gsea[[name]])\n",
    "    rownames(gsea[[name]]) <- gsea[[name]]$pathway\n",
    "}\n",
    "\n",
    "clockm <- read.csv('clocks/Mouse_clock_output.csv', row.names=1)\n",
    "clockh <- read.csv('clocks/Human_clock_output.csv', row.names=1)\n",
    "gef <- read.csv('clocks/gene_effects.csv')\n",
    "gref <- read.csv('clocks/group_effects.csv')"
   ]
  },
  {
   "cell_type": "code",
   "execution_count": 12,
   "metadata": {},
   "outputs": [
    {
     "name": "stderr",
     "output_type": "stream",
     "text": [
      "Using rowname as id variables\n",
      "\n",
      "Using rowname as id variables\n",
      "\n",
      "`geom_smooth()` using formula 'y ~ x'\n",
      "\n",
      "`geom_smooth()` using formula 'y ~ x'\n",
      "\n",
      "`geom_smooth()` using formula 'y ~ x'\n",
      "\n",
      "`summarise()` ungrouping output (override with `.groups` argument)\n",
      "\n"
     ]
    }
   ],
   "source": [
    "#corplot + hallmark\n",
    "source('plot_functions/plot_hallmark.R')\n",
    "source(\"./plot_functions/ggcorplot_hallmark.R\")\n",
    "source('plot_functions/plot_all_clocks.R')\n",
    "source('plot_functions/plot_group_clocks.R')\n",
    "source('plot_functions/plot_gene_effects.R')\n",
    "source('plot_functions/plot_group_effects.R')\n",
    "\n",
    "\n",
    "tmpplot <- ggheatmap_hallmark(gsea, \n",
    "                type='pairwise_top', method='spearman', top=500, pvplot=F,\n",
    "                label_size=1.2, value_size=0.8, title=\"Spearman correlation\",\n",
    "                measure=\"NES\", criterion=\"padj\",\n",
    "                orderCol = T, orderRow = T, dendroLineSize = 0.5,\n",
    "                scaleName = \"value\",\n",
    "                distMethod = \"euclidean\", clustMethod = \"complete\", \n",
    "                scale_name=\"NES \\nSpearman \\ncorrelation \")\n",
    "\n",
    "gA <- tmpplot[['A']]\n",
    "gB <- tmpplot[['B']]\n",
    "gC <- plot_group_clocks(clockm, clockh)\n",
    "gE <- plot_gene_effects(gef, 15)\n",
    "gF <- plot_group_effects(gref)\n",
    "\n",
    "left <- cowplot::plot_grid(gA, gB, labels=c(\"A\", \"B\"), label_size = 32, ncol=1, align='v', \n",
    "                           rel_heights = c(2, 3))\n",
    "\n",
    "top <- cowplot::plot_grid(left, gC, label_size = 32, ncol=2, rel_widths = c(2, 1))\n",
    "bottom <-cowplot::plot_grid(gE, gF, labels=c(\"E\", \"F\"), label_size = 32, ncol=2, rel_widths = c(2.6, 1))\n",
    "P3 <- cowplot::plot_grid(top, bottom, label_size = 32, nrow=2, rel_heights = c(4, 1))\n",
    "\n",
    "ggsave('figs/panel3.pdf', P3, units = \"cm\", width=WIDTH, height=27.0, dpi=300, scale=2.5)"
   ]
  },
  {
   "cell_type": "code",
   "execution_count": 68,
   "metadata": {},
   "outputs": [],
   "source": [
    "source('plot_functions/plot_all_clocks.R')\n",
    "PS3 <- plot_all_clocks(clockm, clockh)\n",
    "ggsave('figs/panelS3.pdf', PS3, units = \"cm\", width=WIDTH, height=24., dpi=300, scale=2.5)"
   ]
  },
  {
   "cell_type": "code",
   "execution_count": 5,
   "metadata": {},
   "outputs": [
    {
     "name": "stderr",
     "output_type": "stream",
     "text": [
      "`summarise()` ungrouping output (override with `.groups` argument)\n",
      "\n"
     ]
    },
    {
     "data": {
      "image/png": "[encoded data removed]",
      "text/plain": [
       "plot without title"
      ]
     },
     "metadata": {
      "image/png": {
       "height": 420,
       "width": 420
      }
     },
     "output_type": "display_data"
    }
   ],
   "source": []
  },
  {
   "cell_type": "code",
   "execution_count": null,
   "metadata": {},
   "outputs": [],
   "source": []
  },
  {
   "cell_type": "code",
   "execution_count": 349,
   "metadata": {},
   "outputs": [],
   "source": [
    "# plot_gene_effects <- function(gef, top=10, thr=0.05, fontsize=18){\n",
    "# agef <- aggregate(.~symbol, gef, FUN=\"mean\")[,c(\"symbol\", \"knockout_effect\", \"FDR\")]\n",
    "# gef$star <- as.character(gef$star)\n",
    "# agef['star']<- aggregate(.~symbol, gef, FUN=function(x){x[[1]]})[,c(\"symbol\", \"star\")]$star\n",
    "# agef <- agef[agef$FDR < 0.05,]\n",
    "\n",
    "# selected_agef <- agef[order(agef$knockout_effect, decreasing=T),][1:top,]\n",
    "# selected <- selected_agef$symbol\n",
    "# selected_mean <- selected_agef$knockout_effect\n",
    "# selected_star <- selected_agef$star\n",
    "# sgef <- gef[gef$symbol %in% selected,]\n",
    "# sgef$symbol <- factor(sgef$symbol, levels=selected)\n",
    "\n",
    "# p <- ggplot(data=sgef, aes(x=symbol, y=knockout_effect)) +\n",
    "#         geom_boxplot(aes(fill=symbol), alpha = 0.8, outlier.shape = NA, lwd=1.2) + \n",
    "#         #scale_fill_viridis(discrete = TRUE, alpha=0.6, option=\"H\")+\n",
    "#         #scale_fill_manual(values = cols)+\n",
    "#         scale_fill_brewer(palette='Purples')+\n",
    "#         geom_hline(yintercept=0, linetype=\"dashed\", color = \"black\", size=0.4, alpha=0.8)+\n",
    "#         geom_point(aes(fill='black'), alpha=0.4, size = 1., position = position_jitterdodge(0.1))+\n",
    "#         geom_text(data=data.frame(), aes(label=selected_star, x=selected, y=selected_mean), \n",
    "#         vjust=-4.0, fontface='bold', size=7, color='black')+\n",
    "#         theme(  axis.text=element_text(size=fontsize),\n",
    "#         axis.title=element_text(size=fontsize, face=\"bold\"),\n",
    "#         panel.background = element_rect(fill='white', colour='black', size=1.5, linetype='solid'),\n",
    "#         panel.grid.major = element_blank(),\n",
    "#         panel.grid.minor = element_blank(),\n",
    "#         legend.position = \"none\",\n",
    "#         plot.margin = unit(c(1,1,0,0.5), \"cm\")) +\n",
    "#         labs(x = \"\", y = \"Rejuvenation effect decreasing, %\")\n",
    "#         return(p)\n",
    "# }"
   ]
  },
  {
   "cell_type": "markdown",
   "metadata": {},
   "source": [
    "# Panel 4"
   ]
  },
  {
   "cell_type": "code",
   "execution_count": 23,
   "metadata": {},
   "outputs": [],
   "source": [
    "# gA <- cowplot::ggdraw() + cowplot::draw_image(\"figs/panel1/Mouse average dynamics_cluster_heatmap.svg\", scale = 1)\n",
    "# gB <- cowplot::ggdraw() + cowplot::draw_image(\"figs/panel1/Mouse average dynamics_cluster_dynamics.svg\", scale = 1)\n",
    "# p2 <- cowplot::ggdraw() + cowplot::draw_image(\"http://jeroen.github.io/images/tiger.svg\", scale = 0.9)\n",
    "# cowplot::plot_grid(gA, gB, p2, labels = \"AUTO\")"
   ]
  },
  {
   "cell_type": "markdown",
   "metadata": {},
   "source": [
    "# Panel 5"
   ]
  },
  {
   "cell_type": "code",
   "execution_count": null,
   "metadata": {},
   "outputs": [],
   "source": []
  },
  {
   "cell_type": "code",
   "execution_count": null,
   "metadata": {},
   "outputs": [],
   "source": []
  },
  {
   "cell_type": "markdown",
   "metadata": {},
   "source": [
    "# Garbage collector"
   ]
  },
  {
   "cell_type": "code",
   "execution_count": 30,
   "metadata": {},
   "outputs": [],
   "source": [
    "# SL <- list()\n",
    "# cols <- c('NES', 'pval', 'padj')\n",
    "# types <- c(rep('Reprogramming',3), rep('Interventions',6), rep('Aging', 7))\n",
    "\n",
    "# for (col in cols){\n",
    "#     SL[[col]] <- data.frame(row.names=rownames(gsea[[1]]))\n",
    "#     for (name in names(gsea)){\n",
    "#             tmp <- gsea[[name]][col]\n",
    "#             colnames(tmp) <- c(name)\n",
    "#             SL[[col]] <- transform(merge(SL[[col]], tmp, \n",
    "#                                                 by=0, sort=F,), \n",
    "#                                                 row.names=Row.names, Row.names=NULL)\n",
    "#     }\n",
    "# }\n",
    "\n",
    "# tmpdf <- gsea[[1]]"
   ]
  },
  {
   "cell_type": "code",
   "execution_count": 73,
   "metadata": {},
   "outputs": [],
   "source": [
    "#asub <- SL[['pval']][, types=='Aging']\n",
    "#as.vector(apply(asub, 1, gmean)"
   ]
  },
  {
   "cell_type": "code",
   "execution_count": 110,
   "metadata": {},
   "outputs": [
    {
     "data": {
      "text/html": [
       "69"
      ],
      "text/latex": [
       "69"
      ],
      "text/markdown": [
       "69"
      ],
      "text/plain": [
       "[1] 69"
      ]
     },
     "metadata": {},
     "output_type": "display_data"
    }
   ],
   "source": [
    "# # top <- 5\n",
    "# gmean <- function(x) exp(mean(log(x)))\n",
    "# # gm = as.data.frame(list('gmean'=apply(SL[['P.Value']], 1, gmean )))\n",
    "# # gm <- rownames(gm[order(gm$gmean),, drop=FALSE])[1:top]\n",
    "\n",
    "# #gmean\n",
    "# asub <- SL[['padj']][, types=='Aging']\n",
    "# GM <- as.vector(apply(asub, 1, gmean))\n",
    "# asub <- (GM < 0.05)\n",
    "\n",
    "# isub <- SL[['padj']][, types=='Interventions']\n",
    "# GM <- as.vector(apply(isub, 1, gmean))\n",
    "# isub <- (GM < 0.05)\n",
    "\n",
    "# rsub <- SL[['padj']][, types=='Reprogramming']\n",
    "# GM <- as.vector(apply(rsub, 1, gmean))\n",
    "# rsub <- (GM < 0.05)\n",
    "\n",
    "# #mean\n",
    "# amub <- SL[['NES']][, types=='Aging']\n",
    "# GM <- as.vector(apply(amub, 1, mean))\n",
    "# amub <- (GM > 0.)\n",
    "\n",
    "# imub <- SL[['NES']][, types=='Interventions']\n",
    "# GM <- as.vector(apply(imub, 1, mean))\n",
    "# imub <- (GM < 0.)\n",
    "\n",
    "# rmub <- SL[['NES']][, types=='Reprogramming']\n",
    "# GM <- as.vector(apply(rmub, 1, mean))\n",
    "# rmub <- (GM < 0.)\n",
    "\n",
    "# direction_cond <- asub & rsub & amub & imub & rmub\n",
    "\n",
    "\n",
    "# cond <- SL[['padj']][direction_cond,]\n",
    "# cond_filt <- cond[order(cond$Reprogramming.Mouse),]\n",
    "# accepted <- rownames(cond_filt)\n",
    "# length(accepted)"
   ]
  },
  {
   "cell_type": "code",
   "execution_count": 113,
   "metadata": {},
   "outputs": [],
   "source": [
    "# #func_interest <- accepted[1:6]\n",
    "# func_interest <- c('GOBP_ATP_METABOLIC_PROCESS', \n",
    "#                    'KEGG_RIBOSOME',\n",
    "#                    'REACTOME_MITOCHONDRIAL_TRANSLATION')"
   ]
  },
  {
   "cell_type": "code",
   "execution_count": 43,
   "metadata": {},
   "outputs": [],
   "source": [
    "# melter <- data.frame()\n",
    "# for (f in func_interest){\n",
    "#         #func for mapping stars\n",
    "#         plab <- function(p )ifelse(p<0.001,'***', ifelse(p<0.01,'**', ifelse(p<0.05,'*',''))) \n",
    "\n",
    "#         #rescale columns\n",
    "#         tmpLogFC <- SL[['NES']] #/ apply(SL[['NES']], 2, sd)\n",
    "\n",
    "#         mel <- t(tmpLogFC[f,])\n",
    "#         mel <- transform(merge(mel,  t(SL[['pval']][f,]), by=0, sort=F), \n",
    "#                                         row.names=Row.names, Row.names=NULL)\n",
    "#         mel <- merge(mel,  t(SL[['padj']][f,]), by=0, sort=F)\n",
    "#         mel$Function <- rep(f, nrow(mel))\n",
    "#         colnames(mel) <- c('Signature', 'NES', 'Pval', 'Padj', 'Function')\n",
    "#         mel$Type <- types\n",
    "#         mel$Signature <- factor(as.character(mel$Signature), levels=unique(as.character(mel$Signature)))\n",
    "#         mel$Star <- plab(mel$Padj)\n",
    "#         mel$Vjust <- if_else(mel$NES > 0, 0.2, 1.1)\n",
    "#         # mel$Symbol <- rep(sym, nrow(mel))\n",
    "#         melter <- rbind(melter, mel)\n",
    "# }\n",
    "\n",
    "# #plot\n",
    "# options(repr.plot.width = 10, repr.plot.height = 16)\n",
    "# g <- ggplot(melter, aes(x=Signature, y=NES, fill=Type))+ \n",
    "#         geom_bar(stat=\"identity\") +\n",
    "#         facet_wrap(~Function, ncol=1, scales = \"free_y\", dir=\"v\") + \n",
    "#         geom_text(aes(label=Star, vjust=melter$Vjust, hjust=0.5), fontface='bold', size=7)+\n",
    "#         #geom_errorbar(aes(ymin=Coef-SE, ymax=Coef+SE), width=0.18) + \n",
    "#         theme(axis.text=element_text(size=14, angle=45, hjust=1),\n",
    "#                 strip.background = element_blank(),\n",
    "#                 strip.placement = 'inside',\n",
    "#                 strip.text = element_text(colour = 'black', size=16, face=\"bold\", hjust = 0.5),     \n",
    "#                 axis.title=element_text(size=18, face=\"bold\"), \n",
    "#                 plot.title=element_text(size = 20, face = \"bold\"),\n",
    "#                 legend.title=element_text(size=16, face = \"bold\"),\n",
    "#                 legend.text=element_text(size=14),\n",
    "#                 legend.position=\"top\",\n",
    "#                 panel.background = element_rect(fill='white', colour='black', size=1.1, linetype='solid'),\n",
    "#                 panel.grid.major = element_blank(),\n",
    "#                 panel.grid.minor = element_blank(),\n",
    "#                 plot.margin = unit(c(0.5,0.5,0.5,0.), \"cm\")) +\n",
    "#                 labs(x = \"\", y = \"NES\")+\n",
    "#                 expand_limits(y=c(-3, 3))\n",
    "# g\n"
   ]
  }
 ],
 "metadata": {
  "kernelspec": {
   "display_name": "R",
   "language": "R",
   "name": "python386jvsc74a57bd0ef9498abcdd60dde7ba5462a6032a39fb3a4cd1ae5ec6aa8cec6760fb063755c"
  },
  "language_info": {
   "codemirror_mode": "r",
   "file_extension": ".r",
   "mimetype": "text/x-r-source",
   "name": "R",
   "pygments_lexer": "r",
   "version": "3.6.3"
  },
  "orig_nbformat": 4
 },
 "nbformat": 4,
 "nbformat_minor": 2
}
