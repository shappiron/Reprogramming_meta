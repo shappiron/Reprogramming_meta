{
 "cells": [
  {
   "cell_type": "code",
   "execution_count": 2,
   "metadata": {
    "ExecuteTime": {
     "end_time": "2021-08-07T12:11:23.524864Z",
     "start_time": "2021-08-07T12:11:11.011922Z"
    }
   },
   "outputs": [
    {
     "name": "stdout",
     "output_type": "stream",
     "text": [
      "Everything is Ok!\n",
      "Everything is Ok!\n"
     ]
    }
   ],
   "source": [
    "import os\n",
    "import numpy as np\n",
    "import pandas as pd\n",
    "from matplotlib import pyplot as plt\n",
    "import seaborn as sns\n",
    "from glob import glob\n",
    "import re\n",
    "import mygene\n",
    "from tqdm.notebook import tqdm\n",
    "\n",
    "from ultrasets.human_ultraset import HUMAN_ULTRASET\n",
    "from ultrasets.mouse_ultraset import MOUSE_ULTRASET\n",
    "from utils.unit_tests import ultraset_test\n",
    "from utils.structure import *\n",
    "ultraset_test(HUMAN_ULTRASET)     \n",
    "ultraset_test(MOUSE_ULTRASET)     \n",
    "\n",
    "from sklearn.decomposition import PCA\n",
    "\n",
    "import json\n",
    "from copy import deepcopy\n",
    "\n",
    "SMALL_SIZE = 9\n",
    "MEDIUM_SIZE = 14\n",
    "BIGGER_SIZE = 16\n",
    "\n",
    "\n",
    "pd.set_option('max_columns', 40)\n",
    "plt.rc('font', size=SMALL_SIZE)          # controls default text sizes\n",
    "plt.rc('axes', titlesize=BIGGER_SIZE)     # fontsize of the axes title\n",
    "plt.rc('axes', labelsize=MEDIUM_SIZE)    # fontsize of the x and y labels\n",
    "plt.rc('xtick', labelsize=SMALL_SIZE)    # fontsize of the tick labels\n",
    "plt.rc('ytick', labelsize=SMALL_SIZE)    # fontsize of the tick labels\n",
    "plt.rc('legend', fontsize=SMALL_SIZE)    # legend fontsize\n",
    "plt.rc('figure', titlesize=BIGGER_SIZE)  # fontsize of the figure title\n",
    "\n",
    "data_folder = 'data'"
   ]
  },
  {
   "cell_type": "markdown",
   "metadata": {},
   "source": [
    "# MAIN"
   ]
  },
  {
   "cell_type": "markdown",
   "metadata": {},
   "source": [
    "## Functions"
   ]
  },
  {
   "cell_type": "code",
   "execution_count": null,
   "metadata": {},
   "outputs": [],
   "source": [
    "def mylog(df):\n",
    "    return np.log2(df + 1.0)\n",
    "\n",
    "# save structure\n",
    "def save_structure(ultradf, path='test.json'):\n",
    "    ultrasave = deepcopy(ultradf)\n",
    "    for e in ultrasave.keys():\n",
    "        ultrasave[e]['data'] = ultrasave[e]['data'].reset_index().to_csv()\n",
    "        ultrasave[e]['pheno'] = ultrasave[e]['pheno'].to_csv()\n",
    "    with open(path, 'w+') as f:\n",
    "        json.dump(ultrasave, f)\n",
    "        \n",
    "# load structure\n",
    "def load_structure(path='ultradf.json'):\n",
    "    import sys\n",
    "    if sys.version_info[0] < 3: \n",
    "        from StringIO import StringIO #convert string to IO monade\n",
    "    else:\n",
    "        from io import StringIO\n",
    "    #load after all\n",
    "    with open(path, 'r') as f:\n",
    "        ultradf = json.load(f)\n",
    "        \n",
    "    for e in ultradf.keys():\n",
    "        ultradf[e]['data'] = pd.read_csv(StringIO(ultradf[e]['data']), index_col=0).set_index('index')\n",
    "        ultradf[e]['pheno'] = pd.read_csv(StringIO(ultradf[e]['pheno']), index_col=0)\n",
    "    \n",
    "    return ultradf\n",
    "        \n",
    "        \n",
    "def key2ENTREZ(df, key, species='mouse'):\n",
    "    df = df.copy()\n",
    "    raw = df.index.tolist()\n",
    "    mg = mygene.MyGeneInfo()\n",
    "    query = mg.querymany(raw, scopes=key, species=species, verbose=False)   \n",
    "\n",
    "    ref2entrez = {r:[] for r in raw}\n",
    "    for r, q in zip(raw, query):\n",
    "        if 'entrezgene' in q:\n",
    "            ref2entrez[r].append(q['entrezgene'])\n",
    "        else:\n",
    "            ref2entrez[r] = None\n",
    "\n",
    "    print('Max number of ENTREZ across keys:', \n",
    "          max([len(ref2entrez[r]) for r in ref2entrez.keys() if ref2entrez[r] is not None]))\n",
    "\n",
    "    ref2entrez = {k:v[0] for k,v in ref2entrez.items() if (v is not None) and (len(v)==1)}\n",
    "    df.index = df.index.map(ref2entrez, na_action=None)\n",
    "    df = df[~df.index.isna()]\n",
    "    return df\n",
    "\n",
    "def log_aggregation(df, method='mean'):\n",
    "    tmp = (2**df.copy())\n",
    "    if method=='mean':\n",
    "        tmp = tmp.groupby(tmp.index).agg('mean')\n",
    "    elif method=='sum':\n",
    "        tmp = tmp.groupby(tmp.index).agg('sum')\n",
    "    tmp = np.log2(tmp.copy())\n",
    "    return tmp\n",
    "\n",
    "def scale(df):\n",
    "    tmp = df.copy()\n",
    "    tmp = (tmp - tmp.mean()) / tmp.std()\n",
    "    return tmp\n",
    "\n",
    "def quantile_normalize(df):\n",
    "    \"\"\"\n",
    "    input: dataframe with numerical columns\n",
    "    output: dataframe with quantile normalized values\n",
    "    \"\"\"\n",
    "    df = df.copy()\n",
    "    df_sorted = pd.DataFrame(np.sort(df.values,\n",
    "                                     axis=0), \n",
    "                             index=df.index, \n",
    "                             columns=df.columns)\n",
    "    df_mean = df_sorted.mean(axis=1)\n",
    "    df_mean.index = np.arange(1, len(df_mean) + 1)\n",
    "    df_qn = df.rank(method=\"min\").stack().astype(int).map(df_mean).unstack()\n",
    "    return(df_qn)"
   ]
  },
  {
   "cell_type": "markdown",
   "metadata": {},
   "source": [
    "## Dataset playground"
   ]
  },
  {
   "cell_type": "code",
   "execution_count": 20,
   "metadata": {},
   "outputs": [],
   "source": [
    "g = 'GSE28688'\n",
    "df = pd.read_csv('data/%s/%s_rawdata.csv' % (g, g),index_col=0)\n",
    "\n",
    "samples = []\n",
    "times = []\n",
    "for k in HUMAN_ULTRASET[g].keys():\n",
    "    samples = samples + HUMAN_ULTRASET[g][k][0]\n",
    "    times = times + HUMAN_ULTRASET[g][k][1]\n",
    "\n",
    "df = df[samples]"
   ]
  },
  {
   "cell_type": "code",
   "execution_count": 13,
   "metadata": {},
   "outputs": [
    {
     "data": {
      "text/plain": [
       "<AxesSubplot:ylabel='Density'>"
      ]
     },
     "execution_count": 13,
     "metadata": {},
     "output_type": "execute_result"
    },
    {
     "data": {
      "image/png": "[encoded data removed]",
      "text/plain": [
       "<Figure size 432x288 with 1 Axes>"
      ]
     },
     "metadata": {
      "needs_background": "light"
     },
     "output_type": "display_data"
    }
   ],
   "source": [
    "scale(mylog(df)).plot(kind='kde')"
   ]
  },
  {
   "cell_type": "code",
   "execution_count": 21,
   "metadata": {},
   "outputs": [],
   "source": [
    "#dfg = df.loc[df.index.drop_duplicates(keep=False)]\n",
    "dfg = df.groupby(df.index).agg('mean')"
   ]
  },
  {
   "cell_type": "code",
   "execution_count": 22,
   "metadata": {},
   "outputs": [],
   "source": [
    "dfs = quantile_normalize(scale(mylog(dfg)))"
   ]
  },
  {
   "cell_type": "code",
   "execution_count": 24,
   "metadata": {},
   "outputs": [],
   "source": [
    "dfs.to_csv('data/%s/%s_data.csv' % (g, g))"
   ]
  },
  {
   "cell_type": "code",
   "execution_count": 23,
   "metadata": {},
   "outputs": [
    {
     "data": {
      "text/plain": [
       "<matplotlib.colorbar.Colorbar at 0x7f495f077950>"
      ]
     },
     "execution_count": 23,
     "metadata": {},
     "output_type": "execute_result"
    },
    {
     "data": {
      "image/png": "[encoded data removed]",
      "text/plain": [
       "<Figure size 432x288 with 2 Axes>"
      ]
     },
     "metadata": {
      "needs_background": "light"
     },
     "output_type": "display_data"
    }
   ],
   "source": [
    "Xp = PCA(2).fit_transform(dfs.T)\n",
    "plt.scatter(Xp[:,0], Xp[:,1], c=times, cmap='rainbow')\n",
    "plt.colorbar()"
   ]
  },
  {
   "cell_type": "markdown",
   "metadata": {},
   "source": [
    "## Ultraset"
   ]
  },
  {
   "cell_type": "code",
   "execution_count": 53,
   "metadata": {},
   "outputs": [
    {
     "name": "stdout",
     "output_type": "stream",
     "text": [
      "Max number of ENTREZ across keys: 1\n"
     ]
    }
   ],
   "source": [
    "# df = pd.read_csv('data/GSE102348/GSE102348_raw_data.csv', index_col=0)\n",
    "# ph = pd.read_csv('data/GSE102348/GSE102348_metadata.csv', index_col=0)\n",
    "\n",
    "\n",
    "#df_e = key2ENTREZ(df, key=\"ensemblgene\", species='mouse')\n",
    "#df_e = log_aggregation(df_e, method='mean')\n",
    "#df_e.to_csv('data/GSE127927/GSE127927_data.csv')"
   ]
  },
  {
   "cell_type": "code",
   "execution_count": 142,
   "metadata": {},
   "outputs": [
    {
     "name": "stdout",
     "output_type": "stream",
     "text": [
      "(11132, 34)\n"
     ]
    }
   ],
   "source": [
    "#df_e.groupby('Gene ID').sum().to_csv('data/GSE102348/GSE102348_raw_data.csv')\n",
    "\n",
    "# df_e = df_e.groupby('Gene ID').sum()\n",
    "\n",
    "# fpkm_thr = 1. #recommended by https://www.biostars.org/p/358433/\n",
    "# percentage_thr = 0.5 #chosen from looking at plot below\n",
    "\n",
    "# df_filtered = df_e[(df_e > fpkm_thr).sum(1) > df_e.shape[1] * percentage_thr]\n",
    "# print(df_filtered.shape)\n",
    "# #np.log2(df_filtered + 1.).plot(kind='hist', bins=40);\n",
    "# df_filtered_log = np.log2(df_filtered + 1.)\n",
    "\n",
    "# df_filtered_log.to_csv('data/GSE102348/GSE102348_data.csv')"
   ]
  },
  {
   "cell_type": "code",
   "execution_count": 7,
   "metadata": {},
   "outputs": [],
   "source": [
    "drop_columns = ['geo_accession', 'status', 'submission_date', 'last_update_date',\n",
    "                'contact_city', 'contact_state', 'contact_zip/postal_code', 'contact_country',\n",
    "                'supplementary_file', 'supplementary_file.1', 'contact_name', 'contact_email',\n",
    "                'contact_phone', 'contact_institute', 'contact_address']"
   ]
  },
  {
   "cell_type": "code",
   "execution_count": 8,
   "metadata": {},
   "outputs": [],
   "source": [
    "ultradf = {}"
   ]
  },
  {
   "cell_type": "code",
   "execution_count": 15,
   "metadata": {},
   "outputs": [],
   "source": [
    "name = 'GSE54848'\n",
    "ultraset = HUMAN_ULTRASET"
   ]
  },
  {
   "cell_type": "code",
   "execution_count": 16,
   "metadata": {},
   "outputs": [],
   "source": [
    "# construct one GSE ultradf\n",
    "\n",
    "path = os.path.join(data_folder, name)\n",
    "#annotation = pd.read_csv(glob(path + '/*annotation.csv')[0], index_col=0)\n",
    "pheno = pd.read_csv(glob(path + '/*metadata.csv')[0], index_col=0)\n",
    "df = pd.read_csv(glob(path + '/*_rawdata.csv')[0], index_col=0)\n",
    "\n",
    "for experiment in ultraset[name].keys():\n",
    "    ultradf[name + '$' + experiment] = {}\n",
    "    ultradf[name + '$' + experiment]['data'] = df[ultraset[name][experiment][0]]\n",
    "    ultradf[name + '$' + experiment]['pheno'] = pheno.loc[ultraset[name][experiment][0]].drop(drop_columns, 1, \n",
    "                                                                                                errors='ignore')\n",
    "    ultradf[name + '$' + experiment]['time'] = ultraset[name][experiment][1]"
   ]
  },
  {
   "cell_type": "code",
   "execution_count": 17,
   "metadata": {},
   "outputs": [
    {
     "data": {
      "text/plain": [
       "dict_keys(['GSE28688$OSKM$HFF', 'GSE50206$OSKM$HDF', 'GSE50206$OSKM$ASC', 'GSE50206$OSKM$HA', 'GSE50206$OSKM$NHBE', 'GSE50206$OSKM$PrEC', 'GSE54848$OSKM$HDF'])"
      ]
     },
     "execution_count": 17,
     "metadata": {},
     "output_type": "execute_result"
    }
   ],
   "source": [
    "ultradf.keys()"
   ]
  },
  {
   "cell_type": "code",
   "execution_count": 105,
   "metadata": {},
   "outputs": [],
   "source": [
    "#ultradf_back[list(ultradf_back.keys())[-1]]['data']"
   ]
  },
  {
   "cell_type": "code",
   "execution_count": 106,
   "metadata": {},
   "outputs": [],
   "source": [
    "#ultradf['GSE102348$OSKM$Gatad2a-/-']['data']"
   ]
  },
  {
   "cell_type": "code",
   "execution_count": null,
   "metadata": {
    "ExecuteTime": {
     "end_time": "2021-07-19T15:03:44.674188Z",
     "start_time": "2021-07-19T15:03:43.891327Z"
    },
    "scrolled": false
   },
   "outputs": [],
   "source": [
    "ultradf = {}\n",
    "#Contruct dataset of datasets\n",
    "for name in tqdm(list(ultraset.keys())[-1]):\n",
    "    path = os.path.join(data_folder, name)\n",
    "    #annotation = pd.read_csv(glob(path + '/*annotation.csv')[0], index_col=0)\n",
    "    pheno = pd.read_csv(glob(path + '/*metadata.csv')[0], index_col=0)\n",
    "    df = pd.read_csv(glob(path + '/*_data.csv')[0], index_col=0)\n",
    "    \n",
    "    for experiment in ultraset[name].keys():\n",
    "        ultradf[name + '$' + experiment] = {}\n",
    "        ultradf[name + '$' + experiment]['data'] = df[ultraset[name][experiment][0]]\n",
    "        ultradf[name + '$' + experiment]['pheno'] = pheno.loc[ultraset[name][experiment][0]].drop(drop_columns, 1, \n",
    "                                                                                                  errors='ignore')\n",
    "        ultradf[name + '$' + experiment]['time'] = ultraset[name][experiment][1]\n",
    "            "
   ]
  },
  {
   "cell_type": "code",
   "execution_count": 74,
   "metadata": {
    "ExecuteTime": {
     "end_time": "2021-07-19T15:03:46.657181Z",
     "start_time": "2021-07-19T15:03:46.654104Z"
    }
   },
   "outputs": [
    {
     "data": {
      "text/plain": [
       "['GSE114581$OSKM+dox_mef', 'GSE114581$OSKM-dox_mef']"
      ]
     },
     "execution_count": 74,
     "metadata": {},
     "output_type": "execute_result"
    }
   ],
   "source": [
    "ukeys = list(ultradf.keys())\n",
    "ukeys"
   ]
  },
  {
   "cell_type": "code",
   "execution_count": 76,
   "metadata": {
    "ExecuteTime": {
     "end_time": "2021-07-19T15:10:10.812544Z",
     "start_time": "2021-07-19T15:10:10.807753Z"
    }
   },
   "outputs": [
    {
     "name": "stdout",
     "output_type": "stream",
     "text": [
      "GSE114581$OSKM+dox_mef\n",
      "0.5 GSM3145302 mef 12 hours with dox\n",
      "1 GSM3145303 mef 24 hours with dox\n",
      "1.5 GSM3145304 mef 36 hours with dox\n",
      "2 GSM3145305 mef 48 hours with dox\n",
      "2.5 GSM3145306 mef 60 hours with dox\n",
      "3 GSM3145307 mef 72 hours with dox\n",
      "6 GSM3145308 mef 144 hours with dox\n",
      "12 GSM3145309 mef 288 hours with dox\n",
      "18 GSM3145310 mef 432 hours with dox\n"
     ]
    }
   ],
   "source": [
    "#look up\n",
    "key = ukeys[0]\n",
    "print(key)\n",
    "\n",
    "df = ultradf[key]['data']\n",
    "labels = ultradf[key]['pheno']['title'].values\n",
    "\n",
    "time = ultradf[key]['time']\n",
    "\n",
    "for t, g, l in zip(time, df.columns, labels):\n",
    "    print(t, g, l)"
   ]
  },
  {
   "cell_type": "code",
   "execution_count": 77,
   "metadata": {
    "ExecuteTime": {
     "end_time": "2021-07-19T12:39:51.286060Z",
     "start_time": "2021-07-19T12:39:51.269692Z"
    },
    "collapsed": true
   },
   "outputs": [
    {
     "name": "stdout",
     "output_type": "stream",
     "text": [
      " max value: 161911.85888 \n",
      " min value: 0.064639961\n"
     ]
    },
    {
     "data": {
      "text/html": [
       "<div>\n",
       "<style scoped>\n",
       "    .dataframe tbody tr th:only-of-type {\n",
       "        vertical-align: middle;\n",
       "    }\n",
       "\n",
       "    .dataframe tbody tr th {\n",
       "        vertical-align: top;\n",
       "    }\n",
       "\n",
       "    .dataframe thead th {\n",
       "        text-align: right;\n",
       "    }\n",
       "</style>\n",
       "<table border=\"1\" class=\"dataframe\">\n",
       "  <thead>\n",
       "    <tr style=\"text-align: right;\">\n",
       "      <th></th>\n",
       "      <th>GSM3145302</th>\n",
       "      <th>GSM3145303</th>\n",
       "      <th>GSM3145304</th>\n",
       "      <th>GSM3145305</th>\n",
       "      <th>GSM3145306</th>\n",
       "      <th>GSM3145307</th>\n",
       "      <th>GSM3145308</th>\n",
       "      <th>GSM3145309</th>\n",
       "      <th>GSM3145310</th>\n",
       "    </tr>\n",
       "    <tr>\n",
       "      <th>ENTREZ_GENE_ID</th>\n",
       "      <th></th>\n",
       "      <th></th>\n",
       "      <th></th>\n",
       "      <th></th>\n",
       "      <th></th>\n",
       "      <th></th>\n",
       "      <th></th>\n",
       "      <th></th>\n",
       "      <th></th>\n",
       "    </tr>\n",
       "  </thead>\n",
       "  <tbody>\n",
       "    <tr>\n",
       "      <th>100017</th>\n",
       "      <td>307.230186</td>\n",
       "      <td>299.594437</td>\n",
       "      <td>339.975504</td>\n",
       "      <td>334.619712</td>\n",
       "      <td>314.362543</td>\n",
       "      <td>283.202052</td>\n",
       "      <td>162.205241</td>\n",
       "      <td>175.362062</td>\n",
       "      <td>269.050976</td>\n",
       "    </tr>\n",
       "    <tr>\n",
       "      <th>100019</th>\n",
       "      <td>323.441914</td>\n",
       "      <td>382.080435</td>\n",
       "      <td>479.904615</td>\n",
       "      <td>382.315261</td>\n",
       "      <td>405.423305</td>\n",
       "      <td>353.625283</td>\n",
       "      <td>341.010368</td>\n",
       "      <td>246.847745</td>\n",
       "      <td>191.859873</td>\n",
       "    </tr>\n",
       "    <tr>\n",
       "      <th>100036538</th>\n",
       "      <td>25.641358</td>\n",
       "      <td>3.538346</td>\n",
       "      <td>20.255223</td>\n",
       "      <td>1.481723</td>\n",
       "      <td>7.503237</td>\n",
       "      <td>22.733128</td>\n",
       "      <td>11.170826</td>\n",
       "      <td>25.254699</td>\n",
       "      <td>1.189386</td>\n",
       "    </tr>\n",
       "    <tr>\n",
       "      <th>100036539</th>\n",
       "      <td>1.358878</td>\n",
       "      <td>15.619967</td>\n",
       "      <td>3.246890</td>\n",
       "      <td>18.560005</td>\n",
       "      <td>5.476268</td>\n",
       "      <td>0.902094</td>\n",
       "      <td>1.139609</td>\n",
       "      <td>2.876863</td>\n",
       "      <td>0.869336</td>\n",
       "    </tr>\n",
       "    <tr>\n",
       "      <th>100036541</th>\n",
       "      <td>1.136168</td>\n",
       "      <td>4.488629</td>\n",
       "      <td>16.154903</td>\n",
       "      <td>0.980095</td>\n",
       "      <td>2.233746</td>\n",
       "      <td>1.041617</td>\n",
       "      <td>4.187962</td>\n",
       "      <td>1.196132</td>\n",
       "      <td>1.525422</td>\n",
       "    </tr>\n",
       "    <tr>\n",
       "      <th>...</th>\n",
       "      <td>...</td>\n",
       "      <td>...</td>\n",
       "      <td>...</td>\n",
       "      <td>...</td>\n",
       "      <td>...</td>\n",
       "      <td>...</td>\n",
       "      <td>...</td>\n",
       "      <td>...</td>\n",
       "      <td>...</td>\n",
       "    </tr>\n",
       "    <tr>\n",
       "      <th>99890</th>\n",
       "      <td>144.533900</td>\n",
       "      <td>139.913317</td>\n",
       "      <td>155.546488</td>\n",
       "      <td>181.749234</td>\n",
       "      <td>181.693047</td>\n",
       "      <td>145.426918</td>\n",
       "      <td>148.659981</td>\n",
       "      <td>62.334714</td>\n",
       "      <td>81.707395</td>\n",
       "    </tr>\n",
       "    <tr>\n",
       "      <th>99899</th>\n",
       "      <td>44.909420</td>\n",
       "      <td>3.533419</td>\n",
       "      <td>52.232474</td>\n",
       "      <td>31.035013</td>\n",
       "      <td>24.572417</td>\n",
       "      <td>24.458644</td>\n",
       "      <td>62.586457</td>\n",
       "      <td>215.745370</td>\n",
       "      <td>293.497415</td>\n",
       "    </tr>\n",
       "    <tr>\n",
       "      <th>99929</th>\n",
       "      <td>2429.646598</td>\n",
       "      <td>1963.804206</td>\n",
       "      <td>2355.189528</td>\n",
       "      <td>2332.957028</td>\n",
       "      <td>2577.083832</td>\n",
       "      <td>2718.315699</td>\n",
       "      <td>2116.509902</td>\n",
       "      <td>2705.466522</td>\n",
       "      <td>2596.770935</td>\n",
       "    </tr>\n",
       "    <tr>\n",
       "      <th>99982</th>\n",
       "      <td>2007.889851</td>\n",
       "      <td>2223.382455</td>\n",
       "      <td>2303.561943</td>\n",
       "      <td>2393.235961</td>\n",
       "      <td>2466.610310</td>\n",
       "      <td>2607.418388</td>\n",
       "      <td>2952.457972</td>\n",
       "      <td>3474.468622</td>\n",
       "      <td>2706.966498</td>\n",
       "    </tr>\n",
       "    <tr>\n",
       "      <th>99996</th>\n",
       "      <td>26.712298</td>\n",
       "      <td>9.540217</td>\n",
       "      <td>18.017594</td>\n",
       "      <td>14.520668</td>\n",
       "      <td>26.203324</td>\n",
       "      <td>10.459975</td>\n",
       "      <td>14.997449</td>\n",
       "      <td>21.252581</td>\n",
       "      <td>10.152373</td>\n",
       "    </tr>\n",
       "  </tbody>\n",
       "</table>\n",
       "<p>13063 rows × 9 columns</p>\n",
       "</div>"
      ],
      "text/plain": [
       "                 GSM3145302   GSM3145303   GSM3145304   GSM3145305  \\\n",
       "ENTREZ_GENE_ID                                                       \n",
       "100017           307.230186   299.594437   339.975504   334.619712   \n",
       "100019           323.441914   382.080435   479.904615   382.315261   \n",
       "100036538         25.641358     3.538346    20.255223     1.481723   \n",
       "100036539          1.358878    15.619967     3.246890    18.560005   \n",
       "100036541          1.136168     4.488629    16.154903     0.980095   \n",
       "...                     ...          ...          ...          ...   \n",
       "99890            144.533900   139.913317   155.546488   181.749234   \n",
       "99899             44.909420     3.533419    52.232474    31.035013   \n",
       "99929           2429.646598  1963.804206  2355.189528  2332.957028   \n",
       "99982           2007.889851  2223.382455  2303.561943  2393.235961   \n",
       "99996             26.712298     9.540217    18.017594    14.520668   \n",
       "\n",
       "                 GSM3145306   GSM3145307   GSM3145308   GSM3145309  \\\n",
       "ENTREZ_GENE_ID                                                       \n",
       "100017           314.362543   283.202052   162.205241   175.362062   \n",
       "100019           405.423305   353.625283   341.010368   246.847745   \n",
       "100036538          7.503237    22.733128    11.170826    25.254699   \n",
       "100036539          5.476268     0.902094     1.139609     2.876863   \n",
       "100036541          2.233746     1.041617     4.187962     1.196132   \n",
       "...                     ...          ...          ...          ...   \n",
       "99890            181.693047   145.426918   148.659981    62.334714   \n",
       "99899             24.572417    24.458644    62.586457   215.745370   \n",
       "99929           2577.083832  2718.315699  2116.509902  2705.466522   \n",
       "99982           2466.610310  2607.418388  2952.457972  3474.468622   \n",
       "99996             26.203324    10.459975    14.997449    21.252581   \n",
       "\n",
       "                 GSM3145310  \n",
       "ENTREZ_GENE_ID               \n",
       "100017           269.050976  \n",
       "100019           191.859873  \n",
       "100036538          1.189386  \n",
       "100036539          0.869336  \n",
       "100036541          1.525422  \n",
       "...                     ...  \n",
       "99890             81.707395  \n",
       "99899            293.497415  \n",
       "99929           2596.770935  \n",
       "99982           2706.966498  \n",
       "99996             10.152373  \n",
       "\n",
       "[13063 rows x 9 columns]"
      ]
     },
     "execution_count": 77,
     "metadata": {},
     "output_type": "execute_result"
    }
   ],
   "source": [
    "print(\" max value:\", df.max().max(), '\\n', \"min value:\", df.min().min())\n",
    "df"
   ]
  },
  {
   "cell_type": "code",
   "execution_count": 78,
   "metadata": {
    "ExecuteTime": {
     "end_time": "2021-07-14T14:52:22.885979Z",
     "start_time": "2021-07-14T14:52:22.869037Z"
    },
    "collapsed": true
   },
   "outputs": [
    {
     "name": "stdout",
     "output_type": "stream",
     "text": [
      " max value: 17.30485804133562 \n",
      " min value: 0.09036562359710286\n"
     ]
    },
    {
     "data": {
      "text/html": [
       "<div>\n",
       "<style scoped>\n",
       "    .dataframe tbody tr th:only-of-type {\n",
       "        vertical-align: middle;\n",
       "    }\n",
       "\n",
       "    .dataframe tbody tr th {\n",
       "        vertical-align: top;\n",
       "    }\n",
       "\n",
       "    .dataframe thead th {\n",
       "        text-align: right;\n",
       "    }\n",
       "</style>\n",
       "<table border=\"1\" class=\"dataframe\">\n",
       "  <thead>\n",
       "    <tr style=\"text-align: right;\">\n",
       "      <th></th>\n",
       "      <th>GSM3145302</th>\n",
       "      <th>GSM3145303</th>\n",
       "      <th>GSM3145304</th>\n",
       "      <th>GSM3145305</th>\n",
       "      <th>GSM3145306</th>\n",
       "      <th>GSM3145307</th>\n",
       "      <th>GSM3145308</th>\n",
       "      <th>GSM3145309</th>\n",
       "      <th>GSM3145310</th>\n",
       "    </tr>\n",
       "    <tr>\n",
       "      <th>ENTREZ_GENE_ID</th>\n",
       "      <th></th>\n",
       "      <th></th>\n",
       "      <th></th>\n",
       "      <th></th>\n",
       "      <th></th>\n",
       "      <th></th>\n",
       "      <th></th>\n",
       "      <th></th>\n",
       "      <th></th>\n",
       "    </tr>\n",
       "  </thead>\n",
       "  <tbody>\n",
       "    <tr>\n",
       "      <th>100017</th>\n",
       "      <td>8.267864</td>\n",
       "      <td>8.231675</td>\n",
       "      <td>8.413524</td>\n",
       "      <td>8.390684</td>\n",
       "      <td>8.300868</td>\n",
       "      <td>8.150773</td>\n",
       "      <td>7.350544</td>\n",
       "      <td>7.462396</td>\n",
       "      <td>8.077088</td>\n",
       "    </tr>\n",
       "    <tr>\n",
       "      <th>100019</th>\n",
       "      <td>8.341816</td>\n",
       "      <td>8.581504</td>\n",
       "      <td>8.909607</td>\n",
       "      <td>8.582388</td>\n",
       "      <td>8.666839</td>\n",
       "      <td>8.470152</td>\n",
       "      <td>8.417896</td>\n",
       "      <td>7.953310</td>\n",
       "      <td>7.591409</td>\n",
       "    </tr>\n",
       "    <tr>\n",
       "      <th>100036538</th>\n",
       "      <td>4.735596</td>\n",
       "      <td>2.182167</td>\n",
       "      <td>4.409745</td>\n",
       "      <td>1.311342</td>\n",
       "      <td>3.088012</td>\n",
       "      <td>4.568830</td>\n",
       "      <td>3.605355</td>\n",
       "      <td>4.714504</td>\n",
       "      <td>1.130526</td>\n",
       "    </tr>\n",
       "    <tr>\n",
       "      <th>100036539</th>\n",
       "      <td>1.238101</td>\n",
       "      <td>4.054846</td>\n",
       "      <td>2.086407</td>\n",
       "      <td>4.289835</td>\n",
       "      <td>2.695163</td>\n",
       "      <td>0.927588</td>\n",
       "      <td>1.097347</td>\n",
       "      <td>1.954890</td>\n",
       "      <td>0.902526</td>\n",
       "    </tr>\n",
       "    <tr>\n",
       "      <th>100036541</th>\n",
       "      <td>1.095025</td>\n",
       "      <td>2.456446</td>\n",
       "      <td>4.100549</td>\n",
       "      <td>0.985570</td>\n",
       "      <td>1.693206</td>\n",
       "      <td>1.029712</td>\n",
       "      <td>2.375168</td>\n",
       "      <td>1.134965</td>\n",
       "      <td>1.336525</td>\n",
       "    </tr>\n",
       "    <tr>\n",
       "      <th>...</th>\n",
       "      <td>...</td>\n",
       "      <td>...</td>\n",
       "      <td>...</td>\n",
       "      <td>...</td>\n",
       "      <td>...</td>\n",
       "      <td>...</td>\n",
       "      <td>...</td>\n",
       "      <td>...</td>\n",
       "      <td>...</td>\n",
       "    </tr>\n",
       "    <tr>\n",
       "      <th>99890</th>\n",
       "      <td>7.185211</td>\n",
       "      <td>7.138664</td>\n",
       "      <td>7.290447</td>\n",
       "      <td>7.513722</td>\n",
       "      <td>7.513278</td>\n",
       "      <td>7.194037</td>\n",
       "      <td>7.225545</td>\n",
       "      <td>5.984925</td>\n",
       "      <td>6.369944</td>\n",
       "    </tr>\n",
       "    <tr>\n",
       "      <th>99899</th>\n",
       "      <td>5.520718</td>\n",
       "      <td>2.180600</td>\n",
       "      <td>5.734235</td>\n",
       "      <td>5.001578</td>\n",
       "      <td>4.676517</td>\n",
       "      <td>4.670084</td>\n",
       "      <td>5.990648</td>\n",
       "      <td>7.759857</td>\n",
       "      <td>8.202111</td>\n",
       "    </tr>\n",
       "    <tr>\n",
       "      <th>99929</th>\n",
       "      <td>11.247124</td>\n",
       "      <td>10.940170</td>\n",
       "      <td>11.202240</td>\n",
       "      <td>11.188562</td>\n",
       "      <td>11.332083</td>\n",
       "      <td>11.409028</td>\n",
       "      <td>11.048153</td>\n",
       "      <td>11.402195</td>\n",
       "      <td>11.343059</td>\n",
       "    </tr>\n",
       "    <tr>\n",
       "      <th>99982</th>\n",
       "      <td>10.972183</td>\n",
       "      <td>11.119189</td>\n",
       "      <td>11.170277</td>\n",
       "      <td>11.225350</td>\n",
       "      <td>11.268899</td>\n",
       "      <td>11.348960</td>\n",
       "      <td>11.528189</td>\n",
       "      <td>11.762992</td>\n",
       "      <td>11.402994</td>\n",
       "    </tr>\n",
       "    <tr>\n",
       "      <th>99996</th>\n",
       "      <td>4.792454</td>\n",
       "      <td>3.397833</td>\n",
       "      <td>4.249263</td>\n",
       "      <td>3.956119</td>\n",
       "      <td>4.765711</td>\n",
       "      <td>3.518532</td>\n",
       "      <td>3.999770</td>\n",
       "      <td>4.475901</td>\n",
       "      <td>3.479279</td>\n",
       "    </tr>\n",
       "  </tbody>\n",
       "</table>\n",
       "<p>13063 rows × 9 columns</p>\n",
       "</div>"
      ],
      "text/plain": [
       "                GSM3145302  GSM3145303  GSM3145304  GSM3145305  GSM3145306  \\\n",
       "ENTREZ_GENE_ID                                                               \n",
       "100017            8.267864    8.231675    8.413524    8.390684    8.300868   \n",
       "100019            8.341816    8.581504    8.909607    8.582388    8.666839   \n",
       "100036538         4.735596    2.182167    4.409745    1.311342    3.088012   \n",
       "100036539         1.238101    4.054846    2.086407    4.289835    2.695163   \n",
       "100036541         1.095025    2.456446    4.100549    0.985570    1.693206   \n",
       "...                    ...         ...         ...         ...         ...   \n",
       "99890             7.185211    7.138664    7.290447    7.513722    7.513278   \n",
       "99899             5.520718    2.180600    5.734235    5.001578    4.676517   \n",
       "99929            11.247124   10.940170   11.202240   11.188562   11.332083   \n",
       "99982            10.972183   11.119189   11.170277   11.225350   11.268899   \n",
       "99996             4.792454    3.397833    4.249263    3.956119    4.765711   \n",
       "\n",
       "                GSM3145307  GSM3145308  GSM3145309  GSM3145310  \n",
       "ENTREZ_GENE_ID                                                  \n",
       "100017            8.150773    7.350544    7.462396    8.077088  \n",
       "100019            8.470152    8.417896    7.953310    7.591409  \n",
       "100036538         4.568830    3.605355    4.714504    1.130526  \n",
       "100036539         0.927588    1.097347    1.954890    0.902526  \n",
       "100036541         1.029712    2.375168    1.134965    1.336525  \n",
       "...                    ...         ...         ...         ...  \n",
       "99890             7.194037    7.225545    5.984925    6.369944  \n",
       "99899             4.670084    5.990648    7.759857    8.202111  \n",
       "99929            11.409028   11.048153   11.402195   11.343059  \n",
       "99982            11.348960   11.528189   11.762992   11.402994  \n",
       "99996             3.518532    3.999770    4.475901    3.479279  \n",
       "\n",
       "[13063 rows x 9 columns]"
      ]
     },
     "execution_count": 78,
     "metadata": {},
     "output_type": "execute_result"
    }
   ],
   "source": [
    "df = mylog(df)\n",
    "print(\" max value:\", df.max().max(), '\\n', \"min value:\", df.min().min())\n",
    "df"
   ]
  },
  {
   "cell_type": "markdown",
   "metadata": {},
   "source": [
    "# Look at data"
   ]
  },
  {
   "cell_type": "markdown",
   "metadata": {},
   "source": [
    "## Description of one ds"
   ]
  },
  {
   "cell_type": "code",
   "execution_count": 6,
   "metadata": {},
   "outputs": [
    {
     "data": {
      "text/plain": [
       "dict_keys(['GSE67462$OSKM', 'GSE38509$OSKM', 'GSE38509$OSK', 'GSE38509$GFP', 'GSE116309$OKMS', 'GSE116309$OK+9MS', 'GSE46321$C/EBPα+ OSKM', 'GSE46321$C/EBPα- OSKM', 'GSE10871$OSKM', 'GSE21757$OKMS', 'GSE103979$Oct4+SK', 'GSE103979$Oct6+SK', 'GSE103979$Oct4+defSox+K', 'GSE103979$GFP', 'GSE114581$OSKM+dox_mef', 'GSE114581$OSKM-dox_mef', 'GSE127927$7F-Esrrb', 'GSE127927$7F-Glis1', 'GSE127927$7F-Jdp2', 'GSE127927$7F-Kdm2b', 'GSE127927$7F-Mkk6', 'GSE127927$7F-Nanog', 'GSE127927$7F-Sall4', 'GSE127927$7F', 'GSE127927$GFP', 'GSE102348$OSKM$Gatad2a-/-', 'GSE102348$OSKM$Mbd3f/-', 'GSE102348$OSKM$WT-1', 'GSE102348$OSKM$WT-2'])"
      ]
     },
     "execution_count": 6,
     "metadata": {},
     "output_type": "execute_result"
    }
   ],
   "source": [
    "ultradf_back.keys()"
   ]
  },
  {
   "cell_type": "code",
   "execution_count": 22,
   "metadata": {},
   "outputs": [],
   "source": [
    "key = 'GSE102348$OSKM$WT-2'\n",
    "experiment = ultradf_back[key]\n",
    "data = experiment['data']\n",
    "pheno = experiment['pheno']\n",
    "time = experiment['time']"
   ]
  },
  {
   "cell_type": "markdown",
   "metadata": {},
   "source": [
    "## multiple description"
   ]
  },
  {
   "cell_type": "code",
   "execution_count": 5,
   "metadata": {},
   "outputs": [
    {
     "data": {
      "text/plain": [
       "dict_keys(['GSE67462$OSKM', 'GSE38509$OSKM', 'GSE38509$OSK', 'GSE38509$GFP', 'GSE116309$OKMS', 'GSE116309$OK+9MS', 'GSE46321$C/EBPα+ OSKM', 'GSE46321$C/EBPα- OSKM', 'GSE10871$OSKM', 'GSE21757$OKMS', 'GSE103979$Oct4+SK', 'GSE103979$Oct6+SK', 'GSE103979$Oct4+defSox+K', 'GSE103979$GFP', 'GSE114581$OSKM+dox_mef', 'GSE114581$OSKM-dox_mef', 'GSE127927$7F-Esrrb', 'GSE127927$7F-Glis1', 'GSE127927$7F-Jdp2', 'GSE127927$7F-Kdm2b', 'GSE127927$7F-Mkk6', 'GSE127927$7F-Nanog', 'GSE127927$7F-Sall4', 'GSE127927$7F', 'GSE127927$GFP', 'GSE102348$OSKM$Gatad2a-/-', 'GSE102348$OSKM$Mbd3f/-', 'GSE102348$OSKM$WT-1', 'GSE102348$OSKM$WT-2'])"
      ]
     },
     "execution_count": 5,
     "metadata": {},
     "output_type": "execute_result"
    }
   ],
   "source": [
    "ultradf_back.keys()"
   ]
  },
  {
   "cell_type": "code",
   "execution_count": 29,
   "metadata": {},
   "outputs": [
    {
     "name": "stderr",
     "output_type": "stream",
     "text": [
      "No handles with labels found to put in legend.\n"
     ]
    },
    {
     "data": {
      "image/png": "[encoded data removed]",
      "text/plain": [
       "<Figure size 792x504 with 2 Axes>"
      ]
     },
     "metadata": {
      "needs_background": "light"
     },
     "output_type": "display_data"
    }
   ],
   "source": [
    "filt = ['GSE102348$OSKM$Mbd3f/-', 'GSE102348$OSKM$WT-1', 'GSE102348$OSKM$WT-2']\n",
    "pca1 = np.array([])\n",
    "pca2 = np.array([])\n",
    "labels = []\n",
    "for key in ultradf_back.keys():\n",
    "    if key in filt:\n",
    "        df = ultradf_back[key]['data']\n",
    "        lab = ultradf_back[key]['time'] #list(map(str, ultradf_back[key]['time'])) #ultradf_back[key]['time']\n",
    "        # PCA before preprocessing\n",
    "        pca = PCA(2)\n",
    "        Xpca = pca.fit_transform(df.T)\n",
    "        exp_var = pca.explained_variance_ratio_\n",
    "\n",
    "        pca1 = np.concatenate([pca1, Xpca[:, 0]])\n",
    "        pca2 = np.concatenate([pca2, Xpca[:, 1]])\n",
    "        labels = labels + lab\n",
    "\n",
    "plt.figure(figsize=(11,7))\n",
    "#sns.scatterplot(x=pca1, y=pca2, hue=labels, palette='plasma')\n",
    "plt.scatter(x=pca1, y=pca2, c=labels, cmap='plasma')\n",
    "plt.title('PCA plot before scaling for all datasets')\n",
    "plt.xlabel('PCA 1:') #%0.3f ' % exp_var[0])\n",
    "plt.ylabel('PCA 2:') #%0.3f ' % exp_var[1])\n",
    "plt.legend(bbox_to_anchor=(1.02, 1))\n",
    "plt.grid(alpha=0.5)\n",
    "plt.colorbar()\n",
    "plt.show()"
   ]
  },
  {
   "cell_type": "code",
   "execution_count": null,
   "metadata": {},
   "outputs": [],
   "source": []
  },
  {
   "cell_type": "markdown",
   "metadata": {},
   "source": [
    "# Preprocess data"
   ]
  },
  {
   "cell_type": "code",
   "execution_count": 12,
   "metadata": {
    "ExecuteTime": {
     "end_time": "2021-07-19T12:36:16.068085Z",
     "start_time": "2021-07-19T12:36:15.883840Z"
    }
   },
   "outputs": [],
   "source": [
    "rawdf = pd.read_csv(path + '/' + 'GSE103979_data.csv', index_col=0)"
   ]
  },
  {
   "cell_type": "code",
   "execution_count": 88,
   "metadata": {
    "ExecuteTime": {
     "end_time": "2021-07-14T14:53:45.646615Z",
     "start_time": "2021-07-14T14:53:45.644288Z"
    }
   },
   "outputs": [],
   "source": [
    "#new_df = df.copy()"
   ]
  },
  {
   "cell_type": "code",
   "execution_count": 14,
   "metadata": {
    "ExecuteTime": {
     "end_time": "2021-07-19T12:36:34.871551Z",
     "start_time": "2021-07-19T12:36:34.865406Z"
    }
   },
   "outputs": [],
   "source": [
    "rawdf = rawdf.drop('ensg', 1).set_index('name')"
   ]
  },
  {
   "cell_type": "code",
   "execution_count": 15,
   "metadata": {
    "ExecuteTime": {
     "end_time": "2021-07-19T12:37:23.857800Z",
     "start_time": "2021-07-19T12:36:35.684905Z"
    }
   },
   "outputs": [
    {
     "name": "stdout",
     "output_type": "stream",
     "text": [
      "Max number of ENTREZ across keys: 1\n"
     ]
    }
   ],
   "source": [
    "new_df = key2ENTREZ(rawdf, key='symbol')"
   ]
  },
  {
   "cell_type": "code",
   "execution_count": 19,
   "metadata": {
    "ExecuteTime": {
     "end_time": "2021-07-19T12:39:05.818641Z",
     "start_time": "2021-07-19T12:39:05.778674Z"
    }
   },
   "outputs": [
    {
     "data": {
      "text/html": [
       "<div>\n",
       "<style scoped>\n",
       "    .dataframe tbody tr th:only-of-type {\n",
       "        vertical-align: middle;\n",
       "    }\n",
       "\n",
       "    .dataframe tbody tr th {\n",
       "        vertical-align: top;\n",
       "    }\n",
       "\n",
       "    .dataframe thead th {\n",
       "        text-align: right;\n",
       "    }\n",
       "</style>\n",
       "<table border=\"1\" class=\"dataframe\">\n",
       "  <thead>\n",
       "    <tr style=\"text-align: right;\">\n",
       "      <th></th>\n",
       "      <th>GSM2787321</th>\n",
       "      <th>GSM2787269</th>\n",
       "      <th>GSM2787295</th>\n",
       "      <th>GSM2787270</th>\n",
       "      <th>GSM2787296</th>\n",
       "      <th>GSM2787271</th>\n",
       "      <th>GSM2787297</th>\n",
       "      <th>GSM2787272</th>\n",
       "      <th>GSM2787298</th>\n",
       "      <th>GSM2787273</th>\n",
       "      <th>GSM2787299</th>\n",
       "      <th>GSM2787274</th>\n",
       "      <th>GSM2787300</th>\n",
       "      <th>GSM2787275</th>\n",
       "      <th>GSM2787301</th>\n",
       "      <th>GSM2787276</th>\n",
       "      <th>GSM2787302</th>\n",
       "      <th>GSM2787277</th>\n",
       "      <th>GSM2787303</th>\n",
       "      <th>GSM2787278</th>\n",
       "      <th>...</th>\n",
       "      <th>GSM2787284</th>\n",
       "      <th>GSM2787310</th>\n",
       "      <th>GSM2787285</th>\n",
       "      <th>GSM2787311</th>\n",
       "      <th>GSM2787286</th>\n",
       "      <th>GSM2787312</th>\n",
       "      <th>GSM2787287</th>\n",
       "      <th>GSM2787313</th>\n",
       "      <th>GSM2787288</th>\n",
       "      <th>GSM2787314</th>\n",
       "      <th>GSM3381672</th>\n",
       "      <th>GSM3381673</th>\n",
       "      <th>GSM3381674</th>\n",
       "      <th>GSM3381675</th>\n",
       "      <th>GSM3381676</th>\n",
       "      <th>GSM3381677</th>\n",
       "      <th>GSM3381678</th>\n",
       "      <th>GSM3381679</th>\n",
       "      <th>GSM3381680</th>\n",
       "      <th>GSM3381681</th>\n",
       "    </tr>\n",
       "    <tr>\n",
       "      <th>name</th>\n",
       "      <th></th>\n",
       "      <th></th>\n",
       "      <th></th>\n",
       "      <th></th>\n",
       "      <th></th>\n",
       "      <th></th>\n",
       "      <th></th>\n",
       "      <th></th>\n",
       "      <th></th>\n",
       "      <th></th>\n",
       "      <th></th>\n",
       "      <th></th>\n",
       "      <th></th>\n",
       "      <th></th>\n",
       "      <th></th>\n",
       "      <th></th>\n",
       "      <th></th>\n",
       "      <th></th>\n",
       "      <th></th>\n",
       "      <th></th>\n",
       "      <th></th>\n",
       "      <th></th>\n",
       "      <th></th>\n",
       "      <th></th>\n",
       "      <th></th>\n",
       "      <th></th>\n",
       "      <th></th>\n",
       "      <th></th>\n",
       "      <th></th>\n",
       "      <th></th>\n",
       "      <th></th>\n",
       "      <th></th>\n",
       "      <th></th>\n",
       "      <th></th>\n",
       "      <th></th>\n",
       "      <th></th>\n",
       "      <th></th>\n",
       "      <th></th>\n",
       "      <th></th>\n",
       "      <th></th>\n",
       "      <th></th>\n",
       "    </tr>\n",
       "  </thead>\n",
       "  <tbody>\n",
       "    <tr>\n",
       "      <th>71952</th>\n",
       "      <td>7.186861</td>\n",
       "      <td>6.864505</td>\n",
       "      <td>7.129571</td>\n",
       "      <td>6.797854</td>\n",
       "      <td>7.217842</td>\n",
       "      <td>6.948126</td>\n",
       "      <td>6.242730</td>\n",
       "      <td>6.939503</td>\n",
       "      <td>7.072707</td>\n",
       "      <td>7.321018</td>\n",
       "      <td>7.200677</td>\n",
       "      <td>6.701709</td>\n",
       "      <td>6.810879</td>\n",
       "      <td>7.258001</td>\n",
       "      <td>7.109254</td>\n",
       "      <td>6.928826</td>\n",
       "      <td>6.489772</td>\n",
       "      <td>6.696789</td>\n",
       "      <td>6.983049</td>\n",
       "      <td>6.895295</td>\n",
       "      <td>...</td>\n",
       "      <td>6.686500</td>\n",
       "      <td>7.058659</td>\n",
       "      <td>7.271281</td>\n",
       "      <td>7.235383</td>\n",
       "      <td>6.976223</td>\n",
       "      <td>6.957642</td>\n",
       "      <td>7.207121</td>\n",
       "      <td>6.945135</td>\n",
       "      <td>7.233254</td>\n",
       "      <td>7.152550</td>\n",
       "      <td>6.917903</td>\n",
       "      <td>6.899912</td>\n",
       "      <td>7.459735</td>\n",
       "      <td>7.118135</td>\n",
       "      <td>7.018650</td>\n",
       "      <td>6.723890</td>\n",
       "      <td>7.975007</td>\n",
       "      <td>7.476840</td>\n",
       "      <td>7.119928</td>\n",
       "      <td>7.213834</td>\n",
       "    </tr>\n",
       "    <tr>\n",
       "      <th>77532</th>\n",
       "      <td>8.395719</td>\n",
       "      <td>8.242134</td>\n",
       "      <td>8.328545</td>\n",
       "      <td>8.170667</td>\n",
       "      <td>8.108174</td>\n",
       "      <td>7.649415</td>\n",
       "      <td>8.423311</td>\n",
       "      <td>8.195664</td>\n",
       "      <td>8.239568</td>\n",
       "      <td>8.343688</td>\n",
       "      <td>8.331740</td>\n",
       "      <td>8.561545</td>\n",
       "      <td>8.456948</td>\n",
       "      <td>8.186906</td>\n",
       "      <td>8.230112</td>\n",
       "      <td>7.850687</td>\n",
       "      <td>8.439317</td>\n",
       "      <td>8.423987</td>\n",
       "      <td>8.486113</td>\n",
       "      <td>8.491597</td>\n",
       "      <td>...</td>\n",
       "      <td>8.562863</td>\n",
       "      <td>8.501814</td>\n",
       "      <td>8.166636</td>\n",
       "      <td>8.208467</td>\n",
       "      <td>8.392459</td>\n",
       "      <td>8.288778</td>\n",
       "      <td>8.327829</td>\n",
       "      <td>8.408262</td>\n",
       "      <td>8.404120</td>\n",
       "      <td>8.547683</td>\n",
       "      <td>8.591306</td>\n",
       "      <td>8.481586</td>\n",
       "      <td>8.210236</td>\n",
       "      <td>8.076845</td>\n",
       "      <td>7.753791</td>\n",
       "      <td>8.320874</td>\n",
       "      <td>8.148684</td>\n",
       "      <td>8.024693</td>\n",
       "      <td>8.138893</td>\n",
       "      <td>8.046053</td>\n",
       "    </tr>\n",
       "    <tr>\n",
       "      <th>16792</th>\n",
       "      <td>4.996765</td>\n",
       "      <td>7.344299</td>\n",
       "      <td>6.976014</td>\n",
       "      <td>7.641737</td>\n",
       "      <td>7.546771</td>\n",
       "      <td>7.614825</td>\n",
       "      <td>9.590900</td>\n",
       "      <td>9.475697</td>\n",
       "      <td>9.417128</td>\n",
       "      <td>9.509343</td>\n",
       "      <td>9.326789</td>\n",
       "      <td>7.137762</td>\n",
       "      <td>7.136318</td>\n",
       "      <td>6.730474</td>\n",
       "      <td>6.119665</td>\n",
       "      <td>7.758981</td>\n",
       "      <td>8.828790</td>\n",
       "      <td>5.232949</td>\n",
       "      <td>4.990239</td>\n",
       "      <td>6.195131</td>\n",
       "      <td>...</td>\n",
       "      <td>7.089681</td>\n",
       "      <td>7.157473</td>\n",
       "      <td>5.234657</td>\n",
       "      <td>5.316482</td>\n",
       "      <td>5.503341</td>\n",
       "      <td>5.422041</td>\n",
       "      <td>6.147432</td>\n",
       "      <td>5.943213</td>\n",
       "      <td>5.874462</td>\n",
       "      <td>5.085952</td>\n",
       "      <td>6.945961</td>\n",
       "      <td>7.253411</td>\n",
       "      <td>4.270867</td>\n",
       "      <td>4.348906</td>\n",
       "      <td>7.132260</td>\n",
       "      <td>8.516888</td>\n",
       "      <td>3.770313</td>\n",
       "      <td>3.635542</td>\n",
       "      <td>2.173413</td>\n",
       "      <td>1.117854</td>\n",
       "    </tr>\n",
       "    <tr>\n",
       "      <th>66254</th>\n",
       "      <td>8.526797</td>\n",
       "      <td>7.984536</td>\n",
       "      <td>7.790016</td>\n",
       "      <td>7.511576</td>\n",
       "      <td>7.649947</td>\n",
       "      <td>7.281564</td>\n",
       "      <td>7.386528</td>\n",
       "      <td>7.683199</td>\n",
       "      <td>7.591869</td>\n",
       "      <td>8.365075</td>\n",
       "      <td>8.374359</td>\n",
       "      <td>7.519509</td>\n",
       "      <td>7.536577</td>\n",
       "      <td>7.828977</td>\n",
       "      <td>7.642061</td>\n",
       "      <td>7.509836</td>\n",
       "      <td>7.404169</td>\n",
       "      <td>7.180588</td>\n",
       "      <td>7.451617</td>\n",
       "      <td>7.161173</td>\n",
       "      <td>...</td>\n",
       "      <td>7.776318</td>\n",
       "      <td>7.690386</td>\n",
       "      <td>7.845963</td>\n",
       "      <td>7.798760</td>\n",
       "      <td>7.597045</td>\n",
       "      <td>7.643155</td>\n",
       "      <td>7.670089</td>\n",
       "      <td>7.669183</td>\n",
       "      <td>7.634544</td>\n",
       "      <td>7.635076</td>\n",
       "      <td>7.793388</td>\n",
       "      <td>7.677255</td>\n",
       "      <td>7.879747</td>\n",
       "      <td>7.824584</td>\n",
       "      <td>7.466644</td>\n",
       "      <td>7.717050</td>\n",
       "      <td>7.843995</td>\n",
       "      <td>7.791577</td>\n",
       "      <td>7.764905</td>\n",
       "      <td>7.693222</td>\n",
       "    </tr>\n",
       "    <tr>\n",
       "      <th>18102</th>\n",
       "      <td>11.550188</td>\n",
       "      <td>9.313771</td>\n",
       "      <td>9.433433</td>\n",
       "      <td>10.999853</td>\n",
       "      <td>10.963728</td>\n",
       "      <td>10.571643</td>\n",
       "      <td>10.294259</td>\n",
       "      <td>10.412898</td>\n",
       "      <td>10.438977</td>\n",
       "      <td>10.310348</td>\n",
       "      <td>10.233174</td>\n",
       "      <td>9.381429</td>\n",
       "      <td>9.273622</td>\n",
       "      <td>10.822504</td>\n",
       "      <td>10.910303</td>\n",
       "      <td>10.629126</td>\n",
       "      <td>10.298310</td>\n",
       "      <td>10.182161</td>\n",
       "      <td>10.181560</td>\n",
       "      <td>10.152326</td>\n",
       "      <td>...</td>\n",
       "      <td>9.418196</td>\n",
       "      <td>9.399925</td>\n",
       "      <td>10.895285</td>\n",
       "      <td>11.014825</td>\n",
       "      <td>10.263345</td>\n",
       "      <td>10.507925</td>\n",
       "      <td>10.342690</td>\n",
       "      <td>10.359784</td>\n",
       "      <td>10.230503</td>\n",
       "      <td>10.426356</td>\n",
       "      <td>9.163119</td>\n",
       "      <td>9.063607</td>\n",
       "      <td>10.921091</td>\n",
       "      <td>10.936100</td>\n",
       "      <td>10.430167</td>\n",
       "      <td>10.232148</td>\n",
       "      <td>10.525111</td>\n",
       "      <td>10.411611</td>\n",
       "      <td>10.327347</td>\n",
       "      <td>10.405287</td>\n",
       "    </tr>\n",
       "    <tr>\n",
       "      <th>...</th>\n",
       "      <td>...</td>\n",
       "      <td>...</td>\n",
       "      <td>...</td>\n",
       "      <td>...</td>\n",
       "      <td>...</td>\n",
       "      <td>...</td>\n",
       "      <td>...</td>\n",
       "      <td>...</td>\n",
       "      <td>...</td>\n",
       "      <td>...</td>\n",
       "      <td>...</td>\n",
       "      <td>...</td>\n",
       "      <td>...</td>\n",
       "      <td>...</td>\n",
       "      <td>...</td>\n",
       "      <td>...</td>\n",
       "      <td>...</td>\n",
       "      <td>...</td>\n",
       "      <td>...</td>\n",
       "      <td>...</td>\n",
       "      <td>...</td>\n",
       "      <td>...</td>\n",
       "      <td>...</td>\n",
       "      <td>...</td>\n",
       "      <td>...</td>\n",
       "      <td>...</td>\n",
       "      <td>...</td>\n",
       "      <td>...</td>\n",
       "      <td>...</td>\n",
       "      <td>...</td>\n",
       "      <td>...</td>\n",
       "      <td>...</td>\n",
       "      <td>...</td>\n",
       "      <td>...</td>\n",
       "      <td>...</td>\n",
       "      <td>...</td>\n",
       "      <td>...</td>\n",
       "      <td>...</td>\n",
       "      <td>...</td>\n",
       "      <td>...</td>\n",
       "      <td>...</td>\n",
       "    </tr>\n",
       "    <tr>\n",
       "      <th>57444</th>\n",
       "      <td>9.662952</td>\n",
       "      <td>10.133464</td>\n",
       "      <td>9.979485</td>\n",
       "      <td>9.514724</td>\n",
       "      <td>9.380210</td>\n",
       "      <td>10.099832</td>\n",
       "      <td>9.674135</td>\n",
       "      <td>10.516051</td>\n",
       "      <td>10.538948</td>\n",
       "      <td>10.326791</td>\n",
       "      <td>10.363181</td>\n",
       "      <td>10.262821</td>\n",
       "      <td>10.181264</td>\n",
       "      <td>9.447994</td>\n",
       "      <td>9.596753</td>\n",
       "      <td>9.858933</td>\n",
       "      <td>9.255969</td>\n",
       "      <td>9.962417</td>\n",
       "      <td>9.905180</td>\n",
       "      <td>10.028020</td>\n",
       "      <td>...</td>\n",
       "      <td>10.019041</td>\n",
       "      <td>10.016622</td>\n",
       "      <td>9.382860</td>\n",
       "      <td>9.420872</td>\n",
       "      <td>9.857803</td>\n",
       "      <td>9.884930</td>\n",
       "      <td>9.828962</td>\n",
       "      <td>9.805709</td>\n",
       "      <td>9.891105</td>\n",
       "      <td>10.028028</td>\n",
       "      <td>10.023885</td>\n",
       "      <td>9.959620</td>\n",
       "      <td>9.531470</td>\n",
       "      <td>9.395564</td>\n",
       "      <td>9.935998</td>\n",
       "      <td>9.297434</td>\n",
       "      <td>9.702655</td>\n",
       "      <td>9.743100</td>\n",
       "      <td>9.773489</td>\n",
       "      <td>9.744186</td>\n",
       "    </tr>\n",
       "    <tr>\n",
       "      <th>216154</th>\n",
       "      <td>7.061236</td>\n",
       "      <td>7.751865</td>\n",
       "      <td>7.575090</td>\n",
       "      <td>6.737018</td>\n",
       "      <td>6.491034</td>\n",
       "      <td>6.989215</td>\n",
       "      <td>6.658745</td>\n",
       "      <td>6.257029</td>\n",
       "      <td>5.948007</td>\n",
       "      <td>5.796589</td>\n",
       "      <td>5.821278</td>\n",
       "      <td>7.944195</td>\n",
       "      <td>7.990534</td>\n",
       "      <td>6.878005</td>\n",
       "      <td>6.697695</td>\n",
       "      <td>7.242752</td>\n",
       "      <td>7.166516</td>\n",
       "      <td>7.032295</td>\n",
       "      <td>6.488653</td>\n",
       "      <td>6.352271</td>\n",
       "      <td>...</td>\n",
       "      <td>7.628509</td>\n",
       "      <td>7.515136</td>\n",
       "      <td>6.497284</td>\n",
       "      <td>6.512029</td>\n",
       "      <td>6.790929</td>\n",
       "      <td>6.482224</td>\n",
       "      <td>6.261343</td>\n",
       "      <td>6.324709</td>\n",
       "      <td>5.845227</td>\n",
       "      <td>5.903642</td>\n",
       "      <td>7.595042</td>\n",
       "      <td>7.412290</td>\n",
       "      <td>6.777198</td>\n",
       "      <td>6.756840</td>\n",
       "      <td>6.923655</td>\n",
       "      <td>6.888761</td>\n",
       "      <td>6.030671</td>\n",
       "      <td>5.680435</td>\n",
       "      <td>5.350148</td>\n",
       "      <td>5.681457</td>\n",
       "    </tr>\n",
       "    <tr>\n",
       "      <th>66632</th>\n",
       "      <td>5.268877</td>\n",
       "      <td>6.342710</td>\n",
       "      <td>6.643409</td>\n",
       "      <td>5.750479</td>\n",
       "      <td>5.818867</td>\n",
       "      <td>5.099941</td>\n",
       "      <td>5.472153</td>\n",
       "      <td>4.731516</td>\n",
       "      <td>4.515034</td>\n",
       "      <td>3.420046</td>\n",
       "      <td>3.953218</td>\n",
       "      <td>5.191752</td>\n",
       "      <td>5.595462</td>\n",
       "      <td>4.576940</td>\n",
       "      <td>3.878429</td>\n",
       "      <td>5.094715</td>\n",
       "      <td>4.740150</td>\n",
       "      <td>1.124915</td>\n",
       "      <td>2.790781</td>\n",
       "      <td>0.000000</td>\n",
       "      <td>...</td>\n",
       "      <td>6.873229</td>\n",
       "      <td>6.777217</td>\n",
       "      <td>6.259176</td>\n",
       "      <td>6.698168</td>\n",
       "      <td>5.710502</td>\n",
       "      <td>5.498271</td>\n",
       "      <td>4.967354</td>\n",
       "      <td>4.456321</td>\n",
       "      <td>4.749053</td>\n",
       "      <td>3.675026</td>\n",
       "      <td>6.753002</td>\n",
       "      <td>6.306660</td>\n",
       "      <td>6.566978</td>\n",
       "      <td>5.993039</td>\n",
       "      <td>4.475572</td>\n",
       "      <td>5.165969</td>\n",
       "      <td>3.887006</td>\n",
       "      <td>2.973960</td>\n",
       "      <td>2.506193</td>\n",
       "      <td>3.003860</td>\n",
       "    </tr>\n",
       "    <tr>\n",
       "      <th>57080</th>\n",
       "      <td>7.352032</td>\n",
       "      <td>7.435544</td>\n",
       "      <td>7.463951</td>\n",
       "      <td>6.797854</td>\n",
       "      <td>6.820849</td>\n",
       "      <td>6.961953</td>\n",
       "      <td>7.137619</td>\n",
       "      <td>6.967841</td>\n",
       "      <td>7.019672</td>\n",
       "      <td>6.464894</td>\n",
       "      <td>6.497482</td>\n",
       "      <td>7.519509</td>\n",
       "      <td>7.518062</td>\n",
       "      <td>6.919475</td>\n",
       "      <td>6.931663</td>\n",
       "      <td>7.253993</td>\n",
       "      <td>7.257528</td>\n",
       "      <td>7.132831</td>\n",
       "      <td>7.112126</td>\n",
       "      <td>7.136685</td>\n",
       "      <td>...</td>\n",
       "      <td>7.163152</td>\n",
       "      <td>7.326275</td>\n",
       "      <td>6.935577</td>\n",
       "      <td>7.036277</td>\n",
       "      <td>7.164084</td>\n",
       "      <td>7.023615</td>\n",
       "      <td>6.802880</td>\n",
       "      <td>7.050240</td>\n",
       "      <td>7.014336</td>\n",
       "      <td>6.988357</td>\n",
       "      <td>7.426050</td>\n",
       "      <td>7.518600</td>\n",
       "      <td>6.806984</td>\n",
       "      <td>6.981669</td>\n",
       "      <td>7.292920</td>\n",
       "      <td>7.356437</td>\n",
       "      <td>6.706808</td>\n",
       "      <td>6.820128</td>\n",
       "      <td>6.952814</td>\n",
       "      <td>7.070467</td>\n",
       "    </tr>\n",
       "    <tr>\n",
       "      <th>68498</th>\n",
       "      <td>4.222907</td>\n",
       "      <td>4.473723</td>\n",
       "      <td>3.920144</td>\n",
       "      <td>4.437938</td>\n",
       "      <td>4.102030</td>\n",
       "      <td>5.453133</td>\n",
       "      <td>5.306285</td>\n",
       "      <td>5.599317</td>\n",
       "      <td>5.317237</td>\n",
       "      <td>5.974104</td>\n",
       "      <td>6.497482</td>\n",
       "      <td>4.758576</td>\n",
       "      <td>4.624996</td>\n",
       "      <td>4.829865</td>\n",
       "      <td>3.634882</td>\n",
       "      <td>4.035710</td>\n",
       "      <td>4.608035</td>\n",
       "      <td>4.476120</td>\n",
       "      <td>3.926768</td>\n",
       "      <td>3.705407</td>\n",
       "      <td>...</td>\n",
       "      <td>4.482128</td>\n",
       "      <td>4.132491</td>\n",
       "      <td>4.434080</td>\n",
       "      <td>4.087189</td>\n",
       "      <td>3.524347</td>\n",
       "      <td>2.996217</td>\n",
       "      <td>2.997946</td>\n",
       "      <td>2.997149</td>\n",
       "      <td>2.179700</td>\n",
       "      <td>1.746141</td>\n",
       "      <td>4.233415</td>\n",
       "      <td>4.318126</td>\n",
       "      <td>4.088859</td>\n",
       "      <td>3.632098</td>\n",
       "      <td>5.276993</td>\n",
       "      <td>3.659218</td>\n",
       "      <td>2.754413</td>\n",
       "      <td>2.146802</td>\n",
       "      <td>2.776417</td>\n",
       "      <td>3.003860</td>\n",
       "    </tr>\n",
       "  </tbody>\n",
       "</table>\n",
       "<p>12368 rows × 41 columns</p>\n",
       "</div>"
      ],
      "text/plain": [
       "        GSM2787321  GSM2787269  GSM2787295  GSM2787270  GSM2787296  \\\n",
       "name                                                                 \n",
       "71952     7.186861    6.864505    7.129571    6.797854    7.217842   \n",
       "77532     8.395719    8.242134    8.328545    8.170667    8.108174   \n",
       "16792     4.996765    7.344299    6.976014    7.641737    7.546771   \n",
       "66254     8.526797    7.984536    7.790016    7.511576    7.649947   \n",
       "18102    11.550188    9.313771    9.433433   10.999853   10.963728   \n",
       "...            ...         ...         ...         ...         ...   \n",
       "57444     9.662952   10.133464    9.979485    9.514724    9.380210   \n",
       "216154    7.061236    7.751865    7.575090    6.737018    6.491034   \n",
       "66632     5.268877    6.342710    6.643409    5.750479    5.818867   \n",
       "57080     7.352032    7.435544    7.463951    6.797854    6.820849   \n",
       "68498     4.222907    4.473723    3.920144    4.437938    4.102030   \n",
       "\n",
       "        GSM2787271  GSM2787297  GSM2787272  GSM2787298  GSM2787273  \\\n",
       "name                                                                 \n",
       "71952     6.948126    6.242730    6.939503    7.072707    7.321018   \n",
       "77532     7.649415    8.423311    8.195664    8.239568    8.343688   \n",
       "16792     7.614825    9.590900    9.475697    9.417128    9.509343   \n",
       "66254     7.281564    7.386528    7.683199    7.591869    8.365075   \n",
       "18102    10.571643   10.294259   10.412898   10.438977   10.310348   \n",
       "...            ...         ...         ...         ...         ...   \n",
       "57444    10.099832    9.674135   10.516051   10.538948   10.326791   \n",
       "216154    6.989215    6.658745    6.257029    5.948007    5.796589   \n",
       "66632     5.099941    5.472153    4.731516    4.515034    3.420046   \n",
       "57080     6.961953    7.137619    6.967841    7.019672    6.464894   \n",
       "68498     5.453133    5.306285    5.599317    5.317237    5.974104   \n",
       "\n",
       "        GSM2787299  GSM2787274  GSM2787300  GSM2787275  GSM2787301  \\\n",
       "name                                                                 \n",
       "71952     7.200677    6.701709    6.810879    7.258001    7.109254   \n",
       "77532     8.331740    8.561545    8.456948    8.186906    8.230112   \n",
       "16792     9.326789    7.137762    7.136318    6.730474    6.119665   \n",
       "66254     8.374359    7.519509    7.536577    7.828977    7.642061   \n",
       "18102    10.233174    9.381429    9.273622   10.822504   10.910303   \n",
       "...            ...         ...         ...         ...         ...   \n",
       "57444    10.363181   10.262821   10.181264    9.447994    9.596753   \n",
       "216154    5.821278    7.944195    7.990534    6.878005    6.697695   \n",
       "66632     3.953218    5.191752    5.595462    4.576940    3.878429   \n",
       "57080     6.497482    7.519509    7.518062    6.919475    6.931663   \n",
       "68498     6.497482    4.758576    4.624996    4.829865    3.634882   \n",
       "\n",
       "        GSM2787276  GSM2787302  GSM2787277  GSM2787303  GSM2787278  ...  \\\n",
       "name                                                                ...   \n",
       "71952     6.928826    6.489772    6.696789    6.983049    6.895295  ...   \n",
       "77532     7.850687    8.439317    8.423987    8.486113    8.491597  ...   \n",
       "16792     7.758981    8.828790    5.232949    4.990239    6.195131  ...   \n",
       "66254     7.509836    7.404169    7.180588    7.451617    7.161173  ...   \n",
       "18102    10.629126   10.298310   10.182161   10.181560   10.152326  ...   \n",
       "...            ...         ...         ...         ...         ...  ...   \n",
       "57444     9.858933    9.255969    9.962417    9.905180   10.028020  ...   \n",
       "216154    7.242752    7.166516    7.032295    6.488653    6.352271  ...   \n",
       "66632     5.094715    4.740150    1.124915    2.790781    0.000000  ...   \n",
       "57080     7.253993    7.257528    7.132831    7.112126    7.136685  ...   \n",
       "68498     4.035710    4.608035    4.476120    3.926768    3.705407  ...   \n",
       "\n",
       "        GSM2787284  GSM2787310  GSM2787285  GSM2787311  GSM2787286  \\\n",
       "name                                                                 \n",
       "71952     6.686500    7.058659    7.271281    7.235383    6.976223   \n",
       "77532     8.562863    8.501814    8.166636    8.208467    8.392459   \n",
       "16792     7.089681    7.157473    5.234657    5.316482    5.503341   \n",
       "66254     7.776318    7.690386    7.845963    7.798760    7.597045   \n",
       "18102     9.418196    9.399925   10.895285   11.014825   10.263345   \n",
       "...            ...         ...         ...         ...         ...   \n",
       "57444    10.019041   10.016622    9.382860    9.420872    9.857803   \n",
       "216154    7.628509    7.515136    6.497284    6.512029    6.790929   \n",
       "66632     6.873229    6.777217    6.259176    6.698168    5.710502   \n",
       "57080     7.163152    7.326275    6.935577    7.036277    7.164084   \n",
       "68498     4.482128    4.132491    4.434080    4.087189    3.524347   \n",
       "\n",
       "        GSM2787312  GSM2787287  GSM2787313  GSM2787288  GSM2787314  \\\n",
       "name                                                                 \n",
       "71952     6.957642    7.207121    6.945135    7.233254    7.152550   \n",
       "77532     8.288778    8.327829    8.408262    8.404120    8.547683   \n",
       "16792     5.422041    6.147432    5.943213    5.874462    5.085952   \n",
       "66254     7.643155    7.670089    7.669183    7.634544    7.635076   \n",
       "18102    10.507925   10.342690   10.359784   10.230503   10.426356   \n",
       "...            ...         ...         ...         ...         ...   \n",
       "57444     9.884930    9.828962    9.805709    9.891105   10.028028   \n",
       "216154    6.482224    6.261343    6.324709    5.845227    5.903642   \n",
       "66632     5.498271    4.967354    4.456321    4.749053    3.675026   \n",
       "57080     7.023615    6.802880    7.050240    7.014336    6.988357   \n",
       "68498     2.996217    2.997946    2.997149    2.179700    1.746141   \n",
       "\n",
       "        GSM3381672  GSM3381673  GSM3381674  GSM3381675  GSM3381676  \\\n",
       "name                                                                 \n",
       "71952     6.917903    6.899912    7.459735    7.118135    7.018650   \n",
       "77532     8.591306    8.481586    8.210236    8.076845    7.753791   \n",
       "16792     6.945961    7.253411    4.270867    4.348906    7.132260   \n",
       "66254     7.793388    7.677255    7.879747    7.824584    7.466644   \n",
       "18102     9.163119    9.063607   10.921091   10.936100   10.430167   \n",
       "...            ...         ...         ...         ...         ...   \n",
       "57444    10.023885    9.959620    9.531470    9.395564    9.935998   \n",
       "216154    7.595042    7.412290    6.777198    6.756840    6.923655   \n",
       "66632     6.753002    6.306660    6.566978    5.993039    4.475572   \n",
       "57080     7.426050    7.518600    6.806984    6.981669    7.292920   \n",
       "68498     4.233415    4.318126    4.088859    3.632098    5.276993   \n",
       "\n",
       "        GSM3381677  GSM3381678  GSM3381679  GSM3381680  GSM3381681  \n",
       "name                                                                \n",
       "71952     6.723890    7.975007    7.476840    7.119928    7.213834  \n",
       "77532     8.320874    8.148684    8.024693    8.138893    8.046053  \n",
       "16792     8.516888    3.770313    3.635542    2.173413    1.117854  \n",
       "66254     7.717050    7.843995    7.791577    7.764905    7.693222  \n",
       "18102    10.232148   10.525111   10.411611   10.327347   10.405287  \n",
       "...            ...         ...         ...         ...         ...  \n",
       "57444     9.297434    9.702655    9.743100    9.773489    9.744186  \n",
       "216154    6.888761    6.030671    5.680435    5.350148    5.681457  \n",
       "66632     5.165969    3.887006    2.973960    2.506193    3.003860  \n",
       "57080     7.356437    6.706808    6.820128    6.952814    7.070467  \n",
       "68498     3.659218    2.754413    2.146802    2.776417    3.003860  \n",
       "\n",
       "[12368 rows x 41 columns]"
      ]
     },
     "execution_count": 19,
     "metadata": {},
     "output_type": "execute_result"
    }
   ],
   "source": [
    "#new_df = log_aggregation(new_df, method='mean')\n",
    "new_df\n",
    "#new_df.to_csv(path + '/' + 'GSE103979_data.csv')"
   ]
  },
  {
   "cell_type": "code",
   "execution_count": 349,
   "metadata": {
    "ExecuteTime": {
     "end_time": "2021-03-15T13:38:24.757504Z",
     "start_time": "2021-03-15T13:38:24.753975Z"
    }
   },
   "outputs": [],
   "source": [
    "new_df = scale(new_df)"
   ]
  },
  {
   "cell_type": "code",
   "execution_count": 350,
   "metadata": {
    "ExecuteTime": {
     "end_time": "2021-03-15T13:38:25.601961Z",
     "start_time": "2021-03-15T13:38:25.566966Z"
    }
   },
   "outputs": [],
   "source": [
    "scaled_df = quantile_normalize(new_df)"
   ]
  },
  {
   "cell_type": "code",
   "execution_count": 351,
   "metadata": {
    "ExecuteTime": {
     "end_time": "2021-03-15T13:38:26.172877Z",
     "start_time": "2021-03-15T13:38:26.162909Z"
    }
   },
   "outputs": [
    {
     "data": {
      "text/html": [
       "<div>\n",
       "<style scoped>\n",
       "    .dataframe tbody tr th:only-of-type {\n",
       "        vertical-align: middle;\n",
       "    }\n",
       "\n",
       "    .dataframe tbody tr th {\n",
       "        vertical-align: top;\n",
       "    }\n",
       "\n",
       "    .dataframe thead th {\n",
       "        text-align: right;\n",
       "    }\n",
       "</style>\n",
       "<table border=\"1\" class=\"dataframe\">\n",
       "  <thead>\n",
       "    <tr style=\"text-align: right;\">\n",
       "      <th></th>\n",
       "      <th>GSM542375</th>\n",
       "      <th>GSM542376</th>\n",
       "      <th>GSM542377</th>\n",
       "      <th>GSM542378</th>\n",
       "      <th>GSM542379</th>\n",
       "      <th>GSM542380</th>\n",
       "      <th>GSM542381</th>\n",
       "    </tr>\n",
       "  </thead>\n",
       "  <tbody>\n",
       "    <tr>\n",
       "      <th>11287</th>\n",
       "      <td>-1.285572</td>\n",
       "      <td>-1.271782</td>\n",
       "      <td>-1.319292</td>\n",
       "      <td>-1.327807</td>\n",
       "      <td>-1.308615</td>\n",
       "      <td>-1.277782</td>\n",
       "      <td>-1.236250</td>\n",
       "    </tr>\n",
       "    <tr>\n",
       "      <th>11298</th>\n",
       "      <td>-0.591282</td>\n",
       "      <td>-0.623646</td>\n",
       "      <td>-0.699861</td>\n",
       "      <td>-0.709059</td>\n",
       "      <td>-0.812647</td>\n",
       "      <td>-0.722054</td>\n",
       "      <td>-0.723686</td>\n",
       "    </tr>\n",
       "    <tr>\n",
       "      <th>11302</th>\n",
       "      <td>0.032676</td>\n",
       "      <td>-0.262706</td>\n",
       "      <td>-0.337275</td>\n",
       "      <td>-0.287208</td>\n",
       "      <td>-0.319012</td>\n",
       "      <td>-0.315895</td>\n",
       "      <td>-0.156514</td>\n",
       "    </tr>\n",
       "    <tr>\n",
       "      <th>11303</th>\n",
       "      <td>0.249606</td>\n",
       "      <td>0.932225</td>\n",
       "      <td>1.604214</td>\n",
       "      <td>1.337479</td>\n",
       "      <td>1.393442</td>\n",
       "      <td>0.953834</td>\n",
       "      <td>1.575532</td>\n",
       "    </tr>\n",
       "    <tr>\n",
       "      <th>11304</th>\n",
       "      <td>-0.787500</td>\n",
       "      <td>-0.803343</td>\n",
       "      <td>-0.906787</td>\n",
       "      <td>-0.880153</td>\n",
       "      <td>-0.914640</td>\n",
       "      <td>-0.834406</td>\n",
       "      <td>-0.851611</td>\n",
       "    </tr>\n",
       "    <tr>\n",
       "      <th>...</th>\n",
       "      <td>...</td>\n",
       "      <td>...</td>\n",
       "      <td>...</td>\n",
       "      <td>...</td>\n",
       "      <td>...</td>\n",
       "      <td>...</td>\n",
       "      <td>...</td>\n",
       "    </tr>\n",
       "    <tr>\n",
       "      <th>100044927</th>\n",
       "      <td>0.105728</td>\n",
       "      <td>0.234639</td>\n",
       "      <td>-0.014167</td>\n",
       "      <td>0.065637</td>\n",
       "      <td>0.082844</td>\n",
       "      <td>-0.195122</td>\n",
       "      <td>-0.692880</td>\n",
       "    </tr>\n",
       "    <tr>\n",
       "      <th>100046593</th>\n",
       "      <td>-0.983696</td>\n",
       "      <td>-0.999545</td>\n",
       "      <td>-0.964211</td>\n",
       "      <td>-0.956835</td>\n",
       "      <td>-1.321725</td>\n",
       "      <td>-0.953767</td>\n",
       "      <td>-1.049572</td>\n",
       "    </tr>\n",
       "    <tr>\n",
       "      <th>100093623</th>\n",
       "      <td>-0.802714</td>\n",
       "      <td>-0.684172</td>\n",
       "      <td>-1.337616</td>\n",
       "      <td>-1.081348</td>\n",
       "      <td>-0.705645</td>\n",
       "      <td>-1.140463</td>\n",
       "      <td>-1.469799</td>\n",
       "    </tr>\n",
       "    <tr>\n",
       "      <th>100126879</th>\n",
       "      <td>-1.992451</td>\n",
       "      <td>-2.147942</td>\n",
       "      <td>-2.002385</td>\n",
       "      <td>-2.060513</td>\n",
       "      <td>-1.925755</td>\n",
       "      <td>-1.991916</td>\n",
       "      <td>-2.060513</td>\n",
       "    </tr>\n",
       "    <tr>\n",
       "      <th>100134986</th>\n",
       "      <td>-1.072540</td>\n",
       "      <td>-1.003548</td>\n",
       "      <td>-1.067578</td>\n",
       "      <td>-1.170305</td>\n",
       "      <td>-1.095571</td>\n",
       "      <td>-1.123392</td>\n",
       "      <td>-0.890575</td>\n",
       "    </tr>\n",
       "  </tbody>\n",
       "</table>\n",
       "<p>16480 rows × 7 columns</p>\n",
       "</div>"
      ],
      "text/plain": [
       "           GSM542375  GSM542376  GSM542377  GSM542378  GSM542379  GSM542380  \\\n",
       "11287      -1.285572  -1.271782  -1.319292  -1.327807  -1.308615  -1.277782   \n",
       "11298      -0.591282  -0.623646  -0.699861  -0.709059  -0.812647  -0.722054   \n",
       "11302       0.032676  -0.262706  -0.337275  -0.287208  -0.319012  -0.315895   \n",
       "11303       0.249606   0.932225   1.604214   1.337479   1.393442   0.953834   \n",
       "11304      -0.787500  -0.803343  -0.906787  -0.880153  -0.914640  -0.834406   \n",
       "...              ...        ...        ...        ...        ...        ...   \n",
       "100044927   0.105728   0.234639  -0.014167   0.065637   0.082844  -0.195122   \n",
       "100046593  -0.983696  -0.999545  -0.964211  -0.956835  -1.321725  -0.953767   \n",
       "100093623  -0.802714  -0.684172  -1.337616  -1.081348  -0.705645  -1.140463   \n",
       "100126879  -1.992451  -2.147942  -2.002385  -2.060513  -1.925755  -1.991916   \n",
       "100134986  -1.072540  -1.003548  -1.067578  -1.170305  -1.095571  -1.123392   \n",
       "\n",
       "           GSM542381  \n",
       "11287      -1.236250  \n",
       "11298      -0.723686  \n",
       "11302      -0.156514  \n",
       "11303       1.575532  \n",
       "11304      -0.851611  \n",
       "...              ...  \n",
       "100044927  -0.692880  \n",
       "100046593  -1.049572  \n",
       "100093623  -1.469799  \n",
       "100126879  -2.060513  \n",
       "100134986  -0.890575  \n",
       "\n",
       "[16480 rows x 7 columns]"
      ]
     },
     "execution_count": 351,
     "metadata": {},
     "output_type": "execute_result"
    }
   ],
   "source": [
    "scaled_df"
   ]
  },
  {
   "cell_type": "code",
   "execution_count": 17,
   "metadata": {
    "ExecuteTime": {
     "end_time": "2021-07-19T12:37:40.951936Z",
     "start_time": "2021-07-19T12:37:37.610545Z"
    }
   },
   "outputs": [
    {
     "ename": "NameError",
     "evalue": "name 'scaled_df' is not defined",
     "output_type": "error",
     "traceback": [
      "\u001b[0;31m---------------------------------------------------------------------------\u001b[0m",
      "\u001b[0;31mNameError\u001b[0m                                 Traceback (most recent call last)",
      "\u001b[0;32m<ipython-input-17-9fe1ed9e37e2>\u001b[0m in \u001b[0;36m<module>\u001b[0;34m\u001b[0m\n\u001b[0;32m----> 1\u001b[0;31m \u001b[0mscaled_df\u001b[0m\u001b[0;34m.\u001b[0m\u001b[0mto_csv\u001b[0m\u001b[0;34m(\u001b[0m\u001b[0mpath\u001b[0m \u001b[0;34m+\u001b[0m \u001b[0;34m'/'\u001b[0m \u001b[0;34m+\u001b[0m \u001b[0;34m'scaled_df.csv'\u001b[0m\u001b[0;34m)\u001b[0m\u001b[0;34m\u001b[0m\u001b[0;34m\u001b[0m\u001b[0m\n\u001b[0m",
      "\u001b[0;31mNameError\u001b[0m: name 'scaled_df' is not defined"
     ]
    }
   ],
   "source": [
    "scaled_df.to_csv(path + '/' + 'scaled_df.csv')"
   ]
  },
  {
   "cell_type": "markdown",
   "metadata": {},
   "source": [
    "### look after preprocessing"
   ]
  },
  {
   "cell_type": "code",
   "execution_count": 352,
   "metadata": {
    "ExecuteTime": {
     "end_time": "2021-03-15T13:38:29.219360Z",
     "start_time": "2021-03-15T13:38:28.096578Z"
    }
   },
   "outputs": [
    {
     "data": {
      "image/png": "[encoded data removed]",
      "text/plain": [
       "<Figure size 864x504 with 1 Axes>"
      ]
     },
     "metadata": {
      "needs_background": "light"
     },
     "output_type": "display_data"
    },
    {
     "data": {
      "image/png": "[encoded data removed]",
      "text/plain": [
       "<Figure size 864x504 with 1 Axes>"
      ]
     },
     "metadata": {
      "needs_background": "light"
     },
     "output_type": "display_data"
    }
   ],
   "source": [
    "plt.figure(figsize=(12,7))\n",
    "for c in scaled_df.columns:\n",
    "    sns.kdeplot(scaled_df[c])\n",
    "    \n",
    "# PCA After preprocessing\n",
    "pca = PCA(2)\n",
    "Xpca = pca.fit_transform(scaled_df.T)\n",
    "exp_var = pca.explained_variance_ratio_\n",
    "\n",
    "plt.figure(figsize=(12,7))\n",
    "sns.scatterplot(x=Xpca[:,0], y=Xpca[:,1], hue=labels, palette='RdBu')\n",
    "plt.title('PCA plot for %s' % name)\n",
    "plt.xlabel('PCA 1: %0.3f ' % exp_var[0])\n",
    "plt.ylabel('PCA 2: %0.3f ' % exp_var[1])\n",
    "plt.legend(bbox_to_anchor=(1.02, 1))\n",
    "plt.grid(alpha=0.5)\n",
    "plt.show()"
   ]
  },
  {
   "cell_type": "code",
   "execution_count": 81,
   "metadata": {
    "ExecuteTime": {
     "end_time": "2021-03-15T13:38:44.196451Z",
     "start_time": "2021-03-15T13:38:44.194226Z"
    }
   },
   "outputs": [],
   "source": [
    "#rewrite\n",
    "#ultradf[key]['data'] = scaled_df"
   ]
  },
  {
   "cell_type": "code",
   "execution_count": 356,
   "metadata": {
    "ExecuteTime": {
     "end_time": "2021-03-15T13:39:47.740310Z",
     "start_time": "2021-03-15T13:39:47.725767Z"
    }
   },
   "outputs": [
    {
     "name": "stdout",
     "output_type": "stream",
     "text": [
      "5.269674318128498\n",
      "4.361618246019884\n",
      "4.298946049014105\n",
      "4.336529850750572\n",
      "3.1209273521574663\n",
      "3.0764234202349323\n",
      "3.4212570523210166\n",
      "3.425997826819126\n",
      "3.110904905041613\n",
      "2.6828012595118844\n"
     ]
    }
   ],
   "source": [
    "for key in ultradf.keys():\n",
    "    print(ultradf[key]['data'].max().max())"
   ]
  },
  {
   "cell_type": "code",
   "execution_count": 51,
   "metadata": {
    "ExecuteTime": {
     "end_time": "2021-07-19T12:53:48.201030Z",
     "start_time": "2021-07-19T12:53:45.076794Z"
    }
   },
   "outputs": [],
   "source": [
    "#save after all\n",
    "#save_structure(ultradf, path=os.path.join(data_folder, 'ultradf.json'))"
   ]
  },
  {
   "cell_type": "code",
   "execution_count": 9,
   "metadata": {
    "ExecuteTime": {
     "end_time": "2021-07-19T14:59:01.929108Z",
     "start_time": "2021-07-19T14:59:01.906650Z"
    }
   },
   "outputs": [],
   "source": [
    "ultradf[e]['data'] = pd.read_csv(StringIO(ultradf[e]['data']), index_col=0)"
   ]
  },
  {
   "cell_type": "markdown",
   "metadata": {},
   "source": [
    "# Adding data"
   ]
  },
  {
   "cell_type": "code",
   "execution_count": 18,
   "metadata": {
    "ExecuteTime": {
     "end_time": "2021-07-19T15:09:39.842308Z",
     "start_time": "2021-07-19T15:09:39.139683Z"
    }
   },
   "outputs": [],
   "source": [
    "ultradf_back = load_structure('./data/ultradf_human.json')"
   ]
  },
  {
   "cell_type": "code",
   "execution_count": 19,
   "metadata": {},
   "outputs": [
    {
     "data": {
      "text/plain": [
       "dict_keys(['GSE89455$OSKM$HDF', 'GSE89455$OSKM$HAdMSC', 'GSE89455$OSKM$HA', 'GSE89455$OSKM$HBEC', 'GSE89455$OSKM$HPrEC'])"
      ]
     },
     "execution_count": 19,
     "metadata": {},
     "output_type": "execute_result"
    }
   ],
   "source": [
    "ultradf_back.keys()"
   ]
  },
  {
   "cell_type": "code",
   "execution_count": 95,
   "metadata": {},
   "outputs": [],
   "source": [
    "#print(ultradf_back.keys())\n",
    "#ultradf_back['GSE103979$GFP']['data'].plot(kind='kde')"
   ]
  },
  {
   "cell_type": "markdown",
   "metadata": {},
   "source": [
    "## Add to ultradf"
   ]
  },
  {
   "cell_type": "code",
   "execution_count": 20,
   "metadata": {
    "ExecuteTime": {
     "end_time": "2021-07-19T15:08:15.762012Z",
     "start_time": "2021-07-19T15:08:15.759161Z"
    }
   },
   "outputs": [],
   "source": [
    "#add new\n",
    "for e in list(ultradf.keys()):\n",
    "    ultradf_back[e] = ultradf[e]\n",
    "    ultradf_back[e]['data'].index.rename('index', inplace=True)"
   ]
  },
  {
   "cell_type": "code",
   "execution_count": 22,
   "metadata": {
    "ExecuteTime": {
     "end_time": "2021-07-19T15:08:17.186328Z",
     "start_time": "2021-07-19T15:08:17.183665Z"
    }
   },
   "outputs": [
    {
     "data": {
      "text/plain": [
       "12"
      ]
     },
     "execution_count": 22,
     "metadata": {},
     "output_type": "execute_result"
    }
   ],
   "source": [
    "len(ultradf_back.keys())"
   ]
  },
  {
   "cell_type": "code",
   "execution_count": 23,
   "metadata": {},
   "outputs": [
    {
     "data": {
      "text/plain": [
       "[0, 0, 1, 1, 2, 2, 3, 3]"
      ]
     },
     "execution_count": 23,
     "metadata": {},
     "output_type": "execute_result"
    }
   ],
   "source": [
    "ultradf_back['GSE28688$OSKM$HFF']['time']"
   ]
  },
  {
   "cell_type": "code",
   "execution_count": 24,
   "metadata": {
    "ExecuteTime": {
     "end_time": "2021-07-19T15:09:11.065331Z",
     "start_time": "2021-07-19T15:09:06.423592Z"
    }
   },
   "outputs": [],
   "source": [
    "save_structure(ultradf_back, path='./data/ultradf_human_v3.json')"
   ]
  },
  {
   "cell_type": "markdown",
   "metadata": {},
   "source": [
    "# plot all"
   ]
  },
  {
   "cell_type": "code",
   "execution_count": 71,
   "metadata": {},
   "outputs": [],
   "source": [
    "ultradf = load_structure('./data/ultradf_v4.json')"
   ]
  },
  {
   "cell_type": "code",
   "execution_count": 73,
   "metadata": {},
   "outputs": [
    {
     "data": {
      "text/plain": [
       "dict_keys(['GSE67462$OSKM', 'GSE38509$OSKM', 'GSE38509$OSK', 'GSE38509$GFP', 'GSE116309$OKMS', 'GSE116309$OK+9MS', 'GSE46321$C/EBPα+ OSKM', 'GSE46321$C/EBPα- OSKM', 'GSE10871$OSKM', 'GSE21757$OKMS', 'GSE103979$Oct4+SK', 'GSE103979$Oct6+SK', 'GSE103979$Oct4+defSox+K', 'GSE103979$GFP', 'GSE114581$OSKM+dox_mef', 'GSE114581$OSKM-dox_mef', 'GSE127927$7F-Esrrb', 'GSE127927$7F-Glis1', 'GSE127927$7F-Jdp2', 'GSE127927$7F-Kdm2b', 'GSE127927$7F-Mkk6', 'GSE127927$7F-Nanog', 'GSE127927$7F-Sall4', 'GSE127927$7F', 'GSE127927$GFP', 'GSE102348$OSKM$Gatad2a-/-', 'GSE102348$OSKM$Mbd3f/-', 'GSE102348$OSKM$WT-1', 'GSE102348$OSKM$WT-2'])"
      ]
     },
     "execution_count": 73,
     "metadata": {},
     "output_type": "execute_result"
    }
   ],
   "source": [
    "ultradf.keys()"
   ]
  },
  {
   "cell_type": "code",
   "execution_count": null,
   "metadata": {},
   "outputs": [],
   "source": [
    "import seaborn as sns; sns.set(color_codes=True)\n",
    "import matplotlib.pyplot as plt\n",
    "import matplotlib.gridspec\n",
    "\n",
    "for key in tqdm(ultradf.keys()):\n",
    "\n",
    "    experiment = ultradf[key]\n",
    "    df = experiment['data']\n",
    "    pheno = experiment['pheno']\n",
    "    time = experiment['time']\n",
    "\n",
    "    labels = list(map(str, time))\n",
    "\n",
    "    #Cluster map\n",
    "    g = sns.clustermap(df.corr(), annot=False, figsize=(16,8),\n",
    "                        yticklabels=labels, xticklabels=labels,\n",
    "                        metric='correlation', method='complete',\n",
    "                        cbar_kws = {\"use_gridspec\":False, \"shrink\": 0.5},\n",
    "                        cmap='RdBu_r',annot_kws={\"size\": 8})\n",
    "\n",
    "    # set the gridspec to only cover half of the figure\n",
    "    g.gs.update(left=0.05, right=0.5)\n",
    "    g.fig.suptitle(key.replace('$', ' '), fontsize=17, y=1.03)\n",
    "\n",
    "    #create new gridspec for the right part\n",
    "    gs2 = matplotlib.gridspec.GridSpec(2, 1, left=0.6, height_ratios=(2,3), hspace=0.3)\n",
    "    # create axes within this new gridspec\n",
    "    ax2 = g.fig.add_subplot(gs2[0])\n",
    "    ax3 = g.fig.add_subplot(gs2[1])\n",
    "\n",
    "    # Distributions\n",
    "    for i, c in enumerate(df.columns):\n",
    "        sns.kdeplot(df[c], label=labels[i], ax=ax2,  palette='plasma')\n",
    "    ax2.set_xlabel('Expression value')\n",
    "\n",
    "    # PCA before preprocessing\n",
    "    pca = PCA(2)\n",
    "    Xpca = pca.fit_transform(df.T)\n",
    "    exp_var = pca.explained_variance_ratio_\n",
    "\n",
    "    sns.scatterplot(x=Xpca[:,0], y=Xpca[:,1], hue=labels, palette='plasma', ax=ax3,)\n",
    "    ax3.set_title('PCA plot', fontsize=14)\n",
    "    ax3.set_xlabel('PCA 1: %0.3f %%' % (exp_var[0] * 100))\n",
    "    ax3.set_ylabel('PCA 2: %0.3f %%' % (exp_var[1] * 100))\n",
    "    ax3.legend(bbox_to_anchor=(1.02, 1))\n",
    "    ax3.grid(alpha=0.5)\n",
    "\n",
    "    g.fig.savefig('figs/quality_control/%s_qq.pdf' % key.replace('/','|'), format='pdf', dpi=300, bbox_inches='tight')"
   ]
  }
 ],
 "metadata": {
  "interpreter": {
   "hash": "bc0204fe33e608144a4487d5471dd4291b6af9afde1c233ef915d1724ec333fd"
  },
  "kernelspec": {
   "display_name": "Python 3.7.6 64-bit ('base': conda)",
   "name": "python3"
  },
  "language_info": {
   "codemirror_mode": {
    "name": "ipython",
    "version": 3
   },
   "file_extension": ".py",
   "mimetype": "text/x-python",
   "name": "python",
   "nbconvert_exporter": "python",
   "pygments_lexer": "ipython3",
   "version": "3.7.6"
  },
  "toc": {
   "base_numbering": 1,
   "nav_menu": {},
   "number_sections": true,
   "sideBar": true,
   "skip_h1_title": false,
   "title_cell": "Table of Contents",
   "title_sidebar": "Contents",
   "toc_cell": false,
   "toc_position": {},
   "toc_section_display": true,
   "toc_window_display": false
  },
  "varInspector": {
   "cols": {
    "lenName": 16,
    "lenType": 16,
    "lenVar": 40
   },
   "kernels_config": {
    "python": {
     "delete_cmd_postfix": "",
     "delete_cmd_prefix": "del ",
     "library": "var_list.py",
     "varRefreshCmd": "print(var_dic_list())"
    },
    "r": {
     "delete_cmd_postfix": ") ",
     "delete_cmd_prefix": "rm(",
     "library": "var_list.r",
     "varRefreshCmd": "cat(var_dic_list()) "
    }
   },
   "types_to_exclude": [
    "module",
    "function",
    "builtin_function_or_method",
    "instance",
    "_Feature"
   ],
   "window_display": false
  }
 },
 "nbformat": 4,
 "nbformat_minor": 4
}
